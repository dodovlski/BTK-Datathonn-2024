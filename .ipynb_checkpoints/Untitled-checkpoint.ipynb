{
 "cells": [
  {
   "cell_type": "code",
   "execution_count": 1,
   "id": "f37d69a1-a52b-40d9-9151-3b85cff959f7",
   "metadata": {},
   "outputs": [],
   "source": [
    "import numpy as np\n",
    "import pandas as pd\n",
    "import matplotlib.pyplot as plt\n",
    "import seaborn as sns\n",
    "import warnings \n",
    "from datetime import datetime"
   ]
  },
  {
   "cell_type": "code",
   "execution_count": 2,
   "id": "b5db3ce9-75cf-4685-9f11-0d54e75b0431",
   "metadata": {},
   "outputs": [
    {
     "data": {
      "text/html": [
       "<div>\n",
       "<style scoped>\n",
       "    .dataframe tbody tr th:only-of-type {\n",
       "        vertical-align: middle;\n",
       "    }\n",
       "\n",
       "    .dataframe tbody tr th {\n",
       "        vertical-align: top;\n",
       "    }\n",
       "\n",
       "    .dataframe thead th {\n",
       "        text-align: right;\n",
       "    }\n",
       "</style>\n",
       "<table border=\"1\" class=\"dataframe\">\n",
       "  <thead>\n",
       "    <tr style=\"text-align: right;\">\n",
       "      <th></th>\n",
       "      <th>Basvuru Yili</th>\n",
       "      <th>Degerlendirme Puani</th>\n",
       "      <th>Cinsiyet</th>\n",
       "      <th>Dogum Tarihi</th>\n",
       "      <th>Dogum Yeri</th>\n",
       "      <th>Ikametgah Sehri</th>\n",
       "      <th>Universite Adi</th>\n",
       "      <th>Universite Turu</th>\n",
       "      <th>Burslu ise Burs Yuzdesi</th>\n",
       "      <th>Burs Aliyor mu?</th>\n",
       "      <th>...</th>\n",
       "      <th>Spor Dalindaki Rolunuz Nedir?</th>\n",
       "      <th>Aktif olarak bir STK üyesi misiniz?</th>\n",
       "      <th>Hangi STK'nin Uyesisiniz?</th>\n",
       "      <th>Stk Projesine Katildiniz Mi?</th>\n",
       "      <th>Girisimcilikle Ilgili Deneyiminiz Var Mi?</th>\n",
       "      <th>Girisimcilikle Ilgili Deneyiminizi Aciklayabilir misiniz?</th>\n",
       "      <th>Ingilizce Biliyor musunuz?</th>\n",
       "      <th>Ingilizce Seviyeniz?</th>\n",
       "      <th>Daha Önceden Mezun Olunduysa, Mezun Olunan Üniversite</th>\n",
       "      <th>id</th>\n",
       "    </tr>\n",
       "  </thead>\n",
       "  <tbody>\n",
       "    <tr>\n",
       "      <th>0</th>\n",
       "      <td>2014</td>\n",
       "      <td>52.0</td>\n",
       "      <td>Erkek</td>\n",
       "      <td>4/6/1994</td>\n",
       "      <td>Altindag, Ankara</td>\n",
       "      <td>Ankara</td>\n",
       "      <td>İHSAN DOĞRAMACI BİLKENT</td>\n",
       "      <td>Özel</td>\n",
       "      <td>100.0</td>\n",
       "      <td>Evet</td>\n",
       "      <td>...</td>\n",
       "      <td>Diğer</td>\n",
       "      <td>Hayır</td>\n",
       "      <td>NaN</td>\n",
       "      <td>Evet</td>\n",
       "      <td>Hayır</td>\n",
       "      <td>NaN</td>\n",
       "      <td>NaN</td>\n",
       "      <td>NaN</td>\n",
       "      <td>NaN</td>\n",
       "      <td>0</td>\n",
       "    </tr>\n",
       "    <tr>\n",
       "      <th>1</th>\n",
       "      <td>2014</td>\n",
       "      <td>30.0</td>\n",
       "      <td>Erkek</td>\n",
       "      <td>6/11/1993</td>\n",
       "      <td>Üsküdar</td>\n",
       "      <td>İstanbul</td>\n",
       "      <td>İHSAN DOĞRAMACI BİLKENT</td>\n",
       "      <td>Özel</td>\n",
       "      <td>100.0</td>\n",
       "      <td>Hayır</td>\n",
       "      <td>...</td>\n",
       "      <td>0</td>\n",
       "      <td>Hayır</td>\n",
       "      <td>NaN</td>\n",
       "      <td>Evet</td>\n",
       "      <td>Evet</td>\n",
       "      <td>Bilkent Cyberparkta bir şirkette Türkiye nin i...</td>\n",
       "      <td>NaN</td>\n",
       "      <td>NaN</td>\n",
       "      <td>NaN</td>\n",
       "      <td>1</td>\n",
       "    </tr>\n",
       "    <tr>\n",
       "      <th>2</th>\n",
       "      <td>2014</td>\n",
       "      <td>18.0</td>\n",
       "      <td>Erkek</td>\n",
       "      <td>1/15/1986</td>\n",
       "      <td>Samsun</td>\n",
       "      <td>İstanbul</td>\n",
       "      <td>ULUSLARARASI KIBRIS ÜNİVERSİTESİ</td>\n",
       "      <td>Özel</td>\n",
       "      <td>100.0</td>\n",
       "      <td>Hayır</td>\n",
       "      <td>...</td>\n",
       "      <td>0</td>\n",
       "      <td>Hayır</td>\n",
       "      <td>NaN</td>\n",
       "      <td>Hayır</td>\n",
       "      <td>Hayır</td>\n",
       "      <td>NaN</td>\n",
       "      <td>NaN</td>\n",
       "      <td>NaN</td>\n",
       "      <td>NaN</td>\n",
       "      <td>2</td>\n",
       "    </tr>\n",
       "    <tr>\n",
       "      <th>3</th>\n",
       "      <td>2014</td>\n",
       "      <td>40.0</td>\n",
       "      <td>Erkek</td>\n",
       "      <td>6/4/1991</td>\n",
       "      <td>Diyarbakır</td>\n",
       "      <td>İstanbul</td>\n",
       "      <td>İSTANBUL ŞEHİR ÜNİVERSİTESİ</td>\n",
       "      <td>Özel</td>\n",
       "      <td>100.0</td>\n",
       "      <td>Evet</td>\n",
       "      <td>...</td>\n",
       "      <td>0</td>\n",
       "      <td>Hayır</td>\n",
       "      <td>NaN</td>\n",
       "      <td>Evet</td>\n",
       "      <td>Hayır</td>\n",
       "      <td>NaN</td>\n",
       "      <td>NaN</td>\n",
       "      <td>NaN</td>\n",
       "      <td>NaN</td>\n",
       "      <td>3</td>\n",
       "    </tr>\n",
       "    <tr>\n",
       "      <th>4</th>\n",
       "      <td>2014</td>\n",
       "      <td>24.0</td>\n",
       "      <td>Erkek</td>\n",
       "      <td>2 Kasim 1992</td>\n",
       "      <td>Ankara/Altındağ</td>\n",
       "      <td>Ankara</td>\n",
       "      <td>TURGUT ÖZAL ÜNİVERSİTESİ</td>\n",
       "      <td>Özel</td>\n",
       "      <td>100.0</td>\n",
       "      <td>Evet</td>\n",
       "      <td>...</td>\n",
       "      <td>0</td>\n",
       "      <td>Hayır</td>\n",
       "      <td>NaN</td>\n",
       "      <td>Hayır</td>\n",
       "      <td>Hayır</td>\n",
       "      <td>NaN</td>\n",
       "      <td>NaN</td>\n",
       "      <td>NaN</td>\n",
       "      <td>NaN</td>\n",
       "      <td>4</td>\n",
       "    </tr>\n",
       "  </tbody>\n",
       "</table>\n",
       "<p>5 rows × 44 columns</p>\n",
       "</div>"
      ],
      "text/plain": [
       "   Basvuru Yili  Degerlendirme Puani Cinsiyet  Dogum Tarihi        Dogum Yeri  \\\n",
       "0          2014                 52.0    Erkek      4/6/1994  Altindag, Ankara   \n",
       "1          2014                 30.0    Erkek     6/11/1993           Üsküdar   \n",
       "2          2014                 18.0    Erkek     1/15/1986            Samsun   \n",
       "3          2014                 40.0    Erkek      6/4/1991        Diyarbakır   \n",
       "4          2014                 24.0    Erkek  2 Kasim 1992   Ankara/Altındağ   \n",
       "\n",
       "  Ikametgah Sehri                    Universite Adi Universite Turu  \\\n",
       "0          Ankara           İHSAN DOĞRAMACI BİLKENT            Özel   \n",
       "1        İstanbul           İHSAN DOĞRAMACI BİLKENT            Özel   \n",
       "2        İstanbul  ULUSLARARASI KIBRIS ÜNİVERSİTESİ            Özel   \n",
       "3        İstanbul       İSTANBUL ŞEHİR ÜNİVERSİTESİ            Özel   \n",
       "4          Ankara          TURGUT ÖZAL ÜNİVERSİTESİ            Özel   \n",
       "\n",
       "   Burslu ise Burs Yuzdesi Burs Aliyor mu?  ... Spor Dalindaki Rolunuz Nedir?  \\\n",
       "0                    100.0            Evet  ...                         Diğer   \n",
       "1                    100.0           Hayır  ...                             0   \n",
       "2                    100.0           Hayır  ...                             0   \n",
       "3                    100.0            Evet  ...                             0   \n",
       "4                    100.0            Evet  ...                             0   \n",
       "\n",
       "  Aktif olarak bir STK üyesi misiniz? Hangi STK'nin Uyesisiniz?  \\\n",
       "0                               Hayır                       NaN   \n",
       "1                               Hayır                       NaN   \n",
       "2                               Hayır                       NaN   \n",
       "3                               Hayır                       NaN   \n",
       "4                               Hayır                       NaN   \n",
       "\n",
       "  Stk Projesine Katildiniz Mi? Girisimcilikle Ilgili Deneyiminiz Var Mi?  \\\n",
       "0                         Evet                                     Hayır   \n",
       "1                         Evet                                      Evet   \n",
       "2                        Hayır                                     Hayır   \n",
       "3                         Evet                                     Hayır   \n",
       "4                        Hayır                                     Hayır   \n",
       "\n",
       "  Girisimcilikle Ilgili Deneyiminizi Aciklayabilir misiniz?  \\\n",
       "0                                                NaN          \n",
       "1  Bilkent Cyberparkta bir şirkette Türkiye nin i...          \n",
       "2                                                NaN          \n",
       "3                                                NaN          \n",
       "4                                                NaN          \n",
       "\n",
       "  Ingilizce Biliyor musunuz? Ingilizce Seviyeniz?  \\\n",
       "0                        NaN                  NaN   \n",
       "1                        NaN                  NaN   \n",
       "2                        NaN                  NaN   \n",
       "3                        NaN                  NaN   \n",
       "4                        NaN                  NaN   \n",
       "\n",
       "  Daha Önceden Mezun Olunduysa, Mezun Olunan Üniversite id  \n",
       "0                                                NaN     0  \n",
       "1                                                NaN     1  \n",
       "2                                                NaN     2  \n",
       "3                                                NaN     3  \n",
       "4                                                NaN     4  \n",
       "\n",
       "[5 rows x 44 columns]"
      ]
     },
     "execution_count": 2,
     "metadata": {},
     "output_type": "execute_result"
    }
   ],
   "source": [
    "#pd.set_option('display.max_rows', None)  \n",
    "#pd.set_option('display.max_columns', None) \n",
    "\n",
    "warnings.filterwarnings('ignore')\n",
    "\n",
    "df = pd.read_csv(\"train.csv\")\n",
    "df.head()"
   ]
  },
  {
   "cell_type": "code",
   "execution_count": 3,
   "id": "d4d4d573-2b7b-4312-8d28-16eda1a2c6fb",
   "metadata": {},
   "outputs": [
    {
     "data": {
      "text/plain": [
       "Basvuru Yili                                                     0\n",
       "Burs Aliyor mu?                                                  0\n",
       "id                                                               0\n",
       "Degerlendirme Puani                                              1\n",
       "Universite Adi                                                 132\n",
       "Cinsiyet                                                       169\n",
       "Dogum Tarihi                                                   177\n",
       "Bölüm                                                          231\n",
       "Baska Bir Kurumdan Burs Aliyor mu?                             231\n",
       "Universite Turu                                                255\n",
       "Universite Kacinci Sinif                                       374\n",
       "Lise Adi                                                       384\n",
       "Anne Egitim Durumu                                             406\n",
       "Dogum Yeri                                                     791\n",
       "Lise Turu                                                      847\n",
       "Baba Egitim Durumu                                            1007\n",
       "Lise Bolumu                                                   1009\n",
       "Lise Sehir                                                    1054\n",
       "Profesyonel Bir Spor Daliyla Mesgul musunuz?                  1115\n",
       "Kardes Sayisi                                                 1132\n",
       "Girisimcilik Kulupleri Tarzi Bir Kulube Uye misiniz?          1829\n",
       "Ikametgah Sehri                                               2037\n",
       "Universite Not Ortalamasi                                     2753\n",
       "Lise Mezuniyet Notu                                           5917\n",
       "Ingilizce Biliyor musunuz?                                    6454\n",
       "Anne Calisma Durumu                                          11896\n",
       "Baba Calisma Durumu                                          12618\n",
       "Girisimcilikle Ilgili Deneyiminiz Var Mi?                    12840\n",
       "Aktif olarak bir STK üyesi misiniz?                          12842\n",
       "Baba Sektor                                                  20378\n",
       "Stk Projesine Katildiniz Mi?                                 28308\n",
       "Spor Dalindaki Rolunuz Nedir?                                32275\n",
       "Anne Sektor                                                  34537\n",
       "Ingilizce Seviyeniz?                                         36533\n",
       "Daha Once Baska Bir Universiteden Mezun Olmus                37345\n",
       "Burslu ise Burs Yuzdesi                                      42685\n",
       "Burs Aldigi Baska Kurum                                      43977\n",
       "Baska Kurumdan Aldigi Burs Miktari                           44162\n",
       "Uye Oldugunuz Kulubun Ismi                                   48691\n",
       "Hangi STK'nin Uyesisiniz?                                    49518\n",
       "Girisimcilikle Ilgili Deneyiminizi Aciklayabilir misiniz?    50526\n",
       "Lise Adi Diger                                               60392\n",
       "Lise Bolum Diger                                             63599\n",
       "Daha Önceden Mezun Olunduysa, Mezun Olunan Üniversite        64706\n",
       "dtype: int64"
      ]
     },
     "execution_count": 3,
     "metadata": {},
     "output_type": "execute_result"
    }
   ],
   "source": [
    "df.isnull().sum().sort_values(ascending=True)"
   ]
  },
  {
   "cell_type": "code",
   "execution_count": 4,
   "id": "0e69c433-f612-4f20-8b4e-e444c6fb6181",
   "metadata": {},
   "outputs": [],
   "source": [
    "df = df.dropna(subset=['Degerlendirme Puani'])"
   ]
  },
  {
   "cell_type": "code",
   "execution_count": 5,
   "id": "1ffd0164-e1d7-4117-ac69-ee386c474191",
   "metadata": {},
   "outputs": [],
   "source": [
    "def how_many_types(dataframe, col_name):\n",
    "    \n",
    "    diff_types = set(dataframe[col_name].apply(type))\n",
    "    num_of_diff_types =len(diff_types)\n",
    "    print(f\"Sütunda {num_of_diff_types} farklı veri tipi var: {diff_types} \")\n",
    "\n",
    "# Bütün harfleri küçük yapma\n",
    "def all_letters_lowered(dataframe, col_name):\n",
    "    \"\"\"\n",
    "    Belirtilen bir sütundaki tüm string değerleri küçük harfe çevirir.\n",
    "    \n",
    "    Parametreler:\n",
    "    dataframe (pd.DataFrame): İşlem yapılacak DataFrame.\n",
    "    col_name (str): Tüm string değerlerinin küçük harfe çevrileceği sütunun adı.\n",
    "    \n",
    "    İşlev:\n",
    "    - Verilen sütundaki tüm string ifadeler `.str.lower()` ile küçük harfe dönüştürülür.\n",
    "    \n",
    "    Not:\n",
    "    - Bu fonksiyon doğrudan orijinal DataFrame üzerinde değişiklik yapar (`inplace=True` gibi davranır).\n",
    "    \n",
    "    Örnek kullanım:\n",
    "    all_letters_lowered(df, 'column_name')\n",
    "    \"\"\"\n",
    "    dataframe[col_name] = dataframe[col_name].str.lower()\n",
    "\n",
    "\n",
    "# Eşsiz değerleri ve NaN değerleri görme\n",
    "def values_and_nulls(dataframe, col_name):\n",
    "    \"\"\"\n",
    "    Belirtilen bir sütundaki eşsiz değerleri ve NaN değerlerinin sayısını gösterir.\n",
    "    \n",
    "    Parametreler:\n",
    "    dataframe (pd.DataFrame): İşlem yapılacak DataFrame.\n",
    "    col_name (str): Eşsiz değerlerin ve NaN değerlerinin sayısının hesaplanacağı sütun adı.\n",
    "    \n",
    "    İşlev:\n",
    "    1. Sütundaki eşsiz değerleri ve bu değerlerin kaç kere tekrar ettiğini gösterir.\n",
    "    2. Sütundaki NaN (eksik) değerlerin sayısını gösterir.\n",
    "    \n",
    "    Çıktı:\n",
    "    - Sütundaki eşsiz değerlerin sıklığı.\n",
    "    - NaN değerlerin sayısı.\n",
    "    \"\"\"\n",
    "    print(dataframe[col_name].value_counts(), end=\"\\n\\n\")\n",
    "    print(\"NaN: \", dataframe[col_name].isnull().sum())\n",
    "\n",
    "# NaN değerleri doldurma\n",
    "def fill_missing_values(dataframe, col_name, value):\n",
    "    \"\"\"\n",
    "    DataFrame'deki belirli bir sütundaki eksik (NaN) değerleri verilen değer ile doldurur.\n",
    "    \n",
    "    Parametreler:\n",
    "    df (pd.DataFrame): İşlem yapılacak DataFrame.\n",
    "    column (str): Eksik değerlerin doldurulacağı sütunun adı.\n",
    "    value: Eksik değerlerin yerine yazılacak değer.\n",
    "    \"\"\"\n",
    "    dataframe[col_name] = dataframe[col_name].fillna(value)\n",
    "\n",
    "    "
   ]
  },
  {
   "cell_type": "markdown",
   "id": "67623780-496a-42c1-adf7-708cf3bb450e",
   "metadata": {},
   "source": [
    "# CİNSİYET ✓"
   ]
  },
  {
   "cell_type": "code",
   "execution_count": 6,
   "id": "1518e265-6145-4822-b731-09e4e62a5f1b",
   "metadata": {},
   "outputs": [
    {
     "name": "stdout",
     "output_type": "stream",
     "text": [
      "Cinsiyet\n",
      "Kadın                    32076\n",
      "Erkek                    22752\n",
      "ERKEK                    10012\n",
      "Belirtmek istemiyorum      115\n",
      "Name: count, dtype: int64\n",
      "\n",
      "NaN:  169\n"
     ]
    }
   ],
   "source": [
    "values_and_nulls(df, \"Cinsiyet\")"
   ]
  },
  {
   "cell_type": "code",
   "execution_count": 7,
   "id": "16d05136-3584-41a7-a617-67d31187749e",
   "metadata": {},
   "outputs": [],
   "source": [
    "all_letters_lowered(df,\"Cinsiyet\")\n",
    "fill_missing_values(df, \"Cinsiyet\", \"Belirtmek istemiyorum\")"
   ]
  },
  {
   "cell_type": "code",
   "execution_count": 8,
   "id": "7eca78c9-5c2e-4a40-8344-109f4b57252a",
   "metadata": {},
   "outputs": [],
   "source": [
    "mapping_sex = {\"erkek\": 1, \"kadın\": 2, \"Belirtmek istemiyorum\": 0}\n",
    "df[\"Cinsiyet\"] = df[\"Cinsiyet\"].map(mapping_sex)\n",
    "df[\"Cinsiyet\"] = df[\"Cinsiyet\"].fillna(0).astype(int)"
   ]
  },
  {
   "cell_type": "code",
   "execution_count": 9,
   "id": "40a70fd5-a524-40c2-800c-09f68984c5c1",
   "metadata": {},
   "outputs": [
    {
     "name": "stdout",
     "output_type": "stream",
     "text": [
      "Cinsiyet\n",
      "1    32764\n",
      "2    32076\n",
      "0      284\n",
      "Name: count, dtype: int64\n",
      "\n",
      "NaN:  0\n"
     ]
    }
   ],
   "source": [
    "values_and_nulls(df, \"Cinsiyet\")"
   ]
  },
  {
   "cell_type": "code",
   "execution_count": 10,
   "id": "54a7f661-a119-444d-aadd-8f70ff283015",
   "metadata": {},
   "outputs": [],
   "source": [
    "erkek_sayisi = len(df[df['Cinsiyet'] == 1])\n",
    "kadin_sayisi = len(df[df['Cinsiyet'] == 2])\n",
    "belirtmek_istemiyorum_sayisi = len(df[df['Cinsiyet'] == 0])\n",
    "\n",
    "# Ağırlıklı dağıtım oranları\n",
    "erkek_orani = erkek_sayisi / (erkek_sayisi + kadin_sayisi)\n",
    "kadin_orani = kadin_sayisi / (erkek_sayisi + kadin_sayisi)\n",
    "\n",
    "# Belirtmek istemiyorum'u cinsiyetlere dağıtma\n",
    "erkek_eklenecek = int(belirtmek_istemiyorum_sayisi * erkek_orani)\n",
    "kadin_eklenecek = belirtmek_istemiyorum_sayisi - erkek_eklenecek\n",
    "\n",
    "# \"Belirtmek İstemiyorum\" olanları dağıtma\n",
    "df.loc[df['Cinsiyet'] == 0, 'Cinsiyet'] = [1] * erkek_eklenecek + [2] * kadin_eklenecek"
   ]
  },
  {
   "cell_type": "code",
   "execution_count": 11,
   "id": "18900cd8-d1f6-439e-bcd8-eb44b2af75ed",
   "metadata": {},
   "outputs": [
    {
     "name": "stdout",
     "output_type": "stream",
     "text": [
      "Cinsiyet\n",
      "1    32907\n",
      "2    32217\n",
      "Name: count, dtype: int64\n",
      "\n",
      "NaN:  0\n"
     ]
    }
   ],
   "source": [
    "values_and_nulls(df, \"Cinsiyet\")"
   ]
  },
  {
   "cell_type": "markdown",
   "id": "f8fc80d3-00fc-42a3-98d5-6d46e0503dd7",
   "metadata": {},
   "source": [
    "# DOĞUM TARİHİ Atılabilir"
   ]
  },
  {
   "cell_type": "code",
   "execution_count": 12,
   "id": "ee2b392a-e15b-4cca-b2b2-a41cf4050a2c",
   "metadata": {
    "scrolled": true
   },
   "outputs": [
    {
     "name": "stdout",
     "output_type": "stream",
     "text": [
      "Dogum Tarihi\n",
      "1/1/70 2:00         1655\n",
      "1/1/00 0:00          179\n",
      "1/1/01 0:00          154\n",
      "1/1/1997             139\n",
      "1/1/1998             129\n",
      "                    ... \n",
      "1992-05-12             1\n",
      "1997-03-19             1\n",
      "1996-08-17             1\n",
      "1991-04-23             1\n",
      "12.11.2003 00:00       1\n",
      "Name: count, Length: 13498, dtype: int64\n",
      "\n",
      "NaN:  177\n"
     ]
    }
   ],
   "source": [
    "values_and_nulls(df, \"Dogum Tarihi\")"
   ]
  },
  {
   "cell_type": "code",
   "execution_count": 13,
   "id": "6e92c252-d694-4e67-8657-d4f6b90c71b0",
   "metadata": {},
   "outputs": [],
   "source": [
    "def fix_date(series, patterns=['%Y%m%d', '%d%m%Y', '%d/%m/%Y', '%d-%b-%Y']):\n",
    "    datetimes = []\n",
    "    for pat in patterns:\n",
    "        datetimes.append(pd.to_datetime(series, format=pat, errors='coerce'))\n",
    "    return pd.concat(datetimes, axis=1).ffill(axis=1).iloc[:, -1]\n",
    "\n",
    "df['Dogum Tarihi'] = df['Dogum Tarihi'].replace({\n",
    "    'Ocak': 'Jan', 'Şubat': 'Feb', 'Mart': 'Mar', 'Nisan': 'Apr',\n",
    "    'Mayıs': 'May', 'Haziran': 'Jun', 'Temmuz': 'Jul', 'Ağustos': 'Aug',\n",
    "    'Eylül': 'Sep', 'Ekim': 'Oct', 'Kasım': 'Nov', 'Aralık': 'Dec'\n",
    "}, regex=True)\n",
    "\n",
    "\n",
    "df[\"Dogum Tarihi\"] = fix_date(df[\"Dogum Tarihi\"])"
   ]
  },
  {
   "cell_type": "code",
   "execution_count": 14,
   "id": "6c4006a8-f08e-4272-a42a-a79fd2ab4ea3",
   "metadata": {},
   "outputs": [
    {
     "name": "stdout",
     "output_type": "stream",
     "text": [
      "Dogum Tarihi\n",
      "1997-01-01    139\n",
      "1998-01-01    129\n",
      "1996-01-01    119\n",
      "1995-01-01    106\n",
      "1999-01-01     84\n",
      "             ... \n",
      "2000-12-05      1\n",
      "1991-02-08      1\n",
      "1989-11-08      1\n",
      "1990-02-02      1\n",
      "1996-04-17      1\n",
      "Name: count, Length: 2726, dtype: int64\n",
      "\n",
      "NaN:  49929\n"
     ]
    }
   ],
   "source": [
    "values_and_nulls(df, \"Dogum Tarihi\")"
   ]
  },
  {
   "cell_type": "markdown",
   "id": "38ca6cef-4f20-464b-adfc-04837eac44e0",
   "metadata": {
    "jp-MarkdownHeadingCollapsed": true
   },
   "source": [
    "# Dogum Yeri, İkametgah Sehri, Lise Sehir ✓"
   ]
  },
  {
   "cell_type": "code",
   "execution_count": 15,
   "id": "d588bd6c-b963-4447-8c5f-f2cb9928a889",
   "metadata": {
    "scrolled": true
   },
   "outputs": [
    {
     "name": "stdout",
     "output_type": "stream",
     "text": [
      "Dogum Yeri\n",
      "İstanbul             8682\n",
      "Ankara               4045\n",
      "İzmir                2170\n",
      "Istanbul             1894\n",
      "Adana                1810\n",
      "                     ... \n",
      "körfez/kocaeli          1\n",
      "GEDIZ                   1\n",
      "İstanbul Bakırköy       1\n",
      "İstanbul-Şişli          1\n",
      "Ankara keçiören         1\n",
      "Name: count, Length: 2230, dtype: int64\n",
      "\n",
      "NaN:  791\n"
     ]
    }
   ],
   "source": [
    "df_ilce = pd.read_csv(\"il_ilce.csv\")\n",
    "values_and_nulls(df,\"Dogum Yeri\")\n",
    "fill_missing_values(df,\"Dogum Yeri\", \"Diğer\")\n",
    "fill_missing_values(df,\"Lise Sehir\", \"Diğer\")\n",
    "fill_missing_values(df,\"Ikametgah Sehri\", \"Diğer\")"
   ]
  },
  {
   "cell_type": "code",
   "execution_count": 16,
   "id": "cdc89fe1-4f2d-4945-957c-6b846e67e174",
   "metadata": {},
   "outputs": [],
   "source": [
    "from unidecode import unidecode\n",
    "\n",
    "def clean_city(df, df_ilce):\n",
    "    # Türkçe karakterleri ASCII karşılıklarına çeviren yardımcı fonksiyon\n",
    "    def normalize_str(s):\n",
    "        # Convert the input to uppercase to handle cases like \"i\" vs \"İ\"\n",
    "        normalized = unidecode(s).upper()\n",
    "        # Replace specific cases manually to handle exceptions\n",
    "        replacements = {'I': 'I', 'İ': 'I', 'Ş': 'S', 'Ç': 'C', 'Ö': 'O', 'Ü': 'U', 'Ğ': 'G'}\n",
    "        for turkish_char, ascii_char in replacements.items():\n",
    "            normalized = normalized.replace(turkish_char, ascii_char)\n",
    "        return normalized\n",
    "\n",
    "    # İl ve ilçe isimlerini normalize edelim\n",
    "    df_ilce['il_norm'] = df_ilce['il'].apply(normalize_str)\n",
    "    df_ilce['ilce_norm'] = df_ilce['ilce'].apply(normalize_str)\n",
    "\n",
    "    # İl-ilçe eşleşmelerini bir sözlükte saklayalım\n",
    "    ilce_il_dict = dict(zip(df_ilce['ilce_norm'], df_ilce['il']))\n",
    "\n",
    "    def update_city(dogum_yeri):\n",
    "        dogum_yeri_norm = normalize_str(dogum_yeri)\n",
    "\n",
    "        # Eğer girdi doğrudan bir il ise, olduğu gibi döndür\n",
    "        if dogum_yeri_norm in df_ilce['il_norm'].values:\n",
    "            return df_ilce.loc[df_ilce['il_norm'] == dogum_yeri_norm, 'il'].iloc[0]\n",
    "\n",
    "        # Eğer girdi bir ilçe ise, ilini bul\n",
    "        elif dogum_yeri_norm in ilce_il_dict:\n",
    "            return ilce_il_dict[dogum_yeri_norm]\n",
    "\n",
    "        # Eğer girdi hem il hem ilçe içeriyorsa, il kısmını al\n",
    "        else:\n",
    "            for il_norm in df_ilce['il_norm'].unique():\n",
    "                if il_norm in dogum_yeri_norm:\n",
    "                    return df_ilce.loc[df_ilce['il_norm'] == il_norm, 'il'].iloc[0]\n",
    "\n",
    "        # Hiçbiri değilse \"DİĞER\" olarak işaretle\n",
    "        return \"Diğer\"\n",
    "\n",
    "    # Dogum Yeri sütununu güncelle\n",
    "    df['Dogum Yeri'] = df['Dogum Yeri'].apply(update_city)\n",
    "    df['Lise Sehir'] = df['Lise Sehir'].apply(update_city)\n",
    "    df['Ikametgah Sehri'] = df['Ikametgah Sehri'].apply(update_city)\n",
    "\n",
    "    return df"
   ]
  },
  {
   "cell_type": "markdown",
   "id": "8a5f63fc-4d84-4c0c-a214-fd957561b627",
   "metadata": {},
   "source": [
    "cities = ['adana', 'adıyaman', 'afyonkarahisar', 'ağrı', 'amasya', 'ankara', 'antalya', 'artvin',\n",
    "                    'aydın', 'balıkesir', 'bilecik',  'bingöl', 'bitlis', 'bolu', 'burdur', 'bursa', 'çanakkale',\n",
    "                    'çankırı', 'çorum', 'denizli', 'diyarbakır', 'edirne', 'elazığ',  'erzincan', 'erzurum', 'eskişehir',\n",
    "                    'gaziantep', 'giresun', 'gümüşhane', 'hakkari', 'hatay', 'isparta', 'mersin', 'i̇stanbul',  'i̇zmir',\n",
    "                    'kars', 'kastamonu', 'kayseri', 'kırklareli', 'kırşehir', 'kocaeli', 'konya', 'kütahya', 'malatya',\n",
    "                    'manisa',  'kahramanmaraş', 'mardin', 'muğla', 'muş', 'nevşehir', 'niğde', 'ordu', 'rize', 'sakarya',\n",
    "                    'samsun', 'siirt', 'sinop', 'sivas',  'tekirdağ', 'tokat', 'trabzon', 'tunceli', 'şanlıurfa', 'uşak',\n",
    "                    'van', 'yozgat', 'zonguldak', 'aksaray', 'bayburt', 'karaman',  'kırıkkale', 'batman', 'şırnak', 'bartın',\n",
    "                    'ardahan', 'iğdır', 'yalova', 'karabük', 'kilis', 'osmaniye', 'düzce']\n",
    "\n",
    "all_letters_lowered(df,\"Dogum Yeri\")\n",
    "all_letters_lowered(df_ilce,\"il\")\n",
    "all_letters_lowered(df_ilce,\"ilce\")\n",
    "\n",
    "def clean_city(df,df_ilce,col_name):\n",
    "    df = df.merge(df_ilce, left_on=col_name, right_on='ilce', how='left')\n",
    "    df[col_name] = df.apply(lambda row: row['il'] if pd.notnull(row['il']) else row[col_name], axis=1)\n",
    "    df = df.drop(['ilce', 'il'], axis=1)\n",
    "    df[col_name] = df[col_name].apply(lambda x: x if x in cities else \"diğer\")\n",
    "\n",
    "clean_city(df, df_ilce, \"Dogum Yeri\")\n",
    "clean_city(df, df_ilce, \"Ikametgah Sehri\")\n",
    "clean_city(df, df_ilce, \"Lise Sehir\")"
   ]
  },
  {
   "cell_type": "code",
   "execution_count": 17,
   "id": "f843cdcc-908b-4114-b0ae-34b6f4eba80c",
   "metadata": {},
   "outputs": [
    {
     "name": "stdout",
     "output_type": "stream",
     "text": [
      "Dogum Yeri\n",
      "İstanbul    11482\n",
      "Ankara       4389\n",
      "İzmir        2968\n",
      "Bursa        1976\n",
      "Adana        1948\n",
      "            ...  \n",
      "Yalova        111\n",
      "Bilecik       105\n",
      "Kilis         101\n",
      "Bayburt        80\n",
      "Tunceli        57\n",
      "Name: count, Length: 82, dtype: int64\n",
      "\n",
      "NaN:  0\n",
      "Lise Sehir\n",
      "İstanbul     13359\n",
      "Ankara        5170\n",
      "İzmir         3476\n",
      "Bursa         2366\n",
      "Adana         1923\n",
      "             ...  \n",
      "Çankırı         89\n",
      "Bayburt         68\n",
      "Gümüşhane       67\n",
      "Ardahan         50\n",
      "Tunceli         47\n",
      "Name: count, Length: 82, dtype: int64\n",
      "\n",
      "NaN:  0\n",
      "Ikametgah Sehri\n",
      "İstanbul    20228\n",
      "Ankara       6602\n",
      "İzmir        3893\n",
      "Diğer        2366\n",
      "Bursa        1794\n",
      "            ...  \n",
      "Tunceli        65\n",
      "Çankırı        64\n",
      "Kilis          59\n",
      "Artvin         57\n",
      "Ardahan        34\n",
      "Name: count, Length: 82, dtype: int64\n",
      "\n",
      "NaN:  0\n"
     ]
    }
   ],
   "source": [
    "clean_city(df,df_ilce)\n",
    "\n",
    "values_and_nulls(df,\"Dogum Yeri\")\n",
    "values_and_nulls(df,\"Lise Sehir\")\n",
    "values_and_nulls(df,\"Ikametgah Sehri\")"
   ]
  },
  {
   "cell_type": "markdown",
   "id": "7c91178f-0878-496f-a8e9-d26f8b962e3a",
   "metadata": {},
   "source": [
    "# Üniversite Adı ✓"
   ]
  },
  {
   "cell_type": "code",
   "execution_count": 18,
   "id": "f0fd6125-b0bf-4451-b848-580a73ab057f",
   "metadata": {
    "scrolled": true
   },
   "outputs": [
    {
     "name": "stdout",
     "output_type": "stream",
     "text": [
      "Universite Adi\n",
      "İSTANBUL ÜNİVERSİTESİ                      2083\n",
      "MARMARA ÜNİVERSİTESİ                       1672\n",
      "İSTANBUL TEKNİK ÜNİVERSİTESİ               1464\n",
      "YILDIZ TEKNİK ÜNİVERSİTESİ                 1438\n",
      "ORTA DOĞU TEKNİK ÜNİVERSİTESİ              1258\n",
      "                                           ... \n",
      "Brown University                              1\n",
      "ALANYA HAMDULLAH EMİN PAŞA ÜNİVERSİTESİ       1\n",
      "İstanbul Bilim Üniversitesi                   1\n",
      "AVRUPA MESLEK YÜKSEKOKULU                     1\n",
      "İstanbul Atlas Üniversitesi                   1\n",
      "Name: count, Length: 527, dtype: int64\n",
      "\n",
      "NaN:  132\n"
     ]
    }
   ],
   "source": [
    "values_and_nulls(df,\"Universite Adi\")"
   ]
  },
  {
   "cell_type": "code",
   "execution_count": 19,
   "id": "c6de0070-1e3f-4c30-bfcf-8e5d0fae9757",
   "metadata": {},
   "outputs": [],
   "source": [
    "\n",
    "fill_missing_values(df,\"Universite Adi\",\"diger\")"
   ]
  },
  {
   "cell_type": "code",
   "execution_count": 20,
   "id": "bc92cee2-c04d-449b-9897-eca8bee236fd",
   "metadata": {},
   "outputs": [],
   "source": [
    "import unidecode\n",
    "\n",
    "def standardize_name(name):\n",
    "    name = name.strip()  # Başındaki ve sonundaki boşlukları kaldır\n",
    "    name = ' '.join(name.split())  # Aralardaki fazla boşlukları tek boşlukla değiştir\n",
    "    name = name.lower()  # Küçük harfe dönüştür\n",
    "    name = unidecode.unidecode(name)  # Türkçe karakterleri İngilizce karakterlere dönüştür\n",
    "    return name\n",
    "\n",
    "# Uygulama\n",
    "df['Universite Adi'] = df['Universite Adi'].apply(standardize_name)"
   ]
  },
  {
   "cell_type": "code",
   "execution_count": 21,
   "id": "4c49eee9-c6f7-4389-b5ec-5c57d2ea86e2",
   "metadata": {},
   "outputs": [],
   "source": [
    "# BURADAKİ 100 SAYISI MODELDEN SONRA DEĞİŞTİRİLİP TEKRAR DENENEBİLİR\n",
    "\n",
    "uni_counts = df['Universite Adi'].value_counts()\n",
    "values_to_update = uni_counts[uni_counts < 10].index\n",
    "df['Universite Adi'] = df['Universite Adi'].apply(lambda x: 'diger' if x in values_to_update else x)"
   ]
  },
  {
   "cell_type": "code",
   "execution_count": 22,
   "id": "c8c70988-9280-4446-a096-7c5c24c8aeb2",
   "metadata": {},
   "outputs": [
    {
     "name": "stdout",
     "output_type": "stream",
     "text": [
      "Universite Adi\n",
      "istanbul universitesi                              2572\n",
      "marmara universitesi                               2084\n",
      "istanbul teknik universitesi                       1954\n",
      "yildiz teknik universitesi                         1916\n",
      "orta dogu teknik universitesi                      1658\n",
      "                                                   ... \n",
      "istanbul sisli meslek universitesi                   10\n",
      "lokman hekim universitesi                            10\n",
      "gaziantep islam bilim ve teknoloji universitesi      10\n",
      "ostim teknik universitesi                            10\n",
      "istanbul topkapi universitesi                        10\n",
      "Name: count, Length: 249, dtype: int64\n",
      "\n",
      "NaN:  0\n"
     ]
    }
   ],
   "source": [
    "values_and_nulls(df,\"Universite Adi\")"
   ]
  },
  {
   "cell_type": "markdown",
   "id": "b433f7fb-9ddc-4a11-bc1f-0c9cc9da5491",
   "metadata": {
    "jp-MarkdownHeadingCollapsed": true
   },
   "source": [
    "# Üniversite Türü  ✓"
   ]
  },
  {
   "cell_type": "code",
   "execution_count": 23,
   "id": "f2be1414-43df-46f7-bd34-201ad19f26fe",
   "metadata": {},
   "outputs": [
    {
     "name": "stdout",
     "output_type": "stream",
     "text": [
      "Universite Turu\n",
      "devlet    53516\n",
      "özel      11608\n",
      "Name: count, dtype: int64\n",
      "\n",
      "NaN:  0\n"
     ]
    }
   ],
   "source": [
    "all_letters_lowered(df,\"Universite Turu\")\n",
    "fill_missing_values(df,\"Universite Turu\" , \"devlet\") # burası modelden sonra oynanabilir.\n",
    "values_and_nulls(df, \"Universite Turu\")\n"
   ]
  },
  {
   "cell_type": "markdown",
   "id": "ead8c7f2-ab34-4dab-bcc9-ccfee266bc35",
   "metadata": {
    "jp-MarkdownHeadingCollapsed": true
   },
   "source": [
    "# Burslu ise Burs Yuzdesi ✓"
   ]
  },
  {
   "cell_type": "code",
   "execution_count": 24,
   "id": "eb3d398b-9371-4260-b453-8f9ab667c4b8",
   "metadata": {
    "scrolled": true
   },
   "outputs": [
    {
     "name": "stdout",
     "output_type": "stream",
     "text": [
      "Burslu ise Burs Yuzdesi\n",
      "0.0      54856\n",
      "100.0     5049\n",
      "50.0      3149\n",
      "75.0      1002\n",
      "25.0       785\n",
      "10.0        50\n",
      "60.0        27\n",
      "1.0         26\n",
      "65.0        17\n",
      "80.0        15\n",
      "5.0         14\n",
      "30.0        14\n",
      "85.0        11\n",
      "2.0         10\n",
      "55.0         8\n",
      "62.5         7\n",
      "62.0         7\n",
      "35.0         7\n",
      "45.0         6\n",
      "7.0          6\n",
      "70.0         5\n",
      "99.0         5\n",
      "20.0         5\n",
      "40.0         4\n",
      "90.0         4\n",
      "63.0         4\n",
      "6.0          4\n",
      "3.0          2\n",
      "8.0          2\n",
      "98.0         2\n",
      "46.0         1\n",
      "82.5         1\n",
      "69.0         1\n",
      "88.0         1\n",
      "64.0         1\n",
      "4.0          1\n",
      "87.5         1\n",
      "57.5         1\n",
      "57.0         1\n",
      "91.5         1\n",
      "11.0         1\n",
      "41.5         1\n",
      "49.0         1\n",
      "74.0         1\n",
      "72.0         1\n",
      "32.0         1\n",
      "48.0         1\n",
      "37.0         1\n",
      "67.0         1\n",
      "41.0         1\n",
      "67.5         1\n",
      "Name: count, dtype: int64\n",
      "\n",
      "NaN:  0\n"
     ]
    }
   ],
   "source": [
    "fill_missing_values(df,\"Burslu ise Burs Yuzdesi\",0)\n",
    "values_and_nulls(df, \"Burslu ise Burs Yuzdesi\")"
   ]
  },
  {
   "cell_type": "code",
   "execution_count": 25,
   "id": "91910c58-1d27-4c11-9897-ba5b72d47cc2",
   "metadata": {},
   "outputs": [],
   "source": [
    "bins = [-1, 10, 20, 30, 40, 50, 60, 70, 80, 90, 100]\n",
    "labels = ['0-10', '11-20', '21-30', '31-40', '41-50', '51-60', '61-70', '71-80', '81-90', '91-100']\n",
    "\n",
    "df['Burslu ise Burs Yuzdesi'] = pd.cut(df['Burslu ise Burs Yuzdesi'], bins=bins, labels=labels, right=True)"
   ]
  },
  {
   "cell_type": "code",
   "execution_count": 26,
   "id": "775689f3-fedb-4d7c-b09d-0a0e3bb44253",
   "metadata": {
    "scrolled": true
   },
   "outputs": [
    {
     "name": "stdout",
     "output_type": "stream",
     "text": [
      "Burslu ise Burs Yuzdesi\n",
      "0-10      54971\n",
      "91-100     5057\n",
      "41-50      3160\n",
      "71-80      1019\n",
      "21-30       799\n",
      "61-70        44\n",
      "51-60        37\n",
      "81-90        18\n",
      "31-40        13\n",
      "11-20         6\n",
      "Name: count, dtype: int64\n",
      "\n",
      "NaN:  0\n"
     ]
    }
   ],
   "source": [
    "values_and_nulls(df,\"Burslu ise Burs Yuzdesi\")"
   ]
  },
  {
   "cell_type": "markdown",
   "id": "8aaafcbc-31c1-45ab-8edc-aaede7324fb4",
   "metadata": {
    "jp-MarkdownHeadingCollapsed": true
   },
   "source": [
    "# Burs Aliyor mu? ✓"
   ]
  },
  {
   "cell_type": "code",
   "execution_count": 27,
   "id": "c2e15547-59bd-4924-93e4-0d55425f1f09",
   "metadata": {},
   "outputs": [],
   "source": [
    "all_letters_lowered(df, \"Burs Aliyor mu?\")"
   ]
  },
  {
   "cell_type": "code",
   "execution_count": 28,
   "id": "78fb7dbb-53b7-4cdd-affe-75011643b839",
   "metadata": {},
   "outputs": [
    {
     "name": "stdout",
     "output_type": "stream",
     "text": [
      "Burs Aliyor mu?\n",
      "hayır    52249\n",
      "evet     12875\n",
      "Name: count, dtype: int64\n",
      "\n",
      "NaN:  0\n"
     ]
    }
   ],
   "source": [
    "values_and_nulls(df,\"Burs Aliyor mu?\")"
   ]
  },
  {
   "cell_type": "markdown",
   "id": "34d5ee45-9d83-4e39-9d8a-830d07142240",
   "metadata": {
    "jp-MarkdownHeadingCollapsed": true
   },
   "source": [
    "# Bölüm ✓"
   ]
  },
  {
   "cell_type": "code",
   "execution_count": 29,
   "id": "d036785f-333b-4536-accd-79e758806318",
   "metadata": {},
   "outputs": [
    {
     "name": "stdout",
     "output_type": "stream",
     "text": [
      "Bölüm\n",
      "Endüstri Mühendisliği               2434\n",
      "İşletme                             2318\n",
      "Bilgisayar Mühendisliği             1917\n",
      "Hukuk                               1769\n",
      "Makine Mühendisliği                 1283\n",
      "                                    ... \n",
      "Matematik Muhendisliği                 1\n",
      "İlahiyat Fakultesi                     1\n",
      "Petrol ve Doğal Gaz Mühendsiliği       1\n",
      "radyo,sinema ve televizyon             1\n",
      "Nanoteknoloji Mühendisliği             1\n",
      "Name: count, Length: 7748, dtype: int64\n",
      "\n",
      "NaN:  231\n"
     ]
    }
   ],
   "source": [
    "values_and_nulls(df,\"Bölüm\")\n",
    "fill_missing_values(df,\"Bölüm\",\"diger\")"
   ]
  },
  {
   "cell_type": "code",
   "execution_count": 30,
   "id": "0249f149-fbc5-4e93-a385-618104594ca8",
   "metadata": {},
   "outputs": [],
   "source": [
    "df[\"Bölüm\"] = df[\"Bölüm\"].apply(standardize_name)"
   ]
  },
  {
   "cell_type": "code",
   "execution_count": 31,
   "id": "0d245f60-df16-4964-b5f6-6678dfa9b607",
   "metadata": {},
   "outputs": [],
   "source": [
    "department_counts = df[\"Bölüm\"].value_counts()\n",
    "values_to_update = department_counts[department_counts < 10].index\n",
    "df[\"Bölüm\"] = df[\"Bölüm\"].apply(lambda x: 'diger' if x in values_to_update else x)"
   ]
  },
  {
   "cell_type": "code",
   "execution_count": 32,
   "id": "e1cd865b-f15b-42a7-9ee5-7f07821fe18b",
   "metadata": {
    "scrolled": true
   },
   "outputs": [
    {
     "name": "stdout",
     "output_type": "stream",
     "text": [
      "Bölüm\n",
      "diger                                                9228\n",
      "isletme                                              2913\n",
      "endustri muhendisligi                                2835\n",
      "bilgisayar muhendisligi                              2245\n",
      "hukuk                                                2007\n",
      "                                                     ... \n",
      "sivil havacilik kabin hizmetleri                       10\n",
      "makine muhendisligi(ingilizce)(%50 burslu)             10\n",
      "deniz ulastirma ve isletme muhendisligi                10\n",
      "metalurji ve malzeme muhendisligi(ikinci ogretim)      10\n",
      "sigortacilik ve sosyal guvenlik                        10\n",
      "Name: count, Length: 556, dtype: int64\n",
      "\n",
      "NaN:  0\n"
     ]
    }
   ],
   "source": [
    "values_and_nulls(df,\"Bölüm\")"
   ]
  },
  {
   "cell_type": "markdown",
   "id": "758359e5-f1dc-4b03-a023-7e70aca2d9be",
   "metadata": {
    "jp-MarkdownHeadingCollapsed": true
   },
   "source": [
    "# Universite Kacinci Sinif ✓"
   ]
  },
  {
   "cell_type": "code",
   "execution_count": 33,
   "id": "e5abc1e0-48b1-46f6-83f0-9bdb11a7575d",
   "metadata": {},
   "outputs": [
    {
     "name": "stdout",
     "output_type": "stream",
     "text": [
      "Universite Kacinci Sinif\n",
      "2                21773\n",
      "3                16956\n",
      "4                13112\n",
      "1                10260\n",
      "Hazırlık          1275\n",
      "5                  961\n",
      "Mezun              178\n",
      "6                  177\n",
      "hazırlık            33\n",
      "Yüksek Lisans       15\n",
      "Tez                  7\n",
      "0                    3\n",
      "Name: count, dtype: int64\n",
      "\n",
      "NaN:  374\n"
     ]
    }
   ],
   "source": [
    "values_and_nulls(df, \"Universite Kacinci Sinif\")"
   ]
  },
  {
   "cell_type": "code",
   "execution_count": 34,
   "id": "a5256fe1-a9c6-40b2-bfda-d3bf66752fd9",
   "metadata": {},
   "outputs": [],
   "source": [
    "all_letters_lowered(df,\"Universite Kacinci Sinif\")"
   ]
  },
  {
   "cell_type": "code",
   "execution_count": 35,
   "id": "d390de32-f00e-4a97-ba41-6a381f54bca0",
   "metadata": {},
   "outputs": [
    {
     "name": "stdout",
     "output_type": "stream",
     "text": [
      "Universite Kacinci Sinif\n",
      "2                21773\n",
      "3                16956\n",
      "4                13112\n",
      "1                10260\n",
      "hazırlık          1308\n",
      "5                  961\n",
      "mezun              178\n",
      "6                  177\n",
      "yüksek lisans       15\n",
      "tez                  7\n",
      "0                    3\n",
      "Name: count, dtype: int64\n",
      "\n",
      "NaN:  374\n"
     ]
    }
   ],
   "source": [
    "values_and_nulls(df,\"Universite Kacinci Sinif\")"
   ]
  },
  {
   "cell_type": "code",
   "execution_count": 36,
   "id": "15cb586e-8547-4205-89f7-a32d74ae7e74",
   "metadata": {},
   "outputs": [
    {
     "name": "stdout",
     "output_type": "stream",
     "text": [
      "Universite Kacinci Sinif\n",
      "2                22147\n",
      "3                16956\n",
      "4                13112\n",
      "1                10260\n",
      "hazırlık          1308\n",
      "5                  961\n",
      "mezun              178\n",
      "6                  177\n",
      "yüksek lisans       15\n",
      "tez                  7\n",
      "0                    3\n",
      "Name: count, dtype: int64\n",
      "\n",
      "NaN:  0\n"
     ]
    }
   ],
   "source": [
    "# Mod ile doldurdum.\n",
    "mode_value = df['Universite Kacinci Sinif'].mode()[0]\n",
    "fill_missing_values(df,\"Universite Kacinci Sinif\", mode_value)\n",
    "values_and_nulls(df,\"Universite Kacinci Sinif\")"
   ]
  },
  {
   "cell_type": "code",
   "execution_count": 37,
   "id": "bfe39bc4-bfe6-4294-846d-4914eb9e6b27",
   "metadata": {},
   "outputs": [
    {
     "name": "stdout",
     "output_type": "stream",
     "text": [
      "Sütunda 1 farklı veri tipi var: {<class 'str'>} \n"
     ]
    }
   ],
   "source": [
    "how_many_types(df,\"Universite Kacinci Sinif\")"
   ]
  },
  {
   "cell_type": "code",
   "execution_count": 38,
   "id": "d12e0f5d-db01-4b49-8cd0-f746fdaab94c",
   "metadata": {},
   "outputs": [],
   "source": [
    "grades = {\n",
    "    '0': 7,\n",
    "    '1' : 1,\n",
    "    '2': 2,\n",
    "    '3':3,\n",
    "    '4':4,\n",
    "    '5':5,\n",
    "    '6':6,\n",
    "    'hazırlık': 0,\n",
    "    'mezun': 7,\n",
    "    'yüksek lisans': 8,\n",
    "    'tez': 9\n",
    "}\n",
    "\n",
    "df['Universite Kacinci Sinif'] = df['Universite Kacinci Sinif'].map(grades)"
   ]
  },
  {
   "cell_type": "code",
   "execution_count": 39,
   "id": "c024e657-7ddc-4997-94f6-3377f7d9ca20",
   "metadata": {},
   "outputs": [
    {
     "name": "stdout",
     "output_type": "stream",
     "text": [
      "Sütunda 1 farklı veri tipi var: {<class 'int'>} \n"
     ]
    }
   ],
   "source": [
    "how_many_types(df,\"Universite Kacinci Sinif\")"
   ]
  },
  {
   "cell_type": "code",
   "execution_count": 40,
   "id": "dc7bca54-d318-4b05-a445-18e4f631ce93",
   "metadata": {},
   "outputs": [
    {
     "data": {
      "text/plain": [
       "10"
      ]
     },
     "execution_count": 40,
     "metadata": {},
     "output_type": "execute_result"
    }
   ],
   "source": [
    "df[\"Universite Kacinci Sinif\"].nunique()"
   ]
  },
  {
   "cell_type": "code",
   "execution_count": 41,
   "id": "068de340-4cdd-48fb-a63b-e5033feb8420",
   "metadata": {},
   "outputs": [
    {
     "name": "stdout",
     "output_type": "stream",
     "text": [
      "Universite Kacinci Sinif\n",
      "2    22147\n",
      "3    16956\n",
      "4    13112\n",
      "1    10260\n",
      "0     1308\n",
      "5      961\n",
      "7      181\n",
      "6      177\n",
      "8       15\n",
      "9        7\n",
      "Name: count, dtype: int64\n",
      "\n",
      "NaN:  0\n"
     ]
    }
   ],
   "source": [
    "values_and_nulls(df,\"Universite Kacinci Sinif\")"
   ]
  },
  {
   "cell_type": "markdown",
   "id": "6bedc6c3-9cb8-462c-9428-4afddfeee1b2",
   "metadata": {
    "jp-MarkdownHeadingCollapsed": true
   },
   "source": [
    "# Universite Not Ortalamasi ✓"
   ]
  },
  {
   "cell_type": "code",
   "execution_count": 42,
   "id": "119e8e27-912e-4ea7-b787-1c2c9c0ddec4",
   "metadata": {},
   "outputs": [
    {
     "name": "stdout",
     "output_type": "stream",
     "text": [
      "Universite Not Ortalamasi\n",
      "3.00-2.50              10758\n",
      "2.50 ve altı           10554\n",
      "3.00 - 3.50             7913\n",
      "3.50-3                  6179\n",
      "2.50 - 3.00             5782\n",
      "3.50 - 4.00             4462\n",
      "ortalama bulunmuyor     2812\n",
      "2.00 - 2.50             2519\n",
      "2.50 - 2.99             2451\n",
      "3.00 - 3.49             2382\n",
      "2.50 -3.00              1734\n",
      "3.00 - 4.00             1411\n",
      "1.80 - 2.49             1166\n",
      "hazırlığım               668\n",
      "not ortalaması yok       586\n",
      "4-3.5                    481\n",
      "1.00 - 2.50              327\n",
      "0 - 1.79                 185\n",
      "4.0-3.5                    1\n",
      "Name: count, dtype: int64\n",
      "\n",
      "NaN:  2753\n"
     ]
    }
   ],
   "source": [
    "all_letters_lowered(df,\"Universite Not Ortalamasi\")\n",
    "values_and_nulls(df,\"Universite Not Ortalamasi\")"
   ]
  },
  {
   "cell_type": "code",
   "execution_count": 43,
   "id": "65b3d3b6-e6b1-495c-875e-2f45e22d0f7e",
   "metadata": {},
   "outputs": [
    {
     "name": "stdout",
     "output_type": "stream",
     "text": [
      "Sütunda 2 farklı veri tipi var: {<class 'float'>, <class 'str'>} \n"
     ]
    }
   ],
   "source": [
    "how_many_types(df,\"Universite Not Ortalamasi\")"
   ]
  },
  {
   "cell_type": "code",
   "execution_count": 44,
   "id": "2e2050ea-64ab-45b4-9a8d-73402327a234",
   "metadata": {},
   "outputs": [],
   "source": [
    "fill_missing_values(df,\"Universite Not Ortalamasi\",\"yok\")"
   ]
  },
  {
   "cell_type": "code",
   "execution_count": 45,
   "id": "523a4a9e-c67a-440a-be71-9c857644fff5",
   "metadata": {},
   "outputs": [
    {
     "name": "stdout",
     "output_type": "stream",
     "text": [
      "Sütunda 1 farklı veri tipi var: {<class 'str'>} \n"
     ]
    }
   ],
   "source": [
    "how_many_types(df,\"Universite Not Ortalamasi\")"
   ]
  },
  {
   "cell_type": "code",
   "execution_count": 46,
   "id": "08a1442d-0db0-45f8-bd4a-9f0fbd730680",
   "metadata": {},
   "outputs": [
    {
     "name": "stdout",
     "output_type": "stream",
     "text": [
      "Universite Not Ortalamasi\n",
      "3.00-2.50              10758\n",
      "2.50 ve altı           10554\n",
      "3.00 - 3.50             7913\n",
      "3.50-3                  6179\n",
      "2.50 - 3.00             5782\n",
      "3.50 - 4.00             4462\n",
      "ortalama bulunmuyor     2812\n",
      "yok                     2753\n",
      "2.00 - 2.50             2519\n",
      "2.50 - 2.99             2451\n",
      "3.00 - 3.49             2382\n",
      "2.50 -3.00              1734\n",
      "3.00 - 4.00             1411\n",
      "1.80 - 2.49             1166\n",
      "hazırlığım               668\n",
      "not ortalaması yok       586\n",
      "4-3.5                    481\n",
      "1.00 - 2.50              327\n",
      "0 - 1.79                 185\n",
      "4.0-3.5                    1\n",
      "Name: count, dtype: int64\n",
      "\n",
      "NaN:  0\n"
     ]
    }
   ],
   "source": [
    "values_and_nulls(df,\"Universite Not Ortalamasi\")"
   ]
  },
  {
   "cell_type": "code",
   "execution_count": 47,
   "id": "c23fbba2-c494-4a4c-add4-8856e08d07f8",
   "metadata": {},
   "outputs": [],
   "source": [
    "gpa = {\n",
    "    '3.50-3': 'iyi',\n",
    "    '3.00-2.50': 'iyi',\n",
    "    'yok': 'yok',\n",
    "    '2.50 ve altı': 'kotu',\n",
    "    '3.00 - 4.00': 'iyi',\n",
    "    '3.50 - 4.00': 'harika',\n",
    "    '3.00 - 3.50': 'iyi',\n",
    "    '2.50 -3.00': 'iyi',\n",
    "    'ortalama bulunmuyor': 'yok',\n",
    "    '4-3.5': 'harika',\n",
    "    '2.50 - 3.00': 'kotu',\n",
    "    '2.00 - 2.50': 'kotu',\n",
    "    '1.00 - 2.50': 'kotu',\n",
    "    'not ortalaması yok': 'yok',\n",
    "    '4.0-3.5':'harika',\n",
    "    '3.00 - 3.49':  'iyi',\n",
    "    '2.50 - 2.99':  'iyi',\n",
    "    '1.80 - 2.49': 'kotu',\n",
    "    'hazırlığım': 'yok',\n",
    "    '0 - 1.79': 'kotu'\n",
    "}\n",
    "df['Universite Not Ortalamasi'] = df['Universite Not Ortalamasi'].map(gpa)"
   ]
  },
  {
   "cell_type": "code",
   "execution_count": 48,
   "id": "b0d8d679-685b-4756-820c-5895bfd7ba6e",
   "metadata": {},
   "outputs": [
    {
     "name": "stdout",
     "output_type": "stream",
     "text": [
      "Universite Not Ortalamasi\n",
      "iyi       32828\n",
      "kotu      20533\n",
      "yok        6819\n",
      "harika     4944\n",
      "Name: count, dtype: int64\n",
      "\n",
      "NaN:  0\n"
     ]
    }
   ],
   "source": [
    "values_and_nulls(df,\"Universite Not Ortalamasi\")"
   ]
  },
  {
   "cell_type": "markdown",
   "id": "9a9e5b4c-47e2-4ecf-a8ad-42913c637b5a",
   "metadata": {
    "jp-MarkdownHeadingCollapsed": true
   },
   "source": [
    "# Daha Once Baska Bir Universiteden Mezun Olmus ✓"
   ]
  },
  {
   "cell_type": "code",
   "execution_count": 49,
   "id": "c7ba1218-363f-4d0d-a321-ee0b25bdb05d",
   "metadata": {},
   "outputs": [
    {
     "name": "stdout",
     "output_type": "stream",
     "text": [
      "Daha Once Baska Bir Universiteden Mezun Olmus\n",
      "hayır    26624\n",
      "evet      1156\n",
      "Name: count, dtype: int64\n",
      "\n",
      "NaN:  37344\n"
     ]
    }
   ],
   "source": [
    "all_letters_lowered(df,\"Daha Once Baska Bir Universiteden Mezun Olmus\")\n",
    "values_and_nulls(df,\"Daha Once Baska Bir Universiteden Mezun Olmus\")"
   ]
  },
  {
   "cell_type": "code",
   "execution_count": 50,
   "id": "4865207b-7f9c-459a-811b-08fe9dfd1982",
   "metadata": {},
   "outputs": [
    {
     "name": "stdout",
     "output_type": "stream",
     "text": [
      "Daha Once Baska Bir Universiteden Mezun Olmus\n",
      "hayır    63968\n",
      "evet      1156\n",
      "Name: count, dtype: int64\n",
      "\n",
      "NaN:  0\n"
     ]
    }
   ],
   "source": [
    "fill_missing_values(df,\"Daha Once Baska Bir Universiteden Mezun Olmus\",\"hayır\")\n",
    "values_and_nulls(df,\"Daha Once Baska Bir Universiteden Mezun Olmus\")"
   ]
  },
  {
   "cell_type": "markdown",
   "id": "be35fbb4-0ded-4767-a386-5896cc5c3c1f",
   "metadata": {
    "jp-MarkdownHeadingCollapsed": true
   },
   "source": [
    "# Lise Adi ✓"
   ]
  },
  {
   "cell_type": "code",
   "execution_count": 51,
   "id": "1742b1c6-dc57-4934-923e-1f504d32cadf",
   "metadata": {},
   "outputs": [
    {
     "name": "stdout",
     "output_type": "stream",
     "text": [
      "Lise Adi\n",
      "------                                                                             4251\n",
      "Atatürk Lisesi                                                                      199\n",
      "Açık öğretim lisesi                                                                 161\n",
      "Açık Öğretim Lisesi                                                                 151\n",
      "Cumhuriyet Anadolu Lisesi                                                           146\n",
      "                                                                                   ... \n",
      "Nişantaşı Işık Lisesi                                                                 1\n",
      "Tarsus atatürk lisesi                                                                 1\n",
      "Hüsniye Özdilek Ticaret ve İletişim Anadolu Lisesi (Radyo ve Televizyon Bölümü)       1\n",
      "Ses okulları                                                                          1\n",
      "Samsun Terme Karadeniz mesleki teknik Anadolu lisesi                                  1\n",
      "Name: count, Length: 31950, dtype: int64\n",
      "\n",
      "NaN:  384\n"
     ]
    }
   ],
   "source": [
    "values_and_nulls(df,\"Lise Adi\")"
   ]
  },
  {
   "cell_type": "code",
   "execution_count": 52,
   "id": "8d9ed64e-6818-4acc-86e3-bacdc2b19854",
   "metadata": {},
   "outputs": [],
   "source": [
    "all_letters_lowered(df,\"Lise Adi\")\n",
    "def name_highschool(df, column_name):\n",
    "    df.loc[df[column_name].str.contains('anadolu', case=False, na=False), column_name] = 'anadolu'\n",
    "    df.loc[df[column_name].str.contains('fen', case=False, na=False), column_name] = 'fen'\n",
    "    df.loc[\n",
    "        (df[column_name].str.contains('meslek', case=False, na=False)) |\n",
    "        (df[column_name].str.contains('ticar', case=False, na=False)) ,\n",
    "        column_name\n",
    "    ] = 'meslek'\n",
    "    df.loc[df[column_name].str.contains('atatürk', case=False, na=False), column_name] = 'atatürk'\n",
    "    \n",
    "    hs = {\n",
    "    'anadolu': 1,\n",
    "    'fen': 2,\n",
    "    'meslek': 3,\n",
    "    'atatürk': 4,\n",
    "    }\n",
    "    \n",
    "    df[column_name] = df[column_name].map(hs)\n",
    "\n"
   ]
  },
  {
   "cell_type": "code",
   "execution_count": 53,
   "id": "3c35ea11-1b7c-4ff0-8409-ea322d8c9ad9",
   "metadata": {},
   "outputs": [
    {
     "name": "stdout",
     "output_type": "stream",
     "text": [
      "Lise Adi\n",
      "1.0    35889\n",
      "0.0    21375\n",
      "2.0     5442\n",
      "3.0     1788\n",
      "4.0      630\n",
      "Name: count, dtype: int64\n",
      "\n",
      "NaN:  0\n"
     ]
    }
   ],
   "source": [
    "name_highschool(df,\"Lise Adi\")\n",
    "\n",
    "fill_missing_values(df,\"Lise Adi\",\"diğer\")\n",
    "df['Lise Adi'] = df['Lise Adi'].replace('diğer', 0)\n",
    "values_and_nulls(df,\"Lise Adi\")\n"
   ]
  },
  {
   "cell_type": "markdown",
   "id": "6c44f4f6-b20e-4324-b53b-969d80a7c4e0",
   "metadata": {
    "jp-MarkdownHeadingCollapsed": true
   },
   "source": [
    "# Lise Türü ✓"
   ]
  },
  {
   "cell_type": "code",
   "execution_count": 54,
   "id": "4b3547e1-9962-4ee3-aaab-69528c699a6b",
   "metadata": {},
   "outputs": [
    {
     "name": "stdout",
     "output_type": "stream",
     "text": [
      "Lise Turu\n",
      "Anadolu Lisesi       13367\n",
      "Diğer                13184\n",
      "Anadolu lisesi        7002\n",
      "Devlet                6203\n",
      "Özel                  4746\n",
      "Düz lise              4179\n",
      "Meslek lisesi         3666\n",
      "Düz Lise              2789\n",
      "Meslek                2454\n",
      "Fen Lisesi            2159\n",
      "Özel Lisesi           1474\n",
      "İmam Hatip Lisesi     1158\n",
      "Fen lisesi             660\n",
      "Özel lisesi            489\n",
      "Meslek Lisesi          415\n",
      "Özel Lise              332\n",
      "Name: count, dtype: int64\n",
      "\n",
      "NaN:  847\n"
     ]
    }
   ],
   "source": [
    "values_and_nulls(df,\"Lise Turu\")"
   ]
  },
  {
   "cell_type": "code",
   "execution_count": 55,
   "id": "f0f9160b-c323-4867-b063-51f061ae4f3b",
   "metadata": {},
   "outputs": [],
   "source": [
    "def kind_highschool(df, column_name):\n",
    "    df.loc[df[column_name].str.contains('anadolu', case=False, na=False), column_name] = 'anadolu'\n",
    "    df.loc[df[column_name].str.contains('fen', case=False, na=False), column_name] = 'fen'\n",
    "    df.loc[(df[column_name].str.contains('meslek', case=False, na=False)) ,column_name] = 'meslek'\n",
    "    df.loc[df[column_name].str.contains('özel', case=False, na=False), column_name] = 'özel'\n",
    "    df.loc[df[column_name].str.contains('imam', case=False, na=False), column_name] = 'imam hatip'\n",
    "    df.loc[df[column_name].str.contains('düz', case=False, na=False), column_name] = 'düz'\n",
    "    df.loc[df[column_name].str.contains('diğer', case=False, na=False), column_name] = 'diğer'\n",
    "    df.loc[df[column_name].str.contains('devlet', case=False, na=False), column_name] = 'devlet'\n",
    "    \n",
    "    hs = {\n",
    "    'anadolu': 1,\n",
    "    'fen': 2,\n",
    "    'meslek': 3,\n",
    "    'özel': 4,\n",
    "    'imam hatip':5,\n",
    "    'düz':6,\n",
    "    'devlet':7,\n",
    "    'diğer':0\n",
    "    }\n",
    "    \n",
    "    df[column_name] = df[column_name].map(hs)"
   ]
  },
  {
   "cell_type": "code",
   "execution_count": 56,
   "id": "02ebae7e-fab2-4c68-bc74-e8a9512adbc2",
   "metadata": {},
   "outputs": [],
   "source": [
    "fill_missing_values(df,\"Lise Turu\",\"diğer\")\n",
    "kind_highschool(df,\"Lise Turu\")"
   ]
  },
  {
   "cell_type": "code",
   "execution_count": 57,
   "id": "ce4e2447-0aa1-4abb-97bc-2574ecfa120d",
   "metadata": {},
   "outputs": [
    {
     "name": "stdout",
     "output_type": "stream",
     "text": [
      "Lise Turu\n",
      "1    20369\n",
      "0    14031\n",
      "4     7041\n",
      "6     6968\n",
      "3     6535\n",
      "7     6203\n",
      "2     2819\n",
      "5     1158\n",
      "Name: count, dtype: int64\n",
      "\n",
      "NaN:  0\n"
     ]
    }
   ],
   "source": [
    "values_and_nulls(df,\"Lise Turu\")"
   ]
  },
  {
   "cell_type": "markdown",
   "id": "015cfed1-5182-43b6-b164-fc58c5d6f484",
   "metadata": {},
   "source": [
    "# Lise Bolumu ✓"
   ]
  },
  {
   "cell_type": "code",
   "execution_count": 58,
   "id": "373cf24e-b18d-40c0-a8b1-b68de688f7ee",
   "metadata": {
    "scrolled": true
   },
   "outputs": [
    {
     "name": "stdout",
     "output_type": "stream",
     "text": [
      "Lise Bolumu\n",
      "Sayısal                                28980\n",
      "Eşit Ağırlık                           16936\n",
      "FEN SAYISAL BİLİMLERİ ALANI             3995\n",
      "Sözel                                   3630\n",
      "EŞİT AĞIRLIK TÜRKÇE-MATEMATİK ALANI     2786\n",
      "                                       ...  \n",
      "Arkeoloji                                  1\n",
      "ELEKTİRİK VE ELEKTRONİK BÖLÜMÜ             1\n",
      "sosyal Bilgiler                            1\n",
      "Doğalgaz be tesisat teknolojileri          1\n",
      "Giyim Üretim Teknolojisi                   1\n",
      "Name: count, Length: 887, dtype: int64\n",
      "\n",
      "NaN:  1009\n"
     ]
    }
   ],
   "source": [
    "values_and_nulls(df,\"Lise Bolumu\")"
   ]
  },
  {
   "cell_type": "code",
   "execution_count": 59,
   "id": "df025a76-2fcb-4520-bab3-4a3f7b006b95",
   "metadata": {},
   "outputs": [
    {
     "data": {
      "text/plain": [
       "0                  MF\n",
       "1                  MF\n",
       "2            Elektirk\n",
       "3             Sayısal\n",
       "4                  TM\n",
       "             ...     \n",
       "65119         Sayısal\n",
       "65120    Eşit Ağırlık\n",
       "65121    Eşit Ağırlık\n",
       "65122         Sayısal\n",
       "65123           Sözel\n",
       "Name: Lise Bolumu, Length: 65124, dtype: object"
      ]
     },
     "execution_count": 59,
     "metadata": {},
     "output_type": "execute_result"
    }
   ],
   "source": [
    "fill_missing_values(df,\"Bölüm\",\"diger\")\n",
    "df[\"Lise Bolumu\"] = df[\"Lise Bolumu\"].apply(lambda x: \"diger\" if isinstance(x, float) else x)\n",
    "df[\"Lise Bolumu\"]"
   ]
  },
  {
   "cell_type": "code",
   "execution_count": 60,
   "id": "0a51a4e6-3893-4325-b060-26c17d570390",
   "metadata": {},
   "outputs": [
    {
     "data": {
      "text/html": [
       "<div>\n",
       "<style scoped>\n",
       "    .dataframe tbody tr th:only-of-type {\n",
       "        vertical-align: middle;\n",
       "    }\n",
       "\n",
       "    .dataframe tbody tr th {\n",
       "        vertical-align: top;\n",
       "    }\n",
       "\n",
       "    .dataframe thead th {\n",
       "        text-align: right;\n",
       "    }\n",
       "</style>\n",
       "<table border=\"1\" class=\"dataframe\">\n",
       "  <thead>\n",
       "    <tr style=\"text-align: right;\">\n",
       "      <th></th>\n",
       "      <th>Basvuru Yili</th>\n",
       "      <th>Degerlendirme Puani</th>\n",
       "      <th>Cinsiyet</th>\n",
       "      <th>Dogum Tarihi</th>\n",
       "      <th>Dogum Yeri</th>\n",
       "      <th>Ikametgah Sehri</th>\n",
       "      <th>Universite Adi</th>\n",
       "      <th>Universite Turu</th>\n",
       "      <th>Burslu ise Burs Yuzdesi</th>\n",
       "      <th>Burs Aliyor mu?</th>\n",
       "      <th>...</th>\n",
       "      <th>Spor Dalindaki Rolunuz Nedir?</th>\n",
       "      <th>Aktif olarak bir STK üyesi misiniz?</th>\n",
       "      <th>Hangi STK'nin Uyesisiniz?</th>\n",
       "      <th>Stk Projesine Katildiniz Mi?</th>\n",
       "      <th>Girisimcilikle Ilgili Deneyiminiz Var Mi?</th>\n",
       "      <th>Girisimcilikle Ilgili Deneyiminizi Aciklayabilir misiniz?</th>\n",
       "      <th>Ingilizce Biliyor musunuz?</th>\n",
       "      <th>Ingilizce Seviyeniz?</th>\n",
       "      <th>Daha Önceden Mezun Olunduysa, Mezun Olunan Üniversite</th>\n",
       "      <th>id</th>\n",
       "    </tr>\n",
       "  </thead>\n",
       "  <tbody>\n",
       "    <tr>\n",
       "      <th>0</th>\n",
       "      <td>2014</td>\n",
       "      <td>52.0</td>\n",
       "      <td>1</td>\n",
       "      <td>1994-06-04</td>\n",
       "      <td>Ankara</td>\n",
       "      <td>Ankara</td>\n",
       "      <td>ihsan dogramaci bilkent</td>\n",
       "      <td>özel</td>\n",
       "      <td>91-100</td>\n",
       "      <td>evet</td>\n",
       "      <td>...</td>\n",
       "      <td>Diğer</td>\n",
       "      <td>Hayır</td>\n",
       "      <td>NaN</td>\n",
       "      <td>Evet</td>\n",
       "      <td>Hayır</td>\n",
       "      <td>NaN</td>\n",
       "      <td>NaN</td>\n",
       "      <td>NaN</td>\n",
       "      <td>NaN</td>\n",
       "      <td>0</td>\n",
       "    </tr>\n",
       "    <tr>\n",
       "      <th>1</th>\n",
       "      <td>2014</td>\n",
       "      <td>30.0</td>\n",
       "      <td>1</td>\n",
       "      <td>1993-11-06</td>\n",
       "      <td>İstanbul</td>\n",
       "      <td>İstanbul</td>\n",
       "      <td>ihsan dogramaci bilkent</td>\n",
       "      <td>özel</td>\n",
       "      <td>91-100</td>\n",
       "      <td>hayır</td>\n",
       "      <td>...</td>\n",
       "      <td>0</td>\n",
       "      <td>Hayır</td>\n",
       "      <td>NaN</td>\n",
       "      <td>Evet</td>\n",
       "      <td>Evet</td>\n",
       "      <td>Bilkent Cyberparkta bir şirkette Türkiye nin i...</td>\n",
       "      <td>NaN</td>\n",
       "      <td>NaN</td>\n",
       "      <td>NaN</td>\n",
       "      <td>1</td>\n",
       "    </tr>\n",
       "    <tr>\n",
       "      <th>2</th>\n",
       "      <td>2014</td>\n",
       "      <td>18.0</td>\n",
       "      <td>1</td>\n",
       "      <td>NaT</td>\n",
       "      <td>Samsun</td>\n",
       "      <td>İstanbul</td>\n",
       "      <td>uluslararasi kibris universitesi</td>\n",
       "      <td>özel</td>\n",
       "      <td>91-100</td>\n",
       "      <td>hayır</td>\n",
       "      <td>...</td>\n",
       "      <td>0</td>\n",
       "      <td>Hayır</td>\n",
       "      <td>NaN</td>\n",
       "      <td>Hayır</td>\n",
       "      <td>Hayır</td>\n",
       "      <td>NaN</td>\n",
       "      <td>NaN</td>\n",
       "      <td>NaN</td>\n",
       "      <td>NaN</td>\n",
       "      <td>2</td>\n",
       "    </tr>\n",
       "    <tr>\n",
       "      <th>3</th>\n",
       "      <td>2014</td>\n",
       "      <td>40.0</td>\n",
       "      <td>1</td>\n",
       "      <td>1991-04-06</td>\n",
       "      <td>Diyarbakır</td>\n",
       "      <td>İstanbul</td>\n",
       "      <td>istanbul sehir universitesi</td>\n",
       "      <td>özel</td>\n",
       "      <td>91-100</td>\n",
       "      <td>evet</td>\n",
       "      <td>...</td>\n",
       "      <td>0</td>\n",
       "      <td>Hayır</td>\n",
       "      <td>NaN</td>\n",
       "      <td>Evet</td>\n",
       "      <td>Hayır</td>\n",
       "      <td>NaN</td>\n",
       "      <td>NaN</td>\n",
       "      <td>NaN</td>\n",
       "      <td>NaN</td>\n",
       "      <td>3</td>\n",
       "    </tr>\n",
       "    <tr>\n",
       "      <th>4</th>\n",
       "      <td>2014</td>\n",
       "      <td>24.0</td>\n",
       "      <td>1</td>\n",
       "      <td>NaT</td>\n",
       "      <td>Ankara</td>\n",
       "      <td>Ankara</td>\n",
       "      <td>turgut ozal universitesi</td>\n",
       "      <td>özel</td>\n",
       "      <td>91-100</td>\n",
       "      <td>evet</td>\n",
       "      <td>...</td>\n",
       "      <td>0</td>\n",
       "      <td>Hayır</td>\n",
       "      <td>NaN</td>\n",
       "      <td>Hayır</td>\n",
       "      <td>Hayır</td>\n",
       "      <td>NaN</td>\n",
       "      <td>NaN</td>\n",
       "      <td>NaN</td>\n",
       "      <td>NaN</td>\n",
       "      <td>4</td>\n",
       "    </tr>\n",
       "    <tr>\n",
       "      <th>...</th>\n",
       "      <td>...</td>\n",
       "      <td>...</td>\n",
       "      <td>...</td>\n",
       "      <td>...</td>\n",
       "      <td>...</td>\n",
       "      <td>...</td>\n",
       "      <td>...</td>\n",
       "      <td>...</td>\n",
       "      <td>...</td>\n",
       "      <td>...</td>\n",
       "      <td>...</td>\n",
       "      <td>...</td>\n",
       "      <td>...</td>\n",
       "      <td>...</td>\n",
       "      <td>...</td>\n",
       "      <td>...</td>\n",
       "      <td>...</td>\n",
       "      <td>...</td>\n",
       "      <td>...</td>\n",
       "      <td>...</td>\n",
       "      <td>...</td>\n",
       "    </tr>\n",
       "    <tr>\n",
       "      <th>65119</th>\n",
       "      <td>2022</td>\n",
       "      <td>0.0</td>\n",
       "      <td>1</td>\n",
       "      <td>NaT</td>\n",
       "      <td>İzmir</td>\n",
       "      <td>İzmir</td>\n",
       "      <td>dokuz eylul universitesi</td>\n",
       "      <td>devlet</td>\n",
       "      <td>0-10</td>\n",
       "      <td>hayır</td>\n",
       "      <td>...</td>\n",
       "      <td>-</td>\n",
       "      <td>Hayır</td>\n",
       "      <td>-</td>\n",
       "      <td>NaN</td>\n",
       "      <td>Hayır</td>\n",
       "      <td>-</td>\n",
       "      <td>Hayır</td>\n",
       "      <td>NaN</td>\n",
       "      <td>NaN</td>\n",
       "      <td>65119</td>\n",
       "    </tr>\n",
       "    <tr>\n",
       "      <th>65120</th>\n",
       "      <td>2022</td>\n",
       "      <td>0.0</td>\n",
       "      <td>1</td>\n",
       "      <td>NaT</td>\n",
       "      <td>İstanbul</td>\n",
       "      <td>İstanbul</td>\n",
       "      <td>istanbul aydin universitesi</td>\n",
       "      <td>özel</td>\n",
       "      <td>0-10</td>\n",
       "      <td>evet</td>\n",
       "      <td>...</td>\n",
       "      <td>-</td>\n",
       "      <td>Hayır</td>\n",
       "      <td>-</td>\n",
       "      <td>NaN</td>\n",
       "      <td>Hayır</td>\n",
       "      <td>-</td>\n",
       "      <td>Hayır</td>\n",
       "      <td>NaN</td>\n",
       "      <td>NaN</td>\n",
       "      <td>65120</td>\n",
       "    </tr>\n",
       "    <tr>\n",
       "      <th>65121</th>\n",
       "      <td>2022</td>\n",
       "      <td>0.0</td>\n",
       "      <td>1</td>\n",
       "      <td>NaT</td>\n",
       "      <td>Hatay</td>\n",
       "      <td>Muğla</td>\n",
       "      <td>mugla sitki kocman universitesi</td>\n",
       "      <td>devlet</td>\n",
       "      <td>0-10</td>\n",
       "      <td>hayır</td>\n",
       "      <td>...</td>\n",
       "      <td>-</td>\n",
       "      <td>Hayır</td>\n",
       "      <td>-</td>\n",
       "      <td>NaN</td>\n",
       "      <td>Hayır</td>\n",
       "      <td>-</td>\n",
       "      <td>Hayır</td>\n",
       "      <td>NaN</td>\n",
       "      <td>NaN</td>\n",
       "      <td>65121</td>\n",
       "    </tr>\n",
       "    <tr>\n",
       "      <th>65122</th>\n",
       "      <td>2022</td>\n",
       "      <td>0.0</td>\n",
       "      <td>1</td>\n",
       "      <td>NaT</td>\n",
       "      <td>Mersin</td>\n",
       "      <td>Mersin</td>\n",
       "      <td>suleyman demirel universitesi</td>\n",
       "      <td>devlet</td>\n",
       "      <td>0-10</td>\n",
       "      <td>hayır</td>\n",
       "      <td>...</td>\n",
       "      <td>-</td>\n",
       "      <td>Hayır</td>\n",
       "      <td>-</td>\n",
       "      <td>NaN</td>\n",
       "      <td>Hayır</td>\n",
       "      <td>-</td>\n",
       "      <td>Hayır</td>\n",
       "      <td>NaN</td>\n",
       "      <td>NaN</td>\n",
       "      <td>65122</td>\n",
       "    </tr>\n",
       "    <tr>\n",
       "      <th>65123</th>\n",
       "      <td>2022</td>\n",
       "      <td>0.0</td>\n",
       "      <td>1</td>\n",
       "      <td>NaT</td>\n",
       "      <td>Samsun</td>\n",
       "      <td>Samsun</td>\n",
       "      <td>karabuk universitesi</td>\n",
       "      <td>devlet</td>\n",
       "      <td>0-10</td>\n",
       "      <td>hayır</td>\n",
       "      <td>...</td>\n",
       "      <td>-</td>\n",
       "      <td>Hayır</td>\n",
       "      <td>-</td>\n",
       "      <td>NaN</td>\n",
       "      <td>Hayır</td>\n",
       "      <td>-</td>\n",
       "      <td>Hayır</td>\n",
       "      <td>NaN</td>\n",
       "      <td>NaN</td>\n",
       "      <td>65123</td>\n",
       "    </tr>\n",
       "  </tbody>\n",
       "</table>\n",
       "<p>65124 rows × 44 columns</p>\n",
       "</div>"
      ],
      "text/plain": [
       "       Basvuru Yili  Degerlendirme Puani  Cinsiyet Dogum Tarihi  Dogum Yeri  \\\n",
       "0              2014                 52.0         1   1994-06-04      Ankara   \n",
       "1              2014                 30.0         1   1993-11-06    İstanbul   \n",
       "2              2014                 18.0         1          NaT      Samsun   \n",
       "3              2014                 40.0         1   1991-04-06  Diyarbakır   \n",
       "4              2014                 24.0         1          NaT      Ankara   \n",
       "...             ...                  ...       ...          ...         ...   \n",
       "65119          2022                  0.0         1          NaT       İzmir   \n",
       "65120          2022                  0.0         1          NaT    İstanbul   \n",
       "65121          2022                  0.0         1          NaT       Hatay   \n",
       "65122          2022                  0.0         1          NaT      Mersin   \n",
       "65123          2022                  0.0         1          NaT      Samsun   \n",
       "\n",
       "      Ikametgah Sehri                    Universite Adi Universite Turu  \\\n",
       "0              Ankara           ihsan dogramaci bilkent            özel   \n",
       "1            İstanbul           ihsan dogramaci bilkent            özel   \n",
       "2            İstanbul  uluslararasi kibris universitesi            özel   \n",
       "3            İstanbul       istanbul sehir universitesi            özel   \n",
       "4              Ankara          turgut ozal universitesi            özel   \n",
       "...               ...                               ...             ...   \n",
       "65119           İzmir          dokuz eylul universitesi          devlet   \n",
       "65120        İstanbul       istanbul aydin universitesi            özel   \n",
       "65121           Muğla   mugla sitki kocman universitesi          devlet   \n",
       "65122          Mersin     suleyman demirel universitesi          devlet   \n",
       "65123          Samsun              karabuk universitesi          devlet   \n",
       "\n",
       "      Burslu ise Burs Yuzdesi Burs Aliyor mu?  ...  \\\n",
       "0                      91-100            evet  ...   \n",
       "1                      91-100           hayır  ...   \n",
       "2                      91-100           hayır  ...   \n",
       "3                      91-100            evet  ...   \n",
       "4                      91-100            evet  ...   \n",
       "...                       ...             ...  ...   \n",
       "65119                    0-10           hayır  ...   \n",
       "65120                    0-10            evet  ...   \n",
       "65121                    0-10           hayır  ...   \n",
       "65122                    0-10           hayır  ...   \n",
       "65123                    0-10           hayır  ...   \n",
       "\n",
       "      Spor Dalindaki Rolunuz Nedir?  Aktif olarak bir STK üyesi misiniz?  \\\n",
       "0                             Diğer                                Hayır   \n",
       "1                                 0                                Hayır   \n",
       "2                                 0                                Hayır   \n",
       "3                                 0                                Hayır   \n",
       "4                                 0                                Hayır   \n",
       "...                             ...                                  ...   \n",
       "65119                             -                                Hayır   \n",
       "65120                             -                                Hayır   \n",
       "65121                             -                                Hayır   \n",
       "65122                             -                                Hayır   \n",
       "65123                             -                                Hayır   \n",
       "\n",
       "      Hangi STK'nin Uyesisiniz? Stk Projesine Katildiniz Mi?  \\\n",
       "0                           NaN                         Evet   \n",
       "1                           NaN                         Evet   \n",
       "2                           NaN                        Hayır   \n",
       "3                           NaN                         Evet   \n",
       "4                           NaN                        Hayır   \n",
       "...                         ...                          ...   \n",
       "65119                         -                          NaN   \n",
       "65120                         -                          NaN   \n",
       "65121                         -                          NaN   \n",
       "65122                         -                          NaN   \n",
       "65123                         -                          NaN   \n",
       "\n",
       "       Girisimcilikle Ilgili Deneyiminiz Var Mi?  \\\n",
       "0                                          Hayır   \n",
       "1                                           Evet   \n",
       "2                                          Hayır   \n",
       "3                                          Hayır   \n",
       "4                                          Hayır   \n",
       "...                                          ...   \n",
       "65119                                      Hayır   \n",
       "65120                                      Hayır   \n",
       "65121                                      Hayır   \n",
       "65122                                      Hayır   \n",
       "65123                                      Hayır   \n",
       "\n",
       "      Girisimcilikle Ilgili Deneyiminizi Aciklayabilir misiniz?  \\\n",
       "0                                                    NaN          \n",
       "1      Bilkent Cyberparkta bir şirkette Türkiye nin i...          \n",
       "2                                                    NaN          \n",
       "3                                                    NaN          \n",
       "4                                                    NaN          \n",
       "...                                                  ...          \n",
       "65119                                                  -          \n",
       "65120                                                  -          \n",
       "65121                                                  -          \n",
       "65122                                                  -          \n",
       "65123                                                  -          \n",
       "\n",
       "      Ingilizce Biliyor musunuz?  Ingilizce Seviyeniz?  \\\n",
       "0                            NaN                   NaN   \n",
       "1                            NaN                   NaN   \n",
       "2                            NaN                   NaN   \n",
       "3                            NaN                   NaN   \n",
       "4                            NaN                   NaN   \n",
       "...                          ...                   ...   \n",
       "65119                      Hayır                   NaN   \n",
       "65120                      Hayır                   NaN   \n",
       "65121                      Hayır                   NaN   \n",
       "65122                      Hayır                   NaN   \n",
       "65123                      Hayır                   NaN   \n",
       "\n",
       "      Daha Önceden Mezun Olunduysa, Mezun Olunan Üniversite     id  \n",
       "0                                                    NaN         0  \n",
       "1                                                    NaN         1  \n",
       "2                                                    NaN         2  \n",
       "3                                                    NaN         3  \n",
       "4                                                    NaN         4  \n",
       "...                                                  ...       ...  \n",
       "65119                                                NaN     65119  \n",
       "65120                                                NaN     65120  \n",
       "65121                                                NaN     65121  \n",
       "65122                                                NaN     65122  \n",
       "65123                                                NaN     65123  \n",
       "\n",
       "[65124 rows x 44 columns]"
      ]
     },
     "execution_count": 60,
     "metadata": {},
     "output_type": "execute_result"
    }
   ],
   "source": [
    "import re\n",
    "import unicodedata\n",
    "def normalize_text(text):\n",
    "    # Küçük harfe çevir\n",
    "    text = text.lower()\n",
    "\n",
    "    # Türkçe karakterleri İngilizce karakterlere dönüştür\n",
    "    replacements = {\n",
    "        'ç': 'c', 'ğ': 'g', 'ı': 'i', 'ö': 'o', 'ş': 's', 'ü': 'u'\n",
    "    }\n",
    "    for turkish_char, english_char in replacements.items():\n",
    "        text = text.replace(turkish_char, english_char)\n",
    "    \n",
    "    # Unicode normalizasyonu yaparak özel karakterleri temizle\n",
    "    text = unicodedata.normalize('NFKD', text)\n",
    "    text = ''.join([c for c in text if not unicodedata.combining(c)])\n",
    "\n",
    "    # Özel karakterleri sil (sadece harfler ve sayılar kalsın)\n",
    "    text = re.sub(r'[^a-zA-Z0-9\\s]', '', text)\n",
    "\n",
    "    return text\n",
    "\n",
    "# Veri setindeki bir sütuna uygulamak için\n",
    "def normalize_column(df, column_name):\n",
    "    df[column_name] = df[column_name].apply(normalize_text)\n",
    "    return df\n",
    "normalize_column(df,\"Lise Bolumu\")"
   ]
  },
  {
   "cell_type": "code",
   "execution_count": 61,
   "id": "7df89675-d6f4-4186-b0c4-98c0b7da5c46",
   "metadata": {},
   "outputs": [],
   "source": [
    "belirli_bolumler = [\"sayısal\", \"dil\", \"eşit ağırlık\",\"sözel\"]\n",
    "df['Lise Bolumu'] = df['Lise Bolumu'].apply(lambda x: x if x in belirli_bolumler else \"diger\")"
   ]
  },
  {
   "cell_type": "code",
   "execution_count": 62,
   "id": "84499515-8791-42c2-ad9f-3006cb7051e5",
   "metadata": {},
   "outputs": [
    {
     "name": "stdout",
     "output_type": "stream",
     "text": [
      "Lise Bolumu\n",
      "diger    64340\n",
      "dil        784\n",
      "Name: count, dtype: int64\n",
      "\n",
      "NaN:  0\n"
     ]
    }
   ],
   "source": [
    "values_and_nulls(df,\"Lise Bolumu\")"
   ]
  },
  {
   "cell_type": "markdown",
   "id": "7c67b11f-25b7-42b8-a8e3-2c2f29a0b637",
   "metadata": {},
   "source": [
    "# Lise Mezuniyet Notu ✓"
   ]
  },
  {
   "cell_type": "code",
   "execution_count": 63,
   "id": "e0b6b406-ab0b-44ae-929e-09d481f3fbbb",
   "metadata": {},
   "outputs": [
    {
     "name": "stdout",
     "output_type": "stream",
     "text": [
      "Lise Mezuniyet Notu\n",
      "75 - 100              22432\n",
      "84-70                  9141\n",
      "100-85                 6967\n",
      "4.00-3.50              3689\n",
      "50 - 75                3115\n",
      "3.00 - 4.00            3101\n",
      "3.50-3.00              2759\n",
      "3.50-3                 2330\n",
      "69-55                  2162\n",
      "3.00-2.50              2153\n",
      "50 - 74                1007\n",
      "2.50 ve altı            226\n",
      "54-45                    88\n",
      "25 - 50                  14\n",
      "Not ortalaması yok       11\n",
      "44-0                      6\n",
      "0 - 25                    3\n",
      "25 - 49                   2\n",
      "0 - 24                    1\n",
      "Name: count, dtype: int64\n",
      "\n",
      "NaN:  5917\n"
     ]
    }
   ],
   "source": [
    "values_and_nulls(df,\"Lise Mezuniyet Notu\")\n",
    "fill_missing_values(df,\"Lise Mezuniyet Notu\",0)\n",
    "df[\"Lise Mezuniyet Notu\"] = df[\"Lise Mezuniyet Notu\"].replace('Not ortalaması yok', 0)"
   ]
  },
  {
   "cell_type": "code",
   "execution_count": 64,
   "id": "88368667-d8ad-438c-b351-6b8e5ebe5406",
   "metadata": {},
   "outputs": [],
   "source": [
    "highs_grades = {\n",
    "    '75 - 100': 'A+',\n",
    "    '84-70': 'B',\n",
    "    '100-85': 'A+',\n",
    "    '0':'C',\n",
    "    '4.00-3.50': 'A+',\n",
    "    '50 - 75': 'A',\n",
    "    '3.00 - 4.00': 'B',\n",
    "    '3.50-3.00': 'B',\n",
    "    '3.50-3': 'B',\n",
    "    '69-55': 'A',\n",
    "    '3.00-2.50': 'A',\n",
    "    '50 - 74': 'A',\n",
    "    '2.50 ve altı': 'A',\n",
    "    '54-45': 'C',\n",
    "    '25 - 50': 'C',\n",
    "    '44-0': 'C',\n",
    "    '0 - 25': 'C',\n",
    "    '25 - 49': 'C',\n",
    "    '0 - 24': 'C',\n",
    "    0: 'C'\n",
    "}\n",
    "df[\"Lise Mezuniyet Notu\"] = df[\"Lise Mezuniyet Notu\"].map(highs_grades)"
   ]
  },
  {
   "cell_type": "code",
   "execution_count": 65,
   "id": "484b6df4-e529-4a1e-bc21-55f183c4165a",
   "metadata": {},
   "outputs": [
    {
     "name": "stdout",
     "output_type": "stream",
     "text": [
      "Lise Mezuniyet Notu\n",
      "A+    33088\n",
      "B     17331\n",
      "A      8663\n",
      "C      6042\n",
      "Name: count, dtype: int64\n",
      "\n",
      "NaN:  0\n"
     ]
    }
   ],
   "source": [
    "values_and_nulls(df,\"Lise Mezuniyet Notu\")"
   ]
  },
  {
   "cell_type": "markdown",
   "id": "ad5e7a0d-6ade-41c9-9b2e-7c0a5816eb71",
   "metadata": {
    "jp-MarkdownHeadingCollapsed": true
   },
   "source": [
    "# Baska Bir Kurumdan Burs Aliyor mu? ✓"
   ]
  },
  {
   "cell_type": "code",
   "execution_count": 66,
   "id": "96e0e443-db59-466a-9293-075bcb190440",
   "metadata": {},
   "outputs": [
    {
     "name": "stdout",
     "output_type": "stream",
     "text": [
      "Baska Bir Kurumdan Burs Aliyor mu?\n",
      "hayır    48513\n",
      "evet     16380\n",
      "Name: count, dtype: int64\n",
      "\n",
      "NaN:  231\n"
     ]
    }
   ],
   "source": [
    "all_letters_lowered(df,\"Baska Bir Kurumdan Burs Aliyor mu?\")\n",
    "values_and_nulls(df,\"Baska Bir Kurumdan Burs Aliyor mu?\")"
   ]
  },
  {
   "cell_type": "code",
   "execution_count": 67,
   "id": "33506790-207a-4a25-9325-8e7ff454c1d3",
   "metadata": {},
   "outputs": [
    {
     "name": "stdout",
     "output_type": "stream",
     "text": [
      "Baska Bir Kurumdan Burs Aliyor mu?\n",
      "hayır    48744\n",
      "evet     16380\n",
      "Name: count, dtype: int64\n",
      "\n",
      "NaN:  0\n"
     ]
    }
   ],
   "source": [
    "fill_missing_values(df,\"Baska Bir Kurumdan Burs Aliyor mu?\",\"hayır\")\n",
    "values_and_nulls(df,\"Baska Bir Kurumdan Burs Aliyor mu?\")"
   ]
  },
  {
   "cell_type": "markdown",
   "id": "98c18e3d-9001-4a7d-a448-937f5e661840",
   "metadata": {},
   "source": [
    "# Burs Aldigi Baska Kurum BİTTİ AMA İÇİN TR ENG çatışmasını önleyen fonksiyon var"
   ]
  },
  {
   "cell_type": "code",
   "execution_count": 68,
   "id": "a5158955-5eeb-42d6-890a-6ee30ace9a63",
   "metadata": {
    "scrolled": true
   },
   "outputs": [
    {
     "name": "stdout",
     "output_type": "stream",
     "text": [
      "Burs Aldigi Baska Kurum\n",
      "kyk                                      6666\n",
      "-                                        4711\n",
      "kredi ve yurtlar kurumu                   895\n",
      "kredi yurtlar kurumu                      756\n",
      "kyk bursu                                 526\n",
      "                                         ... \n",
      "divriği kültür derneği                      1\n",
      "şoförler ve otomobilciler esnaf odası       1\n",
      "kasapoğlu vakfı                             1\n",
      "kızılcahamam ve çamlıdereliler vakfı        1\n",
      "kyk yök bursu                               1\n",
      "Name: count, Length: 3375, dtype: int64\n",
      "\n",
      "NaN:  43977\n"
     ]
    }
   ],
   "source": [
    "all_letters_lowered(df,\"Burs Aldigi Baska Kurum\")\n",
    "values_and_nulls(df,\"Burs Aldigi Baska Kurum\")"
   ]
  },
  {
   "cell_type": "code",
   "execution_count": 69,
   "id": "5f117e3d-b6b4-4dbc-a2a3-48157eaa1c31",
   "metadata": {},
   "outputs": [],
   "source": [
    "def sade(df, col_name, word_map):\n",
    "    # Sütundaki her satırı kontrol et\n",
    "    def replace_word(text):\n",
    "        standardized_text = standardize_name(text)\n",
    "        # Her kelime listesi için kontrol et\n",
    "        for target_word, word_list in word_map.items():\n",
    "            if any(word in standardized_text for word in word_list):\n",
    "                return target_word\n",
    "        return standardized_text\n",
    "\n",
    "    df[col_name] = df[col_name].apply(replace_word)\n",
    "    \n",
    "    "
   ]
  },
  {
   "cell_type": "code",
   "execution_count": 70,
   "id": "3d45d129-2b73-4231-ac7d-c8df09d006bc",
   "metadata": {},
   "outputs": [],
   "source": [
    "df['Burs Aldigi Baska Kurum'] = df['Burs Aldigi Baska Kurum'].apply(lambda x: \"almiyor\" if isinstance(x, float) else x)"
   ]
  },
  {
   "cell_type": "code",
   "execution_count": 71,
   "id": "d52a7d07-f6a2-4d4a-ae45-18862f871cce",
   "metadata": {},
   "outputs": [],
   "source": [
    "scholar_list = {\n",
    "                \"kyk\" : [\"kyk\",\"kredi\",\"yurtlar\",\"ky\",],\n",
    "                \"tev\" : [\"tev\",\"türk eğitim vakfı\",\"turk eğitim vakfı\"],\n",
    "                \"devlet\" : [\"devlet\"],\n",
    "                \"gsb\": [\"gsb\",\"genclik ve spor bakanligi\"],\n",
    "                \"vgm\" : [\"vgm\",\"vakiflar genel mudurlugu\"],\n",
    "                \"almiyor\": [\"almiyorum\",\"hayir\", \"-\"]\n",
    "                }\n",
    "\n",
    "sade(df,\"Burs Aldigi Baska Kurum\",scholar_list)\n"
   ]
  },
  {
   "cell_type": "markdown",
   "id": "0ffc8c99-c38a-4849-b928-c3cfd5a8fe6c",
   "metadata": {},
   "source": [
    "KYK, kyk, Kyk gibi farklı türevleri hızlıca birleştirmek için hepsini küçük karakter yapıyoruz. Diğer bazı sütunlarda da böyle.\n",
    "all_letters_lowered(df,\"Burs Aldigi Baska Kurum\")\n",
    "values_and_nulls(df,\"Burs Aldigi Baska Kurum\")"
   ]
  },
  {
   "cell_type": "code",
   "execution_count": 72,
   "id": "c0088d10-3599-48a5-ac85-8fcbe22d45ad",
   "metadata": {},
   "outputs": [
    {
     "name": "stdout",
     "output_type": "stream",
     "text": [
      "Burs Aldigi Baska Kurum\n",
      "almiyor                                    48785\n",
      "kyk                                        11366\n",
      "devlet                                       620\n",
      "tev                                          129\n",
      "cagdas yasami destekleme dernegi             128\n",
      "                                           ...  \n",
      "ankablo limited sirketi                        1\n",
      "rumelililer dernegi                            1\n",
      "kadikoy anadolu lisesi mezunlar dernegi        1\n",
      "bektas vakfi                                   1\n",
      "nuh cimento vakfi                              1\n",
      "Name: count, Length: 1849, dtype: int64\n",
      "\n",
      "NaN:  0\n"
     ]
    }
   ],
   "source": [
    "values_and_nulls(df,\"Burs Aldigi Baska Kurum\")"
   ]
  },
  {
   "cell_type": "code",
   "execution_count": null,
   "id": "9cdc8a58-52d8-4ea9-99ec-c3f4adf0a1dc",
   "metadata": {},
   "outputs": [],
   "source": []
  },
  {
   "cell_type": "code",
   "execution_count": 73,
   "id": "5bf1d386-5cad-445a-8beb-2fff41e9ca38",
   "metadata": {},
   "outputs": [],
   "source": [
    "value_counts = df['Burs Aldigi Baska Kurum'].value_counts()\n",
    "values_to_update = value_counts[value_counts < 124].index\n",
    "df['Burs Aldigi Baska Kurum'] = df['Burs Aldigi Baska Kurum'].apply(lambda x: 'diger' if x in values_to_update else x)"
   ]
  },
  {
   "cell_type": "code",
   "execution_count": 74,
   "id": "23612ef7-5ffb-4d27-b22a-4f55cbf23bda",
   "metadata": {},
   "outputs": [
    {
     "name": "stdout",
     "output_type": "stream",
     "text": [
      "Burs Aldigi Baska Kurum\n",
      "almiyor                             48785\n",
      "kyk                                 11366\n",
      "diger                                3971\n",
      "devlet                                620\n",
      "tev                                   129\n",
      "cagdas yasami destekleme dernegi      128\n",
      "gsb                                   125\n",
      "Name: count, dtype: int64\n",
      "\n",
      "NaN:  0\n"
     ]
    }
   ],
   "source": [
    "values_and_nulls(df,\"Burs Aldigi Baska Kurum\")"
   ]
  },
  {
   "cell_type": "markdown",
   "id": "086e1337-8d69-46bd-b216-968147f03ddd",
   "metadata": {
    "jp-MarkdownHeadingCollapsed": true
   },
   "source": [
    "# Anne Egitim Durumu & Baba Egitim Durumu ✓"
   ]
  },
  {
   "cell_type": "code",
   "execution_count": 75,
   "id": "70bf3f9f-3c7e-4ffb-b1ec-15a5dd1f25fc",
   "metadata": {},
   "outputs": [],
   "source": [
    "def update_edu(df, column_name):\n",
    "    df.loc[df[column_name].str.contains('ilkokul', case=False, na=False), column_name] = 'ilkokul'\n",
    "    df.loc[df[column_name].str.contains('lise', case=False, na=False), column_name] = 'lise'\n",
    "    df.loc[df[column_name].str.contains('üniversite', case=False, na=False), column_name] = 'üniversite'\n",
    "    df.loc[df[column_name].str.contains('doktora', case=False, na=False), column_name] = 'doktora'\n",
    "    df.loc[df[column_name].str.contains('yüksek', case=False, na=False), column_name] = 'yüksek lisans'\n",
    "    df.loc[df[column_name].str.contains('ortaokul', case=False, na=False), column_name] = 'ortaokul'\n",
    "    df.loc[\n",
    "        (df[column_name].str.contains('0', case=False, na=False)) |\n",
    "        (df[column_name].str.contains('eğitimi yok', case=False, na=False)) |\n",
    "        (df[column_name].str.contains('eğitim yok', case=False, na=False)),\n",
    "        column_name\n",
    "    ] = 'yok'\n",
    "    \n",
    "    _edu = {\n",
    "    'ilkokul': 1,\n",
    "    'ortaokul': 2,\n",
    "    'lise': 3,\n",
    "    'üniversite': 4,\n",
    "    'yüksek lisans': 5,\n",
    "    'doktora': 6,\n",
    "    'yok': 0\n",
    "    }\n",
    "    fill_missing_values(df,column_name,\"yok\")\n",
    "    df[column_name] = df[column_name].map(_edu)\n",
    "    "
   ]
  },
  {
   "cell_type": "code",
   "execution_count": 76,
   "id": "b1467f9e-72c0-451f-b249-8af6ec6263ba",
   "metadata": {},
   "outputs": [],
   "source": [
    "update_edu(df,\"Anne Egitim Durumu\")\n",
    "update_edu(df,\"Baba Egitim Durumu\")"
   ]
  },
  {
   "cell_type": "markdown",
   "id": "8470269f-a80b-4144-a4d7-f9cd59a5480e",
   "metadata": {
    "jp-MarkdownHeadingCollapsed": true
   },
   "source": [
    "# Anne Çalışma Durumu & Baba Çalışma Durumu ✓"
   ]
  },
  {
   "cell_type": "code",
   "execution_count": 77,
   "id": "6c17c2b5-2e65-4ab0-929f-32846bec18a4",
   "metadata": {},
   "outputs": [],
   "source": [
    "fill_missing_values(df,\"Anne Calisma Durumu\",\"yok\")\n",
    "fill_missing_values(df,\"Baba Calisma Durumu\",\"yok\")"
   ]
  },
  {
   "cell_type": "code",
   "execution_count": 78,
   "id": "e1a8f099-9589-4932-a783-5e6ba86fee9d",
   "metadata": {},
   "outputs": [],
   "source": [
    "work = {\n",
    "    'Hayır': 1,\n",
    "    'Evet': 2,\n",
    "    'Emekli': 3,\n",
    "    'yok': 0,\n",
    "    }\n",
    "df[\"Baba Calisma Durumu\"] = df[\"Baba Calisma Durumu\"].map(work)\n",
    "df[\"Anne Calisma Durumu\"] = df[\"Anne Calisma Durumu\"].map(work)"
   ]
  },
  {
   "cell_type": "code",
   "execution_count": 79,
   "id": "9e833067-215a-4e6a-ae96-bcbb189f4e07",
   "metadata": {},
   "outputs": [
    {
     "name": "stdout",
     "output_type": "stream",
     "text": [
      "Anne Calisma Durumu\n",
      "1    39370\n",
      "0    11896\n",
      "2    10504\n",
      "3     3354\n",
      "Name: count, dtype: int64\n",
      "\n",
      "NaN:  0\n",
      "Baba Calisma Durumu\n",
      "2    28558\n",
      "0    12618\n",
      "1    12486\n",
      "3    11462\n",
      "Name: count, dtype: int64\n",
      "\n",
      "NaN:  0\n"
     ]
    }
   ],
   "source": [
    "values_and_nulls(df,\"Anne Calisma Durumu\")\n",
    "values_and_nulls(df,\"Baba Calisma Durumu\")"
   ]
  },
  {
   "cell_type": "markdown",
   "id": "3bea75c8-1f5b-4aa2-83ea-2ea3d23bc11c",
   "metadata": {
    "jp-MarkdownHeadingCollapsed": true
   },
   "source": [
    "# Anne Sektor & Baba Sektor ✓"
   ]
  },
  {
   "cell_type": "code",
   "execution_count": 80,
   "id": "9bf17faa-b055-4437-8c47-8d62ab713e4c",
   "metadata": {},
   "outputs": [],
   "source": [
    "def update_sector(df, column_name):\n",
    "    df.loc[df[column_name].str.contains('özel', case=False, na=False), column_name] = 'özel'\n",
    "    df.loc[df[column_name].str.contains('kamu', case=False, na=False), column_name] = 'kamu'\n",
    "    df.loc[df[column_name].str.contains('diğer', case=False, na=False), column_name] = 'diğer'\n",
    "    df.loc[\n",
    "        (df[column_name].str.contains('0', case=False, na=False)) |\n",
    "        (df[column_name].str.contains('-', case=False, na=False)) ,\n",
    "        column_name\n",
    "    ] = 'yok'\n",
    "    \n",
    "    sector = {\n",
    "    'kamu': 1,\n",
    "    'özel': 2,\n",
    "    'diğer': 3,\n",
    "    'yok': 0,\n",
    "    }\n",
    "    fill_missing_values(df,column_name,\"yok\")\n",
    "    df[column_name] = df[column_name].map(sector)"
   ]
  },
  {
   "cell_type": "code",
   "execution_count": 81,
   "id": "30195bb9-adba-43a7-8f62-e2cedb91738b",
   "metadata": {},
   "outputs": [],
   "source": [
    "update_sector(df,\"Baba Sektor\")\n",
    "update_sector(df,\"Anne Sektor\")"
   ]
  },
  {
   "cell_type": "markdown",
   "id": "6ed80817-76fb-4628-85b8-1ed1cb34ae47",
   "metadata": {
    "jp-MarkdownHeadingCollapsed": true
   },
   "source": [
    "# Kardes Sayisi ✓"
   ]
  },
  {
   "cell_type": "code",
   "execution_count": 82,
   "id": "b33dadf2-d5bd-4f39-b995-b8cb49cc2541",
   "metadata": {},
   "outputs": [
    {
     "name": "stdout",
     "output_type": "stream",
     "text": [
      "Kardes Sayisi\n",
      "1.0                                             16186\n",
      "2.0                                             13061\n",
      "3.0                                              6734\n",
      "1                                                6054\n",
      "4.0                                              4611\n",
      "2                                                3938\n",
      "0.0                                              3701\n",
      "5.0                                              3421\n",
      "3                                                2087\n",
      "0                                                1381\n",
      "4                                                 998\n",
      "5                                                 715\n",
      "6.0                                               206\n",
      "7.0                                               159\n",
      "6                                                 135\n",
      "10.0                                              127\n",
      "7                                                 119\n",
      "8.0                                                98\n",
      "9.0                                                79\n",
      "8                                                  75\n",
      "9                                                  43\n",
      "10                                                 42\n",
      "11                                                 12\n",
      "12                                                  5\n",
      "13                                                  2\n",
      "14                                                  1\n",
      "18                                                  1\n",
      "Kardeş Sayısı 1 Ek Bilgi Aile Hk. Anne Vefat        1\n",
      "Name: count, dtype: int64\n",
      "\n",
      "NaN:  1132\n",
      "Sütunda 2 farklı veri tipi var: {<class 'float'>, <class 'str'>} \n"
     ]
    }
   ],
   "source": [
    "values_and_nulls(df,\"Kardes Sayisi\")\n",
    "how_many_types(df,\"Kardes Sayisi\")\n",
    "df['Kardes Sayisi'] = df['Kardes Sayisi'].replace('Kardeş Sayısı 1 Ek Bilgi Aile Hk. Anne Vefat', 1)\n",
    "fill_missing_values(df,\"Kardes Sayisi\",0)\n",
    "df['Kardes Sayisi'] = df['Kardes Sayisi'].astype(int)"
   ]
  },
  {
   "cell_type": "code",
   "execution_count": 83,
   "id": "62c950b1-26c1-46db-b196-ed1100ded28f",
   "metadata": {},
   "outputs": [
    {
     "name": "stdout",
     "output_type": "stream",
     "text": [
      "Kardes Sayisi\n",
      "1    22241\n",
      "2    16999\n",
      "3     8821\n",
      "0     6214\n",
      "4     5609\n",
      "5     4136\n",
      "6     1104\n",
      "Name: count, dtype: int64\n",
      "\n",
      "NaN:  0\n"
     ]
    }
   ],
   "source": [
    "# 6 ve 6dan fazlaları bir araya getirdim.\n",
    "df['Kardes Sayisi'] = df['Kardes Sayisi'].apply(lambda x: 6 if x >= 6 else x)\n",
    "values_and_nulls(df,\"Kardes Sayisi\")"
   ]
  },
  {
   "cell_type": "markdown",
   "id": "210970cb-10f3-4831-b7f3-ea1fc2372887",
   "metadata": {
    "jp-MarkdownHeadingCollapsed": true
   },
   "source": [
    "# Girisimcilik Kulupleri Tarzi Bir Kulube Uye misiniz? ✓"
   ]
  },
  {
   "cell_type": "code",
   "execution_count": 84,
   "id": "d7a98fe8-bd47-40af-9ae8-22e051410eac",
   "metadata": {},
   "outputs": [
    {
     "name": "stdout",
     "output_type": "stream",
     "text": [
      "Girisimcilik Kulupleri Tarzi Bir Kulube Uye misiniz?\n",
      "Hayır    33709\n",
      "Evet     29586\n",
      "Name: count, dtype: int64\n",
      "\n",
      "NaN:  1829\n"
     ]
    }
   ],
   "source": [
    "values_and_nulls(df,\"Girisimcilik Kulupleri Tarzi Bir Kulube Uye misiniz?\")"
   ]
  },
  {
   "cell_type": "code",
   "execution_count": 85,
   "id": "381e10e0-68ca-4105-ac90-ec7f48370ea9",
   "metadata": {},
   "outputs": [],
   "source": [
    "fill_missing_values(df,\"Girisimcilik Kulupleri Tarzi Bir Kulube Uye misiniz?\",\"Hayır\")"
   ]
  },
  {
   "cell_type": "markdown",
   "id": "1dfab5c4-b4fa-43be-8f06-c7dc73052acf",
   "metadata": {},
   "source": [
    "# Uye Oldugunuz Kulubun Ismi SONRA BAKICAM !!!!!!!!!!!!!!!!!!!!! "
   ]
  },
  {
   "cell_type": "markdown",
   "id": "842f03c2-47d1-462d-a1a4-37692afa9f14",
   "metadata": {
    "jp-MarkdownHeadingCollapsed": true
   },
   "source": [
    "# Profesyonel Bir Spor Daliyla Mesgul musunuz? ✓"
   ]
  },
  {
   "cell_type": "code",
   "execution_count": 86,
   "id": "4a6beeb1-66fb-4627-a4a0-3d266a00227a",
   "metadata": {},
   "outputs": [
    {
     "name": "stdout",
     "output_type": "stream",
     "text": [
      "Profesyonel Bir Spor Daliyla Mesgul musunuz?\n",
      "Hayır    42243\n",
      "Evet     21766\n",
      "Name: count, dtype: int64\n",
      "\n",
      "NaN:  1115\n"
     ]
    }
   ],
   "source": [
    "values_and_nulls(df,\"Profesyonel Bir Spor Daliyla Mesgul musunuz?\")"
   ]
  },
  {
   "cell_type": "code",
   "execution_count": 87,
   "id": "b36159bf-205e-43df-b858-7a55b5a23e13",
   "metadata": {},
   "outputs": [],
   "source": [
    "fill_missing_values(df,\"Profesyonel Bir Spor Daliyla Mesgul musunuz?\",\"Hayır\")"
   ]
  },
  {
   "cell_type": "markdown",
   "id": "fe5f4e2d-dd4b-48c8-b951-3212e64c3221",
   "metadata": {},
   "source": [
    "# Spor Dalindaki Rolunuz Nedir BİDAHA BAK !!!!!!!!!"
   ]
  },
  {
   "cell_type": "code",
   "execution_count": 88,
   "id": "b6df64ba-33e1-4496-98d1-56adaff00a85",
   "metadata": {},
   "outputs": [
    {
     "name": "stdout",
     "output_type": "stream",
     "text": [
      "Spor Dalindaki Rolunuz Nedir?\n",
      "0                 11315\n",
      "Diğer              8836\n",
      "-                  4173\n",
      "Lider/Kaptan       1994\n",
      "DİĞER              1945\n",
      "Bireysel           1697\n",
      "Takım Oyuncusu     1174\n",
      "Kaptan              873\n",
      "KAPTAN / LİDER      842\n",
      "Name: count, dtype: int64\n",
      "\n",
      "NaN:  32275\n"
     ]
    }
   ],
   "source": [
    "values_and_nulls(df,\"Spor Dalindaki Rolunuz Nedir?\")"
   ]
  },
  {
   "cell_type": "code",
   "execution_count": 89,
   "id": "472f13c0-3f3d-4ba3-bb86-8f8c42b3b659",
   "metadata": {},
   "outputs": [],
   "source": [
    "fill_missing_values(df,\"Spor Dalindaki Rolunuz Nedir?\",\"yok\")\n",
    "\n",
    "df['Spor Dalindaki Rolunuz Nedir?'] = df['Spor Dalindaki Rolunuz Nedir?'].apply(lambda x: \"diger\" if isinstance(x, float) else x)\n"
   ]
  },
  {
   "cell_type": "code",
   "execution_count": 90,
   "id": "7e4a8358-9eae-44db-9d05-2697bfcb3014",
   "metadata": {},
   "outputs": [],
   "source": [
    "sport_role = {\n",
    "                \"kaptan\" : [\"kaptan\",\"lider\"],\n",
    "                \"diger\" : [\"takim oyuncusu\",\"-\",\"0\",\"bireysel\"],\n",
    "                }\n",
    "\n",
    "sade(df,\"Spor Dalindaki Rolunuz Nedir?\",sport_role)"
   ]
  },
  {
   "cell_type": "code",
   "execution_count": 91,
   "id": "74ee927f-e4de-430c-9c93-faf1c9a08506",
   "metadata": {},
   "outputs": [
    {
     "name": "stdout",
     "output_type": "stream",
     "text": [
      "Spor Dalindaki Rolunuz Nedir?\n",
      "yok       32275\n",
      "diger     29140\n",
      "kaptan     3709\n",
      "Name: count, dtype: int64\n",
      "\n",
      "NaN:  0\n"
     ]
    }
   ],
   "source": [
    "values_and_nulls(df,\"Spor Dalindaki Rolunuz Nedir?\")"
   ]
  },
  {
   "cell_type": "markdown",
   "id": "e3c8a7b5-7661-40c5-a336-05e61a731905",
   "metadata": {
    "jp-MarkdownHeadingCollapsed": true
   },
   "source": [
    "# Aktif olarak bir STK üyesi misiniz? ✓"
   ]
  },
  {
   "cell_type": "code",
   "execution_count": 92,
   "id": "9ecbcc3f-fa62-4f20-a16a-761afdd39744",
   "metadata": {},
   "outputs": [
    {
     "name": "stdout",
     "output_type": "stream",
     "text": [
      "Aktif olarak bir STK üyesi misiniz?\n",
      "Hayır    37716\n",
      "Evet     14566\n",
      "Name: count, dtype: int64\n",
      "\n",
      "NaN:  12842\n"
     ]
    }
   ],
   "source": [
    "values_and_nulls(df,\"Aktif olarak bir STK üyesi misiniz?\")"
   ]
  },
  {
   "cell_type": "code",
   "execution_count": 93,
   "id": "1854c5db-aa14-41bd-8190-b3451add78de",
   "metadata": {},
   "outputs": [],
   "source": [
    "fill_missing_values(df,\"Aktif olarak bir STK üyesi misiniz?\",\"Hayır\")"
   ]
  },
  {
   "cell_type": "code",
   "execution_count": 94,
   "id": "0558f294-c00d-4899-809f-b89b4ed62506",
   "metadata": {},
   "outputs": [
    {
     "name": "stdout",
     "output_type": "stream",
     "text": [
      "Aktif olarak bir STK üyesi misiniz?\n",
      "Hayır    50558\n",
      "Evet     14566\n",
      "Name: count, dtype: int64\n",
      "\n",
      "NaN:  0\n"
     ]
    }
   ],
   "source": [
    "values_and_nulls(df,\"Aktif olarak bir STK üyesi misiniz?\")"
   ]
  },
  {
   "cell_type": "markdown",
   "id": "7b72bde8-a830-4fc7-9d37-9a9a755d7c7d",
   "metadata": {
    "jp-MarkdownHeadingCollapsed": true
   },
   "source": [
    "# Hangi STK'nin Uyesisiniz?"
   ]
  },
  {
   "cell_type": "markdown",
   "id": "a014c905-cd4b-4f8e-987e-ea052e8ef80e",
   "metadata": {
    "jp-MarkdownHeadingCollapsed": true
   },
   "source": [
    "# Stk Projesine Katildiniz Mi? ✓"
   ]
  },
  {
   "cell_type": "code",
   "execution_count": 95,
   "id": "acf7239a-90cd-4e2f-bc66-2c0b60942f39",
   "metadata": {},
   "outputs": [
    {
     "name": "stdout",
     "output_type": "stream",
     "text": [
      "Stk Projesine Katildiniz Mi?\n",
      "Hayır    19661\n",
      "Evet     17156\n",
      "Name: count, dtype: int64\n",
      "\n",
      "NaN:  28307\n"
     ]
    }
   ],
   "source": [
    "values_and_nulls(df,\"Stk Projesine Katildiniz Mi?\")"
   ]
  },
  {
   "cell_type": "code",
   "execution_count": 96,
   "id": "bd3cce76-1be7-44e6-8a9c-3b1cbeb09586",
   "metadata": {},
   "outputs": [],
   "source": [
    "fill_missing_values(df,\"Stk Projesine Katildiniz Mi?\",\"Hayır\")"
   ]
  },
  {
   "cell_type": "code",
   "execution_count": 97,
   "id": "02de7c2a-ba29-43cf-a8b8-3ac0d21967e1",
   "metadata": {},
   "outputs": [
    {
     "name": "stdout",
     "output_type": "stream",
     "text": [
      "Stk Projesine Katildiniz Mi?\n",
      "Hayır    47968\n",
      "Evet     17156\n",
      "Name: count, dtype: int64\n",
      "\n",
      "NaN:  0\n"
     ]
    }
   ],
   "source": [
    "values_and_nulls(df,\"Stk Projesine Katildiniz Mi?\")"
   ]
  },
  {
   "cell_type": "markdown",
   "id": "0dd3d4b4-c9c4-47ac-a8dd-199dc81cf317",
   "metadata": {
    "jp-MarkdownHeadingCollapsed": true
   },
   "source": [
    "# Girisimcilikle Ilgili Deneyiminiz Var Mi? ✓"
   ]
  },
  {
   "cell_type": "code",
   "execution_count": 98,
   "id": "ec7dca10-0e29-454a-852f-3f2235b8e769",
   "metadata": {},
   "outputs": [
    {
     "name": "stdout",
     "output_type": "stream",
     "text": [
      "Girisimcilikle Ilgili Deneyiminiz Var Mi?\n",
      "Hayır    33919\n",
      "Evet     18365\n",
      "Name: count, dtype: int64\n",
      "\n",
      "NaN:  12840\n"
     ]
    }
   ],
   "source": [
    "values_and_nulls(df,\"Girisimcilikle Ilgili Deneyiminiz Var Mi?\")"
   ]
  },
  {
   "cell_type": "code",
   "execution_count": 99,
   "id": "e8eebc0a-57ef-4254-8da6-daba6c97a9bd",
   "metadata": {},
   "outputs": [],
   "source": [
    "fill_missing_values(df,\"Girisimcilikle Ilgili Deneyiminiz Var Mi?\",\"Hayır\")"
   ]
  },
  {
   "cell_type": "code",
   "execution_count": 100,
   "id": "ff9c159d-9e4d-4336-88dc-3a23b0c4f160",
   "metadata": {},
   "outputs": [
    {
     "name": "stdout",
     "output_type": "stream",
     "text": [
      "Girisimcilikle Ilgili Deneyiminiz Var Mi?\n",
      "Hayır    46759\n",
      "Evet     18365\n",
      "Name: count, dtype: int64\n",
      "\n",
      "NaN:  0\n"
     ]
    }
   ],
   "source": [
    "values_and_nulls(df,\"Girisimcilikle Ilgili Deneyiminiz Var Mi?\")"
   ]
  },
  {
   "cell_type": "markdown",
   "id": "68fb93f2-02b0-4c61-bf21-84b352f55338",
   "metadata": {
    "jp-MarkdownHeadingCollapsed": true
   },
   "source": [
    "# Girisimcilikle Ilgili Deneyiminizi Aciklayabilir misiniz?"
   ]
  },
  {
   "cell_type": "markdown",
   "id": "f62e7985-fb97-4cb4-9d39-0118a46e1a02",
   "metadata": {
    "jp-MarkdownHeadingCollapsed": true
   },
   "source": [
    "# Ingilizce Biliyor musunuz? ✓"
   ]
  },
  {
   "cell_type": "code",
   "execution_count": 101,
   "id": "3cd4c7ba-b52a-4a59-8832-9e7fa1620702",
   "metadata": {},
   "outputs": [
    {
     "name": "stdout",
     "output_type": "stream",
     "text": [
      "Ingilizce Biliyor musunuz?\n",
      "Evet     48871\n",
      "Hayır     9799\n",
      "Name: count, dtype: int64\n",
      "\n",
      "NaN:  6454\n"
     ]
    }
   ],
   "source": [
    "values_and_nulls(df,\"Ingilizce Biliyor musunuz?\")"
   ]
  },
  {
   "cell_type": "code",
   "execution_count": 102,
   "id": "a932f8d2-f244-4fd7-a6e4-b81b2a46f057",
   "metadata": {},
   "outputs": [],
   "source": [
    "fill_missing_values(df,\"Ingilizce Biliyor musunuz?\",\"Hayır\")"
   ]
  },
  {
   "cell_type": "code",
   "execution_count": 103,
   "id": "0bfe40e1-5b3d-4aa6-be6d-e64bf50ef24b",
   "metadata": {},
   "outputs": [
    {
     "name": "stdout",
     "output_type": "stream",
     "text": [
      "Ingilizce Biliyor musunuz?\n",
      "Evet     48871\n",
      "Hayır    16253\n",
      "Name: count, dtype: int64\n",
      "\n",
      "NaN:  0\n"
     ]
    }
   ],
   "source": [
    "values_and_nulls(df,\"Ingilizce Biliyor musunuz?\")"
   ]
  },
  {
   "cell_type": "markdown",
   "id": "7d420384-bad9-4431-827f-f04cecf9f05a",
   "metadata": {
    "jp-MarkdownHeadingCollapsed": true
   },
   "source": [
    "# Ingilizce Seviyeniz? ✓"
   ]
  },
  {
   "cell_type": "code",
   "execution_count": 104,
   "id": "fdd84d74-2468-4f06-a4a2-a0588bef0c1f",
   "metadata": {},
   "outputs": [
    {
     "name": "stdout",
     "output_type": "stream",
     "text": [
      "Ingilizce Seviyeniz?\n",
      "Orta         13057\n",
      "İleri         8318\n",
      "Başlangıç     5180\n",
      "0             2037\n",
      "Name: count, dtype: int64\n",
      "\n",
      "NaN:  36532\n"
     ]
    }
   ],
   "source": [
    "values_and_nulls(df,\"Ingilizce Seviyeniz?\")"
   ]
  },
  {
   "cell_type": "code",
   "execution_count": 105,
   "id": "dc807136-5604-47cb-8c94-14a9aa8b19d1",
   "metadata": {},
   "outputs": [],
   "source": [
    "fill_missing_values(df,\"Ingilizce Seviyeniz?\",\"0\")"
   ]
  },
  {
   "cell_type": "code",
   "execution_count": 106,
   "id": "9d4cd0fb-ef3d-4ef4-9381-f9480718f972",
   "metadata": {},
   "outputs": [
    {
     "name": "stdout",
     "output_type": "stream",
     "text": [
      "Ingilizce Seviyeniz?\n",
      "0            38569\n",
      "Orta         13057\n",
      "İleri         8318\n",
      "Başlangıç     5180\n",
      "Name: count, dtype: int64\n",
      "\n",
      "NaN:  0\n"
     ]
    }
   ],
   "source": [
    "values_and_nulls(df,\"Ingilizce Seviyeniz?\")"
   ]
  },
  {
   "cell_type": "code",
   "execution_count": 107,
   "id": "d17b24d0-919e-4422-ba54-0587ab378a91",
   "metadata": {},
   "outputs": [
    {
     "name": "stdout",
     "output_type": "stream",
     "text": [
      "Daha Önceden Mezun Olunduysa, Mezun Olunan Üniversite\n",
      "Anadolu Üniversitesi             26\n",
      "ANADOLU ÜNİVERSİTESİ             19\n",
      "MARMARA ÜNİVERSİTESİ             11\n",
      "İSTANBUL ÜNİVERSİTESİ             8\n",
      "KOCAELİ ÜNİVERSİTESİ              7\n",
      "                                 ..\n",
      "Bitlis Eren Üniversitesi          1\n",
      "Bingöl Üniversitesi               1\n",
      "İstanbul Kültür Üniversitesi      1\n",
      "Orta Doğu Teknik Üniversitesi     1\n",
      "HASAN KALYONCU ÜNİVERSİTESİ       1\n",
      "Name: count, Length: 168, dtype: int64\n",
      "\n",
      "NaN:  64705\n"
     ]
    }
   ],
   "source": [
    "values_and_nulls(df,\"Daha Önceden Mezun Olunduysa, Mezun Olunan Üniversite\")"
   ]
  },
  {
   "cell_type": "markdown",
   "id": "e5b5628c-7a7e-4083-b1b0-9fa5bd1d94e4",
   "metadata": {},
   "source": [
    "# ŞİMDİLİK 0 LAR İLE DOLDURACAĞIM SÜTUNLAR"
   ]
  },
  {
   "cell_type": "code",
   "execution_count": 108,
   "id": "e268cdf8-c76a-4e62-ba65-1d806bb9638a",
   "metadata": {},
   "outputs": [
    {
     "name": "stdout",
     "output_type": "stream",
     "text": [
      "<class 'pandas.core.frame.DataFrame'>\n",
      "Index: 65124 entries, 0 to 65123\n",
      "Data columns (total 44 columns):\n",
      " #   Column                                                     Non-Null Count  Dtype         \n",
      "---  ------                                                     --------------  -----         \n",
      " 0   Basvuru Yili                                               65124 non-null  int64         \n",
      " 1   Degerlendirme Puani                                        65124 non-null  float64       \n",
      " 2   Cinsiyet                                                   65124 non-null  int32         \n",
      " 3   Dogum Tarihi                                               15195 non-null  datetime64[ns]\n",
      " 4   Dogum Yeri                                                 65124 non-null  object        \n",
      " 5   Ikametgah Sehri                                            65124 non-null  object        \n",
      " 6   Universite Adi                                             65124 non-null  object        \n",
      " 7   Universite Turu                                            65124 non-null  object        \n",
      " 8   Burslu ise Burs Yuzdesi                                    65124 non-null  category      \n",
      " 9   Burs Aliyor mu?                                            65124 non-null  object        \n",
      " 10  Bölüm                                                      65124 non-null  object        \n",
      " 11  Universite Kacinci Sinif                                   65124 non-null  int64         \n",
      " 12  Universite Not Ortalamasi                                  65124 non-null  object        \n",
      " 13  Daha Once Baska Bir Universiteden Mezun Olmus              65124 non-null  object        \n",
      " 14  Lise Adi                                                   65124 non-null  float64       \n",
      " 15  Lise Adi Diger                                             4733 non-null   object        \n",
      " 16  Lise Sehir                                                 65124 non-null  object        \n",
      " 17  Lise Turu                                                  65124 non-null  int64         \n",
      " 18  Lise Bolumu                                                65124 non-null  object        \n",
      " 19  Lise Bolum Diger                                           1526 non-null   object        \n",
      " 20  Lise Mezuniyet Notu                                        65124 non-null  object        \n",
      " 21  Baska Bir Kurumdan Burs Aliyor mu?                         65124 non-null  object        \n",
      " 22  Burs Aldigi Baska Kurum                                    65124 non-null  object        \n",
      " 23  Baska Kurumdan Aldigi Burs Miktari                         20962 non-null  object        \n",
      " 24  Anne Egitim Durumu                                         65124 non-null  int64         \n",
      " 25  Anne Calisma Durumu                                        65124 non-null  int64         \n",
      " 26  Anne Sektor                                                65124 non-null  int64         \n",
      " 27  Baba Egitim Durumu                                         65124 non-null  int64         \n",
      " 28  Baba Calisma Durumu                                        65124 non-null  int64         \n",
      " 29  Baba Sektor                                                65124 non-null  int64         \n",
      " 30  Kardes Sayisi                                              65124 non-null  int64         \n",
      " 31  Girisimcilik Kulupleri Tarzi Bir Kulube Uye misiniz?       65124 non-null  object        \n",
      " 32  Uye Oldugunuz Kulubun Ismi                                 16434 non-null  object        \n",
      " 33  Profesyonel Bir Spor Daliyla Mesgul musunuz?               65124 non-null  object        \n",
      " 34  Spor Dalindaki Rolunuz Nedir?                              65124 non-null  object        \n",
      " 35  Aktif olarak bir STK üyesi misiniz?                        65124 non-null  object        \n",
      " 36  Hangi STK'nin Uyesisiniz?                                  15606 non-null  object        \n",
      " 37  Stk Projesine Katildiniz Mi?                               65124 non-null  object        \n",
      " 38  Girisimcilikle Ilgili Deneyiminiz Var Mi?                  65124 non-null  object        \n",
      " 39  Girisimcilikle Ilgili Deneyiminizi Aciklayabilir misiniz?  14598 non-null  object        \n",
      " 40  Ingilizce Biliyor musunuz?                                 65124 non-null  object        \n",
      " 41  Ingilizce Seviyeniz?                                       65124 non-null  object        \n",
      " 42  Daha Önceden Mezun Olunduysa, Mezun Olunan Üniversite      419 non-null    object        \n",
      " 43  id                                                         65124 non-null  int64         \n",
      "dtypes: category(1), datetime64[ns](1), float64(2), int32(1), int64(11), object(28)\n",
      "memory usage: 21.7+ MB\n"
     ]
    }
   ],
   "source": [
    "df.info()"
   ]
  },
  {
   "cell_type": "code",
   "execution_count": 109,
   "id": "13d94712-1c3f-45fd-926a-f678140394b0",
   "metadata": {},
   "outputs": [],
   "source": [
    "# ŞİMDİLİK 0 LAR İLE DOLDURACAĞIM SÜTUNLAR\n",
    "\n",
    "# Daha Önceden Mezun Olunduysa, Mezun Olunan Üniversite\n",
    "# Uye Oldugunuz Kulubun Ismi\n",
    "# Lise Adi Diger\n",
    "# Hangi STK'nin Uyesisiniz?\n",
    "# Girisimcilikle Ilgili Deneyiminizi Aciklayabilir misiniz?\n",
    "# Lise Bolum Diger"
   ]
  },
  {
   "cell_type": "code",
   "execution_count": 110,
   "id": "52970ccc-a065-402c-9f3d-19e9ee335fd8",
   "metadata": {},
   "outputs": [],
   "source": [
    "zero_columns = [\n",
    "    'Lise Adi Diger',\n",
    "    'Lise Bolum Diger',\n",
    "    'Daha Once Baska Bir Universiteden Mezun Olmus',\n",
    "    'Uye Oldugunuz Kulubun Ismi',\n",
    "    'Hangi STK\\'nin Uyesisiniz?',\n",
    "    'Girisimcilikle Ilgili Deneyiminizi Aciklayabilir misiniz?',\n",
    "    'Daha Önceden Mezun Olunduysa, Mezun Olunan Üniversite',\n",
    "    'Baska Kurumdan Aldigi Burs Miktari'\n",
    "]\n",
    "\n",
    "df[zero_columns] = df[zero_columns].fillna(0)"
   ]
  },
  {
   "cell_type": "code",
   "execution_count": 111,
   "id": "5120416d-cd96-4839-849f-cd76b516d389",
   "metadata": {},
   "outputs": [
    {
     "data": {
      "text/plain": [
       "Basvuru Yili                                                     0\n",
       "Anne Egitim Durumu                                               0\n",
       "Anne Calisma Durumu                                              0\n",
       "Anne Sektor                                                      0\n",
       "Baba Egitim Durumu                                               0\n",
       "Baba Calisma Durumu                                              0\n",
       "Baba Sektor                                                      0\n",
       "Kardes Sayisi                                                    0\n",
       "Girisimcilik Kulupleri Tarzi Bir Kulube Uye misiniz?             0\n",
       "Baska Kurumdan Aldigi Burs Miktari                               0\n",
       "Uye Oldugunuz Kulubun Ismi                                       0\n",
       "Spor Dalindaki Rolunuz Nedir?                                    0\n",
       "Aktif olarak bir STK üyesi misiniz?                              0\n",
       "Hangi STK'nin Uyesisiniz?                                        0\n",
       "Stk Projesine Katildiniz Mi?                                     0\n",
       "Girisimcilikle Ilgili Deneyiminiz Var Mi?                        0\n",
       "Girisimcilikle Ilgili Deneyiminizi Aciklayabilir misiniz?        0\n",
       "Ingilizce Biliyor musunuz?                                       0\n",
       "Ingilizce Seviyeniz?                                             0\n",
       "Profesyonel Bir Spor Daliyla Mesgul musunuz?                     0\n",
       "Burs Aldigi Baska Kurum                                          0\n",
       "Baska Bir Kurumdan Burs Aliyor mu?                               0\n",
       "Lise Mezuniyet Notu                                              0\n",
       "Degerlendirme Puani                                              0\n",
       "Cinsiyet                                                         0\n",
       "Dogum Yeri                                                       0\n",
       "Ikametgah Sehri                                                  0\n",
       "Universite Adi                                                   0\n",
       "Universite Turu                                                  0\n",
       "Burslu ise Burs Yuzdesi                                          0\n",
       "Burs Aliyor mu?                                                  0\n",
       "Daha Önceden Mezun Olunduysa, Mezun Olunan Üniversite            0\n",
       "Bölüm                                                            0\n",
       "Universite Not Ortalamasi                                        0\n",
       "Daha Once Baska Bir Universiteden Mezun Olmus                    0\n",
       "Lise Adi                                                         0\n",
       "Lise Adi Diger                                                   0\n",
       "Lise Sehir                                                       0\n",
       "Lise Turu                                                        0\n",
       "Lise Bolumu                                                      0\n",
       "Lise Bolum Diger                                                 0\n",
       "Universite Kacinci Sinif                                         0\n",
       "id                                                               0\n",
       "Dogum Tarihi                                                 49929\n",
       "dtype: int64"
      ]
     },
     "execution_count": 111,
     "metadata": {},
     "output_type": "execute_result"
    }
   ],
   "source": [
    "df.isnull().sum().sort_values(ascending=True)"
   ]
  },
  {
   "cell_type": "code",
   "execution_count": 112,
   "id": "1edb61d3-dd86-4ac9-aa96-f4581fb6dd31",
   "metadata": {},
   "outputs": [
    {
     "data": {
      "text/plain": [
       "['Dogum Yeri',\n",
       " 'Ikametgah Sehri',\n",
       " 'Universite Adi',\n",
       " 'Universite Turu',\n",
       " 'Burslu ise Burs Yuzdesi',\n",
       " 'Burs Aliyor mu?',\n",
       " 'Bölüm',\n",
       " 'Universite Not Ortalamasi',\n",
       " 'Daha Once Baska Bir Universiteden Mezun Olmus',\n",
       " 'Lise Adi Diger',\n",
       " 'Lise Sehir',\n",
       " 'Lise Bolumu',\n",
       " 'Lise Bolum Diger',\n",
       " 'Lise Mezuniyet Notu',\n",
       " 'Baska Bir Kurumdan Burs Aliyor mu?',\n",
       " 'Burs Aldigi Baska Kurum',\n",
       " 'Baska Kurumdan Aldigi Burs Miktari',\n",
       " 'Girisimcilik Kulupleri Tarzi Bir Kulube Uye misiniz?',\n",
       " 'Uye Oldugunuz Kulubun Ismi',\n",
       " 'Profesyonel Bir Spor Daliyla Mesgul musunuz?',\n",
       " 'Spor Dalindaki Rolunuz Nedir?',\n",
       " 'Aktif olarak bir STK üyesi misiniz?',\n",
       " \"Hangi STK'nin Uyesisiniz?\",\n",
       " 'Stk Projesine Katildiniz Mi?',\n",
       " 'Girisimcilikle Ilgili Deneyiminiz Var Mi?',\n",
       " 'Girisimcilikle Ilgili Deneyiminizi Aciklayabilir misiniz?',\n",
       " 'Ingilizce Biliyor musunuz?',\n",
       " 'Ingilizce Seviyeniz?',\n",
       " 'Daha Önceden Mezun Olunduysa, Mezun Olunan Üniversite']"
      ]
     },
     "execution_count": 112,
     "metadata": {},
     "output_type": "execute_result"
    }
   ],
   "source": [
    "cat_cols = [col for col in df.columns if str(df[col].dtypes) in [\"category\", \"object\", \"bool\"]]\n",
    "cat_cols"
   ]
  },
  {
   "cell_type": "code",
   "execution_count": 113,
   "id": "cabed1f6-afb2-4f8f-a989-a46216d41224",
   "metadata": {},
   "outputs": [
    {
     "data": {
      "text/plain": [
       "['Dogum Yeri',\n",
       " 'Ikametgah Sehri',\n",
       " 'Universite Adi',\n",
       " 'Bölüm',\n",
       " 'Lise Adi Diger',\n",
       " 'Lise Sehir',\n",
       " 'Lise Bolum Diger',\n",
       " 'Baska Kurumdan Aldigi Burs Miktari',\n",
       " 'Uye Oldugunuz Kulubun Ismi',\n",
       " \"Hangi STK'nin Uyesisiniz?\",\n",
       " 'Girisimcilikle Ilgili Deneyiminizi Aciklayabilir misiniz?',\n",
       " 'Daha Önceden Mezun Olunduysa, Mezun Olunan Üniversite']"
      ]
     },
     "execution_count": 113,
     "metadata": {},
     "output_type": "execute_result"
    }
   ],
   "source": [
    "cat_but_car = [ col for col in df.columns if df[col].nunique() > 20 and str(df[col].dtypes) in [\"category\", \"object\"]]\n",
    "cat_but_car"
   ]
  },
  {
   "cell_type": "code",
   "execution_count": 114,
   "id": "224d68ee-465e-4b63-b7da-095d1d4ccf03",
   "metadata": {},
   "outputs": [
    {
     "data": {
      "text/plain": [
       "['Basvuru Yili',\n",
       " 'Lise Adi',\n",
       " 'Lise Turu',\n",
       " 'Anne Egitim Durumu',\n",
       " 'Anne Calisma Durumu',\n",
       " 'Anne Sektor',\n",
       " 'Baba Egitim Durumu',\n",
       " 'Baba Calisma Durumu',\n",
       " 'Baba Sektor',\n",
       " 'Kardes Sayisi']"
      ]
     },
     "execution_count": 114,
     "metadata": {},
     "output_type": "execute_result"
    }
   ],
   "source": [
    "num_but_cat = [col for col in df.columns if df[col].nunique() < 10 and df[col].dtypes in [\"int64\", \"float64\"]]\n",
    "num_but_cat"
   ]
  },
  {
   "cell_type": "code",
   "execution_count": 115,
   "id": "afa44e52-840e-4a89-8b0a-1fb718b0a164",
   "metadata": {},
   "outputs": [
    {
     "data": {
      "text/plain": [
       "['Universite Turu',\n",
       " 'Burslu ise Burs Yuzdesi',\n",
       " 'Burs Aliyor mu?',\n",
       " 'Universite Not Ortalamasi',\n",
       " 'Daha Once Baska Bir Universiteden Mezun Olmus',\n",
       " 'Lise Bolumu',\n",
       " 'Lise Mezuniyet Notu',\n",
       " 'Baska Bir Kurumdan Burs Aliyor mu?',\n",
       " 'Burs Aldigi Baska Kurum',\n",
       " 'Girisimcilik Kulupleri Tarzi Bir Kulube Uye misiniz?',\n",
       " 'Profesyonel Bir Spor Daliyla Mesgul musunuz?',\n",
       " 'Spor Dalindaki Rolunuz Nedir?',\n",
       " 'Aktif olarak bir STK üyesi misiniz?',\n",
       " 'Stk Projesine Katildiniz Mi?',\n",
       " 'Girisimcilikle Ilgili Deneyiminiz Var Mi?',\n",
       " 'Ingilizce Biliyor musunuz?',\n",
       " 'Ingilizce Seviyeniz?',\n",
       " 'Basvuru Yili',\n",
       " 'Lise Adi',\n",
       " 'Lise Turu',\n",
       " 'Anne Egitim Durumu',\n",
       " 'Anne Calisma Durumu',\n",
       " 'Anne Sektor',\n",
       " 'Baba Egitim Durumu',\n",
       " 'Baba Calisma Durumu',\n",
       " 'Baba Sektor',\n",
       " 'Kardes Sayisi']"
      ]
     },
     "execution_count": 115,
     "metadata": {},
     "output_type": "execute_result"
    }
   ],
   "source": [
    "cat_cols = cat_cols + num_but_cat\n",
    "\n",
    "# Kardinalitisi yüksek kategorik verileri listeden atma\n",
    "cat_cols = [col for col in cat_cols if col not in cat_but_car]\n",
    "cat_cols"
   ]
  },
  {
   "cell_type": "code",
   "execution_count": null,
   "id": "fdee4251-a06f-4d87-8ce5-ce9e1e111df1",
   "metadata": {},
   "outputs": [],
   "source": []
  }
 ],
 "metadata": {
  "kernelspec": {
   "display_name": "Python 3 (ipykernel)",
   "language": "python",
   "name": "python3"
  },
  "language_info": {
   "codemirror_mode": {
    "name": "ipython",
    "version": 3
   },
   "file_extension": ".py",
   "mimetype": "text/x-python",
   "name": "python",
   "nbconvert_exporter": "python",
   "pygments_lexer": "ipython3",
   "version": "3.12.3"
  }
 },
 "nbformat": 4,
 "nbformat_minor": 5
}
