{
 "cells": [
  {
   "cell_type": "code",
   "execution_count": 1,
   "id": "c7e69fdc-9ae8-4508-974d-5f33ec459eb0",
   "metadata": {},
   "outputs": [
    {
     "name": "stderr",
     "output_type": "stream",
     "text": [
      "C:\\Users\\fbdog\\anaconda3\\Lib\\site-packages\\dask\\dataframe\\_pyarrow_compat.py:23: UserWarning: You are using pyarrow version 13.0.0 which is known to be insecure. See https://www.cve.org/CVERecord?id=CVE-2023-47248 for further details. Please upgrade to pyarrow>=14.0.1 or install pyarrow-hotfix to patch your current version.\n",
      "  warnings.warn(\n"
     ]
    }
   ],
   "source": [
    "import numpy as np\n",
    "import pandas as pd\n",
    "import matplotlib.pyplot as plt\n",
    "import seaborn as sns\n",
    "import warnings\n",
    "from catboost import CatBoostRegressor\n",
    "from lightgbm import LGBMRegressor\n",
    "from sklearn.ensemble import RandomForestRegressor, GradientBoostingRegressor\n",
    "from sklearn.exceptions import ConvergenceWarning\n",
    "from sklearn.linear_model import LinearRegression, Ridge, Lasso, ElasticNet\n",
    "from sklearn.neighbors import KNeighborsRegressor\n",
    "from sklearn.svm import SVR\n",
    "from sklearn.tree import DecisionTreeRegressor\n",
    "from xgboost import XGBRegressor\n",
    "from sklearn.preprocessing import LabelEncoder\n",
    "from sklearn.metrics import mean_squared_error\n",
    "from sklearn.linear_model import LinearRegression\n",
    "from sklearn.model_selection import train_test_split, cross_val_score,GridSearchCV\n",
    "\n",
    "\n",
    "\n",
    "warnings.simplefilter(action='ignore', category=FutureWarning)\n",
    "warnings.simplefilter(\"ignore\", category=ConvergenceWarning)"
   ]
  },
  {
   "cell_type": "code",
   "execution_count": 2,
   "id": "39229c2d-b358-48ce-addd-f01e7887dee7",
   "metadata": {},
   "outputs": [],
   "source": [
    "pd.set_option('display.max_columns', None)\n",
    "#pd.set_option('display.max_rows', None)\n",
    "pd.set_option('display.width', None)\n",
    "pd.set_option('display.float_format', lambda x: '%.3f' % x)"
   ]
  },
  {
   "cell_type": "code",
   "execution_count": 3,
   "id": "2bf6f56a-d14d-43c2-a048-0f61950db211",
   "metadata": {},
   "outputs": [
    {
     "name": "stderr",
     "output_type": "stream",
     "text": [
      "C:\\Users\\fbdog\\AppData\\Local\\Temp\\ipykernel_5008\\876135544.py:1: DtypeWarning: Columns (13,15,19,30,32,37,41,42) have mixed types. Specify dtype option on import or set low_memory=False.\n",
      "  train = pd.read_csv(\"train.csv\")\n"
     ]
    },
    {
     "data": {
      "text/html": [
       "<div>\n",
       "<style scoped>\n",
       "    .dataframe tbody tr th:only-of-type {\n",
       "        vertical-align: middle;\n",
       "    }\n",
       "\n",
       "    .dataframe tbody tr th {\n",
       "        vertical-align: top;\n",
       "    }\n",
       "\n",
       "    .dataframe thead th {\n",
       "        text-align: right;\n",
       "    }\n",
       "</style>\n",
       "<table border=\"1\" class=\"dataframe\">\n",
       "  <thead>\n",
       "    <tr style=\"text-align: right;\">\n",
       "      <th></th>\n",
       "      <th>Basvuru Yili</th>\n",
       "      <th>Degerlendirme Puani</th>\n",
       "      <th>Cinsiyet</th>\n",
       "      <th>Dogum Tarihi</th>\n",
       "      <th>Dogum Yeri</th>\n",
       "      <th>Ikametgah Sehri</th>\n",
       "      <th>Universite Adi</th>\n",
       "      <th>Universite Turu</th>\n",
       "      <th>Burslu ise Burs Yuzdesi</th>\n",
       "      <th>Burs Aliyor mu?</th>\n",
       "      <th>Bölüm</th>\n",
       "      <th>Universite Kacinci Sinif</th>\n",
       "      <th>Universite Not Ortalamasi</th>\n",
       "      <th>Daha Once Baska Bir Universiteden Mezun Olmus</th>\n",
       "      <th>Lise Adi</th>\n",
       "      <th>Lise Adi Diger</th>\n",
       "      <th>Lise Sehir</th>\n",
       "      <th>Lise Turu</th>\n",
       "      <th>Lise Bolumu</th>\n",
       "      <th>Lise Bolum Diger</th>\n",
       "      <th>Lise Mezuniyet Notu</th>\n",
       "      <th>Baska Bir Kurumdan Burs Aliyor mu?</th>\n",
       "      <th>Burs Aldigi Baska Kurum</th>\n",
       "      <th>Baska Kurumdan Aldigi Burs Miktari</th>\n",
       "      <th>Anne Egitim Durumu</th>\n",
       "      <th>Anne Calisma Durumu</th>\n",
       "      <th>Anne Sektor</th>\n",
       "      <th>Baba Egitim Durumu</th>\n",
       "      <th>Baba Calisma Durumu</th>\n",
       "      <th>Baba Sektor</th>\n",
       "      <th>Kardes Sayisi</th>\n",
       "      <th>Girisimcilik Kulupleri Tarzi Bir Kulube Uye misiniz?</th>\n",
       "      <th>Uye Oldugunuz Kulubun Ismi</th>\n",
       "      <th>Profesyonel Bir Spor Daliyla Mesgul musunuz?</th>\n",
       "      <th>Spor Dalindaki Rolunuz Nedir?</th>\n",
       "      <th>Aktif olarak bir STK üyesi misiniz?</th>\n",
       "      <th>Hangi STK'nin Uyesisiniz?</th>\n",
       "      <th>Stk Projesine Katildiniz Mi?</th>\n",
       "      <th>Girisimcilikle Ilgili Deneyiminiz Var Mi?</th>\n",
       "      <th>Girisimcilikle Ilgili Deneyiminizi Aciklayabilir misiniz?</th>\n",
       "      <th>Ingilizce Biliyor musunuz?</th>\n",
       "      <th>Ingilizce Seviyeniz?</th>\n",
       "      <th>Daha Önceden Mezun Olunduysa, Mezun Olunan Üniversite</th>\n",
       "      <th>id</th>\n",
       "    </tr>\n",
       "  </thead>\n",
       "  <tbody>\n",
       "    <tr>\n",
       "      <th>0</th>\n",
       "      <td>2014</td>\n",
       "      <td>52.000</td>\n",
       "      <td>Erkek</td>\n",
       "      <td>4/6/1994</td>\n",
       "      <td>Altindag, Ankara</td>\n",
       "      <td>Ankara</td>\n",
       "      <td>İHSAN DOĞRAMACI BİLKENT</td>\n",
       "      <td>Özel</td>\n",
       "      <td>100.000</td>\n",
       "      <td>Evet</td>\n",
       "      <td>Bilgisayar Muhendisligi</td>\n",
       "      <td>3</td>\n",
       "      <td>3.50-3</td>\n",
       "      <td>Hayır</td>\n",
       "      <td>Ankara Ataturk Anadolu Lisesi</td>\n",
       "      <td>NaN</td>\n",
       "      <td>Ankara</td>\n",
       "      <td>Anadolu lisesi</td>\n",
       "      <td>MF</td>\n",
       "      <td>NaN</td>\n",
       "      <td>3.50-3</td>\n",
       "      <td>Hayır</td>\n",
       "      <td>NaN</td>\n",
       "      <td>NaN</td>\n",
       "      <td>Üniversite</td>\n",
       "      <td>Hayır</td>\n",
       "      <td>0</td>\n",
       "      <td>Üniversite</td>\n",
       "      <td>Emekli</td>\n",
       "      <td>0</td>\n",
       "      <td>1</td>\n",
       "      <td>Evet</td>\n",
       "      <td>Bilkent IEEE Bilgisayar Toplulugu 2013-2014 Ba...</td>\n",
       "      <td>Evet</td>\n",
       "      <td>Diğer</td>\n",
       "      <td>Hayır</td>\n",
       "      <td>NaN</td>\n",
       "      <td>Evet</td>\n",
       "      <td>Hayır</td>\n",
       "      <td>NaN</td>\n",
       "      <td>NaN</td>\n",
       "      <td>NaN</td>\n",
       "      <td>NaN</td>\n",
       "      <td>0</td>\n",
       "    </tr>\n",
       "    <tr>\n",
       "      <th>1</th>\n",
       "      <td>2014</td>\n",
       "      <td>30.000</td>\n",
       "      <td>Erkek</td>\n",
       "      <td>6/11/1993</td>\n",
       "      <td>Üsküdar</td>\n",
       "      <td>İstanbul</td>\n",
       "      <td>İHSAN DOĞRAMACI BİLKENT</td>\n",
       "      <td>Özel</td>\n",
       "      <td>100.000</td>\n",
       "      <td>Hayır</td>\n",
       "      <td>Elektrik Elektronik Mühendisliği</td>\n",
       "      <td>3</td>\n",
       "      <td>3.00-2.50</td>\n",
       "      <td>Hayır</td>\n",
       "      <td>Betül Can Anadolu Lisesi</td>\n",
       "      <td>NaN</td>\n",
       "      <td>Ankara</td>\n",
       "      <td>Anadolu lisesi</td>\n",
       "      <td>MF</td>\n",
       "      <td>NaN</td>\n",
       "      <td>3.00 - 4.00</td>\n",
       "      <td>Hayır</td>\n",
       "      <td>NaN</td>\n",
       "      <td>NaN</td>\n",
       "      <td>Üniversite</td>\n",
       "      <td>Evet</td>\n",
       "      <td>Kamu</td>\n",
       "      <td>Yüksek Lisans / Doktora</td>\n",
       "      <td>Emekli</td>\n",
       "      <td>0</td>\n",
       "      <td>1</td>\n",
       "      <td>Hayır</td>\n",
       "      <td>NaN</td>\n",
       "      <td>Hayır</td>\n",
       "      <td>0</td>\n",
       "      <td>Hayır</td>\n",
       "      <td>NaN</td>\n",
       "      <td>Evet</td>\n",
       "      <td>Evet</td>\n",
       "      <td>Bilkent Cyberparkta bir şirkette Türkiye nin i...</td>\n",
       "      <td>NaN</td>\n",
       "      <td>NaN</td>\n",
       "      <td>NaN</td>\n",
       "      <td>1</td>\n",
       "    </tr>\n",
       "    <tr>\n",
       "      <th>2</th>\n",
       "      <td>2014</td>\n",
       "      <td>18.000</td>\n",
       "      <td>Erkek</td>\n",
       "      <td>1/15/1986</td>\n",
       "      <td>Samsun</td>\n",
       "      <td>İstanbul</td>\n",
       "      <td>ULUSLARARASI KIBRIS ÜNİVERSİTESİ</td>\n",
       "      <td>Özel</td>\n",
       "      <td>100.000</td>\n",
       "      <td>Hayır</td>\n",
       "      <td>Finans Yönetimi ve Pazarlama</td>\n",
       "      <td>1</td>\n",
       "      <td>NaN</td>\n",
       "      <td>Hayır</td>\n",
       "      <td>Batem</td>\n",
       "      <td>NaN</td>\n",
       "      <td>Ankara</td>\n",
       "      <td>Meslek lisesi</td>\n",
       "      <td>Elektirk</td>\n",
       "      <td>NaN</td>\n",
       "      <td>3.50-3</td>\n",
       "      <td>Hayır</td>\n",
       "      <td>NaN</td>\n",
       "      <td>NaN</td>\n",
       "      <td>İlkokul Mezunu</td>\n",
       "      <td>Hayır</td>\n",
       "      <td>0</td>\n",
       "      <td>İlkokul Mezunu</td>\n",
       "      <td>Evet</td>\n",
       "      <td>Özel Sektör</td>\n",
       "      <td>6</td>\n",
       "      <td>Evet</td>\n",
       "      <td>Tema</td>\n",
       "      <td>Hayır</td>\n",
       "      <td>0</td>\n",
       "      <td>Hayır</td>\n",
       "      <td>NaN</td>\n",
       "      <td>Hayır</td>\n",
       "      <td>Hayır</td>\n",
       "      <td>NaN</td>\n",
       "      <td>NaN</td>\n",
       "      <td>NaN</td>\n",
       "      <td>NaN</td>\n",
       "      <td>2</td>\n",
       "    </tr>\n",
       "    <tr>\n",
       "      <th>3</th>\n",
       "      <td>2014</td>\n",
       "      <td>40.000</td>\n",
       "      <td>Erkek</td>\n",
       "      <td>6/4/1991</td>\n",
       "      <td>Diyarbakır</td>\n",
       "      <td>İstanbul</td>\n",
       "      <td>İSTANBUL ŞEHİR ÜNİVERSİTESİ</td>\n",
       "      <td>Özel</td>\n",
       "      <td>100.000</td>\n",
       "      <td>Evet</td>\n",
       "      <td>Bilgisayar Mühendisliği</td>\n",
       "      <td>3</td>\n",
       "      <td>3.00-2.50</td>\n",
       "      <td>Hayır</td>\n",
       "      <td>Cumhuriyet Fen Lisesi</td>\n",
       "      <td>NaN</td>\n",
       "      <td>Diyarbakır</td>\n",
       "      <td>Fen lisesi</td>\n",
       "      <td>Sayısal</td>\n",
       "      <td>NaN</td>\n",
       "      <td>3.50-3</td>\n",
       "      <td>Hayır</td>\n",
       "      <td>NaN</td>\n",
       "      <td>NaN</td>\n",
       "      <td>İlkokul Mezunu</td>\n",
       "      <td>Hayır</td>\n",
       "      <td>0</td>\n",
       "      <td>Üniversite</td>\n",
       "      <td>Emekli</td>\n",
       "      <td>0</td>\n",
       "      <td>10</td>\n",
       "      <td>Evet</td>\n",
       "      <td>Güzel Konuşma ve yazma kulübü</td>\n",
       "      <td>Hayır</td>\n",
       "      <td>0</td>\n",
       "      <td>Hayır</td>\n",
       "      <td>NaN</td>\n",
       "      <td>Evet</td>\n",
       "      <td>Hayır</td>\n",
       "      <td>NaN</td>\n",
       "      <td>NaN</td>\n",
       "      <td>NaN</td>\n",
       "      <td>NaN</td>\n",
       "      <td>3</td>\n",
       "    </tr>\n",
       "    <tr>\n",
       "      <th>4</th>\n",
       "      <td>2014</td>\n",
       "      <td>24.000</td>\n",
       "      <td>Erkek</td>\n",
       "      <td>2 Kasim 1992</td>\n",
       "      <td>Ankara/Altındağ</td>\n",
       "      <td>Ankara</td>\n",
       "      <td>TURGUT ÖZAL ÜNİVERSİTESİ</td>\n",
       "      <td>Özel</td>\n",
       "      <td>100.000</td>\n",
       "      <td>Evet</td>\n",
       "      <td>Siyaset Bilimi ve Uluslararası ilişkiler</td>\n",
       "      <td>NaN</td>\n",
       "      <td>3.00-2.50</td>\n",
       "      <td>Hayır</td>\n",
       "      <td>Samanyolu Lisesi</td>\n",
       "      <td>NaN</td>\n",
       "      <td>Ankara</td>\n",
       "      <td>Özel lisesi</td>\n",
       "      <td>TM</td>\n",
       "      <td>NaN</td>\n",
       "      <td>3.00 - 4.00</td>\n",
       "      <td>Hayır</td>\n",
       "      <td>NaN</td>\n",
       "      <td>NaN</td>\n",
       "      <td>İlkokul Mezunu</td>\n",
       "      <td>Hayır</td>\n",
       "      <td>0</td>\n",
       "      <td>Üniversite</td>\n",
       "      <td>Emekli</td>\n",
       "      <td>0</td>\n",
       "      <td>1</td>\n",
       "      <td>Hayır</td>\n",
       "      <td>NaN</td>\n",
       "      <td>Hayır</td>\n",
       "      <td>0</td>\n",
       "      <td>Hayır</td>\n",
       "      <td>NaN</td>\n",
       "      <td>Hayır</td>\n",
       "      <td>Hayır</td>\n",
       "      <td>NaN</td>\n",
       "      <td>NaN</td>\n",
       "      <td>NaN</td>\n",
       "      <td>NaN</td>\n",
       "      <td>4</td>\n",
       "    </tr>\n",
       "  </tbody>\n",
       "</table>\n",
       "</div>"
      ],
      "text/plain": [
       "   Basvuru Yili  Degerlendirme Puani Cinsiyet  Dogum Tarihi        Dogum Yeri  \\\n",
       "0          2014               52.000    Erkek      4/6/1994  Altindag, Ankara   \n",
       "1          2014               30.000    Erkek     6/11/1993           Üsküdar   \n",
       "2          2014               18.000    Erkek     1/15/1986            Samsun   \n",
       "3          2014               40.000    Erkek      6/4/1991        Diyarbakır   \n",
       "4          2014               24.000    Erkek  2 Kasim 1992   Ankara/Altındağ   \n",
       "\n",
       "  Ikametgah Sehri                    Universite Adi Universite Turu  \\\n",
       "0          Ankara           İHSAN DOĞRAMACI BİLKENT            Özel   \n",
       "1        İstanbul           İHSAN DOĞRAMACI BİLKENT            Özel   \n",
       "2        İstanbul  ULUSLARARASI KIBRIS ÜNİVERSİTESİ            Özel   \n",
       "3        İstanbul       İSTANBUL ŞEHİR ÜNİVERSİTESİ            Özel   \n",
       "4          Ankara          TURGUT ÖZAL ÜNİVERSİTESİ            Özel   \n",
       "\n",
       "   Burslu ise Burs Yuzdesi Burs Aliyor mu?  \\\n",
       "0                  100.000            Evet   \n",
       "1                  100.000           Hayır   \n",
       "2                  100.000           Hayır   \n",
       "3                  100.000            Evet   \n",
       "4                  100.000            Evet   \n",
       "\n",
       "                                      Bölüm Universite Kacinci Sinif  \\\n",
       "0                   Bilgisayar Muhendisligi                        3   \n",
       "1          Elektrik Elektronik Mühendisliği                        3   \n",
       "2              Finans Yönetimi ve Pazarlama                        1   \n",
       "3                   Bilgisayar Mühendisliği                        3   \n",
       "4  Siyaset Bilimi ve Uluslararası ilişkiler                      NaN   \n",
       "\n",
       "  Universite Not Ortalamasi Daha Once Baska Bir Universiteden Mezun Olmus  \\\n",
       "0                    3.50-3                                         Hayır   \n",
       "1                 3.00-2.50                                         Hayır   \n",
       "2                       NaN                                         Hayır   \n",
       "3                 3.00-2.50                                         Hayır   \n",
       "4                 3.00-2.50                                         Hayır   \n",
       "\n",
       "                        Lise Adi Lise Adi Diger  Lise Sehir       Lise Turu  \\\n",
       "0  Ankara Ataturk Anadolu Lisesi            NaN      Ankara  Anadolu lisesi   \n",
       "1       Betül Can Anadolu Lisesi            NaN      Ankara  Anadolu lisesi   \n",
       "2                          Batem            NaN      Ankara   Meslek lisesi   \n",
       "3          Cumhuriyet Fen Lisesi            NaN  Diyarbakır      Fen lisesi   \n",
       "4               Samanyolu Lisesi            NaN      Ankara     Özel lisesi   \n",
       "\n",
       "  Lise Bolumu Lise Bolum Diger Lise Mezuniyet Notu  \\\n",
       "0          MF              NaN              3.50-3   \n",
       "1          MF              NaN         3.00 - 4.00   \n",
       "2    Elektirk              NaN              3.50-3   \n",
       "3     Sayısal              NaN              3.50-3   \n",
       "4          TM              NaN         3.00 - 4.00   \n",
       "\n",
       "  Baska Bir Kurumdan Burs Aliyor mu? Burs Aldigi Baska Kurum  \\\n",
       "0                              Hayır                     NaN   \n",
       "1                              Hayır                     NaN   \n",
       "2                              Hayır                     NaN   \n",
       "3                              Hayır                     NaN   \n",
       "4                              Hayır                     NaN   \n",
       "\n",
       "  Baska Kurumdan Aldigi Burs Miktari Anne Egitim Durumu Anne Calisma Durumu  \\\n",
       "0                                NaN         Üniversite               Hayır   \n",
       "1                                NaN         Üniversite                Evet   \n",
       "2                                NaN     İlkokul Mezunu               Hayır   \n",
       "3                                NaN     İlkokul Mezunu               Hayır   \n",
       "4                                NaN     İlkokul Mezunu               Hayır   \n",
       "\n",
       "  Anne Sektor       Baba Egitim Durumu Baba Calisma Durumu  Baba Sektor  \\\n",
       "0           0               Üniversite              Emekli            0   \n",
       "1        Kamu  Yüksek Lisans / Doktora              Emekli            0   \n",
       "2           0           İlkokul Mezunu                Evet  Özel Sektör   \n",
       "3           0               Üniversite              Emekli            0   \n",
       "4           0               Üniversite              Emekli            0   \n",
       "\n",
       "  Kardes Sayisi Girisimcilik Kulupleri Tarzi Bir Kulube Uye misiniz?  \\\n",
       "0             1                                               Evet     \n",
       "1             1                                              Hayır     \n",
       "2             6                                               Evet     \n",
       "3            10                                               Evet     \n",
       "4             1                                              Hayır     \n",
       "\n",
       "                          Uye Oldugunuz Kulubun Ismi  \\\n",
       "0  Bilkent IEEE Bilgisayar Toplulugu 2013-2014 Ba...   \n",
       "1                                                NaN   \n",
       "2                                               Tema   \n",
       "3                      Güzel Konuşma ve yazma kulübü   \n",
       "4                                                NaN   \n",
       "\n",
       "  Profesyonel Bir Spor Daliyla Mesgul musunuz? Spor Dalindaki Rolunuz Nedir?  \\\n",
       "0                                         Evet                         Diğer   \n",
       "1                                        Hayır                             0   \n",
       "2                                        Hayır                             0   \n",
       "3                                        Hayır                             0   \n",
       "4                                        Hayır                             0   \n",
       "\n",
       "  Aktif olarak bir STK üyesi misiniz? Hangi STK'nin Uyesisiniz?  \\\n",
       "0                               Hayır                       NaN   \n",
       "1                               Hayır                       NaN   \n",
       "2                               Hayır                       NaN   \n",
       "3                               Hayır                       NaN   \n",
       "4                               Hayır                       NaN   \n",
       "\n",
       "  Stk Projesine Katildiniz Mi? Girisimcilikle Ilgili Deneyiminiz Var Mi?  \\\n",
       "0                         Evet                                     Hayır   \n",
       "1                         Evet                                      Evet   \n",
       "2                        Hayır                                     Hayır   \n",
       "3                         Evet                                     Hayır   \n",
       "4                        Hayır                                     Hayır   \n",
       "\n",
       "  Girisimcilikle Ilgili Deneyiminizi Aciklayabilir misiniz?  \\\n",
       "0                                                NaN          \n",
       "1  Bilkent Cyberparkta bir şirkette Türkiye nin i...          \n",
       "2                                                NaN          \n",
       "3                                                NaN          \n",
       "4                                                NaN          \n",
       "\n",
       "  Ingilizce Biliyor musunuz? Ingilizce Seviyeniz?  \\\n",
       "0                        NaN                  NaN   \n",
       "1                        NaN                  NaN   \n",
       "2                        NaN                  NaN   \n",
       "3                        NaN                  NaN   \n",
       "4                        NaN                  NaN   \n",
       "\n",
       "  Daha Önceden Mezun Olunduysa, Mezun Olunan Üniversite  id  \n",
       "0                                                NaN      0  \n",
       "1                                                NaN      1  \n",
       "2                                                NaN      2  \n",
       "3                                                NaN      3  \n",
       "4                                                NaN      4  "
      ]
     },
     "execution_count": 3,
     "metadata": {},
     "output_type": "execute_result"
    }
   ],
   "source": [
    "train = pd.read_csv(\"train.csv\")\n",
    "test = pd.read_csv(\"test_x.csv\")\n",
    "\n",
    "df = pd.concat([train, test], ignore_index=False).reset_index(drop=True)\n",
    "df.head()"
   ]
  },
  {
   "cell_type": "markdown",
   "id": "2ac5b8d3-4803-4cae-99fa-3d027eb075ee",
   "metadata": {},
   "source": [
    "## Kendi Yardımcı Kodlarım"
   ]
  },
  {
   "cell_type": "code",
   "execution_count": 4,
   "id": "d979f2bb-5594-45b9-8ce4-954ff0a46d21",
   "metadata": {},
   "outputs": [],
   "source": [
    "def how_many_types(dataframe, col_name):\n",
    "    \n",
    "    diff_types = set(dataframe[col_name].apply(type))\n",
    "    num_of_diff_types =len(diff_types)\n",
    "    print(f\"Sütunda {num_of_diff_types} farklı veri tipi var: {diff_types} \")\n",
    "\n",
    "# Bütün harfleri küçük yapma\n",
    "def all_letters_lowered(dataframe, col_name):\n",
    "    \"\"\"\n",
    "    Belirtilen bir sütundaki tüm string değerleri küçük harfe çevirir.\n",
    "    \n",
    "    Parametreler:\n",
    "    dataframe (pd.DataFrame): İşlem yapılacak DataFrame.\n",
    "    col_name (str): Tüm string değerlerinin küçük harfe çevrileceği sütunun adı.\n",
    "    \n",
    "    İşlev:\n",
    "    - Verilen sütundaki tüm string ifadeler `.str.lower()` ile küçük harfe dönüştürülür.\n",
    "    \n",
    "    Not:\n",
    "    - Bu fonksiyon doğrudan orijinal DataFrame üzerinde değişiklik yapar (`inplace=True` gibi davranır).\n",
    "    \n",
    "    Örnek kullanım:\n",
    "    all_letters_lowered(df, 'column_name')\n",
    "    \"\"\"\n",
    "    dataframe[col_name] = dataframe[col_name].str.lower()\n",
    "\n",
    "\n",
    "# Eşsiz değerleri ve NaN değerleri görme\n",
    "def values_and_nulls(dataframe, col_name):\n",
    "    \"\"\"\n",
    "    Belirtilen bir sütundaki eşsiz değerleri ve NaN değerlerinin sayısını gösterir.\n",
    "    \n",
    "    Parametreler:\n",
    "    dataframe (pd.DataFrame): İşlem yapılacak DataFrame.\n",
    "    col_name (str): Eşsiz değerlerin ve NaN değerlerinin sayısının hesaplanacağı sütun adı.\n",
    "    \n",
    "    İşlev:\n",
    "    1. Sütundaki eşsiz değerleri ve bu değerlerin kaç kere tekrar ettiğini gösterir.\n",
    "    2. Sütundaki NaN (eksik) değerlerin sayısını gösterir.\n",
    "    \n",
    "    Çıktı:\n",
    "    - Sütundaki eşsiz değerlerin sıklığı.\n",
    "    - NaN değerlerin sayısı.\n",
    "    \"\"\"\n",
    "    print(dataframe[col_name].value_counts(), end=\"\\n\\n\")\n",
    "    print(\"NaN: \", dataframe[col_name].isnull().sum())\n",
    "\n",
    "# NaN değerleri doldurma\n",
    "def fill_missing_values(dataframe, col_name, value):\n",
    "    \"\"\"\n",
    "    DataFrame'deki belirli bir sütundaki eksik (NaN) değerleri verilen değer ile doldurur.\n",
    "    \n",
    "    Parametreler:\n",
    "    df (pd.DataFrame): İşlem yapılacak DataFrame.\n",
    "    column (str): Eksik değerlerin doldurulacağı sütunun adı.\n",
    "    value: Eksik değerlerin yerine yazılacak değer.\n",
    "    \"\"\"\n",
    "    dataframe[col_name] = dataframe[col_name].fillna(value)\n",
    "\n"
   ]
  },
  {
   "cell_type": "markdown",
   "id": "52226f9e-7e7a-467f-b27c-07c3fd109609",
   "metadata": {},
   "source": [
    "# Temizlik"
   ]
  },
  {
   "cell_type": "markdown",
   "id": "55677ab9-7e73-4f23-9d98-f00ec5eae919",
   "metadata": {},
   "source": [
    "## Cinsiyet"
   ]
  },
  {
   "cell_type": "code",
   "execution_count": 5,
   "id": "01a98338-e99d-4eb5-9b36-3840dd5a345b",
   "metadata": {},
   "outputs": [
    {
     "name": "stdout",
     "output_type": "stream",
     "text": [
      "Cinsiyet\n",
      "Kadın                    38455\n",
      "Erkek                    27406\n",
      "ERKEK                    10012\n",
      "Belirtmek istemiyorum      132\n",
      "Name: count, dtype: int64\n",
      "\n",
      "NaN:  169\n"
     ]
    }
   ],
   "source": [
    "values_and_nulls(df, \"Cinsiyet\")"
   ]
  },
  {
   "cell_type": "code",
   "execution_count": 6,
   "id": "2ff5f7bf-41c0-4ae8-9414-9d1c31cf6a4f",
   "metadata": {},
   "outputs": [
    {
     "name": "stdout",
     "output_type": "stream",
     "text": [
      "Cinsiyet\n",
      "kadın                    38455\n",
      "erkek                    37418\n",
      "belirtmek istemiyorum      301\n",
      "Name: count, dtype: int64\n",
      "\n",
      "NaN:  0\n"
     ]
    }
   ],
   "source": [
    "all_letters_lowered(df,\"Cinsiyet\")\n",
    "fill_missing_values(df, \"Cinsiyet\", \"belirtmek istemiyorum\")\n",
    "values_and_nulls(df, \"Cinsiyet\")"
   ]
  },
  {
   "cell_type": "code",
   "execution_count": 7,
   "id": "cc533591-4366-4c54-8aa2-d9dd9d318d1c",
   "metadata": {},
   "outputs": [],
   "source": [
    "df['Cinsiyet'] = df['Cinsiyet'].map({'kadın': \"kadın\", 'erkek': \"erkek\", 'belirtmek istemiyorum':\"erkek\"})"
   ]
  },
  {
   "cell_type": "code",
   "execution_count": 8,
   "id": "5e184258-ae35-46a9-82b5-10212da2196f",
   "metadata": {},
   "outputs": [
    {
     "name": "stdout",
     "output_type": "stream",
     "text": [
      "Cinsiyet\n",
      "kadın    38455\n",
      "erkek    37719\n",
      "Name: count, dtype: int64\n",
      "\n",
      "NaN:  0\n"
     ]
    }
   ],
   "source": [
    "values_and_nulls(df, \"Cinsiyet\")"
   ]
  },
  {
   "cell_type": "markdown",
   "id": "7740dce1-4191-43dc-a78a-13cce108850d",
   "metadata": {
    "jp-MarkdownHeadingCollapsed": true
   },
   "source": [
    "## Dogum Yeri Ikametgah Sehri Lise Sehri"
   ]
  },
  {
   "cell_type": "code",
   "execution_count": 9,
   "id": "9edf6cd6-08ef-47fb-b92b-f52a2e9e44f7",
   "metadata": {},
   "outputs": [
    {
     "name": "stdout",
     "output_type": "stream",
     "text": [
      "Dogum Yeri\n",
      "İstanbul             10496\n",
      "Ankara                4648\n",
      "İzmir                 2522\n",
      "Adana                 2151\n",
      "Bursa                 2124\n",
      "                     ...  \n",
      "körfez/kocaeli           1\n",
      "GEDIZ                    1\n",
      "İstanbul Bakırköy        1\n",
      "İstanbul-Şişli           1\n",
      "İstanbul/kadıköy         1\n",
      "Name: count, Length: 2232, dtype: int64\n",
      "\n",
      "NaN:  791\n"
     ]
    }
   ],
   "source": [
    "df_ilce = pd.read_csv(\"il_ilce.csv\")\n",
    "values_and_nulls(df,\"Dogum Yeri\")"
   ]
  },
  {
   "cell_type": "code",
   "execution_count": 10,
   "id": "553639b9-b503-4633-aaa2-a58b9e59254c",
   "metadata": {},
   "outputs": [],
   "source": [
    "fill_missing_values(df,\"Dogum Yeri\", \"diger\")\n",
    "fill_missing_values(df,\"Lise Sehir\", \"diger\")\n",
    "fill_missing_values(df,\"Ikametgah Sehri\", \"diger\")"
   ]
  },
  {
   "cell_type": "code",
   "execution_count": 11,
   "id": "2882ad5f-a47a-4033-8657-aa25506200b9",
   "metadata": {},
   "outputs": [],
   "source": [
    "from unidecode import unidecode\n",
    "\n",
    "def clean_city(df, df_ilce):\n",
    "    # Türkçe karakterleri ASCII karşılıklarına çeviren yardımcı fonksiyon\n",
    "    def normalize_str(s):\n",
    "        # Convert the input to uppercase to handle cases like \"i\" vs \"İ\"\n",
    "        normalized = unidecode(s).upper()\n",
    "        # Replace specific cases manually to handle exceptions\n",
    "        replacements = {'I': 'I', 'İ': 'I', 'Ş': 'S', 'Ç': 'C', 'Ö': 'O', 'Ü': 'U', 'Ğ': 'G'}\n",
    "        for turkish_char, ascii_char in replacements.items():\n",
    "            normalized = normalized.replace(turkish_char, ascii_char)\n",
    "        return normalized\n",
    "\n",
    "    # İl ve ilçe isimlerini normalize edelim\n",
    "    df_ilce['il_norm'] = df_ilce['il'].apply(normalize_str)\n",
    "    df_ilce['ilce_norm'] = df_ilce['ilce'].apply(normalize_str)\n",
    "\n",
    "    # İl-ilçe eşleşmelerini bir sözlükte saklayalım\n",
    "    ilce_il_dict = dict(zip(df_ilce['ilce_norm'], df_ilce['il']))\n",
    "\n",
    "    def update_city(dogum_yeri):\n",
    "        dogum_yeri_norm = normalize_str(dogum_yeri)\n",
    "\n",
    "        # Eğer girdi doğrudan bir il ise, olduğu gibi döndür\n",
    "        if dogum_yeri_norm in df_ilce['il_norm'].values:\n",
    "            return df_ilce.loc[df_ilce['il_norm'] == dogum_yeri_norm, 'il'].iloc[0]\n",
    "\n",
    "        # Eğer girdi bir ilçe ise, ilini bul\n",
    "        elif dogum_yeri_norm in ilce_il_dict:\n",
    "            return ilce_il_dict[dogum_yeri_norm]\n",
    "\n",
    "        # Eğer girdi hem il hem ilçe içeriyorsa, il kısmını al\n",
    "        else:\n",
    "            for il_norm in df_ilce['il_norm'].unique():\n",
    "                if il_norm in dogum_yeri_norm:\n",
    "                    return df_ilce.loc[df_ilce['il_norm'] == il_norm, 'il'].iloc[0]\n",
    "\n",
    "        # Hiçbiri değilse \"DİĞER\" olarak işaretle\n",
    "        return \"diger\"\n",
    "\n",
    "    # Dogum Yeri sütununu güncelle\n",
    "    df['Dogum Yeri'] = df['Dogum Yeri'].apply(update_city)\n",
    "    df['Lise Sehir'] = df['Lise Sehir'].apply(update_city)\n",
    "    df['Ikametgah Sehri'] = df['Ikametgah Sehri'].apply(update_city)"
   ]
  },
  {
   "cell_type": "code",
   "execution_count": 12,
   "id": "9fbc9699-85bd-43ce-9299-ba26896506af",
   "metadata": {},
   "outputs": [],
   "source": [
    "clean_city(df,df_ilce)"
   ]
  },
  {
   "cell_type": "code",
   "execution_count": 13,
   "id": "c72261cc-a2db-404d-9f0a-941b267c4dd5",
   "metadata": {
    "scrolled": true
   },
   "outputs": [
    {
     "name": "stdout",
     "output_type": "stream",
     "text": [
      "Dogum Yeri\n",
      "İstanbul    13296\n",
      "Ankara       4992\n",
      "İzmir        3320\n",
      "Bursa        2291\n",
      "Adana        2289\n",
      "            ...  \n",
      "Kilis         127\n",
      "Yalova        125\n",
      "Bilecik       120\n",
      "Bayburt        89\n",
      "Tunceli        66\n",
      "Name: count, Length: 82, dtype: int64\n",
      "\n",
      "NaN:  0\n",
      "Lise Sehir\n",
      "İstanbul     15357\n",
      "Ankara        5949\n",
      "İzmir         3866\n",
      "Bursa         2740\n",
      "Adana         2246\n",
      "             ...  \n",
      "Çankırı        107\n",
      "Gümüşhane       82\n",
      "Bayburt         75\n",
      "Tunceli         70\n",
      "Ardahan         61\n",
      "Name: count, Length: 82, dtype: int64\n",
      "\n",
      "NaN:  0\n",
      "Ikametgah Sehri\n",
      "İstanbul    23529\n",
      "Ankara       7734\n",
      "İzmir        4402\n",
      "diger        2395\n",
      "Bursa        2091\n",
      "            ...  \n",
      "Sinop          86\n",
      "Bayburt        80\n",
      "Çankırı        74\n",
      "Artvin         71\n",
      "Ardahan        40\n",
      "Name: count, Length: 82, dtype: int64\n",
      "\n",
      "NaN:  0\n"
     ]
    }
   ],
   "source": [
    "values_and_nulls(df,\"Dogum Yeri\")\n",
    "values_and_nulls(df,\"Lise Sehir\")\n",
    "values_and_nulls(df,\"Ikametgah Sehri\")"
   ]
  },
  {
   "cell_type": "code",
   "execution_count": 14,
   "id": "cebab254-3a5c-477c-860b-eb6872d63134",
   "metadata": {},
   "outputs": [],
   "source": [
    "city_counts = df['Dogum Yeri'].value_counts()\n",
    "values_to_update = city_counts[city_counts < 300].index\n",
    "df['Dogum Yeri'] = df['Dogum Yeri'].apply(lambda x: 'diger' if x in values_to_update else x)"
   ]
  },
  {
   "cell_type": "code",
   "execution_count": 15,
   "id": "d22cb516-9617-4d52-af6a-d44a96671be7",
   "metadata": {},
   "outputs": [],
   "source": [
    "ik_counts = df['Ikametgah Sehri'].value_counts()\n",
    "ik_to_update = ik_counts[ik_counts < 300].index\n",
    "df['Ikametgah Sehri'] = df['Ikametgah Sehri'].apply(lambda x: 'diger' if x in ik_to_update else x)"
   ]
  },
  {
   "cell_type": "code",
   "execution_count": 16,
   "id": "6e6c2424-73b8-453d-b6b6-66d615ca63d6",
   "metadata": {},
   "outputs": [],
   "source": [
    "lise_counts = df['Lise Sehir'].value_counts()\n",
    "lise_to_update = lise_counts[lise_counts < 300].index\n",
    "df['Lise Sehir'] = df['Lise Sehir'].apply(lambda x: 'diger' if x in lise_to_update else x)"
   ]
  },
  {
   "cell_type": "code",
   "execution_count": 17,
   "id": "01bb1f4a-3dcd-4ea2-af77-552f9e530cc9",
   "metadata": {},
   "outputs": [
    {
     "name": "stdout",
     "output_type": "stream",
     "text": [
      "Dogum Yeri\n",
      "İstanbul          13296\n",
      "diger              7153\n",
      "Ankara             4992\n",
      "İzmir              3320\n",
      "Bursa              2291\n",
      "Adana              2289\n",
      "Diyarbakır         2075\n",
      "Konya              1817\n",
      "Hatay              1817\n",
      "Mersin             1715\n",
      "Şanlıurfa          1680\n",
      "Gaziantep          1635\n",
      "Antalya            1418\n",
      "Van                1418\n",
      "Kayseri            1408\n",
      "Mardin             1273\n",
      "Kocaeli            1212\n",
      "Malatya            1194\n",
      "Samsun             1111\n",
      "Erzurum            1099\n",
      "Manisa             1064\n",
      "Kahramanmaraş      1052\n",
      "Balıkesir           885\n",
      "Denizli             876\n",
      "Adıyaman            864\n",
      "Ağrı                862\n",
      "Eskişehir           790\n",
      "Trabzon             777\n",
      "Aydın               776\n",
      "Sivas               763\n",
      "Batman              760\n",
      "Ordu                694\n",
      "Elazığ              664\n",
      "Tokat               628\n",
      "Sakarya             624\n",
      "Çorum               598\n",
      "Tekirdağ            580\n",
      "Şırnak              570\n",
      "Muş                 564\n",
      "Muğla               550\n",
      "Zonguldak           536\n",
      "Yozgat              518\n",
      "Osmaniye            473\n",
      "Bitlis              461\n",
      "Afyonkarahisar      459\n",
      "Kütahya             455\n",
      "Siirt               445\n",
      "Kars                423\n",
      "Isparta             407\n",
      "Giresun             407\n",
      "Amasya              366\n",
      "Çanakkale           360\n",
      "Aksaray             358\n",
      "Niğde               349\n",
      "Edirne              344\n",
      "Kırıkkale           336\n",
      "Hakkâri             323\n",
      "Name: count, dtype: int64\n",
      "\n",
      "NaN:  0\n"
     ]
    }
   ],
   "source": [
    "values_and_nulls(df,\"Dogum Yeri\")"
   ]
  },
  {
   "cell_type": "code",
   "execution_count": 18,
   "id": "a65ae6b2-a067-40d2-9e21-e49685c85d3d",
   "metadata": {},
   "outputs": [
    {
     "name": "stdout",
     "output_type": "stream",
     "text": [
      "Ikametgah Sehri\n",
      "İstanbul          23529\n",
      "diger              9019\n",
      "Ankara             7734\n",
      "İzmir              4402\n",
      "Bursa              2091\n",
      "Kocaeli            1734\n",
      "Adana              1616\n",
      "Antalya            1578\n",
      "Konya              1486\n",
      "Gaziantep          1443\n",
      "Diyarbakır         1327\n",
      "Mersin             1273\n",
      "Eskişehir          1257\n",
      "Kayseri            1187\n",
      "Hatay              1128\n",
      "Şanlıurfa          1017\n",
      "Van                 833\n",
      "Manisa              777\n",
      "Denizli             741\n",
      "Samsun              729\n",
      "Malatya             703\n",
      "Aydın               685\n",
      "Trabzon             652\n",
      "Mardin              647\n",
      "Sakarya             632\n",
      "Erzurum             599\n",
      "Balıkesir           582\n",
      "Kahramanmaraş       582\n",
      "Isparta             540\n",
      "Tekirdağ            538\n",
      "Elazığ              527\n",
      "Muğla               525\n",
      "Adıyaman            485\n",
      "Batman              439\n",
      "Ağrı                435\n",
      "Sivas               410\n",
      "Karabük             347\n",
      "Çanakkale           342\n",
      "Zonguldak           341\n",
      "Ordu                332\n",
      "Şırnak              319\n",
      "Kütahya             311\n",
      "Afyonkarahisar      300\n",
      "Name: count, dtype: int64\n",
      "\n",
      "NaN:  0\n"
     ]
    }
   ],
   "source": [
    "values_and_nulls(df,\"Ikametgah Sehri\")"
   ]
  },
  {
   "cell_type": "code",
   "execution_count": 19,
   "id": "0f814f51-944d-441b-a61a-a9ab08d5e329",
   "metadata": {},
   "outputs": [
    {
     "name": "stdout",
     "output_type": "stream",
     "text": [
      "Lise Sehir\n",
      "İstanbul          15357\n",
      "diger              7935\n",
      "Ankara             5949\n",
      "İzmir              3866\n",
      "Bursa              2740\n",
      "Adana              2246\n",
      "Antalya            1963\n",
      "Mersin             1899\n",
      "Gaziantep          1845\n",
      "Kocaeli            1810\n",
      "Diyarbakır         1766\n",
      "Hatay              1746\n",
      "Konya              1686\n",
      "Şanlıurfa          1445\n",
      "Kayseri            1395\n",
      "Van                1152\n",
      "Manisa             1147\n",
      "Malatya            1045\n",
      "Samsun             1040\n",
      "Aydın               995\n",
      "Mardin              949\n",
      "Denizli             949\n",
      "Balıkesir           939\n",
      "Eskişehir           857\n",
      "Tekirdağ            819\n",
      "Kahramanmaraş       785\n",
      "Batman              689\n",
      "Sakarya             674\n",
      "Adıyaman            663\n",
      "Erzurum             656\n",
      "Trabzon             641\n",
      "Muğla               596\n",
      "Ordu                569\n",
      "Elazığ              563\n",
      "Ağrı                550\n",
      "Sivas               535\n",
      "Çorum               451\n",
      "Tokat               449\n",
      "Osmaniye            439\n",
      "Zonguldak           433\n",
      "Şırnak              415\n",
      "Isparta             395\n",
      "Kütahya             392\n",
      "Çanakkale           390\n",
      "Afyonkarahisar      373\n",
      "Bitlis              359\n",
      "Muş                 335\n",
      "Giresun             328\n",
      "Edirne              323\n",
      "Siirt               321\n",
      "Aksaray             310\n",
      "Name: count, dtype: int64\n",
      "\n",
      "NaN:  0\n"
     ]
    }
   ],
   "source": [
    "values_and_nulls(df,\"Lise Sehir\")"
   ]
  },
  {
   "cell_type": "markdown",
   "id": "cab409c1-b9e3-463b-b832-40daf76e3f97",
   "metadata": {},
   "source": [
    "## Universite Adi"
   ]
  },
  {
   "cell_type": "code",
   "execution_count": 20,
   "id": "c3fe3d5e-c8b1-46bb-9176-1dd405254e75",
   "metadata": {},
   "outputs": [
    {
     "name": "stdout",
     "output_type": "stream",
     "text": [
      "Universite Adi\n",
      "İSTANBUL ÜNİVERSİTESİ                          2083\n",
      "MARMARA ÜNİVERSİTESİ                           1672\n",
      "İSTANBUL TEKNİK ÜNİVERSİTESİ                   1464\n",
      "YILDIZ TEKNİK ÜNİVERSİTESİ                     1438\n",
      "ORTA DOĞU TEKNİK ÜNİVERSİTESİ                  1258\n",
      "                                               ... \n",
      "ALANYA HAMDULLAH EMİN PAŞA ÜNİVERSİTESİ           1\n",
      "HARP AKADEMİLERİ (KARA, DENİZ,                    1\n",
      "Bard College                                      1\n",
      "İstanbul Bilim Üniversitesi                       1\n",
      "Ankara Müzik ve Güzel Sanatlar Üniversitesi       1\n",
      "Name: count, Length: 531, dtype: int64\n",
      "\n",
      "NaN:  132\n"
     ]
    }
   ],
   "source": [
    "values_and_nulls(df,\"Universite Adi\")"
   ]
  },
  {
   "cell_type": "code",
   "execution_count": 21,
   "id": "8cc54590-4609-4580-beb9-8463206bf56b",
   "metadata": {},
   "outputs": [],
   "source": [
    "fill_missing_values(df,\"Universite Adi\",\"diger\")"
   ]
  },
  {
   "cell_type": "code",
   "execution_count": 22,
   "id": "39a45382-3e38-487d-a4e4-ed64f7576650",
   "metadata": {},
   "outputs": [],
   "source": [
    "import unidecode\n",
    "\n",
    "def standardize_name(name):\n",
    "    if pd.isna(name):\n",
    "        return name\n",
    "    name = name.strip()  # Başındaki ve sonundaki boşlukları kaldır\n",
    "    name = ' '.join(name.split())  # Aralardaki fazla boşlukları tek boşlukla değiştir\n",
    "    name = name.lower()  # Küçük harfe dönüştür\n",
    "    name = unidecode.unidecode(name)  # Türkçe karakterleri İngilizce karakterlere dönüştür\n",
    "    return name"
   ]
  },
  {
   "cell_type": "code",
   "execution_count": 23,
   "id": "4bc1c695-ad97-4d65-82a0-9c68a47a3a78",
   "metadata": {},
   "outputs": [],
   "source": [
    "df['Universite Adi'] = df['Universite Adi'].apply(standardize_name)"
   ]
  },
  {
   "cell_type": "code",
   "execution_count": 24,
   "id": "f0512cd5-ad7b-40f4-90f9-d092da59dd63",
   "metadata": {},
   "outputs": [
    {
     "name": "stdout",
     "output_type": "stream",
     "text": [
      "Universite Adi\n",
      "istanbul universitesi                                       2831\n",
      "marmara universitesi                                        2389\n",
      "istanbul teknik universitesi                                2276\n",
      "yildiz teknik universitesi                                  2232\n",
      "orta dogu teknik universitesi                               1863\n",
      "                                                            ... \n",
      "ankara sosyal bilimler universitesi kuzey kibris kampusu       1\n",
      "jandarma ve sahil guvenlik akademisi(askeri)                   1\n",
      "avrupa meslek yuksekokulu                                      1\n",
      "alanya hamdullah emin pasa universitesi                        1\n",
      "harp akademileri (kara, deniz,                                 1\n",
      "Name: count, Length: 294, dtype: int64\n",
      "\n",
      "NaN:  0\n"
     ]
    }
   ],
   "source": [
    "values_and_nulls(df,\"Universite Adi\")"
   ]
  },
  {
   "cell_type": "code",
   "execution_count": 25,
   "id": "4199e330-1e95-4762-9fda-39188e5d3564",
   "metadata": {},
   "outputs": [],
   "source": [
    "uni_counts = df['Universite Adi'].value_counts()\n",
    "values_to_update = uni_counts[uni_counts < 100].index\n",
    "df['Universite Adi'] = df['Universite Adi'].apply(lambda x: 'diger' if x in values_to_update else x)"
   ]
  },
  {
   "cell_type": "code",
   "execution_count": 26,
   "id": "3b2fd6d2-4f8f-4498-a515-d6b4c189686a",
   "metadata": {},
   "outputs": [
    {
     "name": "stdout",
     "output_type": "stream",
     "text": [
      "Universite Adi\n",
      "diger                                       4956\n",
      "istanbul universitesi                       2831\n",
      "marmara universitesi                        2389\n",
      "istanbul teknik universitesi                2276\n",
      "yildiz teknik universitesi                  2232\n",
      "                                            ... \n",
      "kahramanmaras sutcu imam                     111\n",
      "sinop universitesi                           106\n",
      "istinye universitesi                         104\n",
      "sakarya uygulamali bilimler universitesi     103\n",
      "mimar sinan guzel sanatlar universitesi      101\n",
      "Name: count, Length: 163, dtype: int64\n",
      "\n",
      "NaN:  0\n"
     ]
    }
   ],
   "source": [
    "values_and_nulls(df,\"Universite Adi\")"
   ]
  },
  {
   "cell_type": "markdown",
   "id": "a2e2e542-0403-498f-911f-21e3d841c41b",
   "metadata": {},
   "source": [
    "## Universite Turu"
   ]
  },
  {
   "cell_type": "code",
   "execution_count": 27,
   "id": "5c9bc07e-172d-4750-bf5f-11b3adfb18a3",
   "metadata": {},
   "outputs": [
    {
     "name": "stdout",
     "output_type": "stream",
     "text": [
      "Universite Turu\n",
      "Devlet    47100\n",
      "DEVLET    15377\n",
      "Özel      10170\n",
      "ÖZEL       3272\n",
      "Name: count, dtype: int64\n",
      "\n",
      "NaN:  255\n"
     ]
    }
   ],
   "source": [
    "values_and_nulls(df, \"Universite Turu\")\n",
    "fill_missing_values(df,\"Universite Turu\" , \"devlet\")"
   ]
  },
  {
   "cell_type": "code",
   "execution_count": 28,
   "id": "751d8cc8-1d4a-4bf2-8b2f-4933ac4af27c",
   "metadata": {},
   "outputs": [],
   "source": [
    "df['Universite Turu'] = df['Universite Turu'].apply(standardize_name)"
   ]
  },
  {
   "cell_type": "code",
   "execution_count": 29,
   "id": "7cfa1f83-ea77-48f4-98e4-a99cf8543324",
   "metadata": {},
   "outputs": [
    {
     "name": "stdout",
     "output_type": "stream",
     "text": [
      "Universite Turu\n",
      "devlet    62732\n",
      "ozel      13442\n",
      "Name: count, dtype: int64\n",
      "\n",
      "NaN:  0\n"
     ]
    }
   ],
   "source": [
    "values_and_nulls(df, \"Universite Turu\")"
   ]
  },
  {
   "cell_type": "code",
   "execution_count": 30,
   "id": "a1838d4f-39fc-463f-8433-2c2b693a864c",
   "metadata": {},
   "outputs": [],
   "source": [
    "#df['Universite Turu']  = df['Universite Turu'] .map({'devlet': 1, 'ozel': 0})"
   ]
  },
  {
   "cell_type": "code",
   "execution_count": 31,
   "id": "4ab1af8d-2bbf-4ba0-a4f5-6f5476ded925",
   "metadata": {},
   "outputs": [
    {
     "name": "stdout",
     "output_type": "stream",
     "text": [
      "Universite Turu\n",
      "devlet    62732\n",
      "ozel      13442\n",
      "Name: count, dtype: int64\n",
      "\n",
      "NaN:  0\n"
     ]
    }
   ],
   "source": [
    "values_and_nulls(df, \"Universite Turu\")"
   ]
  },
  {
   "cell_type": "markdown",
   "id": "a9c93609-37ed-47c1-ae54-7ade9fd5656b",
   "metadata": {},
   "source": [
    "## Burslu ise Burs Yuzdesi "
   ]
  },
  {
   "cell_type": "code",
   "execution_count": 32,
   "id": "503e2c77-2cdc-48ec-a3aa-19443a852635",
   "metadata": {},
   "outputs": [],
   "source": [
    "fill_missing_values(df,\"Burslu ise Burs Yuzdesi\",0)"
   ]
  },
  {
   "cell_type": "code",
   "execution_count": 33,
   "id": "af28aa66-1498-48b6-b47d-8976f8e4b202",
   "metadata": {
    "scrolled": true
   },
   "outputs": [
    {
     "name": "stdout",
     "output_type": "stream",
     "text": [
      "Burslu ise Burs Yuzdesi\n",
      "0.000      65906\n",
      "100.000     5049\n",
      "50.000      3149\n",
      "75.000      1002\n",
      "25.000       785\n",
      "10.000        50\n",
      "60.000        27\n",
      "1.000         26\n",
      "65.000        17\n",
      "80.000        15\n",
      "5.000         14\n",
      "30.000        14\n",
      "85.000        11\n",
      "2.000         10\n",
      "55.000         8\n",
      "62.500         7\n",
      "62.000         7\n",
      "35.000         7\n",
      "45.000         6\n",
      "7.000          6\n",
      "70.000         5\n",
      "99.000         5\n",
      "20.000         5\n",
      "40.000         4\n",
      "90.000         4\n",
      "63.000         4\n",
      "6.000          4\n",
      "3.000          2\n",
      "8.000          2\n",
      "98.000         2\n",
      "46.000         1\n",
      "82.500         1\n",
      "69.000         1\n",
      "88.000         1\n",
      "64.000         1\n",
      "4.000          1\n",
      "87.500         1\n",
      "57.500         1\n",
      "57.000         1\n",
      "91.500         1\n",
      "11.000         1\n",
      "41.500         1\n",
      "49.000         1\n",
      "74.000         1\n",
      "72.000         1\n",
      "32.000         1\n",
      "48.000         1\n",
      "37.000         1\n",
      "67.000         1\n",
      "41.000         1\n",
      "67.500         1\n",
      "Name: count, dtype: int64\n",
      "\n",
      "NaN:  0\n"
     ]
    }
   ],
   "source": [
    "values_and_nulls(df, \"Burslu ise Burs Yuzdesi\")"
   ]
  },
  {
   "cell_type": "code",
   "execution_count": 34,
   "id": "74f4915d-9690-4d41-a210-b428a837e7f2",
   "metadata": {},
   "outputs": [],
   "source": [
    "bins = [-1,1,74, 100]\n",
    "labels = [0,1,2]\n",
    "\n",
    "df['Burslu ise Burs Yuzdesi'] = pd.cut(df['Burslu ise Burs Yuzdesi'], bins=bins, labels=labels, right=True)"
   ]
  },
  {
   "cell_type": "code",
   "execution_count": 35,
   "id": "3eb23feb-7a79-43f7-bcb0-0192cf242f53",
   "metadata": {},
   "outputs": [],
   "source": [
    "#df['Burslu ise Burs Yuzdesi'] = label_encoder.fit_transform(df['Burslu ise Burs Yuzdesi'])"
   ]
  },
  {
   "cell_type": "code",
   "execution_count": 36,
   "id": "84fa649a-b25e-4545-aa39-c9c74ffd42e8",
   "metadata": {},
   "outputs": [
    {
     "name": "stdout",
     "output_type": "stream",
     "text": [
      "Burslu ise Burs Yuzdesi\n",
      "0    65932\n",
      "2     6092\n",
      "1     4150\n",
      "Name: count, dtype: int64\n",
      "\n",
      "NaN:  0\n"
     ]
    }
   ],
   "source": [
    "values_and_nulls(df, \"Burslu ise Burs Yuzdesi\")"
   ]
  },
  {
   "cell_type": "code",
   "execution_count": 37,
   "id": "2cdfb408-5631-4384-bf88-76985f1871aa",
   "metadata": {},
   "outputs": [
    {
     "name": "stdout",
     "output_type": "stream",
     "text": [
      "Sütunda 1 farklı veri tipi var: {<class 'int'>} \n"
     ]
    }
   ],
   "source": [
    "how_many_types(df,\"Burslu ise Burs Yuzdesi\")"
   ]
  },
  {
   "cell_type": "markdown",
   "id": "507f2afe-d5ff-4fb5-9d01-d6e2010df9f7",
   "metadata": {},
   "source": [
    "## Burs Aliyor mu?"
   ]
  },
  {
   "cell_type": "code",
   "execution_count": 38,
   "id": "b5cf2cb5-c724-4d4e-a94f-77e083406b35",
   "metadata": {},
   "outputs": [
    {
     "name": "stdout",
     "output_type": "stream",
     "text": [
      "Burs Aliyor mu?\n",
      "hayır    61650\n",
      "evet     14524\n",
      "Name: count, dtype: int64\n",
      "\n",
      "NaN:  0\n"
     ]
    }
   ],
   "source": [
    "all_letters_lowered(df, \"Burs Aliyor mu?\")\n",
    "values_and_nulls(df,\"Burs Aliyor mu?\")"
   ]
  },
  {
   "cell_type": "code",
   "execution_count": 39,
   "id": "a9934b15-12ce-47ae-8615-50e3e52e0d17",
   "metadata": {},
   "outputs": [
    {
     "data": {
      "text/plain": [
       "Burs Aliyor mu?\n",
       "hayır    61650\n",
       "evet     14524\n",
       "Name: count, dtype: int64"
      ]
     },
     "execution_count": 39,
     "metadata": {},
     "output_type": "execute_result"
    }
   ],
   "source": [
    "#df[\"Burs Aliyor mu?\"] = df[\"Burs Aliyor mu?\"].map({'evet': 1, 'hayır': 0})\n",
    "df[\"Burs Aliyor mu?\"].value_counts()"
   ]
  },
  {
   "cell_type": "markdown",
   "id": "82e8f48c-7a42-4c24-838a-a21022f45c54",
   "metadata": {
    "jp-MarkdownHeadingCollapsed": true
   },
   "source": [
    "## Bolum ATILABİLİR"
   ]
  },
  {
   "cell_type": "markdown",
   "id": "6fbd9500-8776-4ea9-9047-a30cf4b502ac",
   "metadata": {},
   "source": [
    "values_and_nulls(df,\"Bölüm\")\n",
    "fill_missing_values(df,\"Bölüm\",\"diger\")"
   ]
  },
  {
   "cell_type": "markdown",
   "id": "1683cb04-f929-4ff3-a475-03347b362a7f",
   "metadata": {},
   "source": [
    "df['Bölüm'].nunique()"
   ]
  },
  {
   "cell_type": "markdown",
   "id": "aa6a4801-bf2e-4f96-ae2f-5dbca63cec3b",
   "metadata": {},
   "source": [
    "df['Bölüm'] = df['Bölüm'].apply(standardize_name)"
   ]
  },
  {
   "cell_type": "markdown",
   "id": "71efe4ac-e000-406c-b684-abc59d2bebd8",
   "metadata": {},
   "source": [
    "values_and_nulls(df,\"Bölüm\")"
   ]
  },
  {
   "cell_type": "markdown",
   "id": "a9c5d9eb-3942-48ff-8b1e-ff8154456d85",
   "metadata": {},
   "source": [
    "bolum_counts = df['Bölüm'].value_counts()\n",
    "bolum_to_update = bolum_counts[bolum_counts < 100].index\n",
    "df['Bölüm'] = df['Bölüm'].apply(lambda x: 'diger' if x in bolum_to_update else x)"
   ]
  },
  {
   "cell_type": "markdown",
   "id": "a9ca9cfd-aa25-4cd5-babe-c6f63f725b16",
   "metadata": {},
   "source": [
    "values_and_nulls(df,\"Bölüm\")"
   ]
  },
  {
   "cell_type": "markdown",
   "id": "9d9e64de-2f0a-44c0-bf9f-f5a9c0d38e04",
   "metadata": {},
   "source": [
    "## Universite Kacinci Sinif"
   ]
  },
  {
   "cell_type": "code",
   "execution_count": 40,
   "id": "65df8d83-05e4-4314-9b40-29805d6899b4",
   "metadata": {},
   "outputs": [
    {
     "name": "stdout",
     "output_type": "stream",
     "text": [
      "Universite Kacinci Sinif\n",
      "2                25088\n",
      "3                19995\n",
      "4                15579\n",
      "1                12063\n",
      "Hazırlık          1508\n",
      "5                 1125\n",
      "6                  206\n",
      "Mezun              178\n",
      "hazırlık            33\n",
      "Yüksek Lisans       15\n",
      "Tez                  7\n",
      "0                    3\n",
      "Name: count, dtype: int64\n",
      "\n",
      "NaN:  374\n"
     ]
    }
   ],
   "source": [
    "values_and_nulls(df, \"Universite Kacinci Sinif\")"
   ]
  },
  {
   "cell_type": "code",
   "execution_count": 41,
   "id": "268100dd-52e8-4dee-a231-4d025a74ceb6",
   "metadata": {},
   "outputs": [],
   "source": [
    "all_letters_lowered(df,\"Universite Kacinci Sinif\")"
   ]
  },
  {
   "cell_type": "code",
   "execution_count": 42,
   "id": "0a04eeb4-65af-42fa-971e-50e8910f33f0",
   "metadata": {},
   "outputs": [
    {
     "name": "stdout",
     "output_type": "stream",
     "text": [
      "Universite Kacinci Sinif\n",
      "2                25088\n",
      "3                19995\n",
      "4                15579\n",
      "1                12063\n",
      "hazırlık          1541\n",
      "5                 1125\n",
      "6                  206\n",
      "mezun              178\n",
      "yüksek lisans       15\n",
      "tez                  7\n",
      "0                    3\n",
      "Name: count, dtype: int64\n",
      "\n",
      "NaN:  374\n"
     ]
    }
   ],
   "source": [
    "values_and_nulls(df,\"Universite Kacinci Sinif\")"
   ]
  },
  {
   "cell_type": "code",
   "execution_count": 43,
   "id": "025f08cd-80f2-4102-8de6-54544736a0e2",
   "metadata": {},
   "outputs": [],
   "source": [
    "grades = {\n",
    "    '0': 0,\n",
    "    '1' : 1,\n",
    "    '2': 2,\n",
    "    '3':3,\n",
    "    '4':4,\n",
    "    '5':5,\n",
    "    '6':5,\n",
    "    'hazırlık': 0,\n",
    "    'mezun': 0,\n",
    "    'yüksek lisans': 0,\n",
    "    'tez': 0\n",
    "}\n",
    "\n",
    "df['Universite Kacinci Sinif'] = df['Universite Kacinci Sinif'].map(grades)"
   ]
  },
  {
   "cell_type": "code",
   "execution_count": 44,
   "id": "53411cf2-a61f-4ffd-9528-9811ce88a8b9",
   "metadata": {},
   "outputs": [],
   "source": [
    "fill_missing_values(df,\"Universite Kacinci Sinif\",0)"
   ]
  },
  {
   "cell_type": "code",
   "execution_count": 45,
   "id": "e68609c4-7a62-4f3c-b445-2c4ab08d79ba",
   "metadata": {},
   "outputs": [
    {
     "name": "stdout",
     "output_type": "stream",
     "text": [
      "Universite Kacinci Sinif\n",
      "2.000    25088\n",
      "3.000    19995\n",
      "4.000    15579\n",
      "1.000    12063\n",
      "0.000     2118\n",
      "5.000     1331\n",
      "Name: count, dtype: int64\n",
      "\n",
      "NaN:  0\n"
     ]
    }
   ],
   "source": [
    "values_and_nulls(df,\"Universite Kacinci Sinif\")"
   ]
  },
  {
   "cell_type": "markdown",
   "id": "42897b08-b0be-4023-8f72-3272182afa6b",
   "metadata": {},
   "source": [
    "## Universite Not Ortalamasi"
   ]
  },
  {
   "cell_type": "code",
   "execution_count": 46,
   "id": "ea3757df-f163-4e23-8830-bbdf20bb6063",
   "metadata": {},
   "outputs": [
    {
     "name": "stdout",
     "output_type": "stream",
     "text": [
      "Universite Not Ortalamasi\n",
      "3.00-2.50              10758\n",
      "2.50 ve altı           10554\n",
      "3.00 - 3.50             7913\n",
      "3.50-3                  6179\n",
      "2.50 - 2.99             6057\n",
      "2.50 - 3.00             5782\n",
      "3.00 - 3.49             5678\n",
      "3.50 - 4.00             5469\n",
      "1.80 - 2.49             2908\n",
      "ortalama bulunmuyor     2812\n",
      "2.00 - 2.50             2519\n",
      "hazırlığım              1776\n",
      "2.50 -3.00              1734\n",
      "3.00 - 4.00             1411\n",
      "not ortalaması yok       586\n",
      "4-3.5                    481\n",
      "0 - 1.79                 476\n",
      "1.00 - 2.50              327\n",
      "4.0-3.5                    1\n",
      "Name: count, dtype: int64\n",
      "\n",
      "NaN:  2753\n"
     ]
    }
   ],
   "source": [
    "all_letters_lowered(df,\"Universite Not Ortalamasi\")\n",
    "values_and_nulls(df,\"Universite Not Ortalamasi\")"
   ]
  },
  {
   "cell_type": "code",
   "execution_count": 47,
   "id": "9eabb347-d3c5-4665-8214-229452676ce9",
   "metadata": {},
   "outputs": [],
   "source": [
    "fill_missing_values(df,\"Universite Not Ortalamasi\",\"yok\")"
   ]
  },
  {
   "cell_type": "code",
   "execution_count": 48,
   "id": "27b5cda2-8ed4-4f46-822e-061123c1fe6a",
   "metadata": {},
   "outputs": [],
   "source": [
    "gpa = {\n",
    "    '3.50-3': 'iyi',\n",
    "    '3.00-2.50': 'iyi',\n",
    "    'yok': 'yok',\n",
    "    '2.50 ve altı': 'kotu',\n",
    "    '3.00 - 4.00': 'iyi',\n",
    "    '3.50 - 4.00': 'iyi',\n",
    "    '3.00 - 3.50': 'iyi',\n",
    "    '2.50 -3.00': 'iyi',\n",
    "    'ortalama bulunmuyor': 'yok',\n",
    "    '4-3.5': 'iyi',\n",
    "    '2.50 - 3.00': 'kotu',\n",
    "    '2.00 - 2.50': 'kotu',\n",
    "    '1.00 - 2.50': 'kotu',\n",
    "    'not ortalaması yok': 'yok',\n",
    "    '4.0-3.5':'iyi',\n",
    "    '3.00 - 3.49':  'iyi',\n",
    "    '2.50 - 2.99':  'iyi',\n",
    "    '1.80 - 2.49': 'kotu',\n",
    "    'hazırlığım': 'yok',\n",
    "    '0 - 1.79': 'kotu'\n",
    "}\n",
    "df['Universite Not Ortalamasi'] = df['Universite Not Ortalamasi'].map(gpa)"
   ]
  },
  {
   "cell_type": "code",
   "execution_count": 49,
   "id": "ac9c0b88-e684-41fa-a621-6cfae89ecf93",
   "metadata": {},
   "outputs": [
    {
     "name": "stdout",
     "output_type": "stream",
     "text": [
      "Universite Not Ortalamasi\n",
      "iyi     45681\n",
      "kotu    22566\n",
      "yok      7927\n",
      "Name: count, dtype: int64\n",
      "\n",
      "NaN:  0\n"
     ]
    }
   ],
   "source": [
    "values_and_nulls(df,\"Universite Not Ortalamasi\")"
   ]
  },
  {
   "cell_type": "markdown",
   "id": "5195dc8a-1b97-4936-af57-3d7d2587487d",
   "metadata": {},
   "source": [
    "## Daha Once Baska Bir Universiteden Mezun Olmus"
   ]
  },
  {
   "cell_type": "markdown",
   "id": "b83efeed-fa9a-4627-9454-da512c37e49c",
   "metadata": {},
   "source": [
    "all_letters_lowered(df,\"Daha Once Baska Bir Universiteden Mezun Olmus\")\n",
    "values_and_nulls(df,\"Daha Once Baska Bir Universiteden Mezun Olmus\")"
   ]
  },
  {
   "cell_type": "markdown",
   "id": "07153da3-1736-45ca-8800-34ecdc8db991",
   "metadata": {},
   "source": [
    "fill_missing_values(df,\"Daha Once Baska Bir Universiteden Mezun Olmus\",\"hayır\")\n",
    "values_and_nulls(df,\"Daha Once Baska Bir Universiteden Mezun Olmus\")"
   ]
  },
  {
   "cell_type": "markdown",
   "id": "7b425247-895d-4e27-a29c-2306a0ce18d2",
   "metadata": {},
   "source": [
    "df[\"Daha Once Baska Bir Universiteden Mezun Olmus\"] = df[\"Daha Once Baska Bir Universiteden Mezun Olmus\"].map({'evet': 1, 'hayır': 0})"
   ]
  },
  {
   "cell_type": "markdown",
   "id": "b43160e2-dca3-486c-82c8-1f6375438218",
   "metadata": {},
   "source": [
    "values_and_nulls(df,\"Daha Once Baska Bir Universiteden Mezun Olmus\")"
   ]
  },
  {
   "cell_type": "markdown",
   "id": "c46ac0db-0426-4938-95f2-bbae6eecaa19",
   "metadata": {
    "jp-MarkdownHeadingCollapsed": true
   },
   "source": [
    "## Lise Adi ATILABİLİR"
   ]
  },
  {
   "cell_type": "markdown",
   "id": "abc10ce9-5bc5-4c22-92c4-a13b23818eb8",
   "metadata": {},
   "source": [
    "all_letters_lowered(df,\"Lise Adi\")"
   ]
  },
  {
   "cell_type": "markdown",
   "id": "0259ed79-6216-463b-8d9c-9611b9fbcf58",
   "metadata": {},
   "source": [
    "values_and_nulls(df,\"Lise Adi\")"
   ]
  },
  {
   "cell_type": "markdown",
   "id": "708dfed4-f227-4f10-bf56-65dfd30e1fb5",
   "metadata": {},
   "source": [
    "all_letters_lowered(df,\"Lise Adi\")\n",
    "def name_highschool(df, column_name):\n",
    "    df.loc[df[column_name].str.contains('anadolu', case=False, na=False), column_name] = 'anadolu'\n",
    "    df.loc[df[column_name].str.contains('fen', case=False, na=False), column_name] = 'fen'\n",
    "    df.loc[\n",
    "        (df[column_name].str.contains('meslek', case=False, na=False)) |\n",
    "        (df[column_name].str.contains('ticar', case=False, na=False)) ,\n",
    "        column_name\n",
    "    ] = 'meslek'\n",
    "    df.loc[df[column_name].str.contains('atatürk', case=False, na=False), column_name] = 'atatürk'\n",
    "    \n",
    "    hs = {\n",
    "    'anadolu': 1,\n",
    "    'fen': 2,\n",
    "    'meslek': 3,\n",
    "    'atatürk': 4,\n",
    "    }\n",
    "    \n",
    "    df[column_name] = df[column_name].map(hs)\n",
    "\n",
    "name_highschool(df,\"Lise Adi\")"
   ]
  },
  {
   "cell_type": "markdown",
   "id": "e73345c9-1442-4e5b-8fcb-1c38ee9c100e",
   "metadata": {
    "scrolled": true
   },
   "source": [
    "fill_missing_values(df,\"Lise Adi\",\"diğer\")\n",
    "df['Lise Adi'] = df['Lise Adi'].replace('diğer', 0)\n",
    "values_and_nulls(df,\"Lise Adi\")"
   ]
  },
  {
   "cell_type": "markdown",
   "id": "b92c5fbe-d1fa-476e-8d39-57ae1880585e",
   "metadata": {
    "jp-MarkdownHeadingCollapsed": true
   },
   "source": [
    "## Lise Turu"
   ]
  },
  {
   "cell_type": "code",
   "execution_count": 50,
   "id": "e3f036d6-e056-47e4-b53b-b5e77cdcc9cf",
   "metadata": {},
   "outputs": [
    {
     "name": "stdout",
     "output_type": "stream",
     "text": [
      "Lise Turu\n",
      "Devlet               15446\n",
      "Anadolu Lisesi       13367\n",
      "Diğer                13184\n",
      "Anadolu lisesi        7002\n",
      "Özel                  6553\n",
      "Düz lise              4179\n",
      "Meslek lisesi         3666\n",
      "Düz Lise              2789\n",
      "Meslek                2454\n",
      "Fen Lisesi            2159\n",
      "Özel Lisesi           1474\n",
      "İmam Hatip Lisesi     1158\n",
      "Fen lisesi             660\n",
      "Özel lisesi            489\n",
      "Meslek Lisesi          415\n",
      "Özel Lise              332\n",
      "Name: count, dtype: int64\n",
      "\n",
      "NaN:  847\n"
     ]
    }
   ],
   "source": [
    "values_and_nulls(df,\"Lise Turu\")"
   ]
  },
  {
   "cell_type": "code",
   "execution_count": 51,
   "id": "1e56d4bb-cee4-4b29-b63d-75fb6f6b0652",
   "metadata": {},
   "outputs": [],
   "source": [
    "def kind_highschool(df, column_name):\n",
    "    df.loc[df[column_name].str.contains('anadolu', case=False, na=False), column_name] = 'anadolu'\n",
    "    df.loc[df[column_name].str.contains('fen', case=False, na=False), column_name] = 'fen'\n",
    "    df.loc[(df[column_name].str.contains('meslek', case=False, na=False)) ,column_name] = 'meslek'\n",
    "    df.loc[df[column_name].str.contains('özel', case=False, na=False), column_name] = 'özel'\n",
    "    df.loc[df[column_name].str.contains('imam', case=False, na=False), column_name] = 'imam hatip'\n",
    "    df.loc[df[column_name].str.contains('düz', case=False, na=False), column_name] = 'düz'\n",
    "    df.loc[df[column_name].str.contains('diger', case=False, na=False), column_name] = 'diger'\n",
    "    df.loc[df[column_name].str.contains('devlet', case=False, na=False), column_name] = 'devlet'\n",
    "    \n",
    "    hs = {\n",
    "    'anadolu': 'anadolu',\n",
    "    'fen': 'fen',\n",
    "    'meslek': 'meslek',\n",
    "    'özel': 'özel',\n",
    "    'imam hatip':'imam hatip',\n",
    "    'düz':'düz',\n",
    "    'devlet':'devlet',\n",
    "    'diger':'diger'\n",
    "    }\n",
    "    \n",
    "    df[column_name] = df[column_name].map(hs)\n",
    "\n",
    "kind_highschool(df,\"Lise Turu\")"
   ]
  },
  {
   "cell_type": "code",
   "execution_count": 52,
   "id": "fce3b9ad-2d62-464d-95c5-d35ffe502072",
   "metadata": {},
   "outputs": [
    {
     "name": "stdout",
     "output_type": "stream",
     "text": [
      "Lise Turu\n",
      "anadolu       20369\n",
      "devlet        15446\n",
      "diger         14031\n",
      "özel           8848\n",
      "düz            6968\n",
      "meslek         6535\n",
      "fen            2819\n",
      "imam hatip     1158\n",
      "Name: count, dtype: int64\n",
      "\n",
      "NaN:  0\n"
     ]
    }
   ],
   "source": [
    "fill_missing_values(df,\"Lise Turu\" , \"diger\")\n",
    "values_and_nulls(df,\"Lise Turu\")"
   ]
  },
  {
   "cell_type": "markdown",
   "id": "065f5425-dfbc-4717-9d57-0907d76764a3",
   "metadata": {},
   "source": [
    "## Lise Bolumu"
   ]
  },
  {
   "cell_type": "code",
   "execution_count": 53,
   "id": "a6241bec-3a8b-4bd8-8ecb-43e5f4b59c3f",
   "metadata": {},
   "outputs": [
    {
     "name": "stdout",
     "output_type": "stream",
     "text": [
      "Lise Bolumu\n",
      "Sayısal                                35334\n",
      "Eşit Ağırlık                           20160\n",
      "Sözel                                   4782\n",
      "FEN SAYISAL BİLİMLERİ ALANI             3995\n",
      "EŞİT AĞIRLIK TÜRKÇE-MATEMATİK ALANI     2786\n",
      "                                       ...  \n",
      "Arkeoloji                                  1\n",
      "ELEKTİRİK VE ELEKTRONİK BÖLÜMÜ             1\n",
      "sosyal Bilgiler                            1\n",
      "Doğalgaz be tesisat teknolojileri          1\n",
      "Giyim Üretim Teknolojisi                   1\n",
      "Name: count, Length: 888, dtype: int64\n",
      "\n",
      "NaN:  0\n"
     ]
    }
   ],
   "source": [
    "fill_missing_values(df,\"Lise Bolumu\",\"diger\")\n",
    "values_and_nulls(df,\"Lise Bolumu\")"
   ]
  },
  {
   "cell_type": "code",
   "execution_count": 54,
   "id": "74caeeec-626a-405f-8e1d-ecd81a8112c4",
   "metadata": {},
   "outputs": [],
   "source": [
    "df['Lise Bolumu'] = df['Lise Bolumu'].apply(standardize_name)"
   ]
  },
  {
   "cell_type": "code",
   "execution_count": 55,
   "id": "06c2609b-52fd-4f1c-afed-b6203be78a74",
   "metadata": {},
   "outputs": [],
   "source": [
    "def kind_domain(df, column_name):\n",
    "    df.loc[df[column_name].str.contains('sayisal|MF', case=False, na=False), column_name] = 'sayisal'\n",
    "    df.loc[df[column_name].str.contains('sozel', case=False, na=False), column_name] = 'sozel'\n",
    "    df.loc[(df[column_name].str.contains('esit agirlik|EA|TM', case=False, na=False)) ,column_name] = 'esit agirlik'\n",
    "    df.loc[df[column_name].str.contains('dil', case=False, na=False), column_name] = 'dil'\n",
    "    df.loc[df[column_name].str.contains('diger', case=False, na=False), column_name] = 'diger'\n",
    "    \n",
    "    hs = {\n",
    "    'sayisal': 'sayisal',\n",
    "    'sozel': 'sozel',\n",
    "    'esit agirlik': 'esit agirlik',\n",
    "    'dil': 'dil',\n",
    "    'diger':'diger'\n",
    "    }\n",
    "    \n",
    "    df[column_name] = df[column_name].map(hs)\n",
    "\n",
    "kind_domain(df,\"Lise Bolumu\")"
   ]
  },
  {
   "cell_type": "code",
   "execution_count": 56,
   "id": "7030a57e-ead7-4fac-b6d2-9a84ec931131",
   "metadata": {},
   "outputs": [
    {
     "name": "stdout",
     "output_type": "stream",
     "text": [
      "Lise Bolumu\n",
      "sayisal         40360\n",
      "esit agirlik    24266\n",
      "diger            4857\n",
      "sozel            4856\n",
      "dil              1835\n",
      "Name: count, dtype: int64\n",
      "\n",
      "NaN:  0\n"
     ]
    }
   ],
   "source": [
    "fill_missing_values(df,\"Lise Bolumu\" , \"diger\")\n",
    "\n",
    "values_and_nulls(df,\"Lise Bolumu\")"
   ]
  },
  {
   "cell_type": "markdown",
   "id": "47ea8741-da67-40b5-b473-d00cfab9bdbf",
   "metadata": {},
   "source": [
    "## Lise Mezuniyet Notu"
   ]
  },
  {
   "cell_type": "code",
   "execution_count": 57,
   "id": "f14798f9-d7d4-42a6-bf28-d38f5826c6d4",
   "metadata": {},
   "outputs": [
    {
     "name": "stdout",
     "output_type": "stream",
     "text": [
      "Lise Mezuniyet Notu\n",
      "75 - 100              32175\n",
      "84-70                  9141\n",
      "100-85                 6967\n",
      "4.00-3.50              3689\n",
      "50 - 75                3115\n",
      "3.00 - 4.00            3101\n",
      "3.50-3.00              2759\n",
      "3.50-3                 2330\n",
      "50 - 74                2308\n",
      "69-55                  2162\n",
      "3.00-2.50              2153\n",
      "2.50 ve altı            226\n",
      "54-45                    88\n",
      "25 - 50                  14\n",
      "Not ortalaması yok       11\n",
      "25 - 49                   8\n",
      "44-0                      6\n",
      "0 - 25                    3\n",
      "0 - 24                    1\n",
      "Name: count, dtype: int64\n",
      "\n",
      "NaN:  5917\n"
     ]
    }
   ],
   "source": [
    "values_and_nulls(df,\"Lise Mezuniyet Notu\")\n",
    "fill_missing_values(df,\"Lise Mezuniyet Notu\",0)\n",
    "df[\"Lise Mezuniyet Notu\"] = df[\"Lise Mezuniyet Notu\"].replace('Not ortalaması yok', 0)"
   ]
  },
  {
   "cell_type": "code",
   "execution_count": 58,
   "id": "f9c303ad-1b82-4a2a-a327-29236cd5f249",
   "metadata": {},
   "outputs": [],
   "source": [
    "highs_grades = {\n",
    "    '75 - 100': 'A+',\n",
    "    '84-70': 'B',\n",
    "    '100-85': 'A+',\n",
    "    '0':'C',\n",
    "    '4.00-3.50': 'A+',\n",
    "    '50 - 75': 'A',\n",
    "    '3.00 - 4.00': 'B',\n",
    "    '3.50-3.00': 'B',\n",
    "    '3.50-3': 'B',\n",
    "    '69-55': 'A',\n",
    "    '3.00-2.50': 'A',\n",
    "    '50 - 74': 'A',\n",
    "    '2.50 ve altı': 'A',\n",
    "    '54-45': 'C',\n",
    "    '25 - 50': 'C',\n",
    "    '44-0': 'C',\n",
    "    '0 - 25': 'C',\n",
    "    '25 - 49': 'C',\n",
    "    '0 - 24': 'C',\n",
    "    0: 'C'\n",
    "}\n",
    "df[\"Lise Mezuniyet Notu\"] = df[\"Lise Mezuniyet Notu\"].map(highs_grades)"
   ]
  },
  {
   "cell_type": "code",
   "execution_count": 59,
   "id": "77d7ca2c-6ed9-4ca4-8dd1-e7cefaa41d5a",
   "metadata": {},
   "outputs": [
    {
     "name": "stdout",
     "output_type": "stream",
     "text": [
      "Lise Mezuniyet Notu\n",
      "A+    42831\n",
      "B     17331\n",
      "A      9964\n",
      "C      6048\n",
      "Name: count, dtype: int64\n",
      "\n",
      "NaN:  0\n"
     ]
    }
   ],
   "source": [
    "values_and_nulls(df,\"Lise Mezuniyet Notu\")"
   ]
  },
  {
   "cell_type": "markdown",
   "id": "0c4c19c8-44fb-4395-81a5-fe302bd14bd0",
   "metadata": {},
   "source": [
    "## Baska Bir Kurumdan Burs Aliyor mu?"
   ]
  },
  {
   "cell_type": "code",
   "execution_count": 60,
   "id": "049a93ff-635e-4ade-8a45-e8ff4d9d0e51",
   "metadata": {},
   "outputs": [
    {
     "name": "stdout",
     "output_type": "stream",
     "text": [
      "Baska Bir Kurumdan Burs Aliyor mu?\n",
      "hayır    55171\n",
      "evet     20772\n",
      "Name: count, dtype: int64\n",
      "\n",
      "NaN:  231\n"
     ]
    }
   ],
   "source": [
    "all_letters_lowered(df,\"Baska Bir Kurumdan Burs Aliyor mu?\")\n",
    "values_and_nulls(df,\"Baska Bir Kurumdan Burs Aliyor mu?\")"
   ]
  },
  {
   "cell_type": "code",
   "execution_count": 61,
   "id": "479b5c4c-82cb-408c-aa93-f2778e1145e8",
   "metadata": {},
   "outputs": [
    {
     "name": "stdout",
     "output_type": "stream",
     "text": [
      "Baska Bir Kurumdan Burs Aliyor mu?\n",
      "hayır    55402\n",
      "evet     20772\n",
      "Name: count, dtype: int64\n",
      "\n",
      "NaN:  0\n"
     ]
    }
   ],
   "source": [
    "fill_missing_values(df,\"Baska Bir Kurumdan Burs Aliyor mu?\",\"hayır\")\n",
    "values_and_nulls(df,\"Baska Bir Kurumdan Burs Aliyor mu?\")"
   ]
  },
  {
   "cell_type": "code",
   "execution_count": 62,
   "id": "aebc711b-97c7-4869-a35a-0bfed2c8b469",
   "metadata": {},
   "outputs": [],
   "source": [
    "#df['Baska Bir Kurumdan Burs Aliyor mu?'] = df['Baska Bir Kurumdan Burs Aliyor mu?'].map({'evet': 1, 'hayır': 0})"
   ]
  },
  {
   "cell_type": "code",
   "execution_count": 63,
   "id": "c6d86c0d-c887-4e87-aae4-687feaa651a5",
   "metadata": {},
   "outputs": [
    {
     "name": "stdout",
     "output_type": "stream",
     "text": [
      "Baska Bir Kurumdan Burs Aliyor mu?\n",
      "hayır    55402\n",
      "evet     20772\n",
      "Name: count, dtype: int64\n",
      "\n",
      "NaN:  0\n"
     ]
    }
   ],
   "source": [
    "values_and_nulls(df,\"Baska Bir Kurumdan Burs Aliyor mu?\")"
   ]
  },
  {
   "cell_type": "markdown",
   "id": "ab0d1a17-135f-4989-998a-a55baf467a02",
   "metadata": {
    "jp-MarkdownHeadingCollapsed": true
   },
   "source": [
    "## Burs Aldigi Baska Kurum ATILABİLİR"
   ]
  },
  {
   "cell_type": "markdown",
   "id": "7b09b686-b90d-464f-8872-ecb6053fcaa7",
   "metadata": {},
   "source": [
    "all_letters_lowered(df,\"Burs Aldigi Baska Kurum\")\n",
    "values_and_nulls(df,\"Burs Aldigi Baska Kurum\")"
   ]
  },
  {
   "cell_type": "markdown",
   "id": "b708a296-6c7f-430e-9623-33707b9c341d",
   "metadata": {},
   "source": [
    "def sade(df, col_name, word_map):\n",
    "    # Sütundaki her satırı kontrol et\n",
    "    def replace_word(text):\n",
    "        standardized_text = standardize_name(text)\n",
    "        # Her kelime listesi için kontrol et\n",
    "        for target_word, word_list in word_map.items():\n",
    "            if any(word in standardized_text for word in word_list):\n",
    "                return target_word\n",
    "        return standardized_text\n",
    "\n",
    "    df[col_name] = df[col_name].apply(replace_word)"
   ]
  },
  {
   "cell_type": "markdown",
   "id": "95a82011-6afa-4619-b397-503db3ab23f1",
   "metadata": {},
   "source": [
    "df['Burs Aldigi Baska Kurum'] = df['Burs Aldigi Baska Kurum'].apply(lambda x: \"almiyor\" if isinstance(x, float) else x)"
   ]
  },
  {
   "cell_type": "markdown",
   "id": "d96b3a2d-1b89-46a0-8228-773258e857fb",
   "metadata": {},
   "source": [
    "values_and_nulls(df,\"Burs Aldigi Baska Kurum\")"
   ]
  },
  {
   "cell_type": "markdown",
   "id": "72e6ad31-9132-41f4-a752-89ec1475ec66",
   "metadata": {},
   "source": [
    "scholar_list = {\n",
    "                \"kyk\" : [\"kyk\",\"kredi\",\"yurtlar\",\"ky\",],\n",
    "                \"tev\" : [\"tev\",\"türk eğitim vakfı\",\"turk eğitim vakfı\"],\n",
    "                \"devlet\" : [\"devlet\"],\n",
    "                \"gsb\": [\"gsb\",\"genclik ve spor bakanligi\"],\n",
    "                \"vgm\" : [\"vgm\",\"vakiflar genel mudurlugu\"],\n",
    "                \"almiyor\": [\"almiyorum\",\"hayir\", \"-\"]\n",
    "                }\n",
    "\n",
    "sade(df,\"Burs Aldigi Baska Kurum\",scholar_list)\n"
   ]
  },
  {
   "cell_type": "markdown",
   "id": "b01ca943-da3a-4c41-8594-5b0ee0e9e2bd",
   "metadata": {},
   "source": [
    "value_counts = df['Burs Aldigi Baska Kurum'].value_counts()\n",
    "values_to_update = value_counts[value_counts < 124].index\n",
    "df['Burs Aldigi Baska Kurum'] = df['Burs Aldigi Baska Kurum'].apply(lambda x: 'diger' if x in values_to_update else x)"
   ]
  },
  {
   "cell_type": "markdown",
   "id": "448498a7-a562-418c-b685-eb2ba1a23320",
   "metadata": {},
   "source": [
    "values_and_nulls(df,\"Burs Aldigi Baska Kurum\")"
   ]
  },
  {
   "cell_type": "markdown",
   "id": "359ec0c3-41b7-4262-9cc7-77226f455dbb",
   "metadata": {},
   "source": [
    "df['Burs Aldigi Baska Kurum'] = label_encoder.fit_transform(df['Burs Aldigi Baska Kurum'])"
   ]
  },
  {
   "cell_type": "markdown",
   "id": "0616e113-c6c7-4791-a227-158fc253c217",
   "metadata": {},
   "source": [
    "values_and_nulls(df,\"Burs Aldigi Baska Kurum\")"
   ]
  },
  {
   "cell_type": "markdown",
   "id": "2274a356-97b1-44a1-bbbe-f3f19d81ffe2",
   "metadata": {},
   "source": [
    "## Anne Egitim Durumu & Baba Egitim Durumu ✓"
   ]
  },
  {
   "cell_type": "code",
   "execution_count": 64,
   "id": "230541c3-49f8-4204-ad83-c6ca4a0325f1",
   "metadata": {},
   "outputs": [
    {
     "name": "stdout",
     "output_type": "stream",
     "text": [
      "Anne Egitim Durumu\n",
      "İlkokul                    14328\n",
      "Lise                       10829\n",
      "İlkokul Mezunu              8030\n",
      "İLKOKUL MEZUNU              7770\n",
      "Üniversite                  7300\n",
      "Eğitimi yok                 5062\n",
      "Ortaokul                    4398\n",
      "LİSE                        3582\n",
      "EĞİTİM YOK                  2600\n",
      "ÜNİVERSİTE                  2435\n",
      "Eğitim Yok                  2146\n",
      "Ortaokul Mezunu             2119\n",
      "ORTAOKUL MEZUNU             1788\n",
      "Lise Mezunu                 1346\n",
      "Üniversite Mezunu           1075\n",
      "Yüksek Lisans                417\n",
      "YÜKSEK LİSANS                153\n",
      "Yüksek Lisans / Doktora      123\n",
      "Doktora                      120\n",
      "Yüksek Lisans / Doktara       85\n",
      "DOKTORA                       62\n",
      "Name: count, dtype: int64\n",
      "\n",
      "NaN:  406\n"
     ]
    }
   ],
   "source": [
    "values_and_nulls(df,\"Anne Egitim Durumu\")"
   ]
  },
  {
   "cell_type": "code",
   "execution_count": 65,
   "id": "e0f576f4-a714-4505-b2b0-adc0c642d814",
   "metadata": {},
   "outputs": [],
   "source": [
    "def update_edu(df, column_name):\n",
    "    df.loc[df[column_name].str.contains('ilkokul', case=False, na=False), column_name] = 'ilkokul'\n",
    "    df.loc[df[column_name].str.contains('lise', case=False, na=False), column_name] = 'lise'\n",
    "    df.loc[df[column_name].str.contains('üniversite|doktora|yüksek lisans', case=False, na=False), column_name] = 'üniversite'\n",
    "    #df.loc[df[column_name].str.contains('doktora', case=False, na=False), column_name] = 'doktora'\n",
    "    #df.loc[df[column_name].str.contains('yüksek', case=False, na=False), column_name] = 'yüksek lisans'\n",
    "    df.loc[df[column_name].str.contains('ortaokul', case=False, na=False), column_name] = 'ortaokul'\n",
    "    df.loc[\n",
    "        (df[column_name].str.contains('0', case=False, na=False)) |\n",
    "        (df[column_name].str.contains('eğitimi yok', case=False, na=False)) |\n",
    "        (df[column_name].str.contains('eğitim yok', case=False, na=False)),\n",
    "        column_name\n",
    "    ] = 'yok'\n",
    "    \n",
    "    \"\"\"_edu = {\n",
    "    'ilkokul': 1,\n",
    "    'ortaokul': 2,\n",
    "    'lise': 3,\n",
    "    'üniversite': 4,\n",
    "    'yüksek lisans': 5,\n",
    "    'doktora': 6,\n",
    "    'yok': 0\n",
    "    }\"\"\"\n",
    "    fill_missing_values(df,column_name,\"yok\")\n",
    "    #df[column_name] = df[column_name].map(_edu)"
   ]
  },
  {
   "cell_type": "code",
   "execution_count": 66,
   "id": "733ef7f4-3c4b-4fee-a610-6386692f068b",
   "metadata": {},
   "outputs": [],
   "source": [
    "update_edu(df,\"Anne Egitim Durumu\")\n",
    "update_edu(df,\"Baba Egitim Durumu\")"
   ]
  },
  {
   "cell_type": "code",
   "execution_count": 67,
   "id": "2efd02c6-7e4c-43d5-aea3-e5a53e33fa98",
   "metadata": {},
   "outputs": [
    {
     "name": "stdout",
     "output_type": "stream",
     "text": [
      "Anne Egitim Durumu\n",
      "ilkokul       30128\n",
      "lise          15757\n",
      "üniversite    11770\n",
      "yok           10214\n",
      "ortaokul       8305\n",
      "Name: count, dtype: int64\n",
      "\n",
      "NaN:  0\n"
     ]
    }
   ],
   "source": [
    "values_and_nulls(df,\"Anne Egitim Durumu\")"
   ]
  },
  {
   "cell_type": "markdown",
   "id": "b393ce09-6a2a-411e-aa63-ceb0e537f88b",
   "metadata": {},
   "source": [
    "## Anne Çalışma Durumu & Baba Çalışma Durumu ✓"
   ]
  },
  {
   "cell_type": "code",
   "execution_count": 68,
   "id": "0e089f29-30f3-4300-87c5-0482036c14cc",
   "metadata": {},
   "outputs": [
    {
     "name": "stdout",
     "output_type": "stream",
     "text": [
      "Anne Calisma Durumu\n",
      "Hayır     48062\n",
      "Evet      12862\n",
      "Emekli     3354\n",
      "Name: count, dtype: int64\n",
      "\n",
      "NaN:  11896\n"
     ]
    }
   ],
   "source": [
    "values_and_nulls(df,\"Anne Calisma Durumu\")"
   ]
  },
  {
   "cell_type": "code",
   "execution_count": 69,
   "id": "047284e6-14ec-4cc2-99bb-11346ce0f8f6",
   "metadata": {},
   "outputs": [],
   "source": [
    "fill_missing_values(df,\"Anne Calisma Durumu\",\"Hayır\")\n",
    "fill_missing_values(df,\"Baba Calisma Durumu\",\"Hayır\")"
   ]
  },
  {
   "cell_type": "code",
   "execution_count": 70,
   "id": "0457a008-f00d-49bb-9828-03f61c99fd95",
   "metadata": {},
   "outputs": [],
   "source": [
    "#df['Anne Calisma Durumu'] = label_encoder.fit_transform(df['Anne Calisma Durumu'])"
   ]
  },
  {
   "cell_type": "code",
   "execution_count": 71,
   "id": "bcdbf6fc-80b2-4ae8-8d78-4d9602f79053",
   "metadata": {},
   "outputs": [
    {
     "name": "stdout",
     "output_type": "stream",
     "text": [
      "Anne Calisma Durumu\n",
      "Hayır     59958\n",
      "Evet      12862\n",
      "Emekli     3354\n",
      "Name: count, dtype: int64\n",
      "\n",
      "NaN:  0\n"
     ]
    }
   ],
   "source": [
    "values_and_nulls(df,\"Anne Calisma Durumu\")"
   ]
  },
  {
   "cell_type": "markdown",
   "id": "aa359714-aca4-4036-ad5b-7422643cc8e1",
   "metadata": {},
   "source": [
    "## Anne Sektor Baba Sektor"
   ]
  },
  {
   "cell_type": "code",
   "execution_count": 72,
   "id": "e210965c-8e2f-4564-8284-00c7985ebc19",
   "metadata": {},
   "outputs": [
    {
     "name": "stdout",
     "output_type": "stream",
     "text": [
      "Anne Sektor\n",
      "-              14456\n",
      "0              11780\n",
      "Özel Sektör     5537\n",
      "Kamu            4794\n",
      "Diğer           1652\n",
      "ÖZEL SEKTÖR     1617\n",
      "KAMU            1344\n",
      "DİĞER            457\n",
      "Name: count, dtype: int64\n",
      "\n",
      "NaN:  34537\n"
     ]
    }
   ],
   "source": [
    "values_and_nulls(df,\"Anne Sektor\")"
   ]
  },
  {
   "cell_type": "code",
   "execution_count": 73,
   "id": "71f8b15d-278e-4f47-8b45-ffa308c9ac0d",
   "metadata": {},
   "outputs": [],
   "source": [
    "def update_sector(df, column_name):\n",
    "    df.loc[df[column_name].str.contains('özel', case=False, na=False), column_name] = 'özel'\n",
    "    df.loc[df[column_name].str.contains('kamu', case=False, na=False), column_name] = 'kamu'\n",
    "    df.loc[df[column_name].str.contains('diğer', case=False, na=False), column_name] = 'diger'\n",
    "    df.loc[\n",
    "        (df[column_name].str.contains('0', case=False, na=False)) |\n",
    "        (df[column_name].str.contains('-', case=False, na=False)) ,\n",
    "        column_name\n",
    "    ] = 'yok'\n",
    "    \n",
    "    \"\"\"sector = {\n",
    "    'kamu': 1,\n",
    "    'özel': 2,\n",
    "    'diger': 3,\n",
    "    'yok': 0,\n",
    "    }\"\"\"\n",
    "    fill_missing_values(df,column_name,\"yok\")\n",
    "    #df[column_name] = df[column_name].map(sector)"
   ]
  },
  {
   "cell_type": "code",
   "execution_count": 74,
   "id": "b3cee4fe-8df7-4f04-aeb5-81d2cd03cc71",
   "metadata": {},
   "outputs": [],
   "source": [
    "update_sector(df,\"Baba Sektor\")\n",
    "update_sector(df,\"Anne Sektor\")"
   ]
  },
  {
   "cell_type": "code",
   "execution_count": 75,
   "id": "f13089c6-889e-46ed-b60d-17c498439b6e",
   "metadata": {},
   "outputs": [
    {
     "name": "stdout",
     "output_type": "stream",
     "text": [
      "Anne Sektor\n",
      "yok      60773\n",
      "özel      7154\n",
      "kamu      6138\n",
      "diger     2109\n",
      "Name: count, dtype: int64\n",
      "\n",
      "NaN:  0\n"
     ]
    }
   ],
   "source": [
    "values_and_nulls(df,\"Anne Sektor\")"
   ]
  },
  {
   "cell_type": "markdown",
   "id": "b2e950d6-3c5a-4808-8b89-9289575df267",
   "metadata": {},
   "source": [
    "## Kardes Sayisi"
   ]
  },
  {
   "cell_type": "code",
   "execution_count": 76,
   "id": "a3f3fff3-e099-4495-abfb-00a641ba33cb",
   "metadata": {},
   "outputs": [
    {
     "name": "stdout",
     "output_type": "stream",
     "text": [
      "Kardes Sayisi\n",
      "1.000                                            19798\n",
      "2.000                                            15883\n",
      "3.000                                             8224\n",
      "4.000                                             7032\n",
      " 1                                                6054\n",
      "0.000                                             4406\n",
      " 2                                                3938\n",
      "5.000                                             3421\n",
      " 3                                                2087\n",
      " 0                                                1381\n",
      " 4                                                 998\n",
      " 5                                                 715\n",
      "6.000                                              206\n",
      "7.000                                              159\n",
      " 6                                                 135\n",
      "10.000                                             127\n",
      " 7                                                 119\n",
      "8.000                                               98\n",
      "9.000                                               79\n",
      " 8                                                  75\n",
      " 9                                                  43\n",
      " 10                                                 42\n",
      " 11                                                 12\n",
      " 12                                                  5\n",
      " 13                                                  2\n",
      " 14                                                  1\n",
      " 18                                                  1\n",
      " Kardeş Sayısı 1 Ek Bilgi Aile Hk. Anne Vefat        1\n",
      "Name: count, dtype: int64\n",
      "\n",
      "NaN:  1132\n"
     ]
    }
   ],
   "source": [
    "values_and_nulls(df,\"Kardes Sayisi\")"
   ]
  },
  {
   "cell_type": "code",
   "execution_count": 77,
   "id": "31ad0eed-82be-41ca-96b1-74ae972583b6",
   "metadata": {},
   "outputs": [],
   "source": [
    "df['Kardes Sayisi'] = df['Kardes Sayisi'].replace('Kardeş Sayısı 1 Ek Bilgi Aile Hk. Anne Vefat', 1)\n",
    "fill_missing_values(df,\"Kardes Sayisi\",0)\n",
    "df['Kardes Sayisi'] = df['Kardes Sayisi'].astype(int)"
   ]
  },
  {
   "cell_type": "code",
   "execution_count": 78,
   "id": "820fa2d3-3333-416b-a680-4a01fab92eb4",
   "metadata": {},
   "outputs": [
    {
     "name": "stdout",
     "output_type": "stream",
     "text": [
      "Kardes Sayisi\n",
      "1     25853\n",
      "2     19821\n",
      "3     10311\n",
      "4      8030\n",
      "0      6919\n",
      "5      4136\n",
      "6       341\n",
      "7       278\n",
      "8       173\n",
      "10      169\n",
      "9       122\n",
      "11       12\n",
      "12        5\n",
      "13        2\n",
      "18        1\n",
      "14        1\n",
      "Name: count, dtype: int64\n",
      "\n",
      "NaN:  0\n"
     ]
    }
   ],
   "source": [
    "values_and_nulls(df,\"Kardes Sayisi\")"
   ]
  },
  {
   "cell_type": "code",
   "execution_count": 79,
   "id": "b5a3b5fe-4303-4ff8-b27c-18a785028f73",
   "metadata": {},
   "outputs": [
    {
     "name": "stdout",
     "output_type": "stream",
     "text": [
      "Kardes Sayisi\n",
      "1    25853\n",
      "2    19821\n",
      "3    10311\n",
      "4     8030\n",
      "0     6919\n",
      "5     5240\n",
      "Name: count, dtype: int64\n",
      "\n",
      "NaN:  0\n"
     ]
    }
   ],
   "source": [
    "# 5 ve 5dan fazlaları bir araya getirdim.\n",
    "df['Kardes Sayisi'] = df['Kardes Sayisi'].apply(lambda x: 5 if x >= 5 else x)\n",
    "values_and_nulls(df,\"Kardes Sayisi\")"
   ]
  },
  {
   "cell_type": "markdown",
   "id": "613a3675-76f9-49fe-9a34-b3d003068746",
   "metadata": {},
   "source": [
    "## Girisimcilik Kulupleri Tarzi Bir Kulube Uye misiniz? ✓"
   ]
  },
  {
   "cell_type": "code",
   "execution_count": 80,
   "id": "68aa1188-27cd-4726-ba2d-a516e6f72f90",
   "metadata": {},
   "outputs": [
    {
     "name": "stdout",
     "output_type": "stream",
     "text": [
      "Girisimcilik Kulupleri Tarzi Bir Kulube Uye misiniz?\n",
      "Hayır    39650\n",
      "Evet     34695\n",
      "Name: count, dtype: int64\n",
      "\n",
      "NaN:  1829\n"
     ]
    }
   ],
   "source": [
    "values_and_nulls(df,\"Girisimcilik Kulupleri Tarzi Bir Kulube Uye misiniz?\")"
   ]
  },
  {
   "cell_type": "code",
   "execution_count": 81,
   "id": "5c575b2f-a956-42c4-960d-de83ae1cf95a",
   "metadata": {},
   "outputs": [],
   "source": [
    "fill_missing_values(df,\"Girisimcilik Kulupleri Tarzi Bir Kulube Uye misiniz?\",\"Hayır\")"
   ]
  },
  {
   "cell_type": "code",
   "execution_count": 82,
   "id": "f2c4f387-355c-4b93-92c8-56be51d7a442",
   "metadata": {},
   "outputs": [],
   "source": [
    "#df['Girisimcilik Kulupleri Tarzi Bir Kulube Uye misiniz?'] = label_encoder.fit_transform(df['Girisimcilik Kulupleri Tarzi Bir Kulube Uye misiniz?'])"
   ]
  },
  {
   "cell_type": "code",
   "execution_count": 83,
   "id": "78a2ba67-e1e3-4e5f-92fa-4c58266b5c44",
   "metadata": {},
   "outputs": [
    {
     "name": "stdout",
     "output_type": "stream",
     "text": [
      "Girisimcilik Kulupleri Tarzi Bir Kulube Uye misiniz?\n",
      "Hayır    41479\n",
      "Evet     34695\n",
      "Name: count, dtype: int64\n",
      "\n",
      "NaN:  0\n"
     ]
    }
   ],
   "source": [
    "values_and_nulls(df,\"Girisimcilik Kulupleri Tarzi Bir Kulube Uye misiniz?\")"
   ]
  },
  {
   "cell_type": "markdown",
   "id": "6c8d2fc6-b59d-4b91-aa0c-4012f2e38850",
   "metadata": {},
   "source": [
    "## Profesyonel Bir Spor Daliyla Mesgul musunuz? ✓"
   ]
  },
  {
   "cell_type": "code",
   "execution_count": 84,
   "id": "0f526bde-8cda-43bf-aa55-75eea9639f35",
   "metadata": {},
   "outputs": [
    {
     "name": "stdout",
     "output_type": "stream",
     "text": [
      "Profesyonel Bir Spor Daliyla Mesgul musunuz?\n",
      "Hayır    48665\n",
      "Evet     26394\n",
      "Name: count, dtype: int64\n",
      "\n",
      "NaN:  1115\n"
     ]
    }
   ],
   "source": [
    "values_and_nulls(df,\"Profesyonel Bir Spor Daliyla Mesgul musunuz?\")"
   ]
  },
  {
   "cell_type": "code",
   "execution_count": 85,
   "id": "ce60541f-1fd6-44b2-bac6-3dc1fda7b729",
   "metadata": {},
   "outputs": [],
   "source": [
    "fill_missing_values(df,\"Profesyonel Bir Spor Daliyla Mesgul musunuz?\",\"Hayır\")\n",
    "#df['Profesyonel Bir Spor Daliyla Mesgul musunuz?'] = label_encoder.fit_transform(df['Profesyonel Bir Spor Daliyla Mesgul musunuz?'])"
   ]
  },
  {
   "cell_type": "markdown",
   "id": "661d92b8-ba03-4e6a-a3bc-2d8bb06bb0c0",
   "metadata": {},
   "source": [
    "## Spor Dalindaki Rolunuz Nedir BİDAHA BAK !!!!!!!!!"
   ]
  },
  {
   "cell_type": "code",
   "execution_count": 86,
   "id": "2ba7db71-f8d4-4738-a872-13a1506c1d1e",
   "metadata": {},
   "outputs": [
    {
     "name": "stdout",
     "output_type": "stream",
     "text": [
      "Spor Dalindaki Rolunuz Nedir?\n",
      "0                 11315\n",
      "-                 10492\n",
      "Diğer              9101\n",
      "Takım Oyuncusu     2603\n",
      "Lider/Kaptan       2522\n",
      "Bireysel Spor      2509\n",
      "DİĞER              1945\n",
      "Bireysel           1697\n",
      "Kaptan              873\n",
      "KAPTAN / LİDER      842\n",
      "Name: count, dtype: int64\n",
      "\n",
      "NaN:  32275\n"
     ]
    }
   ],
   "source": [
    "values_and_nulls(df,\"Spor Dalindaki Rolunuz Nedir?\")"
   ]
  },
  {
   "cell_type": "code",
   "execution_count": 87,
   "id": "5e2fffb5-9166-4ecc-9fab-686597e4a010",
   "metadata": {},
   "outputs": [],
   "source": [
    "fill_missing_values(df,\"Spor Dalindaki Rolunuz Nedir?\",\"yok\")\n",
    "df['Spor Dalindaki Rolunuz Nedir?'] = df['Spor Dalindaki Rolunuz Nedir?'].replace(\"0\", 'diger')"
   ]
  },
  {
   "cell_type": "code",
   "execution_count": 88,
   "id": "2ab1e46f-248b-432d-8e12-0d4d3fd5fc63",
   "metadata": {},
   "outputs": [],
   "source": [
    "def update_role(df, column_name):\n",
    "    df.loc[df[column_name].str.contains('kaptan', case=False, na=False), column_name] = 'kaptan'\n",
    "    df.loc[df[column_name].str.contains('bireysel', case=False, na=False), column_name] = 'bireysel'\n",
    "    df.loc[df[column_name].str.contains('diğer|takim oyuncusu', case=False, na=False), column_name] = 'diger'\n",
    "    df.loc[df[column_name].str.contains('yok|-', case=False, na=False), column_name] = 'yok'\n",
    "    \n",
    "    "
   ]
  },
  {
   "cell_type": "code",
   "execution_count": 89,
   "id": "4c85f86e-c972-4c2b-97ed-26c958baae20",
   "metadata": {},
   "outputs": [],
   "source": [
    "update_role(df,\"Spor Dalindaki Rolunuz Nedir?\")"
   ]
  },
  {
   "cell_type": "code",
   "execution_count": 90,
   "id": "39ce6a75-4b8f-4dc2-afc4-165d29dd49d6",
   "metadata": {},
   "outputs": [
    {
     "name": "stdout",
     "output_type": "stream",
     "text": [
      "Spor Dalindaki Rolunuz Nedir?\n",
      "yok         42767\n",
      "diger       24964\n",
      "kaptan       4237\n",
      "bireysel     4206\n",
      "Name: count, dtype: int64\n",
      "\n",
      "NaN:  0\n"
     ]
    }
   ],
   "source": [
    "values_and_nulls(df,\"Spor Dalindaki Rolunuz Nedir?\")"
   ]
  },
  {
   "cell_type": "markdown",
   "id": "8b2ab981-3352-4609-9ec5-821cafcd4446",
   "metadata": {},
   "source": [
    "## Aktif olarak bir STK üyesi misiniz? ✓"
   ]
  },
  {
   "cell_type": "code",
   "execution_count": 91,
   "id": "c81ae280-4bd9-48dd-b04f-d560c24bb4ad",
   "metadata": {},
   "outputs": [
    {
     "name": "stdout",
     "output_type": "stream",
     "text": [
      "Aktif olarak bir STK üyesi misiniz?\n",
      "Hayır    42495\n",
      "Evet     20837\n",
      "Name: count, dtype: int64\n",
      "\n",
      "NaN:  12842\n"
     ]
    }
   ],
   "source": [
    "values_and_nulls(df,\"Aktif olarak bir STK üyesi misiniz?\")"
   ]
  },
  {
   "cell_type": "code",
   "execution_count": 92,
   "id": "33b29aaa-9b80-4abe-8157-2116915feb42",
   "metadata": {},
   "outputs": [],
   "source": [
    "fill_missing_values(df,\"Aktif olarak bir STK üyesi misiniz?\",\"Hayır\")"
   ]
  },
  {
   "cell_type": "code",
   "execution_count": 93,
   "id": "f9e26ae3-6ab1-4735-85e1-4d3a32fee407",
   "metadata": {},
   "outputs": [
    {
     "name": "stdout",
     "output_type": "stream",
     "text": [
      "Aktif olarak bir STK üyesi misiniz?\n",
      "Hayır    55337\n",
      "Evet     20837\n",
      "Name: count, dtype: int64\n",
      "\n",
      "NaN:  0\n"
     ]
    }
   ],
   "source": [
    "values_and_nulls(df,\"Aktif olarak bir STK üyesi misiniz?\")"
   ]
  },
  {
   "cell_type": "markdown",
   "id": "a8683450-261e-414c-a29f-762a26ad7867",
   "metadata": {},
   "source": [
    "## Stk Projesine Katildiniz Mi? ✓"
   ]
  },
  {
   "cell_type": "code",
   "execution_count": 94,
   "id": "e03cf884-3e7c-4dc4-aa03-cf19c111c657",
   "metadata": {},
   "outputs": [
    {
     "name": "stdout",
     "output_type": "stream",
     "text": [
      "Stk Projesine Katildiniz Mi?\n",
      "Hayır    19661\n",
      "Evet     17156\n",
      "Name: count, dtype: int64\n",
      "\n",
      "NaN:  39357\n"
     ]
    }
   ],
   "source": [
    "values_and_nulls(df,\"Stk Projesine Katildiniz Mi?\")\n",
    "fill_missing_values(df,\"Stk Projesine Katildiniz Mi?\",\"Hayır\")"
   ]
  },
  {
   "cell_type": "code",
   "execution_count": 95,
   "id": "af3b7b29-7c12-44f9-9dcb-c4b84255ffd6",
   "metadata": {},
   "outputs": [
    {
     "name": "stdout",
     "output_type": "stream",
     "text": [
      "Stk Projesine Katildiniz Mi?\n",
      "Hayır    59018\n",
      "Evet     17156\n",
      "Name: count, dtype: int64\n",
      "\n",
      "NaN:  0\n"
     ]
    }
   ],
   "source": [
    "values_and_nulls(df,\"Stk Projesine Katildiniz Mi?\")"
   ]
  },
  {
   "cell_type": "markdown",
   "id": "705fa96f-673b-495a-80d6-113d2153a9d4",
   "metadata": {},
   "source": [
    "## Girisimcilikle Ilgili Deneyiminiz Var Mi? ✓"
   ]
  },
  {
   "cell_type": "code",
   "execution_count": 96,
   "id": "1d6336dd-f3fa-489a-882d-49eff82ff21b",
   "metadata": {},
   "outputs": [
    {
     "name": "stdout",
     "output_type": "stream",
     "text": [
      "Girisimcilikle Ilgili Deneyiminiz Var Mi?\n",
      "Hayır    41715\n",
      "Evet     21619\n",
      "Name: count, dtype: int64\n",
      "\n",
      "NaN:  12840\n"
     ]
    }
   ],
   "source": [
    "values_and_nulls(df,\"Girisimcilikle Ilgili Deneyiminiz Var Mi?\")"
   ]
  },
  {
   "cell_type": "code",
   "execution_count": 97,
   "id": "8d1eac7f-93f1-4036-883c-12089c03ab7c",
   "metadata": {},
   "outputs": [],
   "source": [
    "fill_missing_values(df,\"Girisimcilikle Ilgili Deneyiminiz Var Mi?\",\"Hayır\")"
   ]
  },
  {
   "cell_type": "code",
   "execution_count": 98,
   "id": "ffaa35b9-3dd2-461e-bc9f-a2c625aa2f5a",
   "metadata": {},
   "outputs": [
    {
     "name": "stdout",
     "output_type": "stream",
     "text": [
      "Girisimcilikle Ilgili Deneyiminiz Var Mi?\n",
      "Hayır    54555\n",
      "Evet     21619\n",
      "Name: count, dtype: int64\n",
      "\n",
      "NaN:  0\n"
     ]
    }
   ],
   "source": [
    "values_and_nulls(df,\"Girisimcilikle Ilgili Deneyiminiz Var Mi?\")"
   ]
  },
  {
   "cell_type": "markdown",
   "id": "9ab4646b-697e-471b-ae7d-c1962ad1c45c",
   "metadata": {},
   "source": [
    "## Ingilizce Biliyor musunuz?"
   ]
  },
  {
   "cell_type": "code",
   "execution_count": 99,
   "id": "730882e0-8b90-41d1-8371-160d75b9a825",
   "metadata": {},
   "outputs": [
    {
     "name": "stdout",
     "output_type": "stream",
     "text": [
      "Ingilizce Biliyor musunuz?\n",
      "Evet     57735\n",
      "Hayır    11985\n",
      "Name: count, dtype: int64\n",
      "\n",
      "NaN:  6454\n"
     ]
    }
   ],
   "source": [
    "values_and_nulls(df,\"Ingilizce Biliyor musunuz?\")"
   ]
  },
  {
   "cell_type": "code",
   "execution_count": 100,
   "id": "574f75d9-f96d-4b65-b95d-508756a04acd",
   "metadata": {},
   "outputs": [],
   "source": [
    "fill_missing_values(df,\"Ingilizce Biliyor musunuz?\",\"Hayır\")"
   ]
  },
  {
   "cell_type": "markdown",
   "id": "6c592f0e-37e4-47ce-bbed-2cbcf8c9b64d",
   "metadata": {},
   "source": [
    "## Ingilizce Seviyeniz?"
   ]
  },
  {
   "cell_type": "code",
   "execution_count": 101,
   "id": "5124917a-dfd9-4252-b1c0-e85216b00b4b",
   "metadata": {},
   "outputs": [
    {
     "name": "stdout",
     "output_type": "stream",
     "text": [
      "Ingilizce Seviyeniz?\n",
      "Orta         13057\n",
      "İleri         8318\n",
      "Başlangıç     5180\n",
      "0             2037\n",
      "Name: count, dtype: int64\n",
      "\n",
      "NaN:  47582\n"
     ]
    }
   ],
   "source": [
    "values_and_nulls(df,\"Ingilizce Seviyeniz?\")"
   ]
  },
  {
   "cell_type": "code",
   "execution_count": 102,
   "id": "ba0db7d7-ab3d-48eb-a4be-151326876eee",
   "metadata": {},
   "outputs": [
    {
     "name": "stdout",
     "output_type": "stream",
     "text": [
      "Ingilizce Seviyeniz?\n",
      "Başlangıç    52762\n",
      "Orta         13057\n",
      "İleri         8318\n",
      "0             2037\n",
      "Name: count, dtype: int64\n",
      "\n",
      "NaN:  0\n"
     ]
    }
   ],
   "source": [
    "fill_missing_values(df,\"Ingilizce Seviyeniz?\",\"Başlangıç\")\n",
    "values_and_nulls(df,\"Ingilizce Seviyeniz?\")"
   ]
  },
  {
   "cell_type": "code",
   "execution_count": 103,
   "id": "4bab4006-5af1-444f-b7ab-506df1561221",
   "metadata": {},
   "outputs": [],
   "source": [
    "zero_columns = [\n",
    "    'Lise Adi Diger',\n",
    "    'Lise Adi',\n",
    "    'Lise Bolum Diger',\n",
    "    'Daha Once Baska Bir Universiteden Mezun Olmus',\n",
    "    'Uye Oldugunuz Kulubun Ismi',\n",
    "    'Hangi STK\\'nin Uyesisiniz?',\n",
    "    'Girisimcilikle Ilgili Deneyiminizi Aciklayabilir misiniz?',\n",
    "    'Daha Önceden Mezun Olunduysa, Mezun Olunan Üniversite',\n",
    "    'Baska Kurumdan Aldigi Burs Miktari',\n",
    "    'Burs Aldigi Baska Kurum',\n",
    "    'Dogum Tarihi',\n",
    "    'Universite Adi',\n",
    "    'Bölüm',\n",
    "    'Burslu ise Burs Yuzdesi'\n",
    "]\n",
    "\n",
    "df = df.drop(columns=zero_columns, axis=1)"
   ]
  },
  {
   "cell_type": "code",
   "execution_count": 104,
   "id": "2de33482-cc38-48f5-a6a8-3d41f6128e37",
   "metadata": {},
   "outputs": [
    {
     "data": {
      "text/plain": [
       "Basvuru Yili                                                0\n",
       "Ingilizce Biliyor musunuz?                                  0\n",
       "Girisimcilikle Ilgili Deneyiminiz Var Mi?                   0\n",
       "Stk Projesine Katildiniz Mi?                                0\n",
       "Aktif olarak bir STK üyesi misiniz?                         0\n",
       "Spor Dalindaki Rolunuz Nedir?                               0\n",
       "Profesyonel Bir Spor Daliyla Mesgul musunuz?                0\n",
       "Girisimcilik Kulupleri Tarzi Bir Kulube Uye misiniz?        0\n",
       "Kardes Sayisi                                               0\n",
       "Baba Sektor                                                 0\n",
       "Baba Calisma Durumu                                         0\n",
       "Baba Egitim Durumu                                          0\n",
       "Anne Sektor                                                 0\n",
       "Anne Calisma Durumu                                         0\n",
       "Anne Egitim Durumu                                          0\n",
       "Baska Bir Kurumdan Burs Aliyor mu?                          0\n",
       "Lise Mezuniyet Notu                                         0\n",
       "Lise Bolumu                                                 0\n",
       "Lise Turu                                                   0\n",
       "Lise Sehir                                                  0\n",
       "Universite Not Ortalamasi                                   0\n",
       "Universite Kacinci Sinif                                    0\n",
       "Burs Aliyor mu?                                             0\n",
       "Universite Turu                                             0\n",
       "Ikametgah Sehri                                             0\n",
       "Dogum Yeri                                                  0\n",
       "Cinsiyet                                                    0\n",
       "Ingilizce Seviyeniz?                                        0\n",
       "id                                                          0\n",
       "Degerlendirme Puani                                     11050\n",
       "dtype: int64"
      ]
     },
     "execution_count": 104,
     "metadata": {},
     "output_type": "execute_result"
    }
   ],
   "source": [
    "df.isnull().sum().sort_values(ascending=True)"
   ]
  },
  {
   "cell_type": "markdown",
   "id": "553f15a8-f071-40b5-893f-9fc909ac45f4",
   "metadata": {},
   "source": [
    "# EDA"
   ]
  },
  {
   "cell_type": "code",
   "execution_count": 105,
   "id": "7805ac95-5058-4334-8f4d-d0dbe326d988",
   "metadata": {
    "scrolled": true
   },
   "outputs": [
    {
     "name": "stdout",
     "output_type": "stream",
     "text": [
      "###### Shape ######\n",
      "(76174, 30)\n",
      "\n",
      "###### Types ######\n",
      "Basvuru Yili                                              int64\n",
      "Degerlendirme Puani                                     float64\n",
      "Cinsiyet                                                 object\n",
      "Dogum Yeri                                               object\n",
      "Ikametgah Sehri                                          object\n",
      "Universite Turu                                          object\n",
      "Burs Aliyor mu?                                          object\n",
      "Universite Kacinci Sinif                                float64\n",
      "Universite Not Ortalamasi                                object\n",
      "Lise Sehir                                               object\n",
      "Lise Turu                                                object\n",
      "Lise Bolumu                                              object\n",
      "Lise Mezuniyet Notu                                      object\n",
      "Baska Bir Kurumdan Burs Aliyor mu?                       object\n",
      "Anne Egitim Durumu                                       object\n",
      "Anne Calisma Durumu                                      object\n",
      "Anne Sektor                                              object\n",
      "Baba Egitim Durumu                                       object\n",
      "Baba Calisma Durumu                                      object\n",
      "Baba Sektor                                              object\n",
      "Kardes Sayisi                                             int64\n",
      "Girisimcilik Kulupleri Tarzi Bir Kulube Uye misiniz?     object\n",
      "Profesyonel Bir Spor Daliyla Mesgul musunuz?             object\n",
      "Spor Dalindaki Rolunuz Nedir?                            object\n",
      "Aktif olarak bir STK üyesi misiniz?                      object\n",
      "Stk Projesine Katildiniz Mi?                             object\n",
      "Girisimcilikle Ilgili Deneyiminiz Var Mi?                object\n",
      "Ingilizce Biliyor musunuz?                               object\n",
      "Ingilizce Seviyeniz?                                     object\n",
      "id                                                        int64\n",
      "dtype: object\n",
      "\n",
      "###### Head ######\n",
      "   Basvuru Yili  Degerlendirme Puani Cinsiyet  Dogum Yeri Ikametgah Sehri  \\\n",
      "0          2014               52.000    erkek      Ankara          Ankara   \n",
      "1          2014               30.000    erkek    İstanbul        İstanbul   \n",
      "2          2014               18.000    erkek      Samsun        İstanbul   \n",
      "3          2014               40.000    erkek  Diyarbakır        İstanbul   \n",
      "4          2014               24.000    erkek      Ankara          Ankara   \n",
      "\n",
      "  Universite Turu Burs Aliyor mu?  Universite Kacinci Sinif  \\\n",
      "0            ozel            evet                     3.000   \n",
      "1            ozel           hayır                     3.000   \n",
      "2            ozel           hayır                     1.000   \n",
      "3            ozel            evet                     3.000   \n",
      "4            ozel            evet                     0.000   \n",
      "\n",
      "  Universite Not Ortalamasi  Lise Sehir Lise Turu   Lise Bolumu  \\\n",
      "0                       iyi      Ankara   anadolu       sayisal   \n",
      "1                       iyi      Ankara   anadolu       sayisal   \n",
      "2                       yok      Ankara    meslek         diger   \n",
      "3                       iyi  Diyarbakır       fen       sayisal   \n",
      "4                       iyi      Ankara      özel  esit agirlik   \n",
      "\n",
      "  Lise Mezuniyet Notu Baska Bir Kurumdan Burs Aliyor mu? Anne Egitim Durumu  \\\n",
      "0                   B                              hayır         üniversite   \n",
      "1                   B                              hayır         üniversite   \n",
      "2                   B                              hayır            ilkokul   \n",
      "3                   B                              hayır            ilkokul   \n",
      "4                   B                              hayır            ilkokul   \n",
      "\n",
      "  Anne Calisma Durumu Anne Sektor Baba Egitim Durumu Baba Calisma Durumu  \\\n",
      "0               Hayır         yok         üniversite              Emekli   \n",
      "1                Evet        kamu         üniversite              Emekli   \n",
      "2               Hayır         yok            ilkokul                Evet   \n",
      "3               Hayır         yok         üniversite              Emekli   \n",
      "4               Hayır         yok         üniversite              Emekli   \n",
      "\n",
      "  Baba Sektor  Kardes Sayisi  \\\n",
      "0         yok              1   \n",
      "1         yok              1   \n",
      "2        özel              5   \n",
      "3         yok              5   \n",
      "4         yok              1   \n",
      "\n",
      "  Girisimcilik Kulupleri Tarzi Bir Kulube Uye misiniz?  \\\n",
      "0                                               Evet     \n",
      "1                                              Hayır     \n",
      "2                                               Evet     \n",
      "3                                               Evet     \n",
      "4                                              Hayır     \n",
      "\n",
      "  Profesyonel Bir Spor Daliyla Mesgul musunuz? Spor Dalindaki Rolunuz Nedir?  \\\n",
      "0                                         Evet                         diger   \n",
      "1                                        Hayır                         diger   \n",
      "2                                        Hayır                         diger   \n",
      "3                                        Hayır                         diger   \n",
      "4                                        Hayır                         diger   \n",
      "\n",
      "  Aktif olarak bir STK üyesi misiniz? Stk Projesine Katildiniz Mi?  \\\n",
      "0                               Hayır                         Evet   \n",
      "1                               Hayır                         Evet   \n",
      "2                               Hayır                        Hayır   \n",
      "3                               Hayır                         Evet   \n",
      "4                               Hayır                        Hayır   \n",
      "\n",
      "  Girisimcilikle Ilgili Deneyiminiz Var Mi? Ingilizce Biliyor musunuz?  \\\n",
      "0                                     Hayır                      Hayır   \n",
      "1                                      Evet                      Hayır   \n",
      "2                                     Hayır                      Hayır   \n",
      "3                                     Hayır                      Hayır   \n",
      "4                                     Hayır                      Hayır   \n",
      "\n",
      "  Ingilizce Seviyeniz?  id  \n",
      "0            Başlangıç   0  \n",
      "1            Başlangıç   1  \n",
      "2            Başlangıç   2  \n",
      "3            Başlangıç   3  \n",
      "4            Başlangıç   4  \n",
      "\n",
      "###### Tail ######\n",
      "       Basvuru Yili  Degerlendirme Puani Cinsiyet Dogum Yeri Ikametgah Sehri  \\\n",
      "76169          2023                  NaN    kadın     Yozgat          Ankara   \n",
      "76170          2023                  NaN    kadın      Konya           Konya   \n",
      "76171          2023                  NaN    erkek     Ankara          Ankara   \n",
      "76172          2023                  NaN    kadın   Adıyaman        İstanbul   \n",
      "76173          2023                  NaN    kadın      Niğde          Ankara   \n",
      "\n",
      "      Universite Turu Burs Aliyor mu?  Universite Kacinci Sinif  \\\n",
      "76169          devlet           hayır                     2.000   \n",
      "76170          devlet           hayır                     3.000   \n",
      "76171          devlet           hayır                     1.000   \n",
      "76172          devlet           hayır                     4.000   \n",
      "76173          devlet           hayır                     4.000   \n",
      "\n",
      "      Universite Not Ortalamasi Lise Sehir Lise Turu Lise Bolumu  \\\n",
      "76169                      kotu      diger    devlet     sayisal   \n",
      "76170                       iyi      Konya    devlet     sayisal   \n",
      "76171                       yok     Ankara      özel     sayisal   \n",
      "76172                      kotu   İstanbul    devlet     sayisal   \n",
      "76173                       iyi      diger    devlet     sayisal   \n",
      "\n",
      "      Lise Mezuniyet Notu Baska Bir Kurumdan Burs Aliyor mu?  \\\n",
      "76169                  A+                               evet   \n",
      "76170                  A+                              hayır   \n",
      "76171                  A+                              hayır   \n",
      "76172                  A+                              hayır   \n",
      "76173                  A+                              hayır   \n",
      "\n",
      "      Anne Egitim Durumu Anne Calisma Durumu Anne Sektor Baba Egitim Durumu  \\\n",
      "76169            ilkokul               Hayır         yok           ortaokul   \n",
      "76170            ilkokul               Hayır         yok            ilkokul   \n",
      "76171            ilkokul               Hayır         yok         üniversite   \n",
      "76172            ilkokul               Hayır         yok           ortaokul   \n",
      "76173            ilkokul               Hayır         yok         üniversite   \n",
      "\n",
      "      Baba Calisma Durumu Baba Sektor  Kardes Sayisi  \\\n",
      "76169               Hayır         yok              0   \n",
      "76170                Evet        kamu              3   \n",
      "76171                Evet       diger              2   \n",
      "76172                Evet       diger              2   \n",
      "76173                Evet        özel              3   \n",
      "\n",
      "      Girisimcilik Kulupleri Tarzi Bir Kulube Uye misiniz?  \\\n",
      "76169                                               Evet     \n",
      "76170                                               Evet     \n",
      "76171                                               Evet     \n",
      "76172                                               Evet     \n",
      "76173                                              Hayır     \n",
      "\n",
      "      Profesyonel Bir Spor Daliyla Mesgul musunuz?  \\\n",
      "76169                                        Hayır   \n",
      "76170                                        Hayır   \n",
      "76171                                         Evet   \n",
      "76172                                         Evet   \n",
      "76173                                        Hayır   \n",
      "\n",
      "      Spor Dalindaki Rolunuz Nedir? Aktif olarak bir STK üyesi misiniz?  \\\n",
      "76169                           yok                                Evet   \n",
      "76170                           yok                                Evet   \n",
      "76171                         diger                                Evet   \n",
      "76172                      bireysel                                Evet   \n",
      "76173                           yok                                Evet   \n",
      "\n",
      "      Stk Projesine Katildiniz Mi? Girisimcilikle Ilgili Deneyiminiz Var Mi?  \\\n",
      "76169                        Hayır                                     Hayır   \n",
      "76170                        Hayır                                     Hayır   \n",
      "76171                        Hayır                                     Hayır   \n",
      "76172                        Hayır                                      Evet   \n",
      "76173                        Hayır                                     Hayır   \n",
      "\n",
      "      Ingilizce Biliyor musunuz? Ingilizce Seviyeniz?     id  \n",
      "76169                       Evet            Başlangıç  11044  \n",
      "76170                      Hayır            Başlangıç  11045  \n",
      "76171                       Evet            Başlangıç  11046  \n",
      "76172                       Evet            Başlangıç  11047  \n",
      "76173                       Evet            Başlangıç  11048  \n",
      "\n",
      "###### NaN ######\n",
      "Basvuru Yili                                                0\n",
      "Degerlendirme Puani                                     11050\n",
      "Cinsiyet                                                    0\n",
      "Dogum Yeri                                                  0\n",
      "Ikametgah Sehri                                             0\n",
      "Universite Turu                                             0\n",
      "Burs Aliyor mu?                                             0\n",
      "Universite Kacinci Sinif                                    0\n",
      "Universite Not Ortalamasi                                   0\n",
      "Lise Sehir                                                  0\n",
      "Lise Turu                                                   0\n",
      "Lise Bolumu                                                 0\n",
      "Lise Mezuniyet Notu                                         0\n",
      "Baska Bir Kurumdan Burs Aliyor mu?                          0\n",
      "Anne Egitim Durumu                                          0\n",
      "Anne Calisma Durumu                                         0\n",
      "Anne Sektor                                                 0\n",
      "Baba Egitim Durumu                                          0\n",
      "Baba Calisma Durumu                                         0\n",
      "Baba Sektor                                                 0\n",
      "Kardes Sayisi                                               0\n",
      "Girisimcilik Kulupleri Tarzi Bir Kulube Uye misiniz?        0\n",
      "Profesyonel Bir Spor Daliyla Mesgul musunuz?                0\n",
      "Spor Dalindaki Rolunuz Nedir?                               0\n",
      "Aktif olarak bir STK üyesi misiniz?                         0\n",
      "Stk Projesine Katildiniz Mi?                                0\n",
      "Girisimcilikle Ilgili Deneyiminiz Var Mi?                   0\n",
      "Ingilizce Biliyor musunuz?                                  0\n",
      "Ingilizce Seviyeniz?                                        0\n",
      "id                                                          0\n",
      "dtype: int64\n",
      "\n",
      "###### Quantiles ######\n",
      "                             count      mean       std      min      25%  \\\n",
      "Basvuru Yili             76174.000  2018.962     2.977 2014.000 2016.000   \n",
      "Degerlendirme Puani      65124.000    32.086    18.139    0.000   18.000   \n",
      "Universite Kacinci Sinif 76174.000     2.510     1.117    0.000    2.000   \n",
      "Kardes Sayisi            76174.000     2.032     1.370    0.000    1.000   \n",
      "id                       76174.000 28640.152 19857.279    0.000 9521.250   \n",
      "\n",
      "                               50%       75%       max  \n",
      "Basvuru Yili              2019.000  2021.000  2023.000  \n",
      "Degerlendirme Puani         29.000    44.000   102.000  \n",
      "Universite Kacinci Sinif     2.000     3.000     5.000  \n",
      "Kardes Sayisi                2.000     3.000     5.000  \n",
      "id                       27037.500 46080.750 65124.000  \n"
     ]
    }
   ],
   "source": [
    "def check_df(dataframe, head=5):\n",
    "    print(\"###### Shape ######\")\n",
    "    print(dataframe.shape)\n",
    "    \n",
    "    print(\"\\n###### Types ######\")\n",
    "    print(dataframe.dtypes)\n",
    "    \n",
    "    print(\"\\n###### Head ######\")\n",
    "    print(dataframe.head(head))\n",
    "    \n",
    "    print(\"\\n###### Tail ######\")\n",
    "    print(dataframe.tail(head))\n",
    "\n",
    "    print(\"\\n###### NaN ######\")\n",
    "    print(dataframe.isnull().sum())\n",
    "\n",
    "    print(\"\\n###### Quantiles ######\")\n",
    "    print(dataframe.describe().T)\n",
    "\n",
    "check_df(df)"
   ]
  },
  {
   "cell_type": "code",
   "execution_count": 106,
   "id": "301c219c-83af-4cfb-b1f2-e25ff7580d81",
   "metadata": {},
   "outputs": [
    {
     "data": {
      "text/html": [
       "<div>\n",
       "<style scoped>\n",
       "    .dataframe tbody tr th:only-of-type {\n",
       "        vertical-align: middle;\n",
       "    }\n",
       "\n",
       "    .dataframe tbody tr th {\n",
       "        vertical-align: top;\n",
       "    }\n",
       "\n",
       "    .dataframe thead th {\n",
       "        text-align: right;\n",
       "    }\n",
       "</style>\n",
       "<table border=\"1\" class=\"dataframe\">\n",
       "  <thead>\n",
       "    <tr style=\"text-align: right;\">\n",
       "      <th></th>\n",
       "      <th>0.000</th>\n",
       "      <th>0.050</th>\n",
       "      <th>0.500</th>\n",
       "      <th>0.950</th>\n",
       "      <th>0.990</th>\n",
       "      <th>1.000</th>\n",
       "    </tr>\n",
       "  </thead>\n",
       "  <tbody>\n",
       "    <tr>\n",
       "      <th>Basvuru Yili</th>\n",
       "      <td>2014.000</td>\n",
       "      <td>2014.000</td>\n",
       "      <td>2019.000</td>\n",
       "      <td>2023.000</td>\n",
       "      <td>2023.000</td>\n",
       "      <td>2023.000</td>\n",
       "    </tr>\n",
       "    <tr>\n",
       "      <th>Degerlendirme Puani</th>\n",
       "      <td>0.000</td>\n",
       "      <td>7.000</td>\n",
       "      <td>29.000</td>\n",
       "      <td>66.000</td>\n",
       "      <td>78.000</td>\n",
       "      <td>102.000</td>\n",
       "    </tr>\n",
       "    <tr>\n",
       "      <th>Universite Kacinci Sinif</th>\n",
       "      <td>0.000</td>\n",
       "      <td>1.000</td>\n",
       "      <td>2.000</td>\n",
       "      <td>4.000</td>\n",
       "      <td>5.000</td>\n",
       "      <td>5.000</td>\n",
       "    </tr>\n",
       "    <tr>\n",
       "      <th>Kardes Sayisi</th>\n",
       "      <td>0.000</td>\n",
       "      <td>0.000</td>\n",
       "      <td>2.000</td>\n",
       "      <td>5.000</td>\n",
       "      <td>5.000</td>\n",
       "      <td>5.000</td>\n",
       "    </tr>\n",
       "    <tr>\n",
       "      <th>id</th>\n",
       "      <td>0.000</td>\n",
       "      <td>1904.000</td>\n",
       "      <td>27037.500</td>\n",
       "      <td>61315.350</td>\n",
       "      <td>64362.270</td>\n",
       "      <td>65124.000</td>\n",
       "    </tr>\n",
       "  </tbody>\n",
       "</table>\n",
       "</div>"
      ],
      "text/plain": [
       "                            0.000    0.050     0.500     0.950     0.990  \\\n",
       "Basvuru Yili             2014.000 2014.000  2019.000  2023.000  2023.000   \n",
       "Degerlendirme Puani         0.000    7.000    29.000    66.000    78.000   \n",
       "Universite Kacinci Sinif    0.000    1.000     2.000     4.000     5.000   \n",
       "Kardes Sayisi               0.000    0.000     2.000     5.000     5.000   \n",
       "id                          0.000 1904.000 27037.500 61315.350 64362.270   \n",
       "\n",
       "                             1.000  \n",
       "Basvuru Yili              2023.000  \n",
       "Degerlendirme Puani        102.000  \n",
       "Universite Kacinci Sinif     5.000  \n",
       "Kardes Sayisi                5.000  \n",
       "id                       65124.000  "
      ]
     },
     "execution_count": 106,
     "metadata": {},
     "output_type": "execute_result"
    }
   ],
   "source": [
    "numeric_columns = df.select_dtypes(include=[np.number])\n",
    "numeric_columns.quantile([0, 0.05, 0.5, 0.95, 0.99, 1]).T"
   ]
  },
  {
   "cell_type": "code",
   "execution_count": 107,
   "id": "1bfeae89-879a-4b3a-b842-65f2f1d4c796",
   "metadata": {},
   "outputs": [],
   "source": [
    "def grab_col_names(dataframe, cat_th=10, car_th=20):\n",
    "    \"\"\"\n",
    "    Veri setindeki kategorik, numerik ve kategorik fakat kardinal değişkenlerin isimlerini verir\n",
    "    \n",
    "    Parameters\n",
    "    ----------\n",
    "    dataframe: dataframe\n",
    "        değişken isimleri alınmak istenen dataframe'dir.\n",
    "    cat_th: int, float\n",
    "        numerik fakat kategorik olan değişkenler için sınıf eşik değeri\n",
    "    car_th: int, float\n",
    "        kategorik fakat kardinal değişkenler için sınıf eşik değeri\n",
    "\n",
    "    Returns\n",
    "    -------\n",
    "    cat_cols: list\n",
    "        Kategorik değişken listesi\n",
    "    num_cols: list\n",
    "        Numerik değişken listesi\n",
    "    cat_but_car: list\n",
    "        Kategorik görünümlü kardinal değişken listesi\n",
    "\n",
    "    Notes\n",
    "    -----\n",
    "    cat_cols + num_cols + cat_but_car = toplam değişken sayısı\n",
    "    num_but_cat , cat_cols'un içerisinde.\n",
    "    \n",
    "    \"\"\"\n",
    "\n",
    "    cat_cols = [col for col in dataframe.columns if dataframe[col].dtypes == \"O\"]\n",
    "\n",
    "    num_but_cat = [col for col in dataframe.columns if dataframe[col].nunique() < cat_th and\n",
    "                   dataframe[col].dtypes != \"O\"]\n",
    "\n",
    "    cat_but_car = [col for col in dataframe.columns if dataframe[col].nunique() > car_th and\n",
    "                   dataframe[col].dtypes == \"O\"]\n",
    "\n",
    "    cat_cols = cat_cols + num_but_cat\n",
    "    cat_cols = [col for col in cat_cols if col not in cat_but_car]\n",
    "\n",
    "    num_cols = [col for col in dataframe.columns if dataframe[col].dtypes != \"O\"]\n",
    "    num_cols = [col for col in num_cols if col not in num_but_cat]\n",
    "\n",
    "    print(f\"Observations: {dataframe.shape[0]}\")\n",
    "    print(f\"Variables: {dataframe.shape[1]}\")\n",
    "    print(f'cat_cols: {len(cat_cols)}')\n",
    "    print(f'num_cols: {len(num_cols)}')\n",
    "    print(f'cat_but_car: {len(cat_but_car)}')\n",
    "    print(f'num_but_cat: {len(num_but_cat)}')\n",
    "\n",
    "    # cat_cols + num_cols + cat_but_car = değişken sayısı.\n",
    "    # num_but_cat cat_cols'un içerisinde zaten.\n",
    "    # dolayısıyla tüm şu 3 liste ile tüm değişkenler seçilmiş olacaktır: cat_cols + num_cols + cat_but_car\n",
    "    # num_but_cat sadece raporlama için verilmiştir.\n",
    "\n",
    "    return cat_cols, cat_but_car, num_cols"
   ]
  },
  {
   "cell_type": "code",
   "execution_count": 108,
   "id": "9f268d8a-1d43-47a0-b893-f57a85bb789f",
   "metadata": {},
   "outputs": [
    {
     "name": "stdout",
     "output_type": "stream",
     "text": [
      "Observations: 76174\n",
      "Variables: 30\n",
      "cat_cols: 24\n",
      "num_cols: 3\n",
      "cat_but_car: 3\n",
      "num_but_cat: 2\n"
     ]
    }
   ],
   "source": [
    "cat_cols , cat_but_car, num_cols = grab_col_names(df)"
   ]
  },
  {
   "cell_type": "code",
   "execution_count": 109,
   "id": "c2d3585a-92a9-4258-9150-a39d73a4f4bc",
   "metadata": {},
   "outputs": [
    {
     "data": {
      "text/plain": [
       "['Dogum Yeri', 'Ikametgah Sehri', 'Lise Sehir']"
      ]
     },
     "execution_count": 109,
     "metadata": {},
     "output_type": "execute_result"
    }
   ],
   "source": [
    "cat_but_car"
   ]
  },
  {
   "cell_type": "code",
   "execution_count": 110,
   "id": "5f5a5154-e7e8-4b5c-8fa4-2f4d157f323e",
   "metadata": {},
   "outputs": [
    {
     "name": "stdout",
     "output_type": "stream",
     "text": [
      "          Cinsiyet  Ratio\n",
      "Cinsiyet                 \n",
      "kadın        38455 50.483\n",
      "erkek        37719 49.517\n"
     ]
    },
    {
     "data": {
      "image/png": "[encoded data removed]",
      "text/plain": [
       "<Figure size 640x480 with 1 Axes>"
      ]
     },
     "metadata": {},
     "output_type": "display_data"
    },
    {
     "name": "stdout",
     "output_type": "stream",
     "text": [
      "                 Universite Turu  Ratio\n",
      "Universite Turu                        \n",
      "devlet                     62732 82.354\n",
      "ozel                       13442 17.646\n"
     ]
    },
    {
     "data": {
      "image/png": "[encoded data removed]",
      "text/plain": [
       "<Figure size 640x480 with 1 Axes>"
      ]
     },
     "metadata": {},
     "output_type": "display_data"
    },
    {
     "name": "stdout",
     "output_type": "stream",
     "text": [
      "                 Burs Aliyor mu?  Ratio\n",
      "Burs Aliyor mu?                        \n",
      "hayır                      61650 80.933\n",
      "evet                       14524 19.067\n"
     ]
    },
    {
     "data": {
      "image/png": "[encoded data removed]",
      "text/plain": [
       "<Figure size 640x480 with 1 Axes>"
      ]
     },
     "metadata": {},
     "output_type": "display_data"
    },
    {
     "name": "stdout",
     "output_type": "stream",
     "text": [
      "                           Universite Not Ortalamasi  Ratio\n",
      "Universite Not Ortalamasi                                  \n",
      "iyi                                            45681 59.969\n",
      "kotu                                           22566 29.624\n",
      "yok                                             7927 10.406\n"
     ]
    },
    {
     "data": {
      "image/png": "[encoded data removed]",
      "text/plain": [
       "<Figure size 640x480 with 1 Axes>"
      ]
     },
     "metadata": {},
     "output_type": "display_data"
    },
    {
     "name": "stdout",
     "output_type": "stream",
     "text": [
      "            Lise Turu  Ratio\n",
      "Lise Turu                   \n",
      "anadolu         20369 26.740\n",
      "devlet          15446 20.277\n",
      "diger           14031 18.420\n",
      "özel             8848 11.616\n",
      "düz              6968  9.147\n",
      "meslek           6535  8.579\n",
      "fen              2819  3.701\n",
      "imam hatip       1158  1.520\n"
     ]
    },
    {
     "data": {
      "image/png": "[encoded data removed]",
      "text/plain": [
       "<Figure size 640x480 with 1 Axes>"
      ]
     },
     "metadata": {},
     "output_type": "display_data"
    },
    {
     "name": "stdout",
     "output_type": "stream",
     "text": [
      "              Lise Bolumu  Ratio\n",
      "Lise Bolumu                     \n",
      "sayisal             40360 52.984\n",
      "esit agirlik        24266 31.856\n",
      "diger                4857  6.376\n",
      "sozel                4856  6.375\n",
      "dil                  1835  2.409\n"
     ]
    },
    {
     "data": {
      "image/png": "[encoded data removed]",
      "text/plain": [
       "<Figure size 640x480 with 1 Axes>"
      ]
     },
     "metadata": {},
     "output_type": "display_data"
    },
    {
     "name": "stdout",
     "output_type": "stream",
     "text": [
      "                     Lise Mezuniyet Notu  Ratio\n",
      "Lise Mezuniyet Notu                            \n",
      "A+                                 42831 56.228\n",
      "B                                  17331 22.752\n",
      "A                                   9964 13.081\n",
      "C                                   6048  7.940\n"
     ]
    },
    {
     "data": {
      "image/png": "[encoded data removed]",
      "text/plain": [
       "<Figure size 640x480 with 1 Axes>"
      ]
     },
     "metadata": {},
     "output_type": "display_data"
    },
    {
     "name": "stdout",
     "output_type": "stream",
     "text": [
      "                                    Baska Bir Kurumdan Burs Aliyor mu?  Ratio\n",
      "Baska Bir Kurumdan Burs Aliyor mu?                                           \n",
      "hayır                                                            55402 72.731\n",
      "evet                                                             20772 27.269\n"
     ]
    },
    {
     "data": {
      "image/png": "[encoded data removed]",
      "text/plain": [
       "<Figure size 640x480 with 1 Axes>"
      ]
     },
     "metadata": {},
     "output_type": "display_data"
    },
    {
     "name": "stdout",
     "output_type": "stream",
     "text": [
      "                    Anne Egitim Durumu  Ratio\n",
      "Anne Egitim Durumu                           \n",
      "ilkokul                          30128 39.552\n",
      "lise                             15757 20.686\n",
      "üniversite                       11770 15.451\n",
      "yok                              10214 13.409\n",
      "ortaokul                          8305 10.903\n"
     ]
    },
    {
     "data": {
      "image/png": "[encoded data removed]",
      "text/plain": [
       "<Figure size 640x480 with 1 Axes>"
      ]
     },
     "metadata": {},
     "output_type": "display_data"
    },
    {
     "name": "stdout",
     "output_type": "stream",
     "text": [
      "                     Anne Calisma Durumu  Ratio\n",
      "Anne Calisma Durumu                            \n",
      "Hayır                              59958 78.712\n",
      "Evet                               12862 16.885\n",
      "Emekli                              3354  4.403\n"
     ]
    },
    {
     "data": {
      "image/png": "[encoded data removed]",
      "text/plain": [
       "<Figure size 640x480 with 1 Axes>"
      ]
     },
     "metadata": {},
     "output_type": "display_data"
    },
    {
     "name": "stdout",
     "output_type": "stream",
     "text": [
      "             Anne Sektor  Ratio\n",
      "Anne Sektor                    \n",
      "yok                60773 79.782\n",
      "özel                7154  9.392\n",
      "kamu                6138  8.058\n",
      "diger               2109  2.769\n"
     ]
    },
    {
     "data": {
      "image/png": "[encoded data removed]",
      "text/plain": [
       "<Figure size 640x480 with 1 Axes>"
      ]
     },
     "metadata": {},
     "output_type": "display_data"
    },
    {
     "name": "stdout",
     "output_type": "stream",
     "text": [
      "                    Baba Egitim Durumu  Ratio\n",
      "Baba Egitim Durumu                           \n",
      "ilkokul                          22574 29.635\n",
      "üniversite                       20110 26.400\n",
      "lise                             18601 24.419\n",
      "ortaokul                         10846 14.238\n",
      "yok                               4043  5.308\n"
     ]
    },
    {
     "data": {
      "image/png": "[encoded data removed]",
      "text/plain": [
       "<Figure size 640x480 with 1 Axes>"
      ]
     },
     "metadata": {},
     "output_type": "display_data"
    },
    {
     "name": "stdout",
     "output_type": "stream",
     "text": [
      "                     Baba Calisma Durumu  Ratio\n",
      "Baba Calisma Durumu                            \n",
      "Evet                               34736 45.601\n",
      "Hayır                              29976 39.352\n",
      "Emekli                             11462 15.047\n"
     ]
    },
    {
     "data": {
      "image/png": "[encoded data removed]",
      "text/plain": [
       "<Figure size 640x480 with 1 Axes>"
      ]
     },
     "metadata": {},
     "output_type": "display_data"
    },
    {
     "name": "stdout",
     "output_type": "stream",
     "text": [
      "             Baba Sektor  Ratio\n",
      "Baba Sektor                    \n",
      "yok                34831 45.726\n",
      "özel               18406 24.163\n",
      "kamu               12019 15.778\n",
      "diger              10918 14.333\n"
     ]
    },
    {
     "data": {
      "image/png": "[encoded data removed]",
      "text/plain": [
       "<Figure size 640x480 with 1 Axes>"
      ]
     },
     "metadata": {},
     "output_type": "display_data"
    },
    {
     "name": "stdout",
     "output_type": "stream",
     "text": [
      "                                                    Girisimcilik Kulupleri Tarzi Bir Kulube Uye misiniz?  \\\n",
      "Girisimcilik Kulupleri Tarzi Bir Kulube Uye mis...                                                         \n",
      "Hayır                                                                                           41479      \n",
      "Evet                                                                                            34695      \n",
      "\n",
      "                                                    Ratio  \n",
      "Girisimcilik Kulupleri Tarzi Bir Kulube Uye mis...         \n",
      "Hayır                                              54.453  \n",
      "Evet                                               45.547  \n"
     ]
    },
    {
     "data": {
      "image/png": "[encoded data removed]",
      "text/plain": [
       "<Figure size 640x480 with 1 Axes>"
      ]
     },
     "metadata": {},
     "output_type": "display_data"
    },
    {
     "name": "stdout",
     "output_type": "stream",
     "text": [
      "                                              Profesyonel Bir Spor Daliyla Mesgul musunuz?  \\\n",
      "Profesyonel Bir Spor Daliyla Mesgul musunuz?                                                 \n",
      "Hayır                                                                                49780   \n",
      "Evet                                                                                 26394   \n",
      "\n",
      "                                              Ratio  \n",
      "Profesyonel Bir Spor Daliyla Mesgul musunuz?         \n",
      "Hayır                                        65.350  \n",
      "Evet                                         34.650  \n"
     ]
    },
    {
     "data": {
      "image/png": "[encoded data removed]",
      "text/plain": [
       "<Figure size 640x480 with 1 Axes>"
      ]
     },
     "metadata": {},
     "output_type": "display_data"
    },
    {
     "name": "stdout",
     "output_type": "stream",
     "text": [
      "                               Spor Dalindaki Rolunuz Nedir?  Ratio\n",
      "Spor Dalindaki Rolunuz Nedir?                                      \n",
      "yok                                                    42767 56.144\n",
      "diger                                                  24964 32.772\n",
      "kaptan                                                  4237  5.562\n",
      "bireysel                                                4206  5.522\n"
     ]
    },
    {
     "data": {
      "image/png": "[encoded data removed]",
      "text/plain": [
       "<Figure size 640x480 with 1 Axes>"
      ]
     },
     "metadata": {},
     "output_type": "display_data"
    },
    {
     "name": "stdout",
     "output_type": "stream",
     "text": [
      "                                     Aktif olarak bir STK üyesi misiniz?  \\\n",
      "Aktif olarak bir STK üyesi misiniz?                                        \n",
      "Hayır                                                              55337   \n",
      "Evet                                                               20837   \n",
      "\n",
      "                                     Ratio  \n",
      "Aktif olarak bir STK üyesi misiniz?         \n",
      "Hayır                               72.646  \n",
      "Evet                                27.354  \n"
     ]
    },
    {
     "data": {
      "image/png": "[encoded data removed]",
      "text/plain": [
       "<Figure size 640x480 with 1 Axes>"
      ]
     },
     "metadata": {},
     "output_type": "display_data"
    },
    {
     "name": "stdout",
     "output_type": "stream",
     "text": [
      "                              Stk Projesine Katildiniz Mi?  Ratio\n",
      "Stk Projesine Katildiniz Mi?                                     \n",
      "Hayır                                                59018 77.478\n",
      "Evet                                                 17156 22.522\n"
     ]
    },
    {
     "data": {
      "image/png": "[encoded data removed]",
      "text/plain": [
       "<Figure size 640x480 with 1 Axes>"
      ]
     },
     "metadata": {},
     "output_type": "display_data"
    },
    {
     "name": "stdout",
     "output_type": "stream",
     "text": [
      "                                           Girisimcilikle Ilgili Deneyiminiz Var Mi?  \\\n",
      "Girisimcilikle Ilgili Deneyiminiz Var Mi?                                              \n",
      "Hayır                                                                          54555   \n",
      "Evet                                                                           21619   \n",
      "\n",
      "                                           Ratio  \n",
      "Girisimcilikle Ilgili Deneyiminiz Var Mi?         \n",
      "Hayır                                     71.619  \n",
      "Evet                                      28.381  \n"
     ]
    },
    {
     "data": {
      "image/png": "[encoded data removed]",
      "text/plain": [
       "<Figure size 640x480 with 1 Axes>"
      ]
     },
     "metadata": {},
     "output_type": "display_data"
    },
    {
     "name": "stdout",
     "output_type": "stream",
     "text": [
      "                            Ingilizce Biliyor musunuz?  Ratio\n",
      "Ingilizce Biliyor musunuz?                                   \n",
      "Evet                                             57735 75.794\n",
      "Hayır                                            18439 24.206\n"
     ]
    },
    {
     "data": {
      "image/png": "[encoded data removed]",
      "text/plain": [
       "<Figure size 640x480 with 1 Axes>"
      ]
     },
     "metadata": {},
     "output_type": "display_data"
    },
    {
     "name": "stdout",
     "output_type": "stream",
     "text": [
      "                      Ingilizce Seviyeniz?  Ratio\n",
      "Ingilizce Seviyeniz?                             \n",
      "Başlangıç                            52762 69.265\n",
      "Orta                                 13057 17.141\n",
      "İleri                                 8318 10.920\n",
      "0                                     2037  2.674\n"
     ]
    },
    {
     "data": {
      "image/png": "[encoded data removed]",
      "text/plain": [
       "<Figure size 640x480 with 1 Axes>"
      ]
     },
     "metadata": {},
     "output_type": "display_data"
    },
    {
     "name": "stdout",
     "output_type": "stream",
     "text": [
      "                          Universite Kacinci Sinif  Ratio\n",
      "Universite Kacinci Sinif                                 \n",
      "2.000                                        25088 32.935\n",
      "3.000                                        19995 26.249\n",
      "4.000                                        15579 20.452\n",
      "1.000                                        12063 15.836\n",
      "0.000                                         2118  2.780\n",
      "5.000                                         1331  1.747\n"
     ]
    },
    {
     "data": {
      "image/png": "[encoded data removed]",
      "text/plain": [
       "<Figure size 640x480 with 1 Axes>"
      ]
     },
     "metadata": {},
     "output_type": "display_data"
    },
    {
     "name": "stdout",
     "output_type": "stream",
     "text": [
      "               Kardes Sayisi  Ratio\n",
      "Kardes Sayisi                      \n",
      "1                      25853 33.939\n",
      "2                      19821 26.021\n",
      "3                      10311 13.536\n",
      "4                       8030 10.542\n",
      "0                       6919  9.083\n",
      "5                       5240  6.879\n"
     ]
    },
    {
     "data": {
      "image/png": "[encoded data removed]",
      "text/plain": [
       "<Figure size 640x480 with 1 Axes>"
      ]
     },
     "metadata": {},
     "output_type": "display_data"
    }
   ],
   "source": [
    "def cat_summary(dataframe, col_name, plot=True):\n",
    "    print(pd.DataFrame({col_name: dataframe[col_name].value_counts(),\n",
    "                        \"Ratio\": 100 * dataframe[col_name].value_counts() / len(dataframe)}))\n",
    "\n",
    "    if plot:\n",
    "        sns.countplot(x=dataframe[col_name], data=dataframe)\n",
    "        plt.show()\n",
    "\n",
    "\n",
    "for col in cat_cols:\n",
    "    cat_summary(df, col)"
   ]
  },
  {
   "cell_type": "code",
   "execution_count": 111,
   "id": "621d41f4-3c31-491b-80dd-dac6416ec070",
   "metadata": {},
   "outputs": [
    {
     "name": "stdout",
     "output_type": "stream",
     "text": [
      "count   76174.000\n",
      "mean     2018.962\n",
      "std         2.977\n",
      "min      2014.000\n",
      "5%       2014.000\n",
      "10%      2015.000\n",
      "20%      2016.000\n",
      "30%      2017.000\n",
      "40%      2018.000\n",
      "50%      2019.000\n",
      "60%      2020.000\n",
      "70%      2021.000\n",
      "80%      2022.000\n",
      "90%      2023.000\n",
      "95%      2023.000\n",
      "99%      2023.000\n",
      "max      2023.000\n",
      "Name: Basvuru Yili, dtype: float64\n"
     ]
    },
    {
     "data": {
      "image/png": "[encoded data removed]",
      "text/plain": [
       "<Figure size 640x480 with 1 Axes>"
      ]
     },
     "metadata": {},
     "output_type": "display_data"
    },
    {
     "name": "stdout",
     "output_type": "stream",
     "text": [
      "#####################################\n",
      "count   65124.000\n",
      "mean       32.086\n",
      "std        18.139\n",
      "min         0.000\n",
      "5%          7.000\n",
      "10%        10.000\n",
      "20%        15.000\n",
      "30%        20.000\n",
      "40%        24.000\n",
      "50%        29.000\n",
      "60%        34.000\n",
      "70%        40.000\n",
      "80%        48.000\n",
      "90%        58.000\n",
      "95%        66.000\n",
      "99%        78.000\n",
      "max       102.000\n",
      "Name: Degerlendirme Puani, dtype: float64\n"
     ]
    },
    {
     "data": {
      "image/png": "[encoded data removed]",
      "text/plain": [
       "<Figure size 640x480 with 1 Axes>"
      ]
     },
     "metadata": {},
     "output_type": "display_data"
    },
    {
     "name": "stdout",
     "output_type": "stream",
     "text": [
      "#####################################\n",
      "count   76174.000\n",
      "mean    28640.152\n",
      "std     19857.279\n",
      "min         0.000\n",
      "5%       1904.000\n",
      "10%      3808.300\n",
      "20%      7617.000\n",
      "30%     11802.900\n",
      "40%     19420.200\n",
      "50%     27037.500\n",
      "60%     34654.800\n",
      "70%     42272.100\n",
      "80%     49889.400\n",
      "90%     57506.700\n",
      "95%     61315.350\n",
      "99%     64362.270\n",
      "max     65124.000\n",
      "Name: id, dtype: float64\n"
     ]
    },
    {
     "data": {
      "image/png": "[encoded data removed]",
      "text/plain": [
       "<Figure size 640x480 with 1 Axes>"
      ]
     },
     "metadata": {},
     "output_type": "display_data"
    },
    {
     "name": "stdout",
     "output_type": "stream",
     "text": [
      "#####################################\n"
     ]
    }
   ],
   "source": [
    "def num_summary(dataframe, numerical_col, plot=True):\n",
    "    quantiles = [0.05, 0.10, 0.20, 0.30, 0.40, 0.50, 0.60, 0.70, 0.80, 0.90, 0.95, 0.99]\n",
    "    print(dataframe[numerical_col].describe(quantiles).T)\n",
    "\n",
    "    if plot:\n",
    "        dataframe[numerical_col].hist(bins=50)\n",
    "        plt.xlabel(numerical_col)\n",
    "        plt.title(numerical_col)\n",
    "        plt.show()\n",
    "\n",
    "    print(\"#####################################\")\n",
    "\n",
    "\n",
    "for col in num_cols:\n",
    "    num_summary(df, col, True)"
   ]
  },
  {
   "cell_type": "code",
   "execution_count": 112,
   "id": "e163430a-c89a-4611-9387-c83996afad04",
   "metadata": {
    "scrolled": true
   },
   "outputs": [
    {
     "name": "stdout",
     "output_type": "stream",
     "text": [
      "          TARGET_MEAN\n",
      "Cinsiyet             \n",
      "erkek          31.746\n",
      "kadın          32.437\n",
      "\n",
      "\n",
      "                 TARGET_MEAN\n",
      "Universite Turu             \n",
      "devlet                31.001\n",
      "ozel                  37.092\n",
      "\n",
      "\n",
      "                 TARGET_MEAN\n",
      "Burs Aliyor mu?             \n",
      "evet                  35.594\n",
      "hayır                 31.222\n",
      "\n",
      "\n",
      "                           TARGET_MEAN\n",
      "Universite Not Ortalamasi             \n",
      "iyi                             34.203\n",
      "kotu                            30.582\n",
      "yok                             24.893\n",
      "\n",
      "\n",
      "            TARGET_MEAN\n",
      "Lise Turu              \n",
      "anadolu          35.163\n",
      "devlet           30.817\n",
      "diger            29.870\n",
      "düz              29.843\n",
      "fen              39.023\n",
      "imam hatip       22.531\n",
      "meslek           26.336\n",
      "özel             35.073\n",
      "\n",
      "\n",
      "              TARGET_MEAN\n",
      "Lise Bolumu              \n",
      "diger              28.378\n",
      "dil                30.741\n",
      "esit agirlik       31.761\n",
      "sayisal            33.480\n",
      "sozel              26.553\n",
      "\n",
      "\n",
      "                     TARGET_MEAN\n",
      "Lise Mezuniyet Notu             \n",
      "A                         23.782\n",
      "A+                        31.770\n",
      "B                         26.948\n",
      "C                         60.464\n",
      "\n",
      "\n",
      "                                    TARGET_MEAN\n",
      "Baska Bir Kurumdan Burs Aliyor mu?             \n",
      "evet                                     31.600\n",
      "hayır                                    32.250\n",
      "\n",
      "\n",
      "                    TARGET_MEAN\n",
      "Anne Egitim Durumu             \n",
      "ilkokul                  29.287\n",
      "lise                     35.626\n",
      "ortaokul                 32.416\n",
      "yok                      25.008\n",
      "üniversite               40.816\n",
      "\n",
      "\n",
      "                     TARGET_MEAN\n",
      "Anne Calisma Durumu             \n",
      "Emekli                    39.504\n",
      "Evet                      37.514\n",
      "Hayır                     30.489\n",
      "\n",
      "\n",
      "             TARGET_MEAN\n",
      "Anne Sektor             \n",
      "diger             32.585\n",
      "kamu              40.310\n",
      "yok               31.000\n",
      "özel              34.308\n",
      "\n",
      "\n",
      "                    TARGET_MEAN\n",
      "Baba Egitim Durumu             \n",
      "ilkokul                  27.658\n",
      "lise                     33.315\n",
      "ortaokul                 30.201\n",
      "yok                      25.469\n",
      "üniversite               38.423\n",
      "\n",
      "\n",
      "                     TARGET_MEAN\n",
      "Baba Calisma Durumu             \n",
      "Emekli                    34.290\n",
      "Evet                      34.070\n",
      "Hayır                     28.824\n",
      "\n",
      "\n",
      "             TARGET_MEAN\n",
      "Baba Sektor             \n",
      "diger             29.718\n",
      "kamu              35.914\n",
      "yok               30.973\n",
      "özel              33.085\n",
      "\n",
      "\n",
      "                                                    TARGET_MEAN\n",
      "Girisimcilik Kulupleri Tarzi Bir Kulube Uye mis...             \n",
      "Evet                                                     43.863\n",
      "Hayır                                                    22.283\n",
      "\n",
      "\n",
      "                                              TARGET_MEAN\n",
      "Profesyonel Bir Spor Daliyla Mesgul musunuz?             \n",
      "Evet                                               40.956\n",
      "Hayır                                              27.634\n",
      "\n",
      "\n",
      "                               TARGET_MEAN\n",
      "Spor Dalindaki Rolunuz Nedir?             \n",
      "bireysel                            40.316\n",
      "diger                               35.402\n",
      "kaptan                              49.409\n",
      "yok                                 27.824\n",
      "\n",
      "\n",
      "                                     TARGET_MEAN\n",
      "Aktif olarak bir STK üyesi misiniz?             \n",
      "Evet                                      47.410\n",
      "Hayır                                     27.672\n",
      "\n",
      "\n",
      "                              TARGET_MEAN\n",
      "Stk Projesine Katildiniz Mi?             \n",
      "Evet                               46.014\n",
      "Hayır                              27.105\n",
      "\n",
      "\n",
      "                                           TARGET_MEAN\n",
      "Girisimcilikle Ilgili Deneyiminiz Var Mi?             \n",
      "Evet                                            42.612\n",
      "Hayır                                           27.952\n",
      "\n",
      "\n",
      "                            TARGET_MEAN\n",
      "Ingilizce Biliyor musunuz?             \n",
      "Evet                             34.099\n",
      "Hayır                            26.035\n",
      "\n",
      "\n",
      "                      TARGET_MEAN\n",
      "Ingilizce Seviyeniz?             \n",
      "0                          25.331\n",
      "Başlangıç                  29.624\n",
      "Orta                       33.146\n",
      "İleri                      44.426\n",
      "\n",
      "\n",
      "                          TARGET_MEAN\n",
      "Universite Kacinci Sinif             \n",
      "0.000                          26.789\n",
      "1.000                          27.934\n",
      "2.000                          30.015\n",
      "3.000                          34.694\n",
      "4.000                          35.913\n",
      "5.000                          34.975\n",
      "\n",
      "\n",
      "               TARGET_MEAN\n",
      "Kardes Sayisi             \n",
      "0                   32.365\n",
      "1                   35.364\n",
      "2                   32.077\n",
      "3                   29.608\n",
      "4                   28.092\n",
      "5                   26.325\n",
      "\n",
      "\n"
     ]
    }
   ],
   "source": [
    "def target_summary_with_cat(dataframe, target, categorical_col):\n",
    "    print(pd.DataFrame({\"TARGET_MEAN\": dataframe.groupby(categorical_col)[target].mean()}), end=\"\\n\\n\\n\")\n",
    "\n",
    "\n",
    "for col in cat_cols:\n",
    "    target_summary_with_cat(df,\"Degerlendirme Puani\",col)"
   ]
  },
  {
   "cell_type": "code",
   "execution_count": 113,
   "id": "b72d3bf3-db99-4963-90a5-f3be1aecf8cf",
   "metadata": {
    "scrolled": true
   },
   "outputs": [
    {
     "data": {
      "image/png": "[encoded data removed]",
      "text/plain": [
       "<Figure size 640x480 with 1 Axes>"
      ]
     },
     "metadata": {},
     "output_type": "display_data"
    },
    {
     "data": {
      "image/png": "[encoded data removed]",
      "text/plain": [
       "<Figure size 640x480 with 1 Axes>"
      ]
     },
     "metadata": {},
     "output_type": "display_data"
    }
   ],
   "source": [
    "# Bağımlı değişkenin incelenmesi\n",
    "df[\"Degerlendirme Puani\"].hist(bins=100)\n",
    "plt.show()\n",
    "\n",
    "# Bağımlı değişkenin logaritmasının incelenmesi\n",
    "np.log1p(df['Degerlendirme Puani']).hist(bins=50)\n",
    "plt.show()"
   ]
  },
  {
   "cell_type": "code",
   "execution_count": 114,
   "id": "f21cbf06-5f9b-44e1-a95d-422cba067628",
   "metadata": {},
   "outputs": [
    {
     "data": {
      "image/png": "[encoded data removed]",
      "text/plain": [
       "<Figure size 1200x1200 with 2 Axes>"
      ]
     },
     "metadata": {},
     "output_type": "display_data"
    }
   ],
   "source": [
    "# 5. Korelasyon Analizi (Analysis of Correlation)\n",
    "######################################\n",
    "\n",
    "corr = df[num_cols].corr()\n",
    "corr\n",
    "\n",
    "# Korelasyonların gösterilmesi\n",
    "sns.set(rc={'figure.figsize': (12, 12)})\n",
    "sns.heatmap(corr, cmap=\"RdBu\")\n",
    "plt.show()"
   ]
  },
  {
   "cell_type": "markdown",
   "id": "f7bc3943-00d4-4907-8859-d6a87bcf819c",
   "metadata": {},
   "source": [
    "def high_correlated_cols(dataframe, plot=False, corr_th=0.70):\n",
    "    corr = dataframe.corr()\n",
    "    cor_matrix = corr.abs()\n",
    "    upper_triangle_matrix = cor_matrix.where(np.triu(np.ones(cor_matrix.shape), k=1).astype(np.bool))\n",
    "    drop_list = [col for col in upper_triangle_matrix.columns if any(upper_triangle_matrix[col] > corr_th)]\n",
    "    if plot:\n",
    "        import seaborn as sns\n",
    "        import matplotlib.pyplot as plt\n",
    "        sns.set(rc={'figure.figsize': (15, 15)})\n",
    "        sns.heatmap(corr, cmap=\"RdBu\")\n",
    "        plt.show()\n",
    "    return drop_list\n",
    "\n",
    "high_correlated_cols(df, plot=False)"
   ]
  },
  {
   "cell_type": "code",
   "execution_count": null,
   "id": "2b7bea40-9a9a-463b-9e09-0e30670cdd52",
   "metadata": {},
   "outputs": [],
   "source": []
  },
  {
   "cell_type": "markdown",
   "id": "d30e851f-6927-4080-8527-e72d447cce50",
   "metadata": {},
   "source": [
    "# Feature Engineering"
   ]
  },
  {
   "cell_type": "code",
   "execution_count": 115,
   "id": "7212fd1f-fd8b-428e-9e8f-0564b7169554",
   "metadata": {},
   "outputs": [],
   "source": [
    "# Aykırı Değer Analizi\n",
    "######################################\n",
    "\n",
    "# Aykırı değerlerin baskılanması\n",
    "def outlier_thresholds(dataframe, variable, low_quantile=0.20, up_quantile=0.60):\n",
    "    quantile_one = dataframe[variable].quantile(low_quantile)\n",
    "    quantile_three = dataframe[variable].quantile(up_quantile)\n",
    "    interquantile_range = quantile_three - quantile_one\n",
    "    up_limit = quantile_three + 1.5 * interquantile_range\n",
    "    low_limit = quantile_one - 1.5 * interquantile_range\n",
    "    return low_limit, up_limit\n",
    "\n",
    "\"\"\"# Aykırı değer kontrolü\n",
    "def check_outlier(dataframe, col_name):\n",
    "    low_limit, up_limit = outlier_thresholds(dataframe, col_name)\n",
    "    if dataframe[(dataframe[col_name] > up_limit) | (dataframe[col_name] < low_limit)].any(axis=None):\n",
    "        return True\n",
    "    else:\n",
    "        return False\n",
    "\n",
    "\n",
    "for col in num_cols:\n",
    "    if col != \"Degerlendirme Puani\":\n",
    "      print(col, check_outlier(df, col))\"\"\"\n",
    "\n",
    "def replace_with_thresholds(dataframe, variable):\n",
    "    low_limit, up_limit = outlier_thresholds(dataframe, variable)\n",
    "    dataframe.loc[(dataframe[variable] < low_limit), variable] = low_limit\n",
    "    dataframe.loc[(dataframe[variable] > up_limit), variable] = up_limit\n",
    "\n",
    "\n",
    "for col in num_cols:\n",
    "    if col != \"Degerlendirme Puani\":\n",
    "        replace_with_thresholds(df,col)"
   ]
  },
  {
   "cell_type": "code",
   "execution_count": 116,
   "id": "ffddb982-1c00-43f1-8a8d-f7a2f3635f9d",
   "metadata": {},
   "outputs": [
    {
     "name": "stdout",
     "output_type": "stream",
     "text": [
      "                     n_miss  ratio\n",
      "Degerlendirme Puani   11050 14.510\n"
     ]
    }
   ],
   "source": [
    "# Eksik Değer Analizi\n",
    "######################################\n",
    "\n",
    "\n",
    "def missing_values_table(dataframe, na_name=False):\n",
    "    na_columns = [col for col in dataframe.columns if dataframe[col].isnull().sum() > 0]\n",
    "\n",
    "    n_miss = dataframe[na_columns].isnull().sum().sort_values(ascending=False)\n",
    "\n",
    "    ratio = (dataframe[na_columns].isnull().sum() / dataframe.shape[0] * 100).sort_values(ascending=False)\n",
    "\n",
    "    missing_df = pd.concat([n_miss, np.round(ratio, 2)], axis=1, keys=['n_miss', 'ratio'])\n",
    "\n",
    "    print(missing_df, end=\"\\n\")\n",
    "\n",
    "    if na_name:\n",
    "        return na_columns\n",
    "\n",
    "missing_values_table(df)"
   ]
  },
  {
   "cell_type": "markdown",
   "id": "42b70b82-4b82-4d3e-840f-43f656274ae5",
   "metadata": {},
   "source": [
    "def quick_missing_imp(data, num_method=\"median\", cat_length=20, target=\"Degerlendirme Puani\"):\n",
    "    variables_with_na = [col for col in data.columns if data[col].isnull().sum() > 0]  # Eksik değere sahip olan değişkenler listelenir\n",
    "\n",
    "    temp_target = data[target]\n",
    "\n",
    "    print(\"# BEFORE\")\n",
    "    print(data[variables_with_na].isnull().sum(), \"\\n\\n\")  # Uygulama öncesi değişkenlerin eksik değerlerinin sayısı\n",
    "\n",
    "    # değişken object ve sınıf sayısı cat_lengthe eşit veya altındaysa boş değerleri mode ile doldur\n",
    "    data = data.apply(lambda x: x.fillna(x.mode()[0]) if (x.dtype == \"O\" and len(x.unique()) <= cat_length) else x, axis=0)\n",
    "\n",
    "    # num_method mean ise tipi object olmayan değişkenlerin boş değerleri ortalama ile dolduruluyor\n",
    "    if num_method == \"mean\":\n",
    "        data = data.apply(lambda x: x.fillna(x.mean()) if x.dtype != \"O\" else x, axis=0)\n",
    "    # num_method median ise tipi object olmayan değişkenlerin boş değerleri ortalama ile dolduruluyor\n",
    "    elif num_method == \"median\":\n",
    "        data = data.apply(lambda x: x.fillna(x.median()) if x.dtype != \"O\" else x, axis=0)\n",
    "\n",
    "    data[target] = temp_target\n",
    "\n",
    "    print(\"# AFTER \\n Imputation method is 'MODE' for categorical variables!\")\n",
    "    print(\" Imputation method is '\" + num_method.upper() + \"' for numeric variables! \\n\")\n",
    "    print(data[variables_with_na].isnull().sum(), \"\\n\\n\")\n",
    "\n",
    "    return data\n",
    "\n",
    "\n",
    "df = quick_missing_imp(df, num_method=\"median\", cat_length=17)"
   ]
  },
  {
   "cell_type": "markdown",
   "id": "74b49f73-b365-48c4-b99a-6eab2a648969",
   "metadata": {},
   "source": [
    "# Rare analizi yapınız ve rare encoder uygulayınız.\n",
    "######################################\n",
    "\n",
    "# Kategorik kolonların dağılımının incelenmesi\n",
    "\n",
    "def rare_analyser(dataframe, target, cat_cols):\n",
    "    for col in cat_cols:\n",
    "        print(col, \":\", len(dataframe[col].value_counts()))\n",
    "        print(pd.DataFrame({\"COUNT\": dataframe[col].value_counts(),\n",
    "                            \"RATIO\": dataframe[col].value_counts() / len(dataframe),\n",
    "                            \"TARGET_MEAN\": dataframe.groupby(col)[target].mean()}), end=\"\\n\\n\\n\")\n",
    "\n",
    "rare_analyser(df, \"Degerlendirme Puani\", cat_cols)"
   ]
  },
  {
   "cell_type": "markdown",
   "id": "810e0623-7ea8-4f2f-aabe-4e4092c8d468",
   "metadata": {},
   "source": [
    "# Nadir sınıfların tespit edilmesi\n",
    "def rare_encoder(dataframe, rare_perc):\n",
    "    temp_df = dataframe.copy()\n",
    "\n",
    "    rare_columns = [col for col in temp_df.columns if temp_df[col].dtypes == 'O'\n",
    "                    and (temp_df[col].value_counts() / len(temp_df) < rare_perc).any(axis=None)]\n",
    "\n",
    "    for var in rare_columns:\n",
    "        tmp = temp_df[var].value_counts() / len(temp_df)\n",
    "        rare_labels = tmp[tmp < rare_perc].index\n",
    "        temp_df[var] = np.where(temp_df[var].isin(rare_labels), 'Rare', temp_df[var])\n",
    "\n",
    "    return temp_df\n",
    "\n",
    "\n",
    "rare_encoder(df,0.01)"
   ]
  },
  {
   "cell_type": "markdown",
   "id": "5a1db4e5-68f7-4627-9d29-278c6c2bac85",
   "metadata": {},
   "source": [
    "# LABEL ENCODING"
   ]
  },
  {
   "cell_type": "code",
   "execution_count": 117,
   "id": "df19ffab-4686-4ad6-98a5-1a3a7946f4e3",
   "metadata": {},
   "outputs": [
    {
     "name": "stdout",
     "output_type": "stream",
     "text": [
      "Observations: 76174\n",
      "Variables: 30\n",
      "cat_cols: 24\n",
      "num_cols: 3\n",
      "cat_but_car: 3\n",
      "num_but_cat: 2\n"
     ]
    }
   ],
   "source": [
    "cat_cols, cat_but_car, num_cols = grab_col_names(df)"
   ]
  },
  {
   "cell_type": "code",
   "execution_count": 118,
   "id": "531ec541-9be3-4162-8593-ea2dba8c5b5f",
   "metadata": {},
   "outputs": [],
   "source": [
    "# Label Encoding & One-Hot Encoding işlemlerini uygulayınız.\n",
    "##################\n",
    "\n",
    "def label_encoder(dataframe, binary_col):\n",
    "    labelencoder = LabelEncoder()\n",
    "    dataframe[binary_col] = labelencoder.fit_transform(dataframe[binary_col])\n",
    "    return dataframe\n",
    "\n",
    "def one_hot_encoder(dataframe, categorical_cols, drop_first=False):\n",
    "    dataframe = pd.get_dummies(dataframe, columns=categorical_cols, drop_first=drop_first)\n",
    "    return dataframe\n",
    "\n",
    "# Identify binary columns\n",
    "binary_cols = [col for col in df.columns if df[col].dtype == \"object\" and len(df[col].unique()) == 2]\n",
    "\n",
    "# Label encode binary columns\n",
    "for col in binary_cols:\n",
    "    df = label_encoder(df, col)\n",
    "\n",
    "# Identify non-binary categorical columns\n",
    "non_binary_categorical_cols = [col for col in df.columns if df[col].dtype == \"object\" and col not in binary_cols]\n",
    "\n",
    "# One-hot encode non-binary categorical columns\n",
    "df = one_hot_encoder(df, non_binary_categorical_cols, drop_first=True)"
   ]
  },
  {
   "cell_type": "markdown",
   "id": "5ce400d9-459a-4ea1-b87e-e25fb2baa0b5",
   "metadata": {},
   "source": [
    "# MODEL KURMA"
   ]
  },
  {
   "cell_type": "code",
   "execution_count": 119,
   "id": "c64a6ae4-ec87-4271-b950-47ecff91624e",
   "metadata": {},
   "outputs": [],
   "source": [
    "# Train ve Test verisini ayırınız. (SalePrice değişkeni boş olan değerler test verisidir.)\n",
    "train_df = df[df['Degerlendirme Puani'].notnull()]\n",
    "test_df = df[df['Degerlendirme Puani'].isnull()]"
   ]
  },
  {
   "cell_type": "code",
   "execution_count": 120,
   "id": "9ed9bb88-c273-4949-bae5-2f4779396337",
   "metadata": {},
   "outputs": [],
   "source": [
    "y = train_df['Degerlendirme Puani'] # np.log1p(df['SalePrice'])\n",
    "X = train_df.drop([\"id\", 'Degerlendirme Puani'], axis=1)"
   ]
  },
  {
   "cell_type": "code",
   "execution_count": 121,
   "id": "802f7c70-e5f5-47d2-a9d7-96c7812bcaa3",
   "metadata": {},
   "outputs": [],
   "source": [
    "X_train, X_test, y_train, y_test = train_test_split(X, y, test_size=0.33, random_state=17)"
   ]
  },
  {
   "cell_type": "code",
   "execution_count": null,
   "id": "acb9f979-0475-4cf8-ba6e-befa3492b345",
   "metadata": {
    "scrolled": true
   },
   "outputs": [],
   "source": [
    "\n",
    "\n",
    "# Train verisi ile model kurup, model başarısını değerlendiriniz.\n",
    "\n",
    "\n",
    "models = [#('LR', LinearRegression()),\n",
    "          #(\"Ridge\", Ridge()),\n",
    "          #(\"Lasso\", Lasso()),\n",
    "          #(\"ElasticNet\", ElasticNet()),\n",
    "          #('KNN', KNeighborsRegressor()),\n",
    "          #('CART', DecisionTreeRegressor()),\n",
    "          ('RF', RandomForestRegressor()),\n",
    "          #('SVR', SVR()),\n",
    "          #('GBM', GradientBoostingRegressor()),\n",
    "          (\"XGBoost\", XGBRegressor(objective='reg:squarederror')),\n",
    "          (\"LightGBM\", LGBMRegressor()),\n",
    "          (\"CatBoost\", CatBoostRegressor(verbose=False))]\n",
    "\n",
    "for name, regressor in models:\n",
    "    rmse = np.mean(np.sqrt(-cross_val_score(regressor, X, y, cv=5, scoring=\"neg_mean_squared_error\")))\n",
    "    print(f\"RMSE: {round(rmse, 4)} ({name}) \")\n",
    "\"\"\"\n",
    "RMSE: 27694.0655 (LR) \n",
    "RMSE: 41108.4402 (KNN) \n",
    "RMSE: 33714.2496 (CART) \n",
    "RMSE: 22728.3134 (RF) \n",
    "RMSE: 21746.2036 (GBM) \n",
    "RMSE: 23750.4756 (XGBoost) \n",
    "RMSE: 21731.1486 (LightGBM) \n",
    "\n",
    "\"\"\""
   ]
  },
  {
   "cell_type": "code",
   "execution_count": 122,
   "id": "d8ec5b7b-3b40-4069-a8bd-d17aab48e626",
   "metadata": {},
   "outputs": [
    {
     "name": "stdout",
     "output_type": "stream",
     "text": [
      "Best parameters found:  {'border_count': 32, 'depth': 6, 'iterations': 500, 'l2_leaf_reg': 7, 'learning_rate': 0.1}\n",
      "Best score:  -34.331074629456204\n"
     ]
    }
   ],
   "source": [
    "param_grid = {\n",
    "    'iterations': [100, 200, 500],\n",
    "    'learning_rate': [0.01, 0.05, 0.1],\n",
    "    'depth': [4, 6, 10],\n",
    "    'l2_leaf_reg': [1, 3, 5, 7],\n",
    "    'border_count': [32, 64, 128]\n",
    "}\n",
    "\n",
    "# CatBoostRegressor modelini başlat\n",
    "catboost = CatBoostRegressor(silent=True)\n",
    "\n",
    "rmse = np.mean(np.sqrt(-cross_val_score(catboost, X, y, cv=5, scoring=\"neg_mean_squared_error\")))\n",
    "\n",
    "# GridSearchCV nesnesini oluştur\n",
    "grid_search = GridSearchCV(estimator=catboost, param_grid=param_grid, cv=5, scoring='neg_mean_squared_error', n_jobs=-1)\n",
    "\n",
    "# Modeli eğit\n",
    "grid_search.fit(X_train, y_train)\n",
    "\n",
    "final_model = catboost.set_params(**grid_search.best_params_).fit(X, y)\n",
    "\n",
    "rmse = np.mean(np.sqrt(-cross_val_score(final_model, X, y, cv=5, scoring=\"neg_mean_squared_error\")))\n",
    "\n",
    "# En iyi parametreleri ve skoru yazdır\n",
    "print(\"Best parameters found: \", grid_search.best_params_)\n",
    "print(\"Best score: \", grid_search.best_score_)"
   ]
  },
  {
   "cell_type": "code",
   "execution_count": 123,
   "id": "ffe839af-6ed1-418f-ad93-d1c9b93a6280",
   "metadata": {
    "scrolled": true
   },
   "outputs": [
    {
     "name": "stdout",
     "output_type": "stream",
     "text": [
      "Learning rate set to 0.079205\n",
      "0:\tlearn: 17.0429871\ttotal: 6.25ms\tremaining: 6.25s\n",
      "1:\tlearn: 16.0543485\ttotal: 12.2ms\tremaining: 6.08s\n",
      "2:\tlearn: 15.1788114\ttotal: 18.1ms\tremaining: 6s\n",
      "3:\tlearn: 14.3774448\ttotal: 24.1ms\tremaining: 5.99s\n",
      "4:\tlearn: 13.6529375\ttotal: 29.3ms\tremaining: 5.83s\n",
      "5:\tlearn: 13.0065083\ttotal: 36ms\tremaining: 5.96s\n",
      "6:\tlearn: 12.4293789\ttotal: 42.4ms\tremaining: 6.01s\n",
      "7:\tlearn: 11.9190772\ttotal: 48.7ms\tremaining: 6.04s\n",
      "8:\tlearn: 11.4624292\ttotal: 54.8ms\tremaining: 6.03s\n",
      "9:\tlearn: 11.0369255\ttotal: 60.3ms\tremaining: 5.97s\n",
      "10:\tlearn: 10.6479271\ttotal: 65.5ms\tremaining: 5.88s\n",
      "11:\tlearn: 10.3127873\ttotal: 70.8ms\tremaining: 5.83s\n",
      "12:\tlearn: 10.0186417\ttotal: 76.7ms\tremaining: 5.83s\n",
      "13:\tlearn: 9.7518074\ttotal: 84.1ms\tremaining: 5.93s\n",
      "14:\tlearn: 9.5071486\ttotal: 90.1ms\tremaining: 5.92s\n",
      "15:\tlearn: 9.2852713\ttotal: 97.2ms\tremaining: 5.98s\n",
      "16:\tlearn: 9.0884668\ttotal: 103ms\tremaining: 5.98s\n",
      "17:\tlearn: 8.9117301\ttotal: 110ms\tremaining: 6.02s\n",
      "18:\tlearn: 8.7459668\ttotal: 116ms\tremaining: 6.01s\n",
      "19:\tlearn: 8.5987441\ttotal: 123ms\tremaining: 6.01s\n",
      "20:\tlearn: 8.4270718\ttotal: 129ms\tremaining: 5.99s\n",
      "21:\tlearn: 8.2774101\ttotal: 133ms\tremaining: 5.93s\n",
      "22:\tlearn: 8.1469424\ttotal: 140ms\tremaining: 5.93s\n",
      "23:\tlearn: 8.0081380\ttotal: 144ms\tremaining: 5.86s\n",
      "24:\tlearn: 7.9042771\ttotal: 149ms\tremaining: 5.82s\n",
      "25:\tlearn: 7.8129617\ttotal: 154ms\tremaining: 5.76s\n",
      "26:\tlearn: 7.7233783\ttotal: 158ms\tremaining: 5.7s\n",
      "27:\tlearn: 7.6125290\ttotal: 163ms\tremaining: 5.65s\n",
      "28:\tlearn: 7.5341446\ttotal: 167ms\tremaining: 5.59s\n",
      "29:\tlearn: 7.4460246\ttotal: 173ms\tremaining: 5.6s\n",
      "30:\tlearn: 7.3620960\ttotal: 180ms\tremaining: 5.63s\n",
      "31:\tlearn: 7.2862556\ttotal: 186ms\tremaining: 5.63s\n",
      "32:\tlearn: 7.2227418\ttotal: 191ms\tremaining: 5.6s\n",
      "33:\tlearn: 7.1595951\ttotal: 197ms\tremaining: 5.61s\n",
      "34:\tlearn: 7.1012278\ttotal: 202ms\tremaining: 5.58s\n",
      "35:\tlearn: 7.0517101\ttotal: 207ms\tremaining: 5.53s\n",
      "36:\tlearn: 6.9810051\ttotal: 211ms\tremaining: 5.5s\n",
      "37:\tlearn: 6.9278199\ttotal: 216ms\tremaining: 5.47s\n",
      "38:\tlearn: 6.8774708\ttotal: 220ms\tremaining: 5.43s\n",
      "39:\tlearn: 6.8351167\ttotal: 225ms\tremaining: 5.4s\n",
      "40:\tlearn: 6.7934013\ttotal: 230ms\tremaining: 5.38s\n",
      "41:\tlearn: 6.7608714\ttotal: 235ms\tremaining: 5.36s\n",
      "42:\tlearn: 6.7253592\ttotal: 239ms\tremaining: 5.33s\n",
      "43:\tlearn: 6.6929138\ttotal: 244ms\tremaining: 5.3s\n",
      "44:\tlearn: 6.6622469\ttotal: 248ms\tremaining: 5.27s\n",
      "45:\tlearn: 6.6286451\ttotal: 253ms\tremaining: 5.24s\n",
      "46:\tlearn: 6.6022231\ttotal: 257ms\tremaining: 5.21s\n",
      "47:\tlearn: 6.5695003\ttotal: 262ms\tremaining: 5.19s\n",
      "48:\tlearn: 6.5493529\ttotal: 266ms\tremaining: 5.16s\n",
      "49:\tlearn: 6.5221719\ttotal: 270ms\tremaining: 5.13s\n",
      "50:\tlearn: 6.4984244\ttotal: 275ms\tremaining: 5.11s\n",
      "51:\tlearn: 6.4797727\ttotal: 279ms\tremaining: 5.08s\n",
      "52:\tlearn: 6.4576755\ttotal: 283ms\tremaining: 5.05s\n",
      "53:\tlearn: 6.4345897\ttotal: 287ms\tremaining: 5.04s\n",
      "54:\tlearn: 6.4128027\ttotal: 292ms\tremaining: 5.01s\n",
      "55:\tlearn: 6.3923925\ttotal: 296ms\tremaining: 4.99s\n",
      "56:\tlearn: 6.3691591\ttotal: 301ms\tremaining: 4.97s\n",
      "57:\tlearn: 6.3473100\ttotal: 305ms\tremaining: 4.96s\n",
      "58:\tlearn: 6.3318016\ttotal: 311ms\tremaining: 4.96s\n",
      "59:\tlearn: 6.3118235\ttotal: 323ms\tremaining: 5.07s\n",
      "60:\tlearn: 6.2936372\ttotal: 329ms\tremaining: 5.06s\n",
      "61:\tlearn: 6.2817087\ttotal: 335ms\tremaining: 5.07s\n",
      "62:\tlearn: 6.2673117\ttotal: 340ms\tremaining: 5.05s\n",
      "63:\tlearn: 6.2522139\ttotal: 345ms\tremaining: 5.05s\n",
      "64:\tlearn: 6.2415095\ttotal: 350ms\tremaining: 5.03s\n",
      "65:\tlearn: 6.2278781\ttotal: 354ms\tremaining: 5.01s\n",
      "66:\tlearn: 6.2192152\ttotal: 358ms\tremaining: 4.99s\n",
      "67:\tlearn: 6.2122178\ttotal: 363ms\tremaining: 4.97s\n",
      "68:\tlearn: 6.2012852\ttotal: 368ms\tremaining: 4.97s\n",
      "69:\tlearn: 6.1875621\ttotal: 375ms\tremaining: 4.98s\n",
      "70:\tlearn: 6.1768491\ttotal: 380ms\tremaining: 4.98s\n",
      "71:\tlearn: 6.1612059\ttotal: 386ms\tremaining: 4.97s\n",
      "72:\tlearn: 6.1496582\ttotal: 392ms\tremaining: 4.98s\n",
      "73:\tlearn: 6.1424639\ttotal: 397ms\tremaining: 4.96s\n",
      "74:\tlearn: 6.1364739\ttotal: 401ms\tremaining: 4.95s\n",
      "75:\tlearn: 6.1268142\ttotal: 406ms\tremaining: 4.93s\n",
      "76:\tlearn: 6.1152395\ttotal: 410ms\tremaining: 4.91s\n",
      "77:\tlearn: 6.1104786\ttotal: 414ms\tremaining: 4.9s\n",
      "78:\tlearn: 6.1043908\ttotal: 419ms\tremaining: 4.88s\n",
      "79:\tlearn: 6.0963122\ttotal: 424ms\tremaining: 4.87s\n",
      "80:\tlearn: 6.0910366\ttotal: 428ms\tremaining: 4.86s\n",
      "81:\tlearn: 6.0860732\ttotal: 432ms\tremaining: 4.84s\n",
      "82:\tlearn: 6.0788140\ttotal: 437ms\tremaining: 4.83s\n",
      "83:\tlearn: 6.0742888\ttotal: 442ms\tremaining: 4.82s\n",
      "84:\tlearn: 6.0677234\ttotal: 447ms\tremaining: 4.81s\n",
      "85:\tlearn: 6.0558073\ttotal: 451ms\tremaining: 4.79s\n",
      "86:\tlearn: 6.0492798\ttotal: 455ms\tremaining: 4.78s\n",
      "87:\tlearn: 6.0432419\ttotal: 460ms\tremaining: 4.76s\n",
      "88:\tlearn: 6.0381284\ttotal: 464ms\tremaining: 4.75s\n",
      "89:\tlearn: 6.0346217\ttotal: 469ms\tremaining: 4.74s\n",
      "90:\tlearn: 6.0287079\ttotal: 473ms\tremaining: 4.73s\n",
      "91:\tlearn: 6.0246068\ttotal: 477ms\tremaining: 4.71s\n",
      "92:\tlearn: 6.0206869\ttotal: 482ms\tremaining: 4.7s\n",
      "93:\tlearn: 6.0175275\ttotal: 486ms\tremaining: 4.68s\n",
      "94:\tlearn: 6.0134782\ttotal: 491ms\tremaining: 4.68s\n",
      "95:\tlearn: 6.0072499\ttotal: 496ms\tremaining: 4.67s\n",
      "96:\tlearn: 6.0029546\ttotal: 501ms\tremaining: 4.66s\n",
      "97:\tlearn: 5.9987896\ttotal: 505ms\tremaining: 4.65s\n",
      "98:\tlearn: 5.9959557\ttotal: 510ms\tremaining: 4.64s\n",
      "99:\tlearn: 5.9901645\ttotal: 514ms\tremaining: 4.63s\n",
      "100:\tlearn: 5.9870563\ttotal: 519ms\tremaining: 4.62s\n",
      "101:\tlearn: 5.9838753\ttotal: 525ms\tremaining: 4.62s\n",
      "102:\tlearn: 5.9809712\ttotal: 532ms\tremaining: 4.63s\n",
      "103:\tlearn: 5.9727011\ttotal: 537ms\tremaining: 4.63s\n",
      "104:\tlearn: 5.9694210\ttotal: 544ms\tremaining: 4.64s\n",
      "105:\tlearn: 5.9677433\ttotal: 549ms\tremaining: 4.63s\n",
      "106:\tlearn: 5.9637756\ttotal: 554ms\tremaining: 4.62s\n",
      "107:\tlearn: 5.9606392\ttotal: 559ms\tremaining: 4.62s\n",
      "108:\tlearn: 5.9568616\ttotal: 564ms\tremaining: 4.61s\n",
      "109:\tlearn: 5.9552214\ttotal: 568ms\tremaining: 4.6s\n",
      "110:\tlearn: 5.9496725\ttotal: 572ms\tremaining: 4.58s\n",
      "111:\tlearn: 5.9481634\ttotal: 577ms\tremaining: 4.58s\n",
      "112:\tlearn: 5.9408070\ttotal: 583ms\tremaining: 4.57s\n",
      "113:\tlearn: 5.9384267\ttotal: 589ms\tremaining: 4.58s\n",
      "114:\tlearn: 5.9352231\ttotal: 595ms\tremaining: 4.58s\n",
      "115:\tlearn: 5.9324262\ttotal: 600ms\tremaining: 4.57s\n",
      "116:\tlearn: 5.9271889\ttotal: 607ms\tremaining: 4.58s\n",
      "117:\tlearn: 5.9242058\ttotal: 612ms\tremaining: 4.57s\n",
      "118:\tlearn: 5.9214706\ttotal: 616ms\tremaining: 4.56s\n",
      "119:\tlearn: 5.9186368\ttotal: 621ms\tremaining: 4.55s\n",
      "120:\tlearn: 5.9152301\ttotal: 626ms\tremaining: 4.54s\n",
      "121:\tlearn: 5.9128970\ttotal: 630ms\tremaining: 4.54s\n",
      "122:\tlearn: 5.9074044\ttotal: 635ms\tremaining: 4.53s\n",
      "123:\tlearn: 5.9056751\ttotal: 639ms\tremaining: 4.51s\n",
      "124:\tlearn: 5.9035779\ttotal: 643ms\tremaining: 4.5s\n",
      "125:\tlearn: 5.9012246\ttotal: 648ms\tremaining: 4.5s\n",
      "126:\tlearn: 5.8970997\ttotal: 653ms\tremaining: 4.49s\n",
      "127:\tlearn: 5.8955233\ttotal: 658ms\tremaining: 4.48s\n",
      "128:\tlearn: 5.8936307\ttotal: 662ms\tremaining: 4.47s\n",
      "129:\tlearn: 5.8912746\ttotal: 667ms\tremaining: 4.46s\n",
      "130:\tlearn: 5.8896295\ttotal: 671ms\tremaining: 4.45s\n",
      "131:\tlearn: 5.8854740\ttotal: 675ms\tremaining: 4.44s\n",
      "132:\tlearn: 5.8832865\ttotal: 680ms\tremaining: 4.43s\n",
      "133:\tlearn: 5.8811324\ttotal: 684ms\tremaining: 4.42s\n",
      "134:\tlearn: 5.8797055\ttotal: 689ms\tremaining: 4.41s\n",
      "135:\tlearn: 5.8779708\ttotal: 693ms\tremaining: 4.4s\n",
      "136:\tlearn: 5.8762826\ttotal: 698ms\tremaining: 4.4s\n",
      "137:\tlearn: 5.8739353\ttotal: 703ms\tremaining: 4.39s\n",
      "138:\tlearn: 5.8699164\ttotal: 708ms\tremaining: 4.39s\n",
      "139:\tlearn: 5.8676718\ttotal: 713ms\tremaining: 4.38s\n",
      "140:\tlearn: 5.8653240\ttotal: 717ms\tremaining: 4.37s\n",
      "141:\tlearn: 5.8639253\ttotal: 721ms\tremaining: 4.36s\n",
      "142:\tlearn: 5.8619566\ttotal: 726ms\tremaining: 4.35s\n",
      "143:\tlearn: 5.8586568\ttotal: 730ms\tremaining: 4.34s\n",
      "144:\tlearn: 5.8572443\ttotal: 736ms\tremaining: 4.34s\n",
      "145:\tlearn: 5.8554857\ttotal: 743ms\tremaining: 4.34s\n",
      "146:\tlearn: 5.8531105\ttotal: 749ms\tremaining: 4.34s\n",
      "147:\tlearn: 5.8512567\ttotal: 755ms\tremaining: 4.34s\n",
      "148:\tlearn: 5.8494910\ttotal: 761ms\tremaining: 4.35s\n",
      "149:\tlearn: 5.8480506\ttotal: 767ms\tremaining: 4.35s\n",
      "150:\tlearn: 5.8453756\ttotal: 772ms\tremaining: 4.34s\n",
      "151:\tlearn: 5.8438253\ttotal: 777ms\tremaining: 4.33s\n",
      "152:\tlearn: 5.8424161\ttotal: 783ms\tremaining: 4.33s\n",
      "153:\tlearn: 5.8412219\ttotal: 790ms\tremaining: 4.34s\n",
      "154:\tlearn: 5.8393726\ttotal: 796ms\tremaining: 4.34s\n",
      "155:\tlearn: 5.8376633\ttotal: 809ms\tremaining: 4.38s\n",
      "156:\tlearn: 5.8360926\ttotal: 814ms\tremaining: 4.37s\n",
      "157:\tlearn: 5.8349024\ttotal: 818ms\tremaining: 4.36s\n",
      "158:\tlearn: 5.8333191\ttotal: 823ms\tremaining: 4.35s\n",
      "159:\tlearn: 5.8318015\ttotal: 827ms\tremaining: 4.34s\n",
      "160:\tlearn: 5.8305391\ttotal: 832ms\tremaining: 4.33s\n",
      "161:\tlearn: 5.8285019\ttotal: 836ms\tremaining: 4.33s\n",
      "162:\tlearn: 5.8270829\ttotal: 840ms\tremaining: 4.32s\n",
      "163:\tlearn: 5.8254563\ttotal: 845ms\tremaining: 4.31s\n",
      "164:\tlearn: 5.8237279\ttotal: 849ms\tremaining: 4.3s\n",
      "165:\tlearn: 5.8223150\ttotal: 854ms\tremaining: 4.29s\n",
      "166:\tlearn: 5.8214116\ttotal: 859ms\tremaining: 4.28s\n",
      "167:\tlearn: 5.8201543\ttotal: 863ms\tremaining: 4.28s\n",
      "168:\tlearn: 5.8183670\ttotal: 868ms\tremaining: 4.27s\n",
      "169:\tlearn: 5.8166955\ttotal: 873ms\tremaining: 4.26s\n",
      "170:\tlearn: 5.8150201\ttotal: 877ms\tremaining: 4.25s\n",
      "171:\tlearn: 5.8132677\ttotal: 882ms\tremaining: 4.25s\n",
      "172:\tlearn: 5.8120312\ttotal: 887ms\tremaining: 4.24s\n",
      "173:\tlearn: 5.8108463\ttotal: 892ms\tremaining: 4.23s\n",
      "174:\tlearn: 5.8092124\ttotal: 897ms\tremaining: 4.23s\n",
      "175:\tlearn: 5.8078407\ttotal: 901ms\tremaining: 4.22s\n",
      "176:\tlearn: 5.8057788\ttotal: 906ms\tremaining: 4.21s\n",
      "177:\tlearn: 5.8046567\ttotal: 911ms\tremaining: 4.21s\n",
      "178:\tlearn: 5.8039466\ttotal: 916ms\tremaining: 4.2s\n",
      "179:\tlearn: 5.8024013\ttotal: 921ms\tremaining: 4.19s\n",
      "180:\tlearn: 5.8010534\ttotal: 926ms\tremaining: 4.19s\n",
      "181:\tlearn: 5.8002262\ttotal: 930ms\tremaining: 4.18s\n",
      "182:\tlearn: 5.7991740\ttotal: 935ms\tremaining: 4.18s\n",
      "183:\tlearn: 5.7984522\ttotal: 940ms\tremaining: 4.17s\n",
      "184:\tlearn: 5.7969316\ttotal: 946ms\tremaining: 4.17s\n",
      "185:\tlearn: 5.7958519\ttotal: 952ms\tremaining: 4.17s\n",
      "186:\tlearn: 5.7949256\ttotal: 959ms\tremaining: 4.17s\n",
      "187:\tlearn: 5.7934062\ttotal: 965ms\tremaining: 4.17s\n",
      "188:\tlearn: 5.7920928\ttotal: 971ms\tremaining: 4.17s\n",
      "189:\tlearn: 5.7910453\ttotal: 977ms\tremaining: 4.16s\n",
      "190:\tlearn: 5.7900154\ttotal: 982ms\tremaining: 4.16s\n",
      "191:\tlearn: 5.7889030\ttotal: 986ms\tremaining: 4.15s\n",
      "192:\tlearn: 5.7877615\ttotal: 993ms\tremaining: 4.15s\n",
      "193:\tlearn: 5.7869888\ttotal: 999ms\tremaining: 4.15s\n",
      "194:\tlearn: 5.7863475\ttotal: 1s\tremaining: 4.15s\n",
      "195:\tlearn: 5.7854340\ttotal: 1.01s\tremaining: 4.15s\n",
      "196:\tlearn: 5.7841022\ttotal: 1.02s\tremaining: 4.15s\n",
      "197:\tlearn: 5.7831278\ttotal: 1.02s\tremaining: 4.15s\n",
      "198:\tlearn: 5.7820140\ttotal: 1.03s\tremaining: 4.14s\n",
      "199:\tlearn: 5.7803891\ttotal: 1.03s\tremaining: 4.14s\n",
      "200:\tlearn: 5.7789169\ttotal: 1.04s\tremaining: 4.13s\n",
      "201:\tlearn: 5.7780537\ttotal: 1.04s\tremaining: 4.12s\n",
      "202:\tlearn: 5.7772473\ttotal: 1.05s\tremaining: 4.11s\n",
      "203:\tlearn: 5.7763689\ttotal: 1.05s\tremaining: 4.11s\n",
      "204:\tlearn: 5.7754308\ttotal: 1.06s\tremaining: 4.1s\n",
      "205:\tlearn: 5.7745797\ttotal: 1.06s\tremaining: 4.09s\n",
      "206:\tlearn: 5.7733045\ttotal: 1.07s\tremaining: 4.08s\n",
      "207:\tlearn: 5.7723752\ttotal: 1.07s\tremaining: 4.08s\n",
      "208:\tlearn: 5.7716402\ttotal: 1.07s\tremaining: 4.07s\n",
      "209:\tlearn: 5.7710335\ttotal: 1.08s\tremaining: 4.06s\n",
      "210:\tlearn: 5.7699396\ttotal: 1.08s\tremaining: 4.05s\n",
      "211:\tlearn: 5.7686958\ttotal: 1.09s\tremaining: 4.05s\n",
      "212:\tlearn: 5.7678869\ttotal: 1.09s\tremaining: 4.04s\n",
      "213:\tlearn: 5.7666594\ttotal: 1.1s\tremaining: 4.03s\n",
      "214:\tlearn: 5.7658382\ttotal: 1.1s\tremaining: 4.03s\n",
      "215:\tlearn: 5.7648715\ttotal: 1.11s\tremaining: 4.02s\n",
      "216:\tlearn: 5.7640790\ttotal: 1.11s\tremaining: 4.01s\n",
      "217:\tlearn: 5.7631279\ttotal: 1.11s\tremaining: 4s\n",
      "218:\tlearn: 5.7625862\ttotal: 1.12s\tremaining: 3.99s\n",
      "219:\tlearn: 5.7618654\ttotal: 1.12s\tremaining: 3.98s\n",
      "220:\tlearn: 5.7609347\ttotal: 1.13s\tremaining: 3.98s\n",
      "221:\tlearn: 5.7598647\ttotal: 1.13s\tremaining: 3.97s\n",
      "222:\tlearn: 5.7592304\ttotal: 1.14s\tremaining: 3.96s\n",
      "223:\tlearn: 5.7584550\ttotal: 1.14s\tremaining: 3.96s\n",
      "224:\tlearn: 5.7578755\ttotal: 1.15s\tremaining: 3.96s\n",
      "225:\tlearn: 5.7569997\ttotal: 1.16s\tremaining: 3.96s\n",
      "226:\tlearn: 5.7566194\ttotal: 1.16s\tremaining: 3.95s\n",
      "227:\tlearn: 5.7555915\ttotal: 1.17s\tremaining: 3.95s\n",
      "228:\tlearn: 5.7543363\ttotal: 1.17s\tremaining: 3.95s\n",
      "229:\tlearn: 5.7535285\ttotal: 1.18s\tremaining: 3.94s\n",
      "230:\tlearn: 5.7524682\ttotal: 1.18s\tremaining: 3.93s\n",
      "231:\tlearn: 5.7515140\ttotal: 1.19s\tremaining: 3.94s\n",
      "232:\tlearn: 5.7504935\ttotal: 1.2s\tremaining: 3.93s\n",
      "233:\tlearn: 5.7493611\ttotal: 1.2s\tremaining: 3.93s\n",
      "234:\tlearn: 5.7482918\ttotal: 1.21s\tremaining: 3.93s\n",
      "235:\tlearn: 5.7473641\ttotal: 1.21s\tremaining: 3.92s\n",
      "236:\tlearn: 5.7463804\ttotal: 1.22s\tremaining: 3.92s\n",
      "237:\tlearn: 5.7455342\ttotal: 1.22s\tremaining: 3.92s\n",
      "238:\tlearn: 5.7447628\ttotal: 1.23s\tremaining: 3.91s\n",
      "239:\tlearn: 5.7436490\ttotal: 1.23s\tremaining: 3.9s\n",
      "240:\tlearn: 5.7424187\ttotal: 1.24s\tremaining: 3.9s\n",
      "241:\tlearn: 5.7415721\ttotal: 1.24s\tremaining: 3.89s\n",
      "242:\tlearn: 5.7403607\ttotal: 1.25s\tremaining: 3.88s\n",
      "243:\tlearn: 5.7395495\ttotal: 1.25s\tremaining: 3.87s\n",
      "244:\tlearn: 5.7389190\ttotal: 1.25s\tremaining: 3.87s\n",
      "245:\tlearn: 5.7383049\ttotal: 1.26s\tremaining: 3.86s\n",
      "246:\tlearn: 5.7371137\ttotal: 1.26s\tremaining: 3.85s\n",
      "247:\tlearn: 5.7362435\ttotal: 1.27s\tremaining: 3.84s\n",
      "248:\tlearn: 5.7348778\ttotal: 1.27s\tremaining: 3.83s\n",
      "249:\tlearn: 5.7336724\ttotal: 1.28s\tremaining: 3.83s\n",
      "250:\tlearn: 5.7327435\ttotal: 1.28s\tremaining: 3.82s\n",
      "251:\tlearn: 5.7317393\ttotal: 1.29s\tremaining: 3.82s\n",
      "252:\tlearn: 5.7311517\ttotal: 1.29s\tremaining: 3.81s\n",
      "253:\tlearn: 5.7305504\ttotal: 1.29s\tremaining: 3.8s\n",
      "254:\tlearn: 5.7293702\ttotal: 1.3s\tremaining: 3.79s\n",
      "255:\tlearn: 5.7287956\ttotal: 1.3s\tremaining: 3.79s\n",
      "256:\tlearn: 5.7280509\ttotal: 1.31s\tremaining: 3.78s\n",
      "257:\tlearn: 5.7274784\ttotal: 1.31s\tremaining: 3.77s\n",
      "258:\tlearn: 5.7269529\ttotal: 1.32s\tremaining: 3.77s\n",
      "259:\tlearn: 5.7261828\ttotal: 1.32s\tremaining: 3.76s\n",
      "260:\tlearn: 5.7255223\ttotal: 1.32s\tremaining: 3.75s\n",
      "261:\tlearn: 5.7244271\ttotal: 1.33s\tremaining: 3.74s\n",
      "262:\tlearn: 5.7236757\ttotal: 1.33s\tremaining: 3.73s\n",
      "263:\tlearn: 5.7230230\ttotal: 1.34s\tremaining: 3.73s\n",
      "264:\tlearn: 5.7220490\ttotal: 1.34s\tremaining: 3.73s\n",
      "265:\tlearn: 5.7212315\ttotal: 1.35s\tremaining: 3.73s\n",
      "266:\tlearn: 5.7203891\ttotal: 1.36s\tremaining: 3.73s\n",
      "267:\tlearn: 5.7195071\ttotal: 1.36s\tremaining: 3.72s\n",
      "268:\tlearn: 5.7185467\ttotal: 1.37s\tremaining: 3.72s\n",
      "269:\tlearn: 5.7177167\ttotal: 1.37s\tremaining: 3.71s\n",
      "270:\tlearn: 5.7171557\ttotal: 1.38s\tremaining: 3.71s\n",
      "271:\tlearn: 5.7164219\ttotal: 1.38s\tremaining: 3.7s\n",
      "272:\tlearn: 5.7153643\ttotal: 1.39s\tremaining: 3.69s\n",
      "273:\tlearn: 5.7146356\ttotal: 1.39s\tremaining: 3.69s\n",
      "274:\tlearn: 5.7136857\ttotal: 1.4s\tremaining: 3.68s\n",
      "275:\tlearn: 5.7134227\ttotal: 1.4s\tremaining: 3.67s\n",
      "276:\tlearn: 5.7127280\ttotal: 1.41s\tremaining: 3.67s\n",
      "277:\tlearn: 5.7120928\ttotal: 1.41s\tremaining: 3.66s\n",
      "278:\tlearn: 5.7112202\ttotal: 1.42s\tremaining: 3.66s\n",
      "279:\tlearn: 5.7104568\ttotal: 1.42s\tremaining: 3.66s\n",
      "280:\tlearn: 5.7099783\ttotal: 1.43s\tremaining: 3.65s\n",
      "281:\tlearn: 5.7094379\ttotal: 1.43s\tremaining: 3.65s\n",
      "282:\tlearn: 5.7087141\ttotal: 1.44s\tremaining: 3.65s\n",
      "283:\tlearn: 5.7080327\ttotal: 1.44s\tremaining: 3.64s\n",
      "284:\tlearn: 5.7072085\ttotal: 1.45s\tremaining: 3.64s\n",
      "285:\tlearn: 5.7064532\ttotal: 1.45s\tremaining: 3.63s\n",
      "286:\tlearn: 5.7056271\ttotal: 1.46s\tremaining: 3.62s\n",
      "287:\tlearn: 5.7045380\ttotal: 1.46s\tremaining: 3.62s\n",
      "288:\tlearn: 5.7037690\ttotal: 1.47s\tremaining: 3.61s\n",
      "289:\tlearn: 5.7031029\ttotal: 1.47s\tremaining: 3.6s\n",
      "290:\tlearn: 5.7024843\ttotal: 1.48s\tremaining: 3.6s\n",
      "291:\tlearn: 5.7019130\ttotal: 1.48s\tremaining: 3.59s\n",
      "292:\tlearn: 5.7013314\ttotal: 1.48s\tremaining: 3.58s\n",
      "293:\tlearn: 5.7006336\ttotal: 1.49s\tremaining: 3.58s\n",
      "294:\tlearn: 5.6999086\ttotal: 1.49s\tremaining: 3.57s\n",
      "295:\tlearn: 5.6991626\ttotal: 1.5s\tremaining: 3.56s\n",
      "296:\tlearn: 5.6983894\ttotal: 1.5s\tremaining: 3.56s\n",
      "297:\tlearn: 5.6978018\ttotal: 1.51s\tremaining: 3.55s\n",
      "298:\tlearn: 5.6967276\ttotal: 1.51s\tremaining: 3.54s\n",
      "299:\tlearn: 5.6957561\ttotal: 1.52s\tremaining: 3.54s\n",
      "300:\tlearn: 5.6953728\ttotal: 1.52s\tremaining: 3.53s\n",
      "301:\tlearn: 5.6946749\ttotal: 1.52s\tremaining: 3.52s\n",
      "302:\tlearn: 5.6937862\ttotal: 1.53s\tremaining: 3.52s\n",
      "303:\tlearn: 5.6929873\ttotal: 1.53s\tremaining: 3.51s\n",
      "304:\tlearn: 5.6923810\ttotal: 1.54s\tremaining: 3.51s\n",
      "305:\tlearn: 5.6917675\ttotal: 1.55s\tremaining: 3.51s\n",
      "306:\tlearn: 5.6911877\ttotal: 1.55s\tremaining: 3.51s\n",
      "307:\tlearn: 5.6905656\ttotal: 1.56s\tremaining: 3.51s\n",
      "308:\tlearn: 5.6898550\ttotal: 1.57s\tremaining: 3.51s\n",
      "309:\tlearn: 5.6891797\ttotal: 1.57s\tremaining: 3.5s\n",
      "310:\tlearn: 5.6884186\ttotal: 1.58s\tremaining: 3.5s\n",
      "311:\tlearn: 5.6878006\ttotal: 1.58s\tremaining: 3.49s\n",
      "312:\tlearn: 5.6871025\ttotal: 1.59s\tremaining: 3.48s\n",
      "313:\tlearn: 5.6859629\ttotal: 1.59s\tremaining: 3.48s\n",
      "314:\tlearn: 5.6853885\ttotal: 1.6s\tremaining: 3.47s\n",
      "315:\tlearn: 5.6850340\ttotal: 1.6s\tremaining: 3.46s\n",
      "316:\tlearn: 5.6843666\ttotal: 1.6s\tremaining: 3.46s\n",
      "317:\tlearn: 5.6838348\ttotal: 1.61s\tremaining: 3.45s\n",
      "318:\tlearn: 5.6830969\ttotal: 1.61s\tremaining: 3.44s\n",
      "319:\tlearn: 5.6825973\ttotal: 1.62s\tremaining: 3.44s\n",
      "320:\tlearn: 5.6820276\ttotal: 1.62s\tremaining: 3.43s\n",
      "321:\tlearn: 5.6815428\ttotal: 1.63s\tremaining: 3.43s\n",
      "322:\tlearn: 5.6807950\ttotal: 1.64s\tremaining: 3.43s\n",
      "323:\tlearn: 5.6799081\ttotal: 1.64s\tremaining: 3.43s\n",
      "324:\tlearn: 5.6793296\ttotal: 1.65s\tremaining: 3.42s\n",
      "325:\tlearn: 5.6786976\ttotal: 1.65s\tremaining: 3.42s\n",
      "326:\tlearn: 5.6780775\ttotal: 1.66s\tremaining: 3.42s\n",
      "327:\tlearn: 5.6777039\ttotal: 1.66s\tremaining: 3.41s\n",
      "328:\tlearn: 5.6770217\ttotal: 1.67s\tremaining: 3.4s\n",
      "329:\tlearn: 5.6766733\ttotal: 1.67s\tremaining: 3.4s\n",
      "330:\tlearn: 5.6759216\ttotal: 1.68s\tremaining: 3.39s\n",
      "331:\tlearn: 5.6750089\ttotal: 1.68s\tremaining: 3.38s\n",
      "332:\tlearn: 5.6741080\ttotal: 1.69s\tremaining: 3.38s\n",
      "333:\tlearn: 5.6735385\ttotal: 1.69s\tremaining: 3.37s\n",
      "334:\tlearn: 5.6727339\ttotal: 1.7s\tremaining: 3.37s\n",
      "335:\tlearn: 5.6722194\ttotal: 1.7s\tremaining: 3.36s\n",
      "336:\tlearn: 5.6717121\ttotal: 1.71s\tremaining: 3.35s\n",
      "337:\tlearn: 5.6709671\ttotal: 1.71s\tremaining: 3.35s\n",
      "338:\tlearn: 5.6703046\ttotal: 1.71s\tremaining: 3.34s\n",
      "339:\tlearn: 5.6696628\ttotal: 1.72s\tremaining: 3.34s\n",
      "340:\tlearn: 5.6688108\ttotal: 1.72s\tremaining: 3.33s\n",
      "341:\tlearn: 5.6683806\ttotal: 1.73s\tremaining: 3.33s\n",
      "342:\tlearn: 5.6678299\ttotal: 1.73s\tremaining: 3.32s\n",
      "343:\tlearn: 5.6670409\ttotal: 1.74s\tremaining: 3.31s\n",
      "344:\tlearn: 5.6662979\ttotal: 1.74s\tremaining: 3.31s\n",
      "345:\tlearn: 5.6654073\ttotal: 1.75s\tremaining: 3.3s\n",
      "346:\tlearn: 5.6648495\ttotal: 1.75s\tremaining: 3.3s\n",
      "347:\tlearn: 5.6645116\ttotal: 1.76s\tremaining: 3.3s\n",
      "348:\tlearn: 5.6636457\ttotal: 1.79s\tremaining: 3.34s\n",
      "349:\tlearn: 5.6630133\ttotal: 1.81s\tremaining: 3.37s\n",
      "350:\tlearn: 5.6624247\ttotal: 1.83s\tremaining: 3.38s\n",
      "351:\tlearn: 5.6615811\ttotal: 1.83s\tremaining: 3.38s\n",
      "352:\tlearn: 5.6610698\ttotal: 1.84s\tremaining: 3.38s\n",
      "353:\tlearn: 5.6599272\ttotal: 1.85s\tremaining: 3.38s\n",
      "354:\tlearn: 5.6591734\ttotal: 1.86s\tremaining: 3.38s\n",
      "355:\tlearn: 5.6586500\ttotal: 1.87s\tremaining: 3.38s\n",
      "356:\tlearn: 5.6577757\ttotal: 1.87s\tremaining: 3.38s\n",
      "357:\tlearn: 5.6571921\ttotal: 1.88s\tremaining: 3.38s\n",
      "358:\tlearn: 5.6569631\ttotal: 1.89s\tremaining: 3.37s\n",
      "359:\tlearn: 5.6566196\ttotal: 1.89s\tremaining: 3.36s\n",
      "360:\tlearn: 5.6558517\ttotal: 1.9s\tremaining: 3.36s\n",
      "361:\tlearn: 5.6553426\ttotal: 1.9s\tremaining: 3.35s\n",
      "362:\tlearn: 5.6548340\ttotal: 1.91s\tremaining: 3.35s\n",
      "363:\tlearn: 5.6541981\ttotal: 1.91s\tremaining: 3.34s\n",
      "364:\tlearn: 5.6534565\ttotal: 1.92s\tremaining: 3.33s\n",
      "365:\tlearn: 5.6530950\ttotal: 1.92s\tremaining: 3.33s\n",
      "366:\tlearn: 5.6525440\ttotal: 1.92s\tremaining: 3.32s\n",
      "367:\tlearn: 5.6521589\ttotal: 1.93s\tremaining: 3.31s\n",
      "368:\tlearn: 5.6513857\ttotal: 1.93s\tremaining: 3.31s\n",
      "369:\tlearn: 5.6508978\ttotal: 1.94s\tremaining: 3.3s\n",
      "370:\tlearn: 5.6502203\ttotal: 1.94s\tremaining: 3.29s\n",
      "371:\tlearn: 5.6495551\ttotal: 1.95s\tremaining: 3.29s\n",
      "372:\tlearn: 5.6490414\ttotal: 1.96s\tremaining: 3.29s\n",
      "373:\tlearn: 5.6484101\ttotal: 1.96s\tremaining: 3.29s\n",
      "374:\tlearn: 5.6479270\ttotal: 1.97s\tremaining: 3.28s\n",
      "375:\tlearn: 5.6475239\ttotal: 1.97s\tremaining: 3.27s\n",
      "376:\tlearn: 5.6467917\ttotal: 1.98s\tremaining: 3.27s\n",
      "377:\tlearn: 5.6460861\ttotal: 1.98s\tremaining: 3.26s\n",
      "378:\tlearn: 5.6455365\ttotal: 1.99s\tremaining: 3.26s\n",
      "379:\tlearn: 5.6449092\ttotal: 1.99s\tremaining: 3.25s\n",
      "380:\tlearn: 5.6441782\ttotal: 2s\tremaining: 3.25s\n",
      "381:\tlearn: 5.6436102\ttotal: 2s\tremaining: 3.24s\n",
      "382:\tlearn: 5.6429710\ttotal: 2.01s\tremaining: 3.23s\n",
      "383:\tlearn: 5.6425187\ttotal: 2.01s\tremaining: 3.23s\n",
      "384:\tlearn: 5.6420219\ttotal: 2.02s\tremaining: 3.22s\n",
      "385:\tlearn: 5.6414892\ttotal: 2.02s\tremaining: 3.21s\n",
      "386:\tlearn: 5.6410997\ttotal: 2.02s\tremaining: 3.21s\n",
      "387:\tlearn: 5.6405278\ttotal: 2.03s\tremaining: 3.2s\n",
      "388:\tlearn: 5.6400682\ttotal: 2.03s\tremaining: 3.19s\n",
      "389:\tlearn: 5.6395962\ttotal: 2.04s\tremaining: 3.19s\n",
      "390:\tlearn: 5.6389778\ttotal: 2.04s\tremaining: 3.18s\n",
      "391:\tlearn: 5.6386819\ttotal: 2.05s\tremaining: 3.17s\n",
      "392:\tlearn: 5.6382531\ttotal: 2.05s\tremaining: 3.17s\n",
      "393:\tlearn: 5.6378768\ttotal: 2.06s\tremaining: 3.17s\n",
      "394:\tlearn: 5.6372076\ttotal: 2.06s\tremaining: 3.16s\n",
      "395:\tlearn: 5.6367029\ttotal: 2.07s\tremaining: 3.16s\n",
      "396:\tlearn: 5.6362436\ttotal: 2.08s\tremaining: 3.15s\n",
      "397:\tlearn: 5.6355658\ttotal: 2.08s\tremaining: 3.15s\n",
      "398:\tlearn: 5.6353131\ttotal: 2.09s\tremaining: 3.14s\n",
      "399:\tlearn: 5.6349293\ttotal: 2.09s\tremaining: 3.14s\n",
      "400:\tlearn: 5.6343941\ttotal: 2.1s\tremaining: 3.13s\n",
      "401:\tlearn: 5.6334409\ttotal: 2.1s\tremaining: 3.13s\n",
      "402:\tlearn: 5.6327261\ttotal: 2.1s\tremaining: 3.12s\n",
      "403:\tlearn: 5.6320262\ttotal: 2.11s\tremaining: 3.11s\n",
      "404:\tlearn: 5.6313947\ttotal: 2.12s\tremaining: 3.11s\n",
      "405:\tlearn: 5.6306739\ttotal: 2.12s\tremaining: 3.1s\n",
      "406:\tlearn: 5.6300104\ttotal: 2.12s\tremaining: 3.09s\n",
      "407:\tlearn: 5.6296849\ttotal: 2.13s\tremaining: 3.09s\n",
      "408:\tlearn: 5.6287345\ttotal: 2.13s\tremaining: 3.08s\n",
      "409:\tlearn: 5.6277774\ttotal: 2.14s\tremaining: 3.08s\n",
      "410:\tlearn: 5.6273710\ttotal: 2.14s\tremaining: 3.07s\n",
      "411:\tlearn: 5.6270180\ttotal: 2.15s\tremaining: 3.07s\n",
      "412:\tlearn: 5.6264780\ttotal: 2.16s\tremaining: 3.06s\n",
      "413:\tlearn: 5.6257269\ttotal: 2.16s\tremaining: 3.06s\n",
      "414:\tlearn: 5.6250727\ttotal: 2.17s\tremaining: 3.06s\n",
      "415:\tlearn: 5.6245266\ttotal: 2.17s\tremaining: 3.05s\n",
      "416:\tlearn: 5.6236942\ttotal: 2.18s\tremaining: 3.04s\n",
      "417:\tlearn: 5.6232252\ttotal: 2.18s\tremaining: 3.04s\n",
      "418:\tlearn: 5.6229647\ttotal: 2.19s\tremaining: 3.03s\n",
      "419:\tlearn: 5.6222445\ttotal: 2.19s\tremaining: 3.03s\n",
      "420:\tlearn: 5.6215682\ttotal: 2.2s\tremaining: 3.02s\n",
      "421:\tlearn: 5.6212442\ttotal: 2.2s\tremaining: 3.01s\n",
      "422:\tlearn: 5.6210510\ttotal: 2.2s\tremaining: 3.01s\n",
      "423:\tlearn: 5.6206993\ttotal: 2.21s\tremaining: 3s\n",
      "424:\tlearn: 5.6201293\ttotal: 2.21s\tremaining: 2.99s\n",
      "425:\tlearn: 5.6194265\ttotal: 2.22s\tremaining: 2.99s\n",
      "426:\tlearn: 5.6189647\ttotal: 2.22s\tremaining: 2.98s\n",
      "427:\tlearn: 5.6185746\ttotal: 2.23s\tremaining: 2.97s\n",
      "428:\tlearn: 5.6179722\ttotal: 2.23s\tremaining: 2.97s\n",
      "429:\tlearn: 5.6173742\ttotal: 2.23s\tremaining: 2.96s\n",
      "430:\tlearn: 5.6170088\ttotal: 2.24s\tremaining: 2.96s\n",
      "431:\tlearn: 5.6165530\ttotal: 2.24s\tremaining: 2.95s\n",
      "432:\tlearn: 5.6157546\ttotal: 2.25s\tremaining: 2.95s\n",
      "433:\tlearn: 5.6152847\ttotal: 2.26s\tremaining: 2.94s\n",
      "434:\tlearn: 5.6147233\ttotal: 2.26s\tremaining: 2.94s\n",
      "435:\tlearn: 5.6143128\ttotal: 2.27s\tremaining: 2.93s\n",
      "436:\tlearn: 5.6136745\ttotal: 2.27s\tremaining: 2.93s\n",
      "437:\tlearn: 5.6130054\ttotal: 2.28s\tremaining: 2.92s\n",
      "438:\tlearn: 5.6123902\ttotal: 2.28s\tremaining: 2.92s\n",
      "439:\tlearn: 5.6116856\ttotal: 2.29s\tremaining: 2.91s\n",
      "440:\tlearn: 5.6111222\ttotal: 2.29s\tremaining: 2.91s\n",
      "441:\tlearn: 5.6107801\ttotal: 2.3s\tremaining: 2.9s\n",
      "442:\tlearn: 5.6103076\ttotal: 2.3s\tremaining: 2.89s\n",
      "443:\tlearn: 5.6097168\ttotal: 2.31s\tremaining: 2.89s\n",
      "444:\tlearn: 5.6090582\ttotal: 2.31s\tremaining: 2.88s\n",
      "445:\tlearn: 5.6085794\ttotal: 2.31s\tremaining: 2.88s\n",
      "446:\tlearn: 5.6080483\ttotal: 2.32s\tremaining: 2.87s\n",
      "447:\tlearn: 5.6075491\ttotal: 2.32s\tremaining: 2.86s\n",
      "448:\tlearn: 5.6071139\ttotal: 2.33s\tremaining: 2.85s\n",
      "449:\tlearn: 5.6069949\ttotal: 2.33s\tremaining: 2.85s\n",
      "450:\tlearn: 5.6064477\ttotal: 2.34s\tremaining: 2.84s\n",
      "451:\tlearn: 5.6059229\ttotal: 2.34s\tremaining: 2.84s\n",
      "452:\tlearn: 5.6054366\ttotal: 2.35s\tremaining: 2.84s\n",
      "453:\tlearn: 5.6050676\ttotal: 2.35s\tremaining: 2.83s\n",
      "454:\tlearn: 5.6044015\ttotal: 2.36s\tremaining: 2.83s\n",
      "455:\tlearn: 5.6040525\ttotal: 2.37s\tremaining: 2.82s\n",
      "456:\tlearn: 5.6034516\ttotal: 2.37s\tremaining: 2.82s\n",
      "457:\tlearn: 5.6029829\ttotal: 2.38s\tremaining: 2.81s\n",
      "458:\tlearn: 5.6023892\ttotal: 2.38s\tremaining: 2.81s\n",
      "459:\tlearn: 5.6018039\ttotal: 2.39s\tremaining: 2.8s\n",
      "460:\tlearn: 5.6015263\ttotal: 2.39s\tremaining: 2.79s\n",
      "461:\tlearn: 5.6008724\ttotal: 2.39s\tremaining: 2.79s\n",
      "462:\tlearn: 5.6001952\ttotal: 2.4s\tremaining: 2.78s\n",
      "463:\tlearn: 5.5997775\ttotal: 2.4s\tremaining: 2.78s\n",
      "464:\tlearn: 5.5989688\ttotal: 2.41s\tremaining: 2.77s\n",
      "465:\tlearn: 5.5983108\ttotal: 2.41s\tremaining: 2.76s\n",
      "466:\tlearn: 5.5977001\ttotal: 2.42s\tremaining: 2.76s\n",
      "467:\tlearn: 5.5972909\ttotal: 2.42s\tremaining: 2.75s\n",
      "468:\tlearn: 5.5968740\ttotal: 2.42s\tremaining: 2.75s\n",
      "469:\tlearn: 5.5963887\ttotal: 2.43s\tremaining: 2.74s\n",
      "470:\tlearn: 5.5959320\ttotal: 2.43s\tremaining: 2.73s\n",
      "471:\tlearn: 5.5954304\ttotal: 2.44s\tremaining: 2.73s\n",
      "472:\tlearn: 5.5951761\ttotal: 2.44s\tremaining: 2.72s\n",
      "473:\tlearn: 5.5946467\ttotal: 2.45s\tremaining: 2.71s\n",
      "474:\tlearn: 5.5941163\ttotal: 2.45s\tremaining: 2.71s\n",
      "475:\tlearn: 5.5931631\ttotal: 2.46s\tremaining: 2.7s\n",
      "476:\tlearn: 5.5927278\ttotal: 2.46s\tremaining: 2.7s\n",
      "477:\tlearn: 5.5923584\ttotal: 2.47s\tremaining: 2.69s\n",
      "478:\tlearn: 5.5916296\ttotal: 2.47s\tremaining: 2.69s\n",
      "479:\tlearn: 5.5911927\ttotal: 2.48s\tremaining: 2.69s\n",
      "480:\tlearn: 5.5909071\ttotal: 2.48s\tremaining: 2.68s\n",
      "481:\tlearn: 5.5904070\ttotal: 2.49s\tremaining: 2.68s\n",
      "482:\tlearn: 5.5899443\ttotal: 2.5s\tremaining: 2.67s\n",
      "483:\tlearn: 5.5890747\ttotal: 2.5s\tremaining: 2.67s\n",
      "484:\tlearn: 5.5885925\ttotal: 2.51s\tremaining: 2.66s\n",
      "485:\tlearn: 5.5882398\ttotal: 2.51s\tremaining: 2.66s\n",
      "486:\tlearn: 5.5877843\ttotal: 2.52s\tremaining: 2.65s\n",
      "487:\tlearn: 5.5871700\ttotal: 2.52s\tremaining: 2.64s\n",
      "488:\tlearn: 5.5869025\ttotal: 2.52s\tremaining: 2.64s\n",
      "489:\tlearn: 5.5862821\ttotal: 2.53s\tremaining: 2.63s\n",
      "490:\tlearn: 5.5853216\ttotal: 2.53s\tremaining: 2.63s\n",
      "491:\tlearn: 5.5847736\ttotal: 2.54s\tremaining: 2.62s\n",
      "492:\tlearn: 5.5842735\ttotal: 2.55s\tremaining: 2.62s\n",
      "493:\tlearn: 5.5841065\ttotal: 2.56s\tremaining: 2.62s\n",
      "494:\tlearn: 5.5836342\ttotal: 2.56s\tremaining: 2.61s\n",
      "495:\tlearn: 5.5833807\ttotal: 2.57s\tremaining: 2.61s\n",
      "496:\tlearn: 5.5826353\ttotal: 2.57s\tremaining: 2.6s\n",
      "497:\tlearn: 5.5821414\ttotal: 2.58s\tremaining: 2.6s\n",
      "498:\tlearn: 5.5814047\ttotal: 2.58s\tremaining: 2.59s\n",
      "499:\tlearn: 5.5812946\ttotal: 2.58s\tremaining: 2.58s\n",
      "500:\tlearn: 5.5808694\ttotal: 2.59s\tremaining: 2.58s\n",
      "501:\tlearn: 5.5804690\ttotal: 2.59s\tremaining: 2.57s\n",
      "502:\tlearn: 5.5796287\ttotal: 2.6s\tremaining: 2.57s\n",
      "503:\tlearn: 5.5787346\ttotal: 2.6s\tremaining: 2.56s\n",
      "504:\tlearn: 5.5784213\ttotal: 2.61s\tremaining: 2.55s\n",
      "505:\tlearn: 5.5778949\ttotal: 2.61s\tremaining: 2.55s\n",
      "506:\tlearn: 5.5773914\ttotal: 2.61s\tremaining: 2.54s\n",
      "507:\tlearn: 5.5769196\ttotal: 2.62s\tremaining: 2.54s\n",
      "508:\tlearn: 5.5763966\ttotal: 2.62s\tremaining: 2.53s\n",
      "509:\tlearn: 5.5757115\ttotal: 2.63s\tremaining: 2.52s\n",
      "510:\tlearn: 5.5750171\ttotal: 2.63s\tremaining: 2.52s\n",
      "511:\tlearn: 5.5744900\ttotal: 2.64s\tremaining: 2.51s\n",
      "512:\tlearn: 5.5743101\ttotal: 2.64s\tremaining: 2.51s\n",
      "513:\tlearn: 5.5736504\ttotal: 2.64s\tremaining: 2.5s\n",
      "514:\tlearn: 5.5732039\ttotal: 2.65s\tremaining: 2.5s\n",
      "515:\tlearn: 5.5728563\ttotal: 2.65s\tremaining: 2.49s\n",
      "516:\tlearn: 5.5726060\ttotal: 2.66s\tremaining: 2.48s\n",
      "517:\tlearn: 5.5723683\ttotal: 2.66s\tremaining: 2.48s\n",
      "518:\tlearn: 5.5717751\ttotal: 2.67s\tremaining: 2.47s\n",
      "519:\tlearn: 5.5710453\ttotal: 2.67s\tremaining: 2.47s\n",
      "520:\tlearn: 5.5706970\ttotal: 2.68s\tremaining: 2.46s\n",
      "521:\tlearn: 5.5703269\ttotal: 2.68s\tremaining: 2.46s\n",
      "522:\tlearn: 5.5698566\ttotal: 2.69s\tremaining: 2.45s\n",
      "523:\tlearn: 5.5693481\ttotal: 2.7s\tremaining: 2.45s\n",
      "524:\tlearn: 5.5688025\ttotal: 2.7s\tremaining: 2.45s\n",
      "525:\tlearn: 5.5684944\ttotal: 2.71s\tremaining: 2.44s\n",
      "526:\tlearn: 5.5679336\ttotal: 2.71s\tremaining: 2.44s\n",
      "527:\tlearn: 5.5676046\ttotal: 2.72s\tremaining: 2.43s\n",
      "528:\tlearn: 5.5672801\ttotal: 2.72s\tremaining: 2.42s\n",
      "529:\tlearn: 5.5669477\ttotal: 2.73s\tremaining: 2.42s\n",
      "530:\tlearn: 5.5665779\ttotal: 2.73s\tremaining: 2.41s\n",
      "531:\tlearn: 5.5659551\ttotal: 2.74s\tremaining: 2.41s\n",
      "532:\tlearn: 5.5656174\ttotal: 2.74s\tremaining: 2.4s\n",
      "533:\tlearn: 5.5652813\ttotal: 2.74s\tremaining: 2.4s\n",
      "534:\tlearn: 5.5649033\ttotal: 2.75s\tremaining: 2.39s\n",
      "535:\tlearn: 5.5643023\ttotal: 2.76s\tremaining: 2.39s\n",
      "536:\tlearn: 5.5637035\ttotal: 2.76s\tremaining: 2.38s\n",
      "537:\tlearn: 5.5633599\ttotal: 2.77s\tremaining: 2.38s\n",
      "538:\tlearn: 5.5628608\ttotal: 2.78s\tremaining: 2.37s\n",
      "539:\tlearn: 5.5625598\ttotal: 2.78s\tremaining: 2.37s\n",
      "540:\tlearn: 5.5620487\ttotal: 2.79s\tremaining: 2.36s\n",
      "541:\tlearn: 5.5613928\ttotal: 2.79s\tremaining: 2.36s\n",
      "542:\tlearn: 5.5611004\ttotal: 2.79s\tremaining: 2.35s\n",
      "543:\tlearn: 5.5605371\ttotal: 2.8s\tremaining: 2.35s\n",
      "544:\tlearn: 5.5602556\ttotal: 2.8s\tremaining: 2.34s\n",
      "545:\tlearn: 5.5599636\ttotal: 2.81s\tremaining: 2.33s\n",
      "546:\tlearn: 5.5593584\ttotal: 2.81s\tremaining: 2.33s\n",
      "547:\tlearn: 5.5588196\ttotal: 2.82s\tremaining: 2.32s\n",
      "548:\tlearn: 5.5581809\ttotal: 2.82s\tremaining: 2.32s\n",
      "549:\tlearn: 5.5579198\ttotal: 2.83s\tremaining: 2.31s\n",
      "550:\tlearn: 5.5571144\ttotal: 2.83s\tremaining: 2.31s\n",
      "551:\tlearn: 5.5566105\ttotal: 2.83s\tremaining: 2.3s\n",
      "552:\tlearn: 5.5564141\ttotal: 2.84s\tremaining: 2.29s\n",
      "553:\tlearn: 5.5559177\ttotal: 2.84s\tremaining: 2.29s\n",
      "554:\tlearn: 5.5554069\ttotal: 2.85s\tremaining: 2.28s\n",
      "555:\tlearn: 5.5547501\ttotal: 2.85s\tremaining: 2.28s\n",
      "556:\tlearn: 5.5545176\ttotal: 2.85s\tremaining: 2.27s\n",
      "557:\tlearn: 5.5541742\ttotal: 2.86s\tremaining: 2.27s\n",
      "558:\tlearn: 5.5537487\ttotal: 2.86s\tremaining: 2.26s\n",
      "559:\tlearn: 5.5534331\ttotal: 2.87s\tremaining: 2.25s\n",
      "560:\tlearn: 5.5529556\ttotal: 2.87s\tremaining: 2.25s\n",
      "561:\tlearn: 5.5527340\ttotal: 2.88s\tremaining: 2.24s\n",
      "562:\tlearn: 5.5523812\ttotal: 2.88s\tremaining: 2.24s\n",
      "563:\tlearn: 5.5521222\ttotal: 2.89s\tremaining: 2.23s\n",
      "564:\tlearn: 5.5516187\ttotal: 2.89s\tremaining: 2.23s\n",
      "565:\tlearn: 5.5510922\ttotal: 2.9s\tremaining: 2.22s\n",
      "566:\tlearn: 5.5504095\ttotal: 2.9s\tremaining: 2.22s\n",
      "567:\tlearn: 5.5497323\ttotal: 2.91s\tremaining: 2.21s\n",
      "568:\tlearn: 5.5494202\ttotal: 2.92s\tremaining: 2.21s\n",
      "569:\tlearn: 5.5489421\ttotal: 2.92s\tremaining: 2.2s\n",
      "570:\tlearn: 5.5483255\ttotal: 2.93s\tremaining: 2.2s\n",
      "571:\tlearn: 5.5478931\ttotal: 2.93s\tremaining: 2.19s\n",
      "572:\tlearn: 5.5475928\ttotal: 2.94s\tremaining: 2.19s\n",
      "573:\tlearn: 5.5472193\ttotal: 2.94s\tremaining: 2.18s\n",
      "574:\tlearn: 5.5469003\ttotal: 2.94s\tremaining: 2.18s\n",
      "575:\tlearn: 5.5463854\ttotal: 2.95s\tremaining: 2.17s\n",
      "576:\tlearn: 5.5457554\ttotal: 2.95s\tremaining: 2.16s\n",
      "577:\tlearn: 5.5454901\ttotal: 2.96s\tremaining: 2.16s\n",
      "578:\tlearn: 5.5450735\ttotal: 2.96s\tremaining: 2.15s\n",
      "579:\tlearn: 5.5446608\ttotal: 2.97s\tremaining: 2.15s\n",
      "580:\tlearn: 5.5443061\ttotal: 2.98s\tremaining: 2.15s\n",
      "581:\tlearn: 5.5438277\ttotal: 2.98s\tremaining: 2.14s\n",
      "582:\tlearn: 5.5432240\ttotal: 2.99s\tremaining: 2.14s\n",
      "583:\tlearn: 5.5427671\ttotal: 2.99s\tremaining: 2.13s\n",
      "584:\tlearn: 5.5422401\ttotal: 3s\tremaining: 2.13s\n",
      "585:\tlearn: 5.5419022\ttotal: 3s\tremaining: 2.12s\n",
      "586:\tlearn: 5.5411709\ttotal: 3.01s\tremaining: 2.12s\n",
      "587:\tlearn: 5.5410174\ttotal: 3.01s\tremaining: 2.11s\n",
      "588:\tlearn: 5.5408215\ttotal: 3.02s\tremaining: 2.1s\n",
      "589:\tlearn: 5.5402050\ttotal: 3.02s\tremaining: 2.1s\n",
      "590:\tlearn: 5.5398304\ttotal: 3.03s\tremaining: 2.09s\n",
      "591:\tlearn: 5.5393253\ttotal: 3.03s\tremaining: 2.09s\n",
      "592:\tlearn: 5.5388058\ttotal: 3.04s\tremaining: 2.08s\n",
      "593:\tlearn: 5.5382987\ttotal: 3.04s\tremaining: 2.08s\n",
      "594:\tlearn: 5.5378095\ttotal: 3.04s\tremaining: 2.07s\n",
      "595:\tlearn: 5.5374283\ttotal: 3.05s\tremaining: 2.07s\n",
      "596:\tlearn: 5.5371773\ttotal: 3.05s\tremaining: 2.06s\n",
      "597:\tlearn: 5.5368679\ttotal: 3.06s\tremaining: 2.06s\n",
      "598:\tlearn: 5.5362358\ttotal: 3.06s\tremaining: 2.05s\n",
      "599:\tlearn: 5.5357235\ttotal: 3.07s\tremaining: 2.04s\n",
      "600:\tlearn: 5.5353548\ttotal: 3.07s\tremaining: 2.04s\n",
      "601:\tlearn: 5.5346717\ttotal: 3.07s\tremaining: 2.03s\n",
      "602:\tlearn: 5.5341654\ttotal: 3.08s\tremaining: 2.03s\n",
      "603:\tlearn: 5.5336764\ttotal: 3.08s\tremaining: 2.02s\n",
      "604:\tlearn: 5.5331839\ttotal: 3.09s\tremaining: 2.02s\n",
      "605:\tlearn: 5.5323817\ttotal: 3.09s\tremaining: 2.01s\n",
      "606:\tlearn: 5.5321108\ttotal: 3.1s\tremaining: 2.01s\n",
      "607:\tlearn: 5.5316324\ttotal: 3.11s\tremaining: 2s\n",
      "608:\tlearn: 5.5313819\ttotal: 3.11s\tremaining: 2s\n",
      "609:\tlearn: 5.5307119\ttotal: 3.12s\tremaining: 1.99s\n",
      "610:\tlearn: 5.5303768\ttotal: 3.13s\tremaining: 1.99s\n",
      "611:\tlearn: 5.5297118\ttotal: 3.13s\tremaining: 1.99s\n",
      "612:\tlearn: 5.5292472\ttotal: 3.14s\tremaining: 1.98s\n",
      "613:\tlearn: 5.5288689\ttotal: 3.14s\tremaining: 1.97s\n",
      "614:\tlearn: 5.5285226\ttotal: 3.15s\tremaining: 1.97s\n",
      "615:\tlearn: 5.5281608\ttotal: 3.15s\tremaining: 1.96s\n",
      "616:\tlearn: 5.5275900\ttotal: 3.15s\tremaining: 1.96s\n",
      "617:\tlearn: 5.5270843\ttotal: 3.16s\tremaining: 1.95s\n",
      "618:\tlearn: 5.5267527\ttotal: 3.16s\tremaining: 1.95s\n",
      "619:\tlearn: 5.5264698\ttotal: 3.17s\tremaining: 1.94s\n",
      "620:\tlearn: 5.5259516\ttotal: 3.17s\tremaining: 1.94s\n",
      "621:\tlearn: 5.5254796\ttotal: 3.18s\tremaining: 1.93s\n",
      "622:\tlearn: 5.5252206\ttotal: 3.19s\tremaining: 1.93s\n",
      "623:\tlearn: 5.5247517\ttotal: 3.19s\tremaining: 1.92s\n",
      "624:\tlearn: 5.5244777\ttotal: 3.2s\tremaining: 1.92s\n",
      "625:\tlearn: 5.5240597\ttotal: 3.2s\tremaining: 1.91s\n",
      "626:\tlearn: 5.5235427\ttotal: 3.21s\tremaining: 1.91s\n",
      "627:\tlearn: 5.5230442\ttotal: 3.21s\tremaining: 1.9s\n",
      "628:\tlearn: 5.5226061\ttotal: 3.22s\tremaining: 1.9s\n",
      "629:\tlearn: 5.5222118\ttotal: 3.22s\tremaining: 1.89s\n",
      "630:\tlearn: 5.5219360\ttotal: 3.23s\tremaining: 1.89s\n",
      "631:\tlearn: 5.5214974\ttotal: 3.23s\tremaining: 1.88s\n",
      "632:\tlearn: 5.5209761\ttotal: 3.24s\tremaining: 1.88s\n",
      "633:\tlearn: 5.5202665\ttotal: 3.24s\tremaining: 1.87s\n",
      "634:\tlearn: 5.5197629\ttotal: 3.25s\tremaining: 1.86s\n",
      "635:\tlearn: 5.5193672\ttotal: 3.25s\tremaining: 1.86s\n",
      "636:\tlearn: 5.5191567\ttotal: 3.25s\tremaining: 1.85s\n",
      "637:\tlearn: 5.5188174\ttotal: 3.26s\tremaining: 1.85s\n",
      "638:\tlearn: 5.5184473\ttotal: 3.26s\tremaining: 1.84s\n",
      "639:\tlearn: 5.5181993\ttotal: 3.27s\tremaining: 1.84s\n",
      "640:\tlearn: 5.5179072\ttotal: 3.27s\tremaining: 1.83s\n",
      "641:\tlearn: 5.5177015\ttotal: 3.27s\tremaining: 1.83s\n",
      "642:\tlearn: 5.5174596\ttotal: 3.28s\tremaining: 1.82s\n",
      "643:\tlearn: 5.5170821\ttotal: 3.28s\tremaining: 1.81s\n",
      "644:\tlearn: 5.5165017\ttotal: 3.29s\tremaining: 1.81s\n",
      "645:\tlearn: 5.5161126\ttotal: 3.29s\tremaining: 1.8s\n",
      "646:\tlearn: 5.5157123\ttotal: 3.3s\tremaining: 1.8s\n",
      "647:\tlearn: 5.5152823\ttotal: 3.3s\tremaining: 1.79s\n",
      "648:\tlearn: 5.5150270\ttotal: 3.31s\tremaining: 1.79s\n",
      "649:\tlearn: 5.5147543\ttotal: 3.31s\tremaining: 1.78s\n",
      "650:\tlearn: 5.5141615\ttotal: 3.32s\tremaining: 1.78s\n",
      "651:\tlearn: 5.5138296\ttotal: 3.32s\tremaining: 1.77s\n",
      "652:\tlearn: 5.5135253\ttotal: 3.33s\tremaining: 1.77s\n",
      "653:\tlearn: 5.5129798\ttotal: 3.34s\tremaining: 1.76s\n",
      "654:\tlearn: 5.5126528\ttotal: 3.34s\tremaining: 1.76s\n",
      "655:\tlearn: 5.5123965\ttotal: 3.35s\tremaining: 1.75s\n",
      "656:\tlearn: 5.5122419\ttotal: 3.35s\tremaining: 1.75s\n",
      "657:\tlearn: 5.5119309\ttotal: 3.35s\tremaining: 1.74s\n",
      "658:\tlearn: 5.5115779\ttotal: 3.36s\tremaining: 1.74s\n",
      "659:\tlearn: 5.5112001\ttotal: 3.37s\tremaining: 1.73s\n",
      "660:\tlearn: 5.5107274\ttotal: 3.37s\tremaining: 1.73s\n",
      "661:\tlearn: 5.5104788\ttotal: 3.38s\tremaining: 1.72s\n",
      "662:\tlearn: 5.5102165\ttotal: 3.38s\tremaining: 1.72s\n",
      "663:\tlearn: 5.5098358\ttotal: 3.39s\tremaining: 1.72s\n",
      "664:\tlearn: 5.5097039\ttotal: 3.4s\tremaining: 1.71s\n",
      "665:\tlearn: 5.5093540\ttotal: 3.4s\tremaining: 1.71s\n",
      "666:\tlearn: 5.5088193\ttotal: 3.4s\tremaining: 1.7s\n",
      "667:\tlearn: 5.5084152\ttotal: 3.41s\tremaining: 1.7s\n",
      "668:\tlearn: 5.5081549\ttotal: 3.41s\tremaining: 1.69s\n",
      "669:\tlearn: 5.5078954\ttotal: 3.42s\tremaining: 1.68s\n",
      "670:\tlearn: 5.5074875\ttotal: 3.42s\tremaining: 1.68s\n",
      "671:\tlearn: 5.5070609\ttotal: 3.43s\tremaining: 1.67s\n",
      "672:\tlearn: 5.5067337\ttotal: 3.43s\tremaining: 1.67s\n",
      "673:\tlearn: 5.5061967\ttotal: 3.44s\tremaining: 1.66s\n",
      "674:\tlearn: 5.5057462\ttotal: 3.44s\tremaining: 1.66s\n",
      "675:\tlearn: 5.5055885\ttotal: 3.44s\tremaining: 1.65s\n",
      "676:\tlearn: 5.5050808\ttotal: 3.45s\tremaining: 1.65s\n",
      "677:\tlearn: 5.5046878\ttotal: 3.45s\tremaining: 1.64s\n",
      "678:\tlearn: 5.5041708\ttotal: 3.46s\tremaining: 1.64s\n",
      "679:\tlearn: 5.5037123\ttotal: 3.46s\tremaining: 1.63s\n",
      "680:\tlearn: 5.5032873\ttotal: 3.47s\tremaining: 1.62s\n",
      "681:\tlearn: 5.5029109\ttotal: 3.47s\tremaining: 1.62s\n",
      "682:\tlearn: 5.5023409\ttotal: 3.48s\tremaining: 1.61s\n",
      "683:\tlearn: 5.5021457\ttotal: 3.48s\tremaining: 1.61s\n",
      "684:\tlearn: 5.5017819\ttotal: 3.48s\tremaining: 1.6s\n",
      "685:\tlearn: 5.5013378\ttotal: 3.49s\tremaining: 1.6s\n",
      "686:\tlearn: 5.5012327\ttotal: 3.49s\tremaining: 1.59s\n",
      "687:\tlearn: 5.5008252\ttotal: 3.5s\tremaining: 1.59s\n",
      "688:\tlearn: 5.5004817\ttotal: 3.5s\tremaining: 1.58s\n",
      "689:\tlearn: 5.4998540\ttotal: 3.51s\tremaining: 1.57s\n",
      "690:\tlearn: 5.4995011\ttotal: 3.51s\tremaining: 1.57s\n",
      "691:\tlearn: 5.4991102\ttotal: 3.52s\tremaining: 1.56s\n",
      "692:\tlearn: 5.4986583\ttotal: 3.52s\tremaining: 1.56s\n",
      "693:\tlearn: 5.4982185\ttotal: 3.53s\tremaining: 1.56s\n",
      "694:\tlearn: 5.4977504\ttotal: 3.54s\tremaining: 1.55s\n",
      "695:\tlearn: 5.4974787\ttotal: 3.54s\tremaining: 1.55s\n",
      "696:\tlearn: 5.4969559\ttotal: 3.55s\tremaining: 1.54s\n",
      "697:\tlearn: 5.4964075\ttotal: 3.56s\tremaining: 1.54s\n",
      "698:\tlearn: 5.4962027\ttotal: 3.57s\tremaining: 1.53s\n",
      "699:\tlearn: 5.4960724\ttotal: 3.57s\tremaining: 1.53s\n",
      "700:\tlearn: 5.4957547\ttotal: 3.58s\tremaining: 1.52s\n",
      "701:\tlearn: 5.4954661\ttotal: 3.58s\tremaining: 1.52s\n",
      "702:\tlearn: 5.4949619\ttotal: 3.59s\tremaining: 1.51s\n",
      "703:\tlearn: 5.4945221\ttotal: 3.6s\tremaining: 1.51s\n",
      "704:\tlearn: 5.4942934\ttotal: 3.62s\tremaining: 1.52s\n",
      "705:\tlearn: 5.4937323\ttotal: 3.65s\tremaining: 1.52s\n",
      "706:\tlearn: 5.4930738\ttotal: 3.66s\tremaining: 1.52s\n",
      "707:\tlearn: 5.4926712\ttotal: 3.67s\tremaining: 1.51s\n",
      "708:\tlearn: 5.4923135\ttotal: 3.68s\tremaining: 1.51s\n",
      "709:\tlearn: 5.4918349\ttotal: 3.69s\tremaining: 1.51s\n",
      "710:\tlearn: 5.4913211\ttotal: 3.69s\tremaining: 1.5s\n",
      "711:\tlearn: 5.4908645\ttotal: 3.7s\tremaining: 1.5s\n",
      "712:\tlearn: 5.4907261\ttotal: 3.71s\tremaining: 1.49s\n",
      "713:\tlearn: 5.4902912\ttotal: 3.71s\tremaining: 1.49s\n",
      "714:\tlearn: 5.4898567\ttotal: 3.72s\tremaining: 1.48s\n",
      "715:\tlearn: 5.4893623\ttotal: 3.72s\tremaining: 1.48s\n",
      "716:\tlearn: 5.4891039\ttotal: 3.73s\tremaining: 1.47s\n",
      "717:\tlearn: 5.4886705\ttotal: 3.73s\tremaining: 1.47s\n",
      "718:\tlearn: 5.4883497\ttotal: 3.74s\tremaining: 1.46s\n",
      "719:\tlearn: 5.4879120\ttotal: 3.75s\tremaining: 1.46s\n",
      "720:\tlearn: 5.4874556\ttotal: 3.75s\tremaining: 1.45s\n",
      "721:\tlearn: 5.4870703\ttotal: 3.76s\tremaining: 1.45s\n",
      "722:\tlearn: 5.4866055\ttotal: 3.76s\tremaining: 1.44s\n",
      "723:\tlearn: 5.4862284\ttotal: 3.77s\tremaining: 1.44s\n",
      "724:\tlearn: 5.4858746\ttotal: 3.77s\tremaining: 1.43s\n",
      "725:\tlearn: 5.4853549\ttotal: 3.79s\tremaining: 1.43s\n",
      "726:\tlearn: 5.4851276\ttotal: 3.79s\tremaining: 1.42s\n",
      "727:\tlearn: 5.4850420\ttotal: 3.8s\tremaining: 1.42s\n",
      "728:\tlearn: 5.4844534\ttotal: 3.81s\tremaining: 1.41s\n",
      "729:\tlearn: 5.4843020\ttotal: 3.81s\tremaining: 1.41s\n",
      "730:\tlearn: 5.4837620\ttotal: 3.82s\tremaining: 1.4s\n",
      "731:\tlearn: 5.4832737\ttotal: 3.82s\tremaining: 1.4s\n",
      "732:\tlearn: 5.4826036\ttotal: 3.83s\tremaining: 1.4s\n",
      "733:\tlearn: 5.4823621\ttotal: 3.84s\tremaining: 1.39s\n",
      "734:\tlearn: 5.4818528\ttotal: 3.84s\tremaining: 1.39s\n",
      "735:\tlearn: 5.4814573\ttotal: 3.85s\tremaining: 1.38s\n",
      "736:\tlearn: 5.4810081\ttotal: 3.85s\tremaining: 1.37s\n",
      "737:\tlearn: 5.4808868\ttotal: 3.86s\tremaining: 1.37s\n",
      "738:\tlearn: 5.4804775\ttotal: 3.86s\tremaining: 1.36s\n",
      "739:\tlearn: 5.4803507\ttotal: 3.87s\tremaining: 1.36s\n",
      "740:\tlearn: 5.4797986\ttotal: 3.87s\tremaining: 1.35s\n",
      "741:\tlearn: 5.4793668\ttotal: 3.88s\tremaining: 1.35s\n",
      "742:\tlearn: 5.4790240\ttotal: 3.88s\tremaining: 1.34s\n",
      "743:\tlearn: 5.4785752\ttotal: 3.88s\tremaining: 1.34s\n",
      "744:\tlearn: 5.4781957\ttotal: 3.89s\tremaining: 1.33s\n",
      "745:\tlearn: 5.4777262\ttotal: 3.89s\tremaining: 1.32s\n",
      "746:\tlearn: 5.4773801\ttotal: 3.9s\tremaining: 1.32s\n",
      "747:\tlearn: 5.4770356\ttotal: 3.9s\tremaining: 1.31s\n",
      "748:\tlearn: 5.4765267\ttotal: 3.9s\tremaining: 1.31s\n",
      "749:\tlearn: 5.4761375\ttotal: 3.91s\tremaining: 1.3s\n",
      "750:\tlearn: 5.4756274\ttotal: 3.91s\tremaining: 1.3s\n",
      "751:\tlearn: 5.4750340\ttotal: 3.92s\tremaining: 1.29s\n",
      "752:\tlearn: 5.4749213\ttotal: 3.92s\tremaining: 1.29s\n",
      "753:\tlearn: 5.4746193\ttotal: 3.93s\tremaining: 1.28s\n",
      "754:\tlearn: 5.4741744\ttotal: 3.93s\tremaining: 1.28s\n",
      "755:\tlearn: 5.4736873\ttotal: 3.94s\tremaining: 1.27s\n",
      "756:\tlearn: 5.4733299\ttotal: 3.94s\tremaining: 1.27s\n",
      "757:\tlearn: 5.4731345\ttotal: 3.95s\tremaining: 1.26s\n",
      "758:\tlearn: 5.4726148\ttotal: 3.96s\tremaining: 1.26s\n",
      "759:\tlearn: 5.4720488\ttotal: 3.96s\tremaining: 1.25s\n",
      "760:\tlearn: 5.4717173\ttotal: 3.97s\tremaining: 1.25s\n",
      "761:\tlearn: 5.4711945\ttotal: 3.97s\tremaining: 1.24s\n",
      "762:\tlearn: 5.4708306\ttotal: 3.98s\tremaining: 1.24s\n",
      "763:\tlearn: 5.4703457\ttotal: 3.98s\tremaining: 1.23s\n",
      "764:\tlearn: 5.4701672\ttotal: 3.99s\tremaining: 1.22s\n",
      "765:\tlearn: 5.4698938\ttotal: 3.99s\tremaining: 1.22s\n",
      "766:\tlearn: 5.4696432\ttotal: 3.99s\tremaining: 1.21s\n",
      "767:\tlearn: 5.4694886\ttotal: 4s\tremaining: 1.21s\n",
      "768:\tlearn: 5.4689900\ttotal: 4s\tremaining: 1.2s\n",
      "769:\tlearn: 5.4685251\ttotal: 4.01s\tremaining: 1.2s\n",
      "770:\tlearn: 5.4682587\ttotal: 4.01s\tremaining: 1.19s\n",
      "771:\tlearn: 5.4679329\ttotal: 4.02s\tremaining: 1.19s\n",
      "772:\tlearn: 5.4675137\ttotal: 4.03s\tremaining: 1.18s\n",
      "773:\tlearn: 5.4672480\ttotal: 4.03s\tremaining: 1.18s\n",
      "774:\tlearn: 5.4667571\ttotal: 4.04s\tremaining: 1.17s\n",
      "775:\tlearn: 5.4661928\ttotal: 4.04s\tremaining: 1.17s\n",
      "776:\tlearn: 5.4656172\ttotal: 4.05s\tremaining: 1.16s\n",
      "777:\tlearn: 5.4652394\ttotal: 4.05s\tremaining: 1.16s\n",
      "778:\tlearn: 5.4649090\ttotal: 4.06s\tremaining: 1.15s\n",
      "779:\tlearn: 5.4643682\ttotal: 4.06s\tremaining: 1.15s\n",
      "780:\tlearn: 5.4642841\ttotal: 4.06s\tremaining: 1.14s\n",
      "781:\tlearn: 5.4639761\ttotal: 4.07s\tremaining: 1.13s\n",
      "782:\tlearn: 5.4636214\ttotal: 4.07s\tremaining: 1.13s\n",
      "783:\tlearn: 5.4631715\ttotal: 4.08s\tremaining: 1.12s\n",
      "784:\tlearn: 5.4630646\ttotal: 4.08s\tremaining: 1.12s\n",
      "785:\tlearn: 5.4627998\ttotal: 4.09s\tremaining: 1.11s\n",
      "786:\tlearn: 5.4624288\ttotal: 4.09s\tremaining: 1.11s\n",
      "787:\tlearn: 5.4619328\ttotal: 4.09s\tremaining: 1.1s\n",
      "788:\tlearn: 5.4613904\ttotal: 4.1s\tremaining: 1.1s\n",
      "789:\tlearn: 5.4609650\ttotal: 4.1s\tremaining: 1.09s\n",
      "790:\tlearn: 5.4602750\ttotal: 4.11s\tremaining: 1.08s\n",
      "791:\tlearn: 5.4598876\ttotal: 4.11s\tremaining: 1.08s\n",
      "792:\tlearn: 5.4595657\ttotal: 4.12s\tremaining: 1.07s\n",
      "793:\tlearn: 5.4594680\ttotal: 4.12s\tremaining: 1.07s\n",
      "794:\tlearn: 5.4590285\ttotal: 4.13s\tremaining: 1.06s\n",
      "795:\tlearn: 5.4585701\ttotal: 4.13s\tremaining: 1.06s\n",
      "796:\tlearn: 5.4584363\ttotal: 4.14s\tremaining: 1.05s\n",
      "797:\tlearn: 5.4579925\ttotal: 4.14s\tremaining: 1.05s\n",
      "798:\tlearn: 5.4573813\ttotal: 4.15s\tremaining: 1.04s\n",
      "799:\tlearn: 5.4568895\ttotal: 4.15s\tremaining: 1.04s\n",
      "800:\tlearn: 5.4564297\ttotal: 4.16s\tremaining: 1.03s\n",
      "801:\tlearn: 5.4562457\ttotal: 4.17s\tremaining: 1.03s\n",
      "802:\tlearn: 5.4560250\ttotal: 4.17s\tremaining: 1.02s\n",
      "803:\tlearn: 5.4557233\ttotal: 4.17s\tremaining: 1.02s\n",
      "804:\tlearn: 5.4550707\ttotal: 4.18s\tremaining: 1.01s\n",
      "805:\tlearn: 5.4547233\ttotal: 4.18s\tremaining: 1.01s\n",
      "806:\tlearn: 5.4545183\ttotal: 4.19s\tremaining: 1s\n",
      "807:\tlearn: 5.4540862\ttotal: 4.19s\tremaining: 996ms\n",
      "808:\tlearn: 5.4537332\ttotal: 4.2s\tremaining: 991ms\n",
      "809:\tlearn: 5.4532900\ttotal: 4.2s\tremaining: 986ms\n",
      "810:\tlearn: 5.4528671\ttotal: 4.21s\tremaining: 981ms\n",
      "811:\tlearn: 5.4526413\ttotal: 4.21s\tremaining: 976ms\n",
      "812:\tlearn: 5.4524399\ttotal: 4.22s\tremaining: 971ms\n",
      "813:\tlearn: 5.4521815\ttotal: 4.22s\tremaining: 966ms\n",
      "814:\tlearn: 5.4519138\ttotal: 4.23s\tremaining: 961ms\n",
      "815:\tlearn: 5.4516669\ttotal: 4.24s\tremaining: 955ms\n",
      "816:\tlearn: 5.4515202\ttotal: 4.25s\tremaining: 951ms\n",
      "817:\tlearn: 5.4513347\ttotal: 4.25s\tremaining: 946ms\n",
      "818:\tlearn: 5.4511113\ttotal: 4.25s\tremaining: 940ms\n",
      "819:\tlearn: 5.4506924\ttotal: 4.26s\tremaining: 935ms\n",
      "820:\tlearn: 5.4502656\ttotal: 4.26s\tremaining: 930ms\n",
      "821:\tlearn: 5.4498869\ttotal: 4.27s\tremaining: 924ms\n",
      "822:\tlearn: 5.4494170\ttotal: 4.27s\tremaining: 919ms\n",
      "823:\tlearn: 5.4493266\ttotal: 4.28s\tremaining: 913ms\n",
      "824:\tlearn: 5.4489839\ttotal: 4.28s\tremaining: 908ms\n",
      "825:\tlearn: 5.4485363\ttotal: 4.28s\tremaining: 903ms\n",
      "826:\tlearn: 5.4480500\ttotal: 4.29s\tremaining: 897ms\n",
      "827:\tlearn: 5.4475481\ttotal: 4.29s\tremaining: 892ms\n",
      "828:\tlearn: 5.4471457\ttotal: 4.3s\tremaining: 887ms\n",
      "829:\tlearn: 5.4470139\ttotal: 4.3s\tremaining: 881ms\n",
      "830:\tlearn: 5.4465700\ttotal: 4.31s\tremaining: 876ms\n",
      "831:\tlearn: 5.4460888\ttotal: 4.31s\tremaining: 871ms\n",
      "832:\tlearn: 5.4457547\ttotal: 4.32s\tremaining: 865ms\n",
      "833:\tlearn: 5.4453896\ttotal: 4.32s\tremaining: 860ms\n",
      "834:\tlearn: 5.4449835\ttotal: 4.33s\tremaining: 855ms\n",
      "835:\tlearn: 5.4446471\ttotal: 4.33s\tremaining: 850ms\n",
      "836:\tlearn: 5.4444239\ttotal: 4.34s\tremaining: 845ms\n",
      "837:\tlearn: 5.4440880\ttotal: 4.34s\tremaining: 840ms\n",
      "838:\tlearn: 5.4435466\ttotal: 4.35s\tremaining: 835ms\n",
      "839:\tlearn: 5.4431135\ttotal: 4.35s\tremaining: 829ms\n",
      "840:\tlearn: 5.4427907\ttotal: 4.36s\tremaining: 824ms\n",
      "841:\tlearn: 5.4424712\ttotal: 4.36s\tremaining: 819ms\n",
      "842:\tlearn: 5.4421140\ttotal: 4.37s\tremaining: 814ms\n",
      "843:\tlearn: 5.4416973\ttotal: 4.37s\tremaining: 808ms\n",
      "844:\tlearn: 5.4412493\ttotal: 4.38s\tremaining: 803ms\n",
      "845:\tlearn: 5.4409183\ttotal: 4.38s\tremaining: 798ms\n",
      "846:\tlearn: 5.4405369\ttotal: 4.39s\tremaining: 792ms\n",
      "847:\tlearn: 5.4399799\ttotal: 4.39s\tremaining: 787ms\n",
      "848:\tlearn: 5.4396813\ttotal: 4.39s\tremaining: 782ms\n",
      "849:\tlearn: 5.4393273\ttotal: 4.4s\tremaining: 776ms\n",
      "850:\tlearn: 5.4389115\ttotal: 4.4s\tremaining: 771ms\n",
      "851:\tlearn: 5.4385336\ttotal: 4.41s\tremaining: 766ms\n",
      "852:\tlearn: 5.4380280\ttotal: 4.41s\tremaining: 761ms\n",
      "853:\tlearn: 5.4378181\ttotal: 4.42s\tremaining: 756ms\n",
      "854:\tlearn: 5.4374832\ttotal: 4.43s\tremaining: 751ms\n",
      "855:\tlearn: 5.4373954\ttotal: 4.43s\tremaining: 746ms\n",
      "856:\tlearn: 5.4372662\ttotal: 4.44s\tremaining: 740ms\n",
      "857:\tlearn: 5.4371510\ttotal: 4.44s\tremaining: 735ms\n",
      "858:\tlearn: 5.4367991\ttotal: 4.45s\tremaining: 730ms\n",
      "859:\tlearn: 5.4364214\ttotal: 4.45s\tremaining: 725ms\n",
      "860:\tlearn: 5.4359571\ttotal: 4.46s\tremaining: 720ms\n",
      "861:\tlearn: 5.4355314\ttotal: 4.46s\tremaining: 715ms\n",
      "862:\tlearn: 5.4350070\ttotal: 4.47s\tremaining: 709ms\n",
      "863:\tlearn: 5.4349396\ttotal: 4.47s\tremaining: 704ms\n",
      "864:\tlearn: 5.4346950\ttotal: 4.48s\tremaining: 699ms\n",
      "865:\tlearn: 5.4344808\ttotal: 4.48s\tremaining: 693ms\n",
      "866:\tlearn: 5.4340587\ttotal: 4.49s\tremaining: 688ms\n",
      "867:\tlearn: 5.4337771\ttotal: 4.49s\tremaining: 683ms\n",
      "868:\tlearn: 5.4333241\ttotal: 4.49s\tremaining: 677ms\n",
      "869:\tlearn: 5.4330067\ttotal: 4.5s\tremaining: 672ms\n",
      "870:\tlearn: 5.4325706\ttotal: 4.5s\tremaining: 667ms\n",
      "871:\tlearn: 5.4324122\ttotal: 4.51s\tremaining: 662ms\n",
      "872:\tlearn: 5.4321386\ttotal: 4.51s\tremaining: 656ms\n",
      "873:\tlearn: 5.4316971\ttotal: 4.51s\tremaining: 651ms\n",
      "874:\tlearn: 5.4315732\ttotal: 4.52s\tremaining: 646ms\n",
      "875:\tlearn: 5.4314143\ttotal: 4.52s\tremaining: 640ms\n",
      "876:\tlearn: 5.4311883\ttotal: 4.53s\tremaining: 635ms\n",
      "877:\tlearn: 5.4310553\ttotal: 4.53s\tremaining: 630ms\n",
      "878:\tlearn: 5.4307039\ttotal: 4.54s\tremaining: 625ms\n",
      "879:\tlearn: 5.4305896\ttotal: 4.54s\tremaining: 620ms\n",
      "880:\tlearn: 5.4301256\ttotal: 4.55s\tremaining: 615ms\n",
      "881:\tlearn: 5.4296908\ttotal: 4.55s\tremaining: 610ms\n",
      "882:\tlearn: 5.4291997\ttotal: 4.56s\tremaining: 604ms\n",
      "883:\tlearn: 5.4287792\ttotal: 4.57s\tremaining: 599ms\n",
      "884:\tlearn: 5.4285059\ttotal: 4.57s\tremaining: 594ms\n",
      "885:\tlearn: 5.4284211\ttotal: 4.58s\tremaining: 589ms\n",
      "886:\tlearn: 5.4281357\ttotal: 4.58s\tremaining: 584ms\n",
      "887:\tlearn: 5.4278415\ttotal: 4.59s\tremaining: 578ms\n",
      "888:\tlearn: 5.4273672\ttotal: 4.59s\tremaining: 573ms\n",
      "889:\tlearn: 5.4271003\ttotal: 4.59s\tremaining: 568ms\n",
      "890:\tlearn: 5.4263552\ttotal: 4.6s\tremaining: 563ms\n",
      "891:\tlearn: 5.4258768\ttotal: 4.6s\tremaining: 557ms\n",
      "892:\tlearn: 5.4257705\ttotal: 4.61s\tremaining: 552ms\n",
      "893:\tlearn: 5.4255901\ttotal: 4.61s\tremaining: 547ms\n",
      "894:\tlearn: 5.4253849\ttotal: 4.62s\tremaining: 542ms\n",
      "895:\tlearn: 5.4249788\ttotal: 4.63s\tremaining: 537ms\n",
      "896:\tlearn: 5.4246419\ttotal: 4.63s\tremaining: 532ms\n",
      "897:\tlearn: 5.4242883\ttotal: 4.64s\tremaining: 527ms\n",
      "898:\tlearn: 5.4238259\ttotal: 4.64s\tremaining: 522ms\n",
      "899:\tlearn: 5.4235371\ttotal: 4.65s\tremaining: 517ms\n",
      "900:\tlearn: 5.4231475\ttotal: 4.65s\tremaining: 511ms\n",
      "901:\tlearn: 5.4227673\ttotal: 4.66s\tremaining: 506ms\n",
      "902:\tlearn: 5.4223177\ttotal: 4.66s\tremaining: 501ms\n",
      "903:\tlearn: 5.4219301\ttotal: 4.67s\tremaining: 496ms\n",
      "904:\tlearn: 5.4218395\ttotal: 4.67s\tremaining: 490ms\n",
      "905:\tlearn: 5.4213993\ttotal: 4.67s\tremaining: 485ms\n",
      "906:\tlearn: 5.4211580\ttotal: 4.68s\tremaining: 480ms\n",
      "907:\tlearn: 5.4207603\ttotal: 4.68s\tremaining: 475ms\n",
      "908:\tlearn: 5.4205242\ttotal: 4.69s\tremaining: 469ms\n",
      "909:\tlearn: 5.4203196\ttotal: 4.69s\tremaining: 464ms\n",
      "910:\tlearn: 5.4201190\ttotal: 4.7s\tremaining: 459ms\n",
      "911:\tlearn: 5.4195154\ttotal: 4.7s\tremaining: 454ms\n",
      "912:\tlearn: 5.4191794\ttotal: 4.7s\tremaining: 448ms\n",
      "913:\tlearn: 5.4189581\ttotal: 4.71s\tremaining: 443ms\n",
      "914:\tlearn: 5.4185728\ttotal: 4.71s\tremaining: 438ms\n",
      "915:\tlearn: 5.4183817\ttotal: 4.72s\tremaining: 433ms\n",
      "916:\tlearn: 5.4180200\ttotal: 4.72s\tremaining: 427ms\n",
      "917:\tlearn: 5.4177355\ttotal: 4.73s\tremaining: 422ms\n",
      "918:\tlearn: 5.4175484\ttotal: 4.73s\tremaining: 417ms\n",
      "919:\tlearn: 5.4171000\ttotal: 4.74s\tremaining: 412ms\n",
      "920:\tlearn: 5.4168865\ttotal: 4.74s\tremaining: 407ms\n",
      "921:\tlearn: 5.4164512\ttotal: 4.75s\tremaining: 402ms\n",
      "922:\tlearn: 5.4160082\ttotal: 4.76s\tremaining: 397ms\n",
      "923:\tlearn: 5.4157796\ttotal: 4.76s\tremaining: 392ms\n",
      "924:\tlearn: 5.4156381\ttotal: 4.77s\tremaining: 387ms\n",
      "925:\tlearn: 5.4152777\ttotal: 4.77s\tremaining: 381ms\n",
      "926:\tlearn: 5.4148348\ttotal: 4.78s\tremaining: 376ms\n",
      "927:\tlearn: 5.4144809\ttotal: 4.78s\tremaining: 371ms\n",
      "928:\tlearn: 5.4142625\ttotal: 4.79s\tremaining: 366ms\n",
      "929:\tlearn: 5.4141309\ttotal: 4.79s\tremaining: 361ms\n",
      "930:\tlearn: 5.4136314\ttotal: 4.79s\tremaining: 355ms\n",
      "931:\tlearn: 5.4133034\ttotal: 4.8s\tremaining: 350ms\n",
      "932:\tlearn: 5.4129486\ttotal: 4.8s\tremaining: 345ms\n",
      "933:\tlearn: 5.4124909\ttotal: 4.81s\tremaining: 340ms\n",
      "934:\tlearn: 5.4121694\ttotal: 4.81s\tremaining: 335ms\n",
      "935:\tlearn: 5.4117324\ttotal: 4.82s\tremaining: 329ms\n",
      "936:\tlearn: 5.4114442\ttotal: 4.82s\tremaining: 324ms\n",
      "937:\tlearn: 5.4110724\ttotal: 4.83s\tremaining: 319ms\n",
      "938:\tlearn: 5.4107882\ttotal: 4.83s\tremaining: 314ms\n",
      "939:\tlearn: 5.4104520\ttotal: 4.84s\tremaining: 309ms\n",
      "940:\tlearn: 5.4098966\ttotal: 4.84s\tremaining: 304ms\n",
      "941:\tlearn: 5.4098177\ttotal: 4.85s\tremaining: 299ms\n",
      "942:\tlearn: 5.4095133\ttotal: 4.86s\tremaining: 293ms\n",
      "943:\tlearn: 5.4090439\ttotal: 4.86s\tremaining: 288ms\n",
      "944:\tlearn: 5.4087722\ttotal: 4.87s\tremaining: 283ms\n",
      "945:\tlearn: 5.4085190\ttotal: 4.87s\tremaining: 278ms\n",
      "946:\tlearn: 5.4082856\ttotal: 4.88s\tremaining: 273ms\n",
      "947:\tlearn: 5.4079184\ttotal: 4.88s\tremaining: 268ms\n",
      "948:\tlearn: 5.4074100\ttotal: 4.88s\tremaining: 263ms\n",
      "949:\tlearn: 5.4068782\ttotal: 4.89s\tremaining: 257ms\n",
      "950:\tlearn: 5.4065002\ttotal: 4.89s\tremaining: 252ms\n",
      "951:\tlearn: 5.4060578\ttotal: 4.9s\tremaining: 247ms\n",
      "952:\tlearn: 5.4052750\ttotal: 4.9s\tremaining: 242ms\n",
      "953:\tlearn: 5.4048690\ttotal: 4.91s\tremaining: 237ms\n",
      "954:\tlearn: 5.4045993\ttotal: 4.91s\tremaining: 231ms\n",
      "955:\tlearn: 5.4042959\ttotal: 4.92s\tremaining: 226ms\n",
      "956:\tlearn: 5.4037134\ttotal: 4.92s\tremaining: 221ms\n",
      "957:\tlearn: 5.4033849\ttotal: 4.92s\tremaining: 216ms\n",
      "958:\tlearn: 5.4032580\ttotal: 4.93s\tremaining: 211ms\n",
      "959:\tlearn: 5.4030899\ttotal: 4.93s\tremaining: 206ms\n",
      "960:\tlearn: 5.4027879\ttotal: 4.94s\tremaining: 200ms\n",
      "961:\tlearn: 5.4025211\ttotal: 4.94s\tremaining: 195ms\n",
      "962:\tlearn: 5.4020316\ttotal: 4.95s\tremaining: 190ms\n",
      "963:\tlearn: 5.4015482\ttotal: 4.96s\tremaining: 185ms\n",
      "964:\tlearn: 5.4012079\ttotal: 4.96s\tremaining: 180ms\n",
      "965:\tlearn: 5.4008893\ttotal: 4.97s\tremaining: 175ms\n",
      "966:\tlearn: 5.4005004\ttotal: 4.97s\tremaining: 170ms\n",
      "967:\tlearn: 5.3999418\ttotal: 4.98s\tremaining: 165ms\n",
      "968:\tlearn: 5.3995495\ttotal: 5s\tremaining: 160ms\n",
      "969:\tlearn: 5.3991156\ttotal: 5s\tremaining: 155ms\n",
      "970:\tlearn: 5.3989055\ttotal: 5.01s\tremaining: 150ms\n",
      "971:\tlearn: 5.3984513\ttotal: 5.01s\tremaining: 144ms\n",
      "972:\tlearn: 5.3981501\ttotal: 5.02s\tremaining: 139ms\n",
      "973:\tlearn: 5.3979203\ttotal: 5.02s\tremaining: 134ms\n",
      "974:\tlearn: 5.3973834\ttotal: 5.03s\tremaining: 129ms\n",
      "975:\tlearn: 5.3970957\ttotal: 5.03s\tremaining: 124ms\n",
      "976:\tlearn: 5.3965936\ttotal: 5.04s\tremaining: 119ms\n",
      "977:\tlearn: 5.3961627\ttotal: 5.04s\tremaining: 113ms\n",
      "978:\tlearn: 5.3954381\ttotal: 5.05s\tremaining: 108ms\n",
      "979:\tlearn: 5.3952505\ttotal: 5.05s\tremaining: 103ms\n",
      "980:\tlearn: 5.3946938\ttotal: 5.06s\tremaining: 98ms\n",
      "981:\tlearn: 5.3945141\ttotal: 5.06s\tremaining: 92.8ms\n",
      "982:\tlearn: 5.3939377\ttotal: 5.07s\tremaining: 87.7ms\n",
      "983:\tlearn: 5.3937415\ttotal: 5.07s\tremaining: 82.5ms\n",
      "984:\tlearn: 5.3934545\ttotal: 5.08s\tremaining: 77.4ms\n",
      "985:\tlearn: 5.3930844\ttotal: 5.08s\tremaining: 72.2ms\n",
      "986:\tlearn: 5.3928108\ttotal: 5.09s\tremaining: 67ms\n",
      "987:\tlearn: 5.3924332\ttotal: 5.09s\tremaining: 61.9ms\n",
      "988:\tlearn: 5.3920203\ttotal: 5.1s\tremaining: 56.7ms\n",
      "989:\tlearn: 5.3917122\ttotal: 5.1s\tremaining: 51.5ms\n",
      "990:\tlearn: 5.3914197\ttotal: 5.11s\tremaining: 46.4ms\n",
      "991:\tlearn: 5.3912129\ttotal: 5.11s\tremaining: 41.2ms\n",
      "992:\tlearn: 5.3907879\ttotal: 5.11s\tremaining: 36.1ms\n",
      "993:\tlearn: 5.3906353\ttotal: 5.12s\tremaining: 30.9ms\n",
      "994:\tlearn: 5.3904786\ttotal: 5.12s\tremaining: 25.7ms\n",
      "995:\tlearn: 5.3900856\ttotal: 5.13s\tremaining: 20.6ms\n",
      "996:\tlearn: 5.3896382\ttotal: 5.13s\tremaining: 15.4ms\n",
      "997:\tlearn: 5.3893820\ttotal: 5.14s\tremaining: 10.3ms\n",
      "998:\tlearn: 5.3892846\ttotal: 5.14s\tremaining: 5.15ms\n",
      "999:\tlearn: 5.3888809\ttotal: 5.14s\tremaining: 0us\n"
     ]
    }
   ],
   "source": [
    "model = CatBoostRegressor()\n",
    "model.fit(X, y)\n",
    "predictions = model.predict(test_df.drop([\"id\",\"Degerlendirme Puani\"], axis=1))\n",
    "\n",
    "dictionary = {\"id\":test_df.index, \"Degerlendirme Puani\":predictions}\n",
    "dfSubmission = pd.DataFrame(dictionary)\n",
    "dfSubmission.to_csv(\"sample_submission.csv\", index=False)"
   ]
  },
  {
   "cell_type": "code",
   "execution_count": 124,
   "id": "2c5c7d76-8929-4d07-b830-b7173b010448",
   "metadata": {},
   "outputs": [
    {
     "name": "stdout",
     "output_type": "stream",
     "text": [
      "biddi\n"
     ]
    }
   ],
   "source": []
  },
  {
   "cell_type": "code",
   "execution_count": 160,
   "id": "325bd60d-47cd-44dd-b69b-e90fb139eefc",
   "metadata": {},
   "outputs": [
    {
     "data": {
      "text/html": [
       "<div>\n",
       "<style scoped>\n",
       "    .dataframe tbody tr th:only-of-type {\n",
       "        vertical-align: middle;\n",
       "    }\n",
       "\n",
       "    .dataframe tbody tr th {\n",
       "        vertical-align: top;\n",
       "    }\n",
       "\n",
       "    .dataframe thead th {\n",
       "        text-align: right;\n",
       "    }\n",
       "</style>\n",
       "<table border=\"1\" class=\"dataframe\">\n",
       "  <thead>\n",
       "    <tr style=\"text-align: right;\">\n",
       "      <th></th>\n",
       "      <th>id</th>\n",
       "      <th>Degerlendirme Puani</th>\n",
       "    </tr>\n",
       "  </thead>\n",
       "  <tbody>\n",
       "    <tr>\n",
       "      <th>0</th>\n",
       "      <td>65124</td>\n",
       "      <td>49.577</td>\n",
       "    </tr>\n",
       "    <tr>\n",
       "      <th>1</th>\n",
       "      <td>65125</td>\n",
       "      <td>34.382</td>\n",
       "    </tr>\n",
       "    <tr>\n",
       "      <th>2</th>\n",
       "      <td>65126</td>\n",
       "      <td>19.077</td>\n",
       "    </tr>\n",
       "    <tr>\n",
       "      <th>3</th>\n",
       "      <td>65127</td>\n",
       "      <td>8.669</td>\n",
       "    </tr>\n",
       "    <tr>\n",
       "      <th>4</th>\n",
       "      <td>65128</td>\n",
       "      <td>18.867</td>\n",
       "    </tr>\n",
       "    <tr>\n",
       "      <th>...</th>\n",
       "      <td>...</td>\n",
       "      <td>...</td>\n",
       "    </tr>\n",
       "    <tr>\n",
       "      <th>11045</th>\n",
       "      <td>76169</td>\n",
       "      <td>30.804</td>\n",
       "    </tr>\n",
       "    <tr>\n",
       "      <th>11046</th>\n",
       "      <td>76170</td>\n",
       "      <td>30.016</td>\n",
       "    </tr>\n",
       "    <tr>\n",
       "      <th>11047</th>\n",
       "      <td>76171</td>\n",
       "      <td>40.026</td>\n",
       "    </tr>\n",
       "    <tr>\n",
       "      <th>11048</th>\n",
       "      <td>76172</td>\n",
       "      <td>50.414</td>\n",
       "    </tr>\n",
       "    <tr>\n",
       "      <th>11049</th>\n",
       "      <td>76173</td>\n",
       "      <td>29.026</td>\n",
       "    </tr>\n",
       "  </tbody>\n",
       "</table>\n",
       "<p>11050 rows × 2 columns</p>\n",
       "</div>"
      ],
      "text/plain": [
       "          id  Degerlendirme Puani\n",
       "0      65124               49.577\n",
       "1      65125               34.382\n",
       "2      65126               19.077\n",
       "3      65127                8.669\n",
       "4      65128               18.867\n",
       "...      ...                  ...\n",
       "11045  76169               30.804\n",
       "11046  76170               30.016\n",
       "11047  76171               40.026\n",
       "11048  76172               50.414\n",
       "11049  76173               29.026\n",
       "\n",
       "[11050 rows x 2 columns]"
      ]
     },
     "execution_count": 160,
     "metadata": {},
     "output_type": "execute_result"
    }
   ],
   "source": [
    "bakim = pd.read_csv(\"sample_submission.csv\")\n",
    "bakim"
   ]
  },
  {
   "cell_type": "code",
   "execution_count": 161,
   "id": "5337ee17-2497-4147-9724-8da46707f028",
   "metadata": {},
   "outputs": [
    {
     "data": {
      "text/html": [
       "<div>\n",
       "<style scoped>\n",
       "    .dataframe tbody tr th:only-of-type {\n",
       "        vertical-align: middle;\n",
       "    }\n",
       "\n",
       "    .dataframe tbody tr th {\n",
       "        vertical-align: top;\n",
       "    }\n",
       "\n",
       "    .dataframe thead th {\n",
       "        text-align: right;\n",
       "    }\n",
       "</style>\n",
       "<table border=\"1\" class=\"dataframe\">\n",
       "  <thead>\n",
       "    <tr style=\"text-align: right;\">\n",
       "      <th></th>\n",
       "      <th>id</th>\n",
       "      <th>Degerlendirme Puani</th>\n",
       "    </tr>\n",
       "  </thead>\n",
       "  <tbody>\n",
       "    <tr>\n",
       "      <th>0</th>\n",
       "      <td>0</td>\n",
       "      <td>34.382</td>\n",
       "    </tr>\n",
       "    <tr>\n",
       "      <th>1</th>\n",
       "      <td>1</td>\n",
       "      <td>19.077</td>\n",
       "    </tr>\n",
       "    <tr>\n",
       "      <th>2</th>\n",
       "      <td>2</td>\n",
       "      <td>8.669</td>\n",
       "    </tr>\n",
       "    <tr>\n",
       "      <th>3</th>\n",
       "      <td>3</td>\n",
       "      <td>18.867</td>\n",
       "    </tr>\n",
       "    <tr>\n",
       "      <th>4</th>\n",
       "      <td>4</td>\n",
       "      <td>39.989</td>\n",
       "    </tr>\n",
       "    <tr>\n",
       "      <th>...</th>\n",
       "      <td>...</td>\n",
       "      <td>...</td>\n",
       "    </tr>\n",
       "    <tr>\n",
       "      <th>11044</th>\n",
       "      <td>11044</td>\n",
       "      <td>30.804</td>\n",
       "    </tr>\n",
       "    <tr>\n",
       "      <th>11045</th>\n",
       "      <td>11045</td>\n",
       "      <td>30.016</td>\n",
       "    </tr>\n",
       "    <tr>\n",
       "      <th>11046</th>\n",
       "      <td>11046</td>\n",
       "      <td>40.026</td>\n",
       "    </tr>\n",
       "    <tr>\n",
       "      <th>11047</th>\n",
       "      <td>11047</td>\n",
       "      <td>50.414</td>\n",
       "    </tr>\n",
       "    <tr>\n",
       "      <th>11048</th>\n",
       "      <td>11048</td>\n",
       "      <td>29.026</td>\n",
       "    </tr>\n",
       "  </tbody>\n",
       "</table>\n",
       "<p>11049 rows × 2 columns</p>\n",
       "</div>"
      ],
      "text/plain": [
       "          id  Degerlendirme Puani\n",
       "0          0               34.382\n",
       "1          1               19.077\n",
       "2          2                8.669\n",
       "3          3               18.867\n",
       "4          4               39.989\n",
       "...      ...                  ...\n",
       "11044  11044               30.804\n",
       "11045  11045               30.016\n",
       "11046  11046               40.026\n",
       "11047  11047               50.414\n",
       "11048  11048               29.026\n",
       "\n",
       "[11049 rows x 2 columns]"
      ]
     },
     "execution_count": 161,
     "metadata": {},
     "output_type": "execute_result"
    }
   ],
   "source": [
    "bakim[\"id\"] = bakim.index\n",
    "bakim = bakim.iloc[1:]\n",
    "bakim = bakim.reset_index(drop=True)\n",
    "bakim[\"id\"] = bakim.index\n",
    "bakim"
   ]
  },
  {
   "cell_type": "code",
   "execution_count": 162,
   "id": "13831a32-f665-471b-93db-b8089f901c59",
   "metadata": {},
   "outputs": [],
   "source": [
    "bakim.to_csv(\"sample_submission1.csv\",index=False)"
   ]
  },
  {
   "cell_type": "code",
   "execution_count": null,
   "id": "7ac5866b-11c4-4ee7-a24d-10ad67f90149",
   "metadata": {},
   "outputs": [],
   "source": [
    "print(\"biddi\")"
   ]
  }
 ],
 "metadata": {
  "kernelspec": {
   "display_name": "Python 3 (ipykernel)",
   "language": "python",
   "name": "python3"
  },
  "language_info": {
   "codemirror_mode": {
    "name": "ipython",
    "version": 3
   },
   "file_extension": ".py",
   "mimetype": "text/x-python",
   "name": "python",
   "nbconvert_exporter": "python",
   "pygments_lexer": "ipython3",
   "version": "3.12.3"
  }
 },
 "nbformat": 4,
 "nbformat_minor": 5
}
